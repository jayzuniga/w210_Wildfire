{
 "cells": [
  {
   "cell_type": "code",
   "execution_count": 1,
   "metadata": {},
   "outputs": [
    {
     "data": {
      "text/html": [
       "<style>.container { width:100% !important; }</style>"
      ],
      "text/plain": [
       "<IPython.core.display.HTML object>"
      ]
     },
     "metadata": {},
     "output_type": "display_data"
    }
   ],
   "source": [
    "# increase cell width\n",
    "from IPython.core.display import display, HTML\n",
    "display(HTML(\"<style>.container { width:100% !important; }</style>\"))"
   ]
  },
  {
   "cell_type": "code",
   "execution_count": 2,
   "metadata": {},
   "outputs": [],
   "source": [
    "import pandas as pd\n",
    "import numpy as np\n",
    "import gc\n",
    "import os\n",
    "import time"
   ]
  },
  {
   "cell_type": "code",
   "execution_count": 3,
   "metadata": {},
   "outputs": [],
   "source": [
    "# data_dir = '/home/yulia/Documents/MIDS/W210/Model/Data/'\n",
    "data_dir = '/tf/notebooks/W210/Model/Data/'"
   ]
  },
  {
   "cell_type": "code",
   "execution_count": 4,
   "metadata": {},
   "outputs": [
    {
     "data": {
      "text/plain": [
       "['consolidated_by_cell_day_4_000000000012',\n",
       " 'consolidated_by_cell_day_4_000000000007',\n",
       " 'consolidated_by_cell_day_4_000000000008',\n",
       " 'consolidated_by_cell_day_4_000000000015',\n",
       " 'consolidated_by_cell_day_4_000000000014',\n",
       " 'consolidated_by_cell_day_4_000000000003',\n",
       " 'consolidated_by_cell_day_4_000000000011',\n",
       " 'consolidated_by_cell_day_4_000000000002',\n",
       " 'consolidated_by_cell_day_4_000000000005',\n",
       " 'consolidated_by_cell_day_4_000000000000',\n",
       " 'consolidated_by_cell_day_4_000000000004',\n",
       " 'consolidated_by_cell_day_4_000000000001',\n",
       " 'consolidated_by_cell_day_4_000000000016',\n",
       " 'consolidated_by_cell_day_4_000000000013',\n",
       " 'consolidated_by_cell_day_4_000000000006',\n",
       " 'consolidated_by_cell_day_4_000000000010',\n",
       " 'consolidated_by_cell_day_4_000000000009']"
      ]
     },
     "execution_count": 4,
     "metadata": {},
     "output_type": "execute_result"
    }
   ],
   "source": [
    "allfiles = os.listdir(data_dir)\n",
    "allfiles"
   ]
  },
  {
   "cell_type": "code",
   "execution_count": 5,
   "metadata": {},
   "outputs": [],
   "source": [
    "keep_cols = [\n",
    " 's2_cell_id',\n",
    " 'measure_date',\n",
    " 'wf_wildfire',\n",
    " 'tl_object_id',\n",
    " 'tl_kv_sort_sum',\n",
    " 'sat_faparval_min',\n",
    " 'sat_faparval_max',\n",
    " 'sat_faparval_mean',\n",
    " 'sat_faparval_std',\n",
    " 'sat_faparval_size',\n",
    " 'sat_faparval_count',\n",
    " 'sat_faparval',\n",
    " 'sat_faparmask_min',\n",
    " 'sat_faparmask_max',\n",
    " 'sat_faparmask_mean',\n",
    " 'sat_faparmask_std',\n",
    " 'sat_faparmask_size',\n",
    " 'wea_air_temp_max',\n",
    " 'wea_air_temp_mean',\n",
    " 'relative_humidity_max',\n",
    " 'relative_humidity_min',\n",
    " 'relative_humidity_mean',\n",
    " 'wea_wind_speed_max',\n",
    " 'wea_wind_speed_min',\n",
    " 'wea_wind_speed_mean',\n",
    " 'wind_gust_max',\n",
    " 'wea_air_temp_mean_ma7',\n",
    " 'relative_humidity_mean_ma7',\n",
    " 'wea_air_temp_mean_l1',\n",
    " 'relative_humidity_mean_l1',\n",
    " 'wea_air_temp_mean_ma30',\n",
    " 'relative_humidity_mean_ma30',\n",
    " 'wea_precip_accum_max',\n",
    " 'wea_precip_accum_max_ma7',\n",
    " 'wea_precip_accum_max_ma30',\n",
    " 'wea_precip_accum_max_l1',    \n",
    " 'fuel_percent',\n",
    " 'fuel_percent_ma7',\n",
    " 'fuel_percent_ma30',\n",
    " 'fuel_percent_l1',\n",
    " 'tl_s2_cells_lvl16_cnt',\n",
    " 'tl_s2_cells_lvl16_cnt_coverage',\n",
    " 'fz_grp_high',\n",
    " 'fz_grp_low',\n",
    " 'fz_grp_med',\n",
    " 'sat_faparval_median'\n",
    "]"
   ]
  },
  {
   "cell_type": "code",
   "execution_count": 6,
   "metadata": {},
   "outputs": [
    {
     "name": "stdout",
     "output_type": "stream",
     "text": [
      "Processing File consolidated_by_cell_day_4_000000000012\n"
     ]
    },
    {
     "name": "stderr",
     "output_type": "stream",
     "text": [
      "/usr/local/lib/python3.5/dist-packages/IPython/core/interactiveshell.py:3020: DtypeWarning: Columns (97,98,99,100,101) have mixed types. Specify dtype option on import or set low_memory=False.\n",
      "  interactivity=interactivity, compiler=compiler, result=result)\n"
     ]
    },
    {
     "name": "stdout",
     "output_type": "stream",
     "text": [
      "Observations in final dataset: 228714\n",
      "Processing File consolidated_by_cell_day_4_000000000007\n",
      "Observations in final dataset: 457411\n",
      "Processing File consolidated_by_cell_day_4_000000000008\n",
      "Observations in final dataset: 685302\n",
      "Processing File consolidated_by_cell_day_4_000000000015\n",
      "Observations in final dataset: 913251\n",
      "Processing File consolidated_by_cell_day_4_000000000014\n",
      "Observations in final dataset: 1141352\n",
      "Processing File consolidated_by_cell_day_4_000000000003\n",
      "Observations in final dataset: 1369566\n",
      "Processing File consolidated_by_cell_day_4_000000000011\n",
      "Observations in final dataset: 1597774\n",
      "Processing File consolidated_by_cell_day_4_000000000002\n",
      "Observations in final dataset: 1826902\n",
      "Processing File consolidated_by_cell_day_4_000000000005\n",
      "Observations in final dataset: 2056091\n",
      "Processing File consolidated_by_cell_day_4_000000000000\n",
      "Observations in final dataset: 2285337\n",
      "Processing File consolidated_by_cell_day_4_000000000004\n",
      "Observations in final dataset: 2513942\n",
      "Processing File consolidated_by_cell_day_4_000000000001\n",
      "Observations in final dataset: 2742729\n",
      "Processing File consolidated_by_cell_day_4_000000000016\n",
      "Observations in final dataset: 2971119\n",
      "Processing File consolidated_by_cell_day_4_000000000013\n",
      "Observations in final dataset: 3199388\n",
      "Processing File consolidated_by_cell_day_4_000000000006\n",
      "Observations in final dataset: 3427779\n",
      "Processing File consolidated_by_cell_day_4_000000000010\n",
      "Observations in final dataset: 3656733\n",
      "Processing File consolidated_by_cell_day_4_000000000009\n",
      "Observations in final dataset: 3884695\n"
     ]
    }
   ],
   "source": [
    "final_df = pd.DataFrame()\n",
    "for file in allfiles:\n",
    "    if file[0] == 'c':\n",
    "        print(\"Processing File {}\".format(file))\n",
    "        path = data_dir + file\n",
    "        temp = pd.read_csv(path, usecols= keep_cols)\n",
    "        final_df = final_df.append(temp[temp.measure_date >= '2018-01-01'])\n",
    "        del temp\n",
    "        print(\"Observations in final dataset: {}\".format(final_df.shape[0]))\n",
    "final_df.reset_index(drop=True,inplace=True)"
   ]
  },
  {
   "cell_type": "code",
   "execution_count": 7,
   "metadata": {
    "scrolled": true
   },
   "outputs": [
    {
     "data": {
      "text/plain": [
       "(3884695, 46)"
      ]
     },
     "execution_count": 7,
     "metadata": {},
     "output_type": "execute_result"
    }
   ],
   "source": [
    "final_df.shape"
   ]
  },
  {
   "cell_type": "code",
   "execution_count": 8,
   "metadata": {},
   "outputs": [
    {
     "data": {
      "text/plain": [
       "('2018-01-01', '2018-12-31')"
      ]
     },
     "execution_count": 8,
     "metadata": {},
     "output_type": "execute_result"
    }
   ],
   "source": [
    "final_df.measure_date.min(), final_df.measure_date.max()"
   ]
  },
  {
   "cell_type": "code",
   "execution_count": 9,
   "metadata": {},
   "outputs": [
    {
     "data": {
      "text/plain": [
       "['s2_cell_id',\n",
       " 'measure_date',\n",
       " 'tl_object_id',\n",
       " 'tl_kv_sort_sum',\n",
       " 'tl_s2_cells_lvl16_cnt',\n",
       " 'tl_s2_cells_lvl16_cnt_coverage',\n",
       " 'wf_wildfire',\n",
       " 'fuel_percent',\n",
       " 'sat_faparval_min',\n",
       " 'sat_faparval_max',\n",
       " 'sat_faparval_mean',\n",
       " 'sat_faparval_median',\n",
       " 'sat_faparval_std',\n",
       " 'sat_faparval_size',\n",
       " 'sat_faparval_count',\n",
       " 'sat_faparval',\n",
       " 'sat_faparmask_min',\n",
       " 'sat_faparmask_max',\n",
       " 'sat_faparmask_mean',\n",
       " 'sat_faparmask_std',\n",
       " 'sat_faparmask_size',\n",
       " 'fz_grp_high',\n",
       " 'fz_grp_low',\n",
       " 'fz_grp_med',\n",
       " 'fuel_percent_ma7',\n",
       " 'fuel_percent_ma30',\n",
       " 'fuel_percent_l1',\n",
       " 'wea_air_temp_mean_l1',\n",
       " 'wea_precip_accum_max_l1',\n",
       " 'relative_humidity_mean_l1',\n",
       " 'wea_air_temp_mean_ma7',\n",
       " 'wea_precip_accum_max_ma7',\n",
       " 'relative_humidity_mean_ma7',\n",
       " 'wea_air_temp_mean_ma30',\n",
       " 'wea_precip_accum_max_ma30',\n",
       " 'relative_humidity_mean_ma30',\n",
       " 'wea_air_temp_max',\n",
       " 'wea_air_temp_mean',\n",
       " 'wea_precip_accum_max',\n",
       " 'relative_humidity_max',\n",
       " 'relative_humidity_min',\n",
       " 'relative_humidity_mean',\n",
       " 'wea_wind_speed_max',\n",
       " 'wea_wind_speed_min',\n",
       " 'wea_wind_speed_mean',\n",
       " 'wind_gust_max']"
      ]
     },
     "execution_count": 9,
     "metadata": {},
     "output_type": "execute_result"
    }
   ],
   "source": [
    "list(final_df)"
   ]
  },
  {
   "cell_type": "code",
   "execution_count": 10,
   "metadata": {},
   "outputs": [
    {
     "data": {
      "text/plain": [
       "14"
      ]
     },
     "execution_count": 10,
     "metadata": {},
     "output_type": "execute_result"
    }
   ],
   "source": [
    "gc.collect()"
   ]
  },
  {
   "cell_type": "code",
   "execution_count": 11,
   "metadata": {},
   "outputs": [
    {
     "data": {
      "text/plain": [
       "10643"
      ]
     },
     "execution_count": 11,
     "metadata": {},
     "output_type": "execute_result"
    }
   ],
   "source": [
    "final_df.s2_cell_id.nunique()"
   ]
  },
  {
   "cell_type": "code",
   "execution_count": 12,
   "metadata": {},
   "outputs": [
    {
     "data": {
      "text/plain": [
       "1242.0"
      ]
     },
     "execution_count": 12,
     "metadata": {},
     "output_type": "execute_result"
    }
   ],
   "source": [
    "final_df.wf_wildfire.sum()"
   ]
  },
  {
   "cell_type": "code",
   "execution_count": 13,
   "metadata": {},
   "outputs": [
    {
     "data": {
      "text/plain": [
       "0.0003197162196774779"
      ]
     },
     "execution_count": 13,
     "metadata": {},
     "output_type": "execute_result"
    }
   ],
   "source": [
    "final_df.wf_wildfire.sum() / final_df.shape[0]"
   ]
  },
  {
   "cell_type": "code",
   "execution_count": 14,
   "metadata": {},
   "outputs": [],
   "source": [
    "fuel_mean = 78.74 # Calculated in BigQuery\n",
    "final_df.fuel_percent.replace('backfill',str(fuel_mean),inplace = True)\n",
    "final_df.fuel_percent_l1.replace('backfill',str(fuel_mean),inplace = True)\n",
    "final_df['fuel_percent'] = pd.to_numeric(final_df.fuel_percent)\n",
    "final_df['fuel_percent_l1'] = pd.to_numeric(final_df.fuel_percent_l1)"
   ]
  },
  {
   "cell_type": "code",
   "execution_count": 15,
   "metadata": {},
   "outputs": [],
   "source": [
    "final_df['sat_faparval_undefined'] = (final_df.sat_faparval_min=='--').astype(int)\n",
    "final_df['sat_faparval_undefined'].value_counts()\n",
    "\n",
    "final_df['sat_faparval_min'] = pd.to_numeric(final_df.sat_faparval_min, errors='coerce')\n",
    "final_df['sat_faparval_max'] = pd.to_numeric(final_df.sat_faparval_max, errors='coerce')\n",
    "final_df['sat_faparval_mean'] = pd.to_numeric(final_df.sat_faparval_mean, errors='coerce')\n",
    "final_df['sat_faparval_median'] = pd.to_numeric(final_df.sat_faparval_median, errors='coerce')\n",
    "final_df['sat_faparval_std'] = pd.to_numeric(final_df.sat_faparval_std, errors='coerce')\n",
    "\n",
    "final_df['sat_faparval_min'] = final_df.sat_faparval_min.fillna(0)\n",
    "final_df['sat_faparval_max'] = final_df.sat_faparval_max.fillna(0)\n",
    "final_df['sat_faparval_mean'] = final_df.sat_faparval_mean.fillna(0)\n",
    "final_df['sat_faparval_median'] = final_df.sat_faparval_median.fillna(0)\n",
    "final_df['sat_faparval_std'] = final_df.sat_faparval_std.fillna(0)"
   ]
  },
  {
   "cell_type": "code",
   "execution_count": 16,
   "metadata": {},
   "outputs": [
    {
     "data": {
      "text/plain": [
       "s2_cell_id                              0\n",
       "measure_date                            0\n",
       "tl_object_id                      2356075\n",
       "tl_kv_sort_sum                    2356075\n",
       "tl_s2_cells_lvl16_cnt             2356075\n",
       "tl_s2_cells_lvl16_cnt_coverage    2356075\n",
       "wf_wildfire                       3883453\n",
       "fuel_percent                            0\n",
       "sat_faparval_min                        0\n",
       "sat_faparval_max                        0\n",
       "sat_faparval_mean                       0\n",
       "sat_faparval_median                     0\n",
       "sat_faparval_std                        0\n",
       "sat_faparval_size                       0\n",
       "sat_faparval_count                      0\n",
       "sat_faparval                            0\n",
       "sat_faparmask_min                       0\n",
       "sat_faparmask_max                       0\n",
       "sat_faparmask_mean                      0\n",
       "sat_faparmask_std                       0\n",
       "sat_faparmask_size                      0\n",
       "fz_grp_high                             0\n",
       "fz_grp_low                              0\n",
       "fz_grp_med                              0\n",
       "fuel_percent_ma7                        0\n",
       "fuel_percent_ma30                       0\n",
       "fuel_percent_l1                         0\n",
       "wea_air_temp_mean_l1                    0\n",
       "wea_precip_accum_max_l1                 0\n",
       "relative_humidity_mean_l1               0\n",
       "wea_air_temp_mean_ma7                   0\n",
       "wea_precip_accum_max_ma7                0\n",
       "relative_humidity_mean_ma7              0\n",
       "wea_air_temp_mean_ma30                  0\n",
       "wea_precip_accum_max_ma30               0\n",
       "relative_humidity_mean_ma30             0\n",
       "wea_air_temp_max                        0\n",
       "wea_air_temp_mean                       0\n",
       "wea_precip_accum_max                    0\n",
       "relative_humidity_max                   0\n",
       "relative_humidity_min                   0\n",
       "relative_humidity_mean                  0\n",
       "wea_wind_speed_max                      0\n",
       "wea_wind_speed_min                      0\n",
       "wea_wind_speed_mean                     0\n",
       "wind_gust_max                           0\n",
       "sat_faparval_undefined                  0\n",
       "dtype: int64"
      ]
     },
     "execution_count": 16,
     "metadata": {},
     "output_type": "execute_result"
    }
   ],
   "source": [
    "final_df.isna().sum()"
   ]
  },
  {
   "cell_type": "code",
   "execution_count": 17,
   "metadata": {},
   "outputs": [],
   "source": [
    "final_df.fillna(0, inplace=True)"
   ]
  },
  {
   "cell_type": "code",
   "execution_count": 18,
   "metadata": {},
   "outputs": [],
   "source": [
    "final_df['wea_precip_accum_max_cut90'] = np.where(final_df['relative_humidity_mean']<90, 0, final_df.wea_precip_accum_max)\n",
    "final_df['wea_precip_accum_max_cut70'] = np.where(final_df['relative_humidity_mean']<70, 0, final_df.wea_precip_accum_max)\n",
    "final_df['wea_precip_accum_max_cut50'] = np.where(final_df['relative_humidity_mean']<50, 0, final_df.wea_precip_accum_max)\n",
    "\n",
    "final_df['wea_precip_accum_max_ma7_cut90'] = np.where(final_df['relative_humidity_mean_ma7']<90, 0, final_df.wea_precip_accum_max_ma7)\n",
    "final_df['wea_precip_accum_max_ma7_cut70'] = np.where(final_df['relative_humidity_mean_ma7']<70, 0, final_df.wea_precip_accum_max_ma7)\n",
    "final_df['wea_precip_accum_max_ma7_cut50'] = np.where(final_df['relative_humidity_mean_ma7']<50, 0, final_df.wea_precip_accum_max_ma7)\n",
    "\n",
    "final_df['wea_precip_accum_max_ma30_cut90'] = np.where(final_df['relative_humidity_mean_ma30']<90, 0, final_df.wea_precip_accum_max_ma30)\n",
    "final_df['wea_precip_accum_max_ma30_cut70'] = np.where(final_df['relative_humidity_mean_ma30']<70, 0, final_df.wea_precip_accum_max_ma30)\n",
    "final_df['wea_precip_accum_max_ma30_cut50'] = np.where(final_df['relative_humidity_mean_ma30']<50, 0, final_df.wea_precip_accum_max_ma30)\n",
    "\n",
    "final_df['wea_precip_accum_max_l1_cut90'] = np.where(final_df['relative_humidity_mean_l1']<90, 0, final_df.wea_precip_accum_max_l1)\n",
    "final_df['wea_precip_accum_max_l1_cut70'] = np.where(final_df['relative_humidity_mean_l1']<70, 0, final_df.wea_precip_accum_max_l1)\n",
    "final_df['wea_precip_accum_max_l1_cut50'] = np.where(final_df['relative_humidity_mean_l1']<50, 0, final_df.wea_precip_accum_max_l1)"
   ]
  },
  {
   "cell_type": "code",
   "execution_count": 19,
   "metadata": {
    "scrolled": true
   },
   "outputs": [
    {
     "data": {
      "text/plain": [
       "84"
      ]
     },
     "execution_count": 19,
     "metadata": {},
     "output_type": "execute_result"
    }
   ],
   "source": [
    "gc.collect()"
   ]
  },
  {
   "cell_type": "code",
   "execution_count": 20,
   "metadata": {},
   "outputs": [],
   "source": [
    "final_df.to_csv('./consolidated_4_2018_new.csv', index=False)"
   ]
  },
  {
   "cell_type": "code",
   "execution_count": null,
   "metadata": {},
   "outputs": [],
   "source": []
  }
 ],
 "metadata": {
  "kernelspec": {
   "display_name": "Python 3",
   "language": "python",
   "name": "python3"
  },
  "language_info": {
   "codemirror_mode": {
    "name": "ipython",
    "version": 3
   },
   "file_extension": ".py",
   "mimetype": "text/x-python",
   "name": "python",
   "nbconvert_exporter": "python",
   "pygments_lexer": "ipython3",
   "version": "3.5.2"
  }
 },
 "nbformat": 4,
 "nbformat_minor": 2
}
