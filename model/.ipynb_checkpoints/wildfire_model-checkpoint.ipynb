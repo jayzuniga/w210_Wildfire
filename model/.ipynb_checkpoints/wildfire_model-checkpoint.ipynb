{
 "cells": [
  {
   "cell_type": "code",
   "execution_count": 118,
   "metadata": {},
   "outputs": [],
   "source": [
    "import glob\n",
    "import gc\n",
    "import pandas as pd\n",
    "import numpy as np\n",
    "import matplotlib.pyplot as plt\n",
    "import logging\n",
    "import os\n",
    "import cloudstorage as gcs\n",
    "from joblib import dump,load\n",
    "\n",
    "from sklearn.linear_model import LogisticRegression\n",
    "from sklearn.preprocessing import MinMaxScaler\n",
    "from sklearn.metrics import f1_score,recall_score,precision_score\n",
    "from google.cloud import bigquery"
   ]
  },
  {
   "cell_type": "markdown",
   "metadata": {},
   "source": [
    "#### [Minimize Usage to save Costs] Pull the data from GCP\n"
   ]
  },
  {
   "cell_type": "code",
   "execution_count": null,
   "metadata": {},
   "outputs": [],
   "source": [
    "# Takes too long dont use\n",
    "# %%bigquery wildfire_data\n",
    "# SELECT *\n",
    "# FROM `wildfire-242801.WildFire.consolidated_by_cell_day` \n",
    "# WHERE measure_date < '2017-01-01'"
   ]
  },
  {
   "cell_type": "code",
   "execution_count": 2,
   "metadata": {
    "scrolled": false
   },
   "outputs": [
    {
     "name": "stdout",
     "output_type": "stream",
     "text": [
      "../../full_dataset/consolidated_data000000000001.csv\n",
      "(1166860, 137)\n",
      "../../full_dataset/consolidated_data000000000004.csv\n",
      "(2333059, 137)\n",
      "../../full_dataset/consolidated_data000000000007.csv\n",
      "(3500338, 137)\n",
      "../../full_dataset/consolidated_data000000000006.csv\n",
      "(4667345, 137)\n",
      "../../full_dataset/consolidated_data000000000008.csv\n",
      "(5833798, 137)\n",
      "../../full_dataset/consolidated_data000000000005.csv\n",
      "(6999750, 137)\n",
      "../../full_dataset/consolidated_data000000000000.csv\n",
      "(8166773, 137)\n",
      "../../full_dataset/consolidated_data000000000002.csv\n",
      "(9332797, 137)\n",
      "../../full_dataset/consolidated_data000000000003.csv\n",
      "(10498695, 137)\n",
      "../../full_dataset/consolidated_data000000000009.csv\n",
      "(11664728, 137)\n"
     ]
    }
   ],
   "source": [
    "path = r'../../full_dataset' # use your path\n",
    "all_files = glob.glob(path + \"/*.csv\")\n",
    "\n",
    "li = []\n",
    "i = 0\n",
    "for filename in all_files:\n",
    "    print(filename)\n",
    "    if i == 0:\n",
    "        wildfire_data = pd.read_csv(filename)\n",
    "    else:\n",
    "        wildfire_data = wildfire_data.append(pd.read_csv(filename))\n",
    "    i += 1\n",
    "    print(wildfire_data.shape)\n",
    " \n",
    "\n"
   ]
  },
  {
   "cell_type": "code",
   "execution_count": 3,
   "metadata": {
    "scrolled": false
   },
   "outputs": [
    {
     "data": {
      "text/plain": [
       "28"
      ]
     },
     "execution_count": 3,
     "metadata": {},
     "output_type": "execute_result"
    }
   ],
   "source": [
    "fuel_mean = 78.74\n",
    "wildfire_data.fuel_percent.replace('backfill',str(fuel_mean),inplace = True)\n",
    "wildfire_data['fuel_percent'] = pd.to_numeric(wildfire_data.fuel_percent)\n",
    "\n",
    "train = wildfire_data[wildfire_data.measure_date < '2018-01-01'].copy()\n",
    "test = wildfire_data[wildfire_data.measure_date >= '2018-01-01'].copy()\n",
    "\n",
    "y_train = train.wf_wildfire.fillna(0).copy().values\n",
    "y_test = test.wf_wildfire.fillna(0).copy().values\n",
    "\n",
    "feature_cols = ['tl_object_id','fuel_percent',\n",
    "                'wea_air_temp_max', 'wea_air_temp_mean', \n",
    "                'wea_precip_accum_max', 'wea_relative_humidity_max',\n",
    "                'wea_relative_humidity_min', 'wea_relative_humidity_mean',\n",
    "                'wea_wind_speed_max', 'wea_wind_speed_min', 'wea_wind_speed_mean',\n",
    "                'wea_wind_gust_max']\n",
    "\n",
    "train = train[feature_cols]\n",
    "test = test[feature_cols]\n",
    "\n",
    "train = train.fillna(0)\n",
    "test = test.fillna(0)\n",
    "\n",
    "train['fuel_percent'] = pd.to_numeric(train.fuel_percent)\n",
    "test['fuel_percent'] = pd.to_numeric(test.fuel_percent)\n",
    "\n",
    "del wildfire_data\n",
    "gc.collect()"
   ]
  },
  {
   "cell_type": "code",
   "execution_count": 131,
   "metadata": {},
   "outputs": [
    {
     "name": "stdout",
     "output_type": "stream",
     "text": [
      "Acc : 0.9439464359492831\n",
      "FP : 216670\n",
      "TP : 161\n",
      "FN : 1081\n",
      "TN : 3666783\n",
      "Pred_pos : 216831\n",
      "Pred_neg : 3667864\n",
      "Total_pos : 1242\n",
      "Total_neg : 3883453\n",
      "Precision : 0.0007425137549520133 \n",
      "Recall : 0.12962962962962962 \n",
      "F1 0.0014765697725073715\n"
     ]
    }
   ],
   "source": [
    "# Preprocessing \n",
    "scaler = MinMaxScaler()\n",
    "\n",
    "# Initialize the model with defaults\n",
    "lr = LogisticRegression()\n",
    "lr.fit(scaler.fit_transform(train),y_train)\n",
    "\n",
    "# lr = load('../../wildfire_lr.joblib')\n",
    "\n",
    "\n",
    "# Predictions\n",
    "predictions = lr.predict_proba(scaler.transform(test))\n",
    "# predictions = lr.predict_proba(test)\n",
    "\n",
    "\n",
    "# Custom classification threshold\n",
    "pred = np.zeros(len(predictions))\n",
    "pred[predictions[:,1] > .0007] = 1\n",
    "predictions = pred\n",
    "\n",
    "\n",
    "# Accuracy Metrics\n",
    "f1 = f1_score(y_test.values.tolist(),pred)\n",
    "precision = precision_score(y_test.values,pred)\n",
    "recall = recall_score(y_test.values,pred)\n",
    "\n",
    "FP = np.sum((y_test.values != predictions) & (predictions == 1))\n",
    "FN = np.sum((y_test.values != predictions) & (predictions == 0))\n",
    "TP = np.sum((y_test.values == predictions) & (predictions == 1))\n",
    "TN = np.sum((y_test.values == predictions) & (predictions == 0))\n",
    "\n",
    "\n",
    "# Results\n",
    "print('Acc :', (TP + TN) / (TP + TN + FP + FN))\n",
    "print('FP :', FP)\n",
    "print('TP :', TP)\n",
    "print('FN :', FN)\n",
    "print('TN :', TN)\n",
    "\n",
    "print('Pred_pos :',np.sum(predictions == 1))\n",
    "print('Pred_neg :',np.sum(predictions == 0))\n",
    "print('Total_pos :',np.sum(y_test.values == 1))\n",
    "print('Total_neg :',np.sum(y_test.values == 0))\n",
    "\n",
    "print('Precision : {} \\nRecall : {} \\nF1 {}'.format(precision,recall,f1))\n",
    "\n",
    "# # dump(lr, ('../../wildfire_lr.joblib'))\n"
   ]
  },
  {
   "cell_type": "code",
   "execution_count": 132,
   "metadata": {},
   "outputs": [
    {
     "name": "stdout",
     "output_type": "stream",
     "text": [
      "tl_object_id 3.2730610039769985\n",
      "fuel_percent -1.173877748209051\n",
      "wea_air_temp_max -0.08977758312553644\n",
      "wea_air_temp_mean -0.14209920283792138\n",
      "wea_precip_accum_max -0.9403963811860762\n",
      "wea_relative_humidity_max 2.1871261109047917\n",
      "wea_relative_humidity_min -10.00713375567121\n",
      "wea_relative_humidity_mean -5.424576105020377\n",
      "wea_wind_speed_max 0.03227479759846397\n",
      "wea_wind_speed_min 0.49748645430157656\n",
      "wea_wind_speed_mean -1.666761113271551\n",
      "wea_wind_gust_max 1.3010496925961077\n"
     ]
    }
   ],
   "source": [
    "for i_iter in range(len(test.columns)):\n",
    "    print(test.columns[i_iter], lr.coef_[0][i_iter])"
   ]
  },
  {
   "cell_type": "code",
   "execution_count": 61,
   "metadata": {},
   "outputs": [
    {
     "name": "stdout",
     "output_type": "stream",
     "text": [
      "3883453\n"
     ]
    }
   ],
   "source": [
    "#Save the model\n",
    "# dump(lr, ('../../wildfire_lr.joblib'))"
   ]
  }
 ],
 "metadata": {
  "kernelspec": {
   "display_name": "Python 3",
   "language": "python",
   "name": "python3"
  },
  "language_info": {
   "codemirror_mode": {
    "name": "ipython",
    "version": 3
   },
   "file_extension": ".py",
   "mimetype": "text/x-python",
   "name": "python",
   "nbconvert_exporter": "python",
   "pygments_lexer": "ipython3",
   "version": "3.7.0"
  }
 },
 "nbformat": 4,
 "nbformat_minor": 2
}
