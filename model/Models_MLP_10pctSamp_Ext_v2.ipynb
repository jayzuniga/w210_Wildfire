{
 "cells": [
  {
   "cell_type": "code",
   "execution_count": 1,
   "metadata": {},
   "outputs": [
    {
     "data": {
      "text/html": [
       "<style>.container { width:100% !important; }</style>"
      ],
      "text/plain": [
       "<IPython.core.display.HTML object>"
      ]
     },
     "metadata": {},
     "output_type": "display_data"
    }
   ],
   "source": [
    "# increase cell width\n",
    "from IPython.core.display import display, HTML\n",
    "display(HTML(\"<style>.container { width:100% !important; }</style>\"))"
   ]
  },
  {
   "cell_type": "code",
   "execution_count": 2,
   "metadata": {},
   "outputs": [],
   "source": [
    "import pandas as pd\n",
    "import numpy as np\n",
    "import gc\n",
    "import os\n",
    "import time"
   ]
  },
  {
   "cell_type": "code",
   "execution_count": 3,
   "metadata": {},
   "outputs": [],
   "source": [
    "import matplotlib.pyplot as plt\n",
    "%matplotlib inline"
   ]
  },
  {
   "cell_type": "code",
   "execution_count": 4,
   "metadata": {},
   "outputs": [],
   "source": [
    "from sklearn.preprocessing import MinMaxScaler\n",
    "from sklearn.metrics import confusion_matrix\n",
    "from sklearn.metrics import classification_report\n",
    "from sklearn.utils import class_weight"
   ]
  },
  {
   "cell_type": "code",
   "execution_count": 5,
   "metadata": {},
   "outputs": [],
   "source": [
    "import tensorflow as tf\n",
    "from tensorflow.python.keras import models\n",
    "from tensorflow.python.keras.layers import Dense, Activation, Dropout\n",
    "from tensorflow.python.keras import metrics\n",
    "\n",
    "from tensorflow.python.keras.layers import Conv1D\n",
    "from tensorflow.python.keras.layers import MaxPooling1D\n",
    "from tensorflow.python.keras.layers import GlobalAveragePooling1D\n",
    "from tensorflow.python.keras.layers import GlobalMaxPooling1D"
   ]
  },
  {
   "cell_type": "code",
   "execution_count": 6,
   "metadata": {},
   "outputs": [
    {
     "data": {
      "text/plain": [
       "(1244493, 164)"
      ]
     },
     "execution_count": 6,
     "metadata": {},
     "output_type": "execute_result"
    }
   ],
   "source": [
    "final_df = pd.read_csv('./consolidated_4_10pct_sample_ext.csv')\n",
    "final_df.shape"
   ]
  },
  {
   "cell_type": "code",
   "execution_count": 7,
   "metadata": {},
   "outputs": [],
   "source": [
    "def split_train_test(data, features):\n",
    "    indexer = data[['s2_cell_id','measure_date']].copy()\n",
    "    train = data[data.measure_date < '2018-01-01'].copy()\n",
    "    test = data[data.measure_date >= '2018-01-01'].copy()\n",
    "    \n",
    "    y_train = train.wf_wildfire.copy().values\n",
    "    y_test = test.wf_wildfire.copy().values    \n",
    "    \n",
    "    y_train_ext = train.wf_wildfire_ext.copy().values\n",
    "    y_test_ext = test.wf_wildfire_ext.copy().values    \n",
    "\n",
    "    train = train[features]\n",
    "    test = test[features]    \n",
    "    \n",
    "    test_ids = data[data.measure_date >= '2018-01-01'][['s2_cell_id', 'measure_date']]\n",
    "    \n",
    "    return train, test, y_train, y_test, y_train_ext, y_test_ext, test_ids"
   ]
  },
  {
   "cell_type": "code",
   "execution_count": 8,
   "metadata": {},
   "outputs": [],
   "source": [
    "def plot_confusion_matrix(y_true, y_pred, classes,\n",
    "                          normalize=False,\n",
    "                          cmap=plt.cm.Blues):\n",
    "    \"\"\"\n",
    "    Source: https://scikit-learn.org/stable/auto_examples/model_selection/plot_confusion_matrix.html#sphx-glr-auto-examples-model-selection-plot-confusion-matrix-py\n",
    "\n",
    "    Prints and plots the confusion matrix.\n",
    "\n",
    "    Args:\n",
    "        y_true: list of true target labels\n",
    "        y_pred: list of predicted target labels\n",
    "        classes: tuple of class labels in 0, 1 order\n",
    "\n",
    "    Kwargs:\n",
    "        normalize: bool, normalize confusion matrix or not\n",
    "        cmap: color map\n",
    "    \"\"\"\n",
    "\n",
    "    if normalize:\n",
    "        title = 'Normalized confusion matrix'\n",
    "    else:\n",
    "        title = 'Confusion matrix, without normalization'\n",
    "\n",
    "    # Compute confusion matrix\n",
    "    cm = confusion_matrix(y_true, y_pred)\n",
    "    print('Confusion matrix, without normalization')\n",
    "    print(cm)\n",
    "\n",
    "    print(classification_report(y_true, y_pred, target_names=classes))\n",
    "\n",
    "    if normalize:\n",
    "        cm = cm.astype('float') / cm.sum(axis=1)[:, np.newaxis]\n",
    "\n",
    "    fig, ax = plt.subplots()\n",
    "    im = ax.imshow(cm, interpolation='nearest', cmap=cmap)\n",
    "    ax.figure.colorbar(im, ax=ax)\n",
    "    # show all ticks...\n",
    "    ax.set(xticks=np.arange(cm.shape[1]),\n",
    "           yticks=np.arange(cm.shape[0]),\n",
    "           xticklabels=classes,\n",
    "           yticklabels=classes,\n",
    "           title=title,\n",
    "           ylabel='True label',\n",
    "           xlabel='Predicted label')\n",
    "\n",
    "    # rotate the tick labels and set their alignment.\n",
    "    plt.setp(ax.get_xticklabels(),\n",
    "             rotation=45,\n",
    "             ha=\"right\",\n",
    "             rotation_mode=\"anchor\")\n",
    "\n",
    "    # loop over data dimensions and create text annotations.\n",
    "    fmt = '.2f' if normalize else 'd'\n",
    "    thresh = cm.max() / 2.\n",
    "    for i in range(cm.shape[0]):\n",
    "        for j in range(cm.shape[1]):\n",
    "            ax.text(j, i, format(cm[i, j], fmt),\n",
    "                    ha=\"center\", va=\"center\",\n",
    "                    color=\"white\" if cm[i, j] > thresh else \"black\")\n",
    "    fig.tight_layout()\n",
    "    plt.show()\n",
    "    return ax"
   ]
  },
  {
   "cell_type": "code",
   "execution_count": 9,
   "metadata": {},
   "outputs": [],
   "source": [
    "def bin_prob(probs, y_test):\n",
    "    y_binned = np.digitize(probs, np.arange(0,1.1,0.1))\n",
    "    bin_df = pd.DataFrame(list(zip(y_test, probs, y_binned)), columns =['Actual', 'Prob', 'Bin'])\n",
    "    bin_df = bin_df.groupby('Bin').agg({'Actual': ['mean', 'sum', 'count'], 'Prob': 'mean'})\n",
    "    return bin_df"
   ]
  },
  {
   "cell_type": "code",
   "execution_count": 10,
   "metadata": {},
   "outputs": [],
   "source": [
    "class TimeHistory(tf.keras.callbacks.Callback):\n",
    "    \"\"\"\n",
    "    https://stackoverflow.com/questions/43178668/\n",
    "    record-the-computation-time-for-each-epoch-in-keras-during-model-fit\n",
    "    \"\"\"\n",
    "\n",
    "    def on_train_begin(self, logs={}):\n",
    "        self.times = []\n",
    "\n",
    "    def on_epoch_begin(self, epoch, logs={}):\n",
    "        self.epoch_time_start = time.time()\n",
    "\n",
    "    def on_epoch_end(self, epoch, logs={}):\n",
    "        self.times.append(time.time() - self.epoch_time_start)"
   ]
  },
  {
   "cell_type": "code",
   "execution_count": 11,
   "metadata": {},
   "outputs": [],
   "source": [
    "def mlp_model(layers, units, dropout_rate, input_shape, op_units, op_activation):\n",
    "    \"\"\"\n",
    "    Creates an instance of a multi-layer perceptron model.\n",
    "\n",
    "    Arguments\n",
    "      layers: int, number of `Dense` layers in the model.\n",
    "      units: int, output dimension of the layers.\n",
    "      dropout_rate: float, percentage of input to drop at Dropout layers.\n",
    "      input_shape: tuple, shape of input to the model.\n",
    "      op_units: number of output units (1 for binary target)\n",
    "      op_activation: activation function (sigmoid for binary target)\n",
    "\n",
    "    Returns\n",
    "      An MLP model instance.\n",
    "    \"\"\"\n",
    "\n",
    "    model = models.Sequential()\n",
    "    model.add(Dropout(rate=dropout_rate, input_shape=input_shape))\n",
    "\n",
    "    for _ in range(layers - 1):\n",
    "        model.add(Dense(units=units, activation='relu'))\n",
    "        model.add(Dropout(rate=dropout_rate))\n",
    "\n",
    "    model.add(Dense(units=op_units, activation=op_activation))\n",
    "\n",
    "    return model"
   ]
  },
  {
   "cell_type": "code",
   "execution_count": 12,
   "metadata": {},
   "outputs": [],
   "source": [
    "def train_model(data,\n",
    "                model_type='cnn',\n",
    "                learning_rate=1e-3,\n",
    "                epochs=1000,\n",
    "                batch_size=128,\n",
    "                blocks=2,\n",
    "                filters=64,\n",
    "                layers=2,\n",
    "                units=64,\n",
    "                dropout_rate=0.2,\n",
    "                kernel_size=3,\n",
    "                pool_size=3,\n",
    "                num_classes=2,\n",
    "                class_weights={0:1.,1:1.}):\n",
    "    \"\"\"\n",
    "    Trains sequence model on the given dataset.\n",
    "\n",
    "    Args:\n",
    "      data: tuples of vectorized training and test texts and labels.\n",
    "      log_dir: directory to write logs to\n",
    "\n",
    "    Kwargs:\n",
    "      model_type: str, type of model to train\n",
    "      word_index: word_index if applicable\n",
    "      learning_rate: float, learning rate for training model.\n",
    "      epochs: int, number of epochs.\n",
    "      batch_size: int, number of samples per batch.\n",
    "      blocks: int, number of pairs of sepCNN and pooling blocks in the model.\n",
    "      filters: int, output dimension of sepCNN layers in the model.\n",
    "      dropout_rate: float: percentage of input to drop at Dropout layers.\n",
    "      embedding_dim: int, dimension of the embedding vectors.\n",
    "      kernel_size: int, length of the convolution window.\n",
    "      pool_size: int, factor by which to downscale input at MaxPooling layer.\n",
    "      max_num_words: int, max number of features to use\n",
    "      num_classes: int, number of classes in the target variable\n",
    "      use_pretrained_embedding: bool, use pretrained embeddings or no\n",
    "      is_embedding_trainable: bool, train embeddings or no\n",
    "      use_word_embedding: bool, False if sentence encodding is used\n",
    "      glove_dir: directory with glove embeddings if applicable\n",
    "    \"\"\"\n",
    "\n",
    "    # Get the data.\n",
    "    x_train, train_labels, x_val, val_labels = data\n",
    "\n",
    "    if num_classes == 2:\n",
    "        op_units, op_activation = 1, 'sigmoid'\n",
    "    else:\n",
    "        op_units, op_activation = num_classes, 'softmax'\n",
    "\n",
    "    # Create model instance.\n",
    "    if model_type == 'cnn':\n",
    "        model = cnn_model(filters=filters,\n",
    "                          kernel_size=kernel_size,\n",
    "                          layers=layers,\n",
    "                          dropout_rate=dropout_rate,\n",
    "                          pool_size=pool_size,\n",
    "                          input_shape=x_train.shape[1:],\n",
    "                          op_units=op_units,\n",
    "                          op_activation=op_activation)\n",
    "    elif model_type == 'mlp':\n",
    "        model = mlp_model(layers=layers,\n",
    "                          units=units,\n",
    "                          dropout_rate=dropout_rate,\n",
    "                          input_shape=x_train.shape[1:],\n",
    "                          op_units=op_units,\n",
    "                          op_activation=op_activation)\n",
    "\n",
    "    # Compile model with learning parameters.\n",
    "    optimizer = tf.keras.optimizers.Adam(lr=learning_rate)\n",
    "#     optimizer = tf.keras.optimizers.RMSprop(lr=learning_rate) - didn't work (too many false negatives)\n",
    "#     optimizer = tf.keras.optimizers.SGD(lr=learning_rate) - similar performance to Adam\n",
    "#     optimizer = tf.keras.optimizers.Adagrad(lr=learning_rate) - didn't work (too many false positives)\n",
    "    model.compile(optimizer=optimizer,\n",
    "                loss='binary_crossentropy',\n",
    "                metrics=[metrics.Recall()])\n",
    "\n",
    "    # Create callback for early stopping on validation loss. If the loss does\n",
    "    # not decrease in two consecutive tries, stop training.\n",
    "    callbacks = [\n",
    "#           tf.keras.callbacks.EarlyStopping(monitor='val_loss',\n",
    "#                                            patience=2),\n",
    "          TimeHistory()]\n",
    "\n",
    "    # Train and validate model.\n",
    "    history = model.fit(\n",
    "      x_train,\n",
    "      train_labels,\n",
    "      epochs=epochs,\n",
    "      callbacks=callbacks,\n",
    "      validation_data=(x_val, val_labels),\n",
    "      verbose=2,  # Logs once per epoch.\n",
    "      batch_size=batch_size,\n",
    "      class_weight=class_weights)\n",
    "\n",
    "    train_pred_probs = model.predict(x_train)\n",
    "    val_pred_probs = model.predict(x_val)\n",
    "\n",
    "    return history.history, model, train_pred_probs, val_pred_probs"
   ]
  },
  {
   "cell_type": "code",
   "execution_count": 13,
   "metadata": {},
   "outputs": [],
   "source": [
    "scaler = MinMaxScaler()"
   ]
  },
  {
   "cell_type": "markdown",
   "metadata": {},
   "source": [
    "## Optimizer: Adam; Features: - precipitation"
   ]
  },
  {
   "cell_type": "code",
   "execution_count": 14,
   "metadata": {},
   "outputs": [],
   "source": [
    "tl_features = [\n",
    "    'tl_object_id',\n",
    "    'tl_kv_sort_sum'\n",
    "]\n",
    "\n",
    "wf_features = [\n",
    "    'wf_count_1yr_ago',\n",
    "    'wf_count_2yr_ago',\n",
    "    'wf_count_3yr_ago',\n",
    "    'wf_count_4yr_ago',\n",
    "    'wf_count_5yr_ago'\n",
    "]\n",
    "\n",
    "sat_features = [\n",
    " 'sat_faparval_min',\n",
    " 'sat_faparval_max',\n",
    " 'sat_faparval_mean',\n",
    "#  'sat_faparval_median',\n",
    " 'sat_faparval_std',\n",
    " 'sat_faparval_size',\n",
    " 'sat_faparval_count',\n",
    " 'sat_faparval',\n",
    " 'sat_faparmask_min',\n",
    " 'sat_faparmask_max',\n",
    " 'sat_faparmask_mean',\n",
    "#  'sat_faparmask_median',\n",
    " 'sat_faparmask_std',\n",
    " 'sat_faparmask_size'\n",
    "]\n",
    "\n",
    "wea_features = [\n",
    " 'wea_air_temp_max',\n",
    " 'wea_air_temp_mean',\n",
    "#  'wea_precip_accum_max',\n",
    " 'relative_humidity_max',\n",
    " 'relative_humidity_min',\n",
    " 'relative_humidity_mean',\n",
    " 'wea_wind_speed_max',\n",
    " 'wea_wind_speed_min',\n",
    " 'wea_wind_speed_mean',\n",
    " 'wind_gust_max',\n",
    " 'wea_air_temp_mean_ma7',\n",
    "#  'wea_precip_accum_max_ma7',\n",
    " 'relative_humidity_mean_ma7',\n",
    " 'wea_air_temp_mean_l1',\n",
    "#  'wea_precip_accum_max_l1',\n",
    " 'relative_humidity_mean_l1'\n",
    "]\n",
    "\n",
    "new_features = [\n",
    " 'fuel_percent_ma7',\n",
    " 'fuel_percent_ma30',\n",
    " 'fuel_percent_l1',\n",
    " 'wea_air_temp_mean_ma30',\n",
    "#  'wea_precip_accum_max_ma30',\n",
    " 'relative_humidity_mean_ma30'\n",
    "]"
   ]
  },
  {
   "cell_type": "code",
   "execution_count": 15,
   "metadata": {},
   "outputs": [],
   "source": [
    "gc.collect()\n",
    "feature_cols = wea_features + tl_features + sat_features + ['fuel_percent'] + new_features\n",
    "train, test, y_train, y_test, y_train_ext, y_test_ext, test_ids = split_train_test(final_df, feature_cols)"
   ]
  },
  {
   "cell_type": "code",
   "execution_count": 16,
   "metadata": {},
   "outputs": [
    {
     "data": {
      "text/plain": [
       "((825403, 33), (419090, 33))"
      ]
     },
     "execution_count": 16,
     "metadata": {},
     "output_type": "execute_result"
    }
   ],
   "source": [
    "train.shape, test.shape"
   ]
  },
  {
   "cell_type": "code",
   "execution_count": 17,
   "metadata": {},
   "outputs": [
    {
     "name": "stderr",
     "output_type": "stream",
     "text": [
      "/usr/local/lib/python3.5/dist-packages/sklearn/preprocessing/data.py:334: DataConversionWarning: Data with input dtype bool, int64, float64 were all converted to float64 by MinMaxScaler.\n",
      "  return self.partial_fit(X, y)\n"
     ]
    }
   ],
   "source": [
    "train_sc = scaler.fit_transform(train)\n",
    "test_sc = scaler.transform(test)"
   ]
  },
  {
   "cell_type": "code",
   "execution_count": 18,
   "metadata": {},
   "outputs": [
    {
     "data": {
      "text/plain": [
       "array([0.53436386, 7.77508478])"
      ]
     },
     "execution_count": 18,
     "metadata": {},
     "output_type": "execute_result"
    }
   ],
   "source": [
    "cw = class_weight.compute_class_weight('balanced', np.unique(y_train_ext), y_train_ext)\n",
    "cw"
   ]
  },
  {
   "cell_type": "code",
   "execution_count": 19,
   "metadata": {},
   "outputs": [],
   "source": [
    "model_params = {\n",
    "    'model_type': 'mlp',\n",
    "    'learning_rate': 1e-3,\n",
    "    'epochs': 20,\n",
    "    'batch_size': 128,\n",
    "    'layers': 2,\n",
    "    'units': 64,\n",
    "    'dropout_rate': 0.2,\n",
    "    'class_weights': {0: cw[0], 1: cw[1]}\n",
    "}"
   ]
  },
  {
   "cell_type": "code",
   "execution_count": 20,
   "metadata": {},
   "outputs": [
    {
     "name": "stdout",
     "output_type": "stream",
     "text": [
      "WARNING:tensorflow:From /usr/local/lib/python3.5/dist-packages/tensorflow/python/keras/layers/core.py:143: calling dropout (from tensorflow.python.ops.nn_ops) with keep_prob is deprecated and will be removed in a future version.\n",
      "Instructions for updating:\n",
      "Please use `rate` instead of `keep_prob`. Rate should be set to `rate = 1 - keep_prob`.\n",
      "WARNING:tensorflow:From /usr/local/lib/python3.5/dist-packages/tensorflow/python/ops/control_flow_ops.py:423: colocate_with (from tensorflow.python.framework.ops) is deprecated and will be removed in a future version.\n",
      "Instructions for updating:\n",
      "Colocations handled automatically by placer.\n",
      "Train on 825403 samples, validate on 419090 samples\n",
      "WARNING:tensorflow:From /usr/local/lib/python3.5/dist-packages/tensorflow/python/ops/math_ops.py:3066: to_int32 (from tensorflow.python.ops.math_ops) is deprecated and will be removed in a future version.\n",
      "Instructions for updating:\n",
      "Use tf.cast instead.\n",
      "Epoch 1/20\n",
      " - 10s - loss: 0.5746 - recall: 0.7459 - val_loss: 0.8415 - val_recall: 0.9362\n",
      "Epoch 2/20\n",
      " - 10s - loss: 0.5387 - recall: 0.7959 - val_loss: 0.7808 - val_recall: 0.9299\n",
      "Epoch 3/20\n",
      " - 10s - loss: 0.5270 - recall: 0.8041 - val_loss: 0.7684 - val_recall: 0.9102\n",
      "Epoch 4/20\n",
      " - 10s - loss: 0.5228 - recall: 0.8081 - val_loss: 0.6887 - val_recall: 0.8958\n",
      "Epoch 5/20\n",
      " - 9s - loss: 0.5185 - recall: 0.8111 - val_loss: 0.7532 - val_recall: 0.9167\n",
      "Epoch 6/20\n",
      " - 10s - loss: 0.5159 - recall: 0.8118 - val_loss: 0.6970 - val_recall: 0.8970\n",
      "Epoch 7/20\n",
      " - 10s - loss: 0.5144 - recall: 0.8142 - val_loss: 0.7006 - val_recall: 0.8938\n",
      "Epoch 8/20\n",
      " - 10s - loss: 0.5127 - recall: 0.8128 - val_loss: 0.6602 - val_recall: 0.8799\n",
      "Epoch 9/20\n",
      " - 11s - loss: 0.5113 - recall: 0.8148 - val_loss: 0.6506 - val_recall: 0.8782\n",
      "Epoch 10/20\n",
      " - 9s - loss: 0.5110 - recall: 0.8163 - val_loss: 0.7212 - val_recall: 0.9081\n",
      "Epoch 11/20\n",
      " - 10s - loss: 0.5096 - recall: 0.8188 - val_loss: 0.6983 - val_recall: 0.8857\n",
      "Epoch 12/20\n",
      " - 10s - loss: 0.5086 - recall: 0.8171 - val_loss: 0.6818 - val_recall: 0.8931\n",
      "Epoch 13/20\n",
      " - 9s - loss: 0.5075 - recall: 0.8170 - val_loss: 0.6407 - val_recall: 0.8630\n",
      "Epoch 14/20\n",
      " - 9s - loss: 0.5069 - recall: 0.8150 - val_loss: 0.6823 - val_recall: 0.8877\n",
      "Epoch 15/20\n",
      " - 10s - loss: 0.5068 - recall: 0.8197 - val_loss: 0.6571 - val_recall: 0.8866\n",
      "Epoch 16/20\n",
      " - 10s - loss: 0.5045 - recall: 0.8188 - val_loss: 0.6796 - val_recall: 0.8910\n",
      "Epoch 17/20\n",
      " - 9s - loss: 0.5041 - recall: 0.8189 - val_loss: 0.6675 - val_recall: 0.8817\n",
      "Epoch 18/20\n",
      " - 9s - loss: 0.5030 - recall: 0.8182 - val_loss: 0.6653 - val_recall: 0.9022\n",
      "Epoch 19/20\n",
      " - 9s - loss: 0.5041 - recall: 0.8151 - val_loss: 0.6692 - val_recall: 0.8879\n",
      "Epoch 20/20\n",
      " - 9s - loss: 0.5020 - recall: 0.8174 - val_loss: 0.6814 - val_recall: 0.8904\n"
     ]
    }
   ],
   "source": [
    "gc.collect()\n",
    "history, model_mlp, train_pred_probs, test_pred_probs = train_model((train_sc, y_train_ext, test_sc, y_test_ext), **model_params)"
   ]
  },
  {
   "cell_type": "code",
   "execution_count": 21,
   "metadata": {},
   "outputs": [],
   "source": [
    "model_mlp.save('./Models/mlp_adam_noprecip_cwEQ_ext.h5')"
   ]
  },
  {
   "cell_type": "code",
   "execution_count": 22,
   "metadata": {},
   "outputs": [
    {
     "data": {
      "text/html": [
       "<div>\n",
       "<style scoped>\n",
       "    .dataframe tbody tr th:only-of-type {\n",
       "        vertical-align: middle;\n",
       "    }\n",
       "\n",
       "    .dataframe tbody tr th {\n",
       "        vertical-align: top;\n",
       "    }\n",
       "\n",
       "    .dataframe thead tr th {\n",
       "        text-align: left;\n",
       "    }\n",
       "\n",
       "    .dataframe thead tr:last-of-type th {\n",
       "        text-align: right;\n",
       "    }\n",
       "</style>\n",
       "<table border=\"1\" class=\"dataframe\">\n",
       "  <thead>\n",
       "    <tr>\n",
       "      <th></th>\n",
       "      <th colspan=\"3\" halign=\"left\">Actual</th>\n",
       "      <th>Prob</th>\n",
       "    </tr>\n",
       "    <tr>\n",
       "      <th></th>\n",
       "      <th>mean</th>\n",
       "      <th>sum</th>\n",
       "      <th>count</th>\n",
       "      <th>mean</th>\n",
       "    </tr>\n",
       "    <tr>\n",
       "      <th>Bin</th>\n",
       "      <th></th>\n",
       "      <th></th>\n",
       "      <th></th>\n",
       "      <th></th>\n",
       "    </tr>\n",
       "  </thead>\n",
       "  <tbody>\n",
       "    <tr>\n",
       "      <th>1</th>\n",
       "      <td>0.000215</td>\n",
       "      <td>5.0</td>\n",
       "      <td>23303</td>\n",
       "      <td>0.050705</td>\n",
       "    </tr>\n",
       "    <tr>\n",
       "      <th>2</th>\n",
       "      <td>0.000818</td>\n",
       "      <td>20.0</td>\n",
       "      <td>24456</td>\n",
       "      <td>0.151107</td>\n",
       "    </tr>\n",
       "    <tr>\n",
       "      <th>3</th>\n",
       "      <td>0.001800</td>\n",
       "      <td>56.0</td>\n",
       "      <td>31114</td>\n",
       "      <td>0.253315</td>\n",
       "    </tr>\n",
       "    <tr>\n",
       "      <th>4</th>\n",
       "      <td>0.001859</td>\n",
       "      <td>92.0</td>\n",
       "      <td>49478</td>\n",
       "      <td>0.353650</td>\n",
       "    </tr>\n",
       "    <tr>\n",
       "      <th>5</th>\n",
       "      <td>0.002919</td>\n",
       "      <td>215.0</td>\n",
       "      <td>73660</td>\n",
       "      <td>0.452401</td>\n",
       "    </tr>\n",
       "    <tr>\n",
       "      <th>6</th>\n",
       "      <td>0.003532</td>\n",
       "      <td>297.0</td>\n",
       "      <td>84093</td>\n",
       "      <td>0.550290</td>\n",
       "    </tr>\n",
       "    <tr>\n",
       "      <th>7</th>\n",
       "      <td>0.004403</td>\n",
       "      <td>338.0</td>\n",
       "      <td>76773</td>\n",
       "      <td>0.648132</td>\n",
       "    </tr>\n",
       "    <tr>\n",
       "      <th>8</th>\n",
       "      <td>0.003795</td>\n",
       "      <td>186.0</td>\n",
       "      <td>49018</td>\n",
       "      <td>0.741991</td>\n",
       "    </tr>\n",
       "    <tr>\n",
       "      <th>9</th>\n",
       "      <td>0.004638</td>\n",
       "      <td>33.0</td>\n",
       "      <td>7115</td>\n",
       "      <td>0.822594</td>\n",
       "    </tr>\n",
       "    <tr>\n",
       "      <th>10</th>\n",
       "      <td>0.000000</td>\n",
       "      <td>0.0</td>\n",
       "      <td>50</td>\n",
       "      <td>0.946869</td>\n",
       "    </tr>\n",
       "    <tr>\n",
       "      <th>11</th>\n",
       "      <td>0.000000</td>\n",
       "      <td>0.0</td>\n",
       "      <td>30</td>\n",
       "      <td>1.000000</td>\n",
       "    </tr>\n",
       "  </tbody>\n",
       "</table>\n",
       "</div>"
      ],
      "text/plain": [
       "       Actual                    Prob\n",
       "         mean    sum  count      mean\n",
       "Bin                                  \n",
       "1    0.000215    5.0  23303  0.050705\n",
       "2    0.000818   20.0  24456  0.151107\n",
       "3    0.001800   56.0  31114  0.253315\n",
       "4    0.001859   92.0  49478  0.353650\n",
       "5    0.002919  215.0  73660  0.452401\n",
       "6    0.003532  297.0  84093  0.550290\n",
       "7    0.004403  338.0  76773  0.648132\n",
       "8    0.003795  186.0  49018  0.741991\n",
       "9    0.004638   33.0   7115  0.822594\n",
       "10   0.000000    0.0     50  0.946869\n",
       "11   0.000000    0.0     30  1.000000"
      ]
     },
     "execution_count": 22,
     "metadata": {},
     "output_type": "execute_result"
    }
   ],
   "source": [
    "bin_prob(test_pred_probs[:,0], y_test)"
   ]
  },
  {
   "cell_type": "code",
   "execution_count": 23,
   "metadata": {},
   "outputs": [
    {
     "data": {
      "text/plain": [
       "217079"
      ]
     },
     "execution_count": 23,
     "metadata": {},
     "output_type": "execute_result"
    }
   ],
   "source": [
    "test_preds = test_pred_probs[:,0]>0.5\n",
    "test_preds.sum()"
   ]
  },
  {
   "cell_type": "code",
   "execution_count": 24,
   "metadata": {},
   "outputs": [
    {
     "name": "stdout",
     "output_type": "stream",
     "text": [
      "Confusion matrix, without normalization\n",
      "[[201623 216225]\n",
      " [   388    854]]\n",
      "              precision    recall  f1-score   support\n",
      "\n",
      "         nwf       1.00      0.48      0.65    417848\n",
      "          wf       0.00      0.69      0.01      1242\n",
      "\n",
      "   micro avg       0.48      0.48      0.48    419090\n",
      "   macro avg       0.50      0.59      0.33    419090\n",
      "weighted avg       1.00      0.48      0.65    419090\n",
      "\n"
     ]
    },
    {
     "data": {
      "image/png": "[encoded data removed]",
      "text/plain": [
       "<Figure size 432x288 with 2 Axes>"
      ]
     },
     "metadata": {
      "needs_background": "light"
     },
     "output_type": "display_data"
    },
    {
     "data": {
      "text/plain": [
       "<matplotlib.axes._subplots.AxesSubplot at 0x7f33610b1438>"
      ]
     },
     "execution_count": 24,
     "metadata": {},
     "output_type": "execute_result"
    }
   ],
   "source": [
    "plot_confusion_matrix(y_test, test_preds, ['nwf', 'wf'], normalize=True)"
   ]
  },
  {
   "cell_type": "markdown",
   "metadata": {},
   "source": [
    "## Optimizer: Adam; Features: + precipitation"
   ]
  },
  {
   "cell_type": "code",
   "execution_count": 25,
   "metadata": {},
   "outputs": [],
   "source": [
    "tl_features = [\n",
    "    'tl_object_id',\n",
    "    'tl_kv_sort_sum'\n",
    "]\n",
    "\n",
    "wf_features = [\n",
    "    'wf_count_1yr_ago',\n",
    "    'wf_count_2yr_ago',\n",
    "    'wf_count_3yr_ago',\n",
    "    'wf_count_4yr_ago',\n",
    "    'wf_count_5yr_ago'\n",
    "]\n",
    "\n",
    "sat_features = [\n",
    " 'sat_faparval_min',\n",
    " 'sat_faparval_max',\n",
    " 'sat_faparval_mean',\n",
    "#  'sat_faparval_median',\n",
    " 'sat_faparval_std',\n",
    " 'sat_faparval_size',\n",
    " 'sat_faparval_count',\n",
    " 'sat_faparval',\n",
    " 'sat_faparmask_min',\n",
    " 'sat_faparmask_max',\n",
    " 'sat_faparmask_mean',\n",
    "#  'sat_faparmask_median',\n",
    " 'sat_faparmask_std',\n",
    " 'sat_faparmask_size'\n",
    "]\n",
    "\n",
    "wea_features = [\n",
    " 'wea_air_temp_max',\n",
    " 'wea_air_temp_mean',\n",
    " 'wea_precip_accum_max',\n",
    " 'relative_humidity_max',\n",
    " 'relative_humidity_min',\n",
    " 'relative_humidity_mean',\n",
    " 'wea_wind_speed_max',\n",
    " 'wea_wind_speed_min',\n",
    " 'wea_wind_speed_mean',\n",
    " 'wind_gust_max',\n",
    " 'wea_air_temp_mean_ma7',\n",
    " 'wea_precip_accum_max_ma7',\n",
    " 'relative_humidity_mean_ma7',\n",
    " 'wea_air_temp_mean_l1',\n",
    " 'wea_precip_accum_max_l1',\n",
    " 'relative_humidity_mean_l1'\n",
    "]\n",
    "\n",
    "new_features = [\n",
    " 'fuel_percent_ma7',\n",
    " 'fuel_percent_ma30',\n",
    " 'fuel_percent_l1',\n",
    " 'wea_air_temp_mean_ma30',\n",
    " 'wea_precip_accum_max_ma30',\n",
    " 'relative_humidity_mean_ma30'\n",
    "]"
   ]
  },
  {
   "cell_type": "code",
   "execution_count": 26,
   "metadata": {},
   "outputs": [
    {
     "name": "stderr",
     "output_type": "stream",
     "text": [
      "/usr/local/lib/python3.5/dist-packages/sklearn/preprocessing/data.py:334: DataConversionWarning: Data with input dtype bool, int64, float64 were all converted to float64 by MinMaxScaler.\n",
      "  return self.partial_fit(X, y)\n"
     ]
    }
   ],
   "source": [
    "gc.collect()\n",
    "feature_cols = wea_features + tl_features + sat_features + ['fuel_percent'] + new_features\n",
    "train, test, y_train, y_test, y_train_ext, y_test_ext, test_ids = split_train_test(final_df, feature_cols)\n",
    "\n",
    "train_sc = scaler.fit_transform(train)\n",
    "test_sc = scaler.transform(test)"
   ]
  },
  {
   "cell_type": "code",
   "execution_count": 27,
   "metadata": {},
   "outputs": [],
   "source": [
    "model_params = {\n",
    "    'model_type': 'mlp',\n",
    "    'learning_rate': 0.001,\n",
    "    'epochs': 20,\n",
    "    'batch_size': 128,\n",
    "    'layers': 2,\n",
    "    'units': 64,\n",
    "    'dropout_rate': 0.2,\n",
    "    'class_weights': {0: cw[0], 1: cw[1]}\n",
    "}"
   ]
  },
  {
   "cell_type": "code",
   "execution_count": 28,
   "metadata": {},
   "outputs": [
    {
     "name": "stdout",
     "output_type": "stream",
     "text": [
      "Train on 825403 samples, validate on 419090 samples\n",
      "Epoch 1/20\n",
      " - 10s - loss: 0.5623 - recall_1: 0.7524 - val_loss: 0.7551 - val_recall_1: 0.9056\n",
      "Epoch 2/20\n",
      " - 10s - loss: 0.5092 - recall_1: 0.7984 - val_loss: 0.7254 - val_recall_1: 0.8727\n",
      "Epoch 3/20\n",
      " - 10s - loss: 0.4952 - recall_1: 0.7984 - val_loss: 0.6642 - val_recall_1: 0.8286\n",
      "Epoch 4/20\n",
      " - 10s - loss: 0.4883 - recall_1: 0.8021 - val_loss: 0.6874 - val_recall_1: 0.8491\n",
      "Epoch 5/20\n",
      " - 10s - loss: 0.4848 - recall_1: 0.8053 - val_loss: 0.6843 - val_recall_1: 0.8073\n",
      "Epoch 6/20\n",
      " - 10s - loss: 0.4815 - recall_1: 0.8064 - val_loss: 0.7052 - val_recall_1: 0.8091\n",
      "Epoch 7/20\n",
      " - 10s - loss: 0.4786 - recall_1: 0.8072 - val_loss: 0.7043 - val_recall_1: 0.8192\n",
      "Epoch 8/20\n",
      " - 10s - loss: 0.4763 - recall_1: 0.8094 - val_loss: 0.6349 - val_recall_1: 0.8205\n",
      "Epoch 9/20\n",
      " - 10s - loss: 0.4746 - recall_1: 0.8127 - val_loss: 0.6366 - val_recall_1: 0.8126\n",
      "Epoch 10/20\n",
      " - 10s - loss: 0.4741 - recall_1: 0.8118 - val_loss: 0.6539 - val_recall_1: 0.8109\n",
      "Epoch 11/20\n",
      " - 10s - loss: 0.4727 - recall_1: 0.8122 - val_loss: 0.6596 - val_recall_1: 0.8178\n",
      "Epoch 12/20\n",
      " - 10s - loss: 0.4709 - recall_1: 0.8150 - val_loss: 0.6401 - val_recall_1: 0.7970\n",
      "Epoch 13/20\n",
      " - 10s - loss: 0.4696 - recall_1: 0.8144 - val_loss: 0.6512 - val_recall_1: 0.8107\n",
      "Epoch 14/20\n",
      " - 10s - loss: 0.4695 - recall_1: 0.8152 - val_loss: 0.6293 - val_recall_1: 0.8209\n",
      "Epoch 15/20\n",
      " - 10s - loss: 0.4685 - recall_1: 0.8155 - val_loss: 0.5684 - val_recall_1: 0.7694\n",
      "Epoch 16/20\n",
      " - 10s - loss: 0.4668 - recall_1: 0.8165 - val_loss: 0.6483 - val_recall_1: 0.8275\n",
      "Epoch 17/20\n",
      " - 10s - loss: 0.4683 - recall_1: 0.8182 - val_loss: 0.6971 - val_recall_1: 0.8308\n",
      "Epoch 18/20\n",
      " - 10s - loss: 0.4675 - recall_1: 0.8165 - val_loss: 0.6593 - val_recall_1: 0.8461\n",
      "Epoch 19/20\n",
      " - 10s - loss: 0.4654 - recall_1: 0.8168 - val_loss: 0.6458 - val_recall_1: 0.8146\n",
      "Epoch 20/20\n",
      " - 10s - loss: 0.4669 - recall_1: 0.8144 - val_loss: 0.6443 - val_recall_1: 0.8341\n"
     ]
    }
   ],
   "source": [
    "gc.collect()\n",
    "history, model_mlp, train_pred_probs, test_pred_probs = train_model((train_sc, y_train_ext, test_sc, y_test_ext), **model_params)"
   ]
  },
  {
   "cell_type": "code",
   "execution_count": 29,
   "metadata": {},
   "outputs": [],
   "source": [
    "model_mlp.save('./Models/mlp_adam_precip_cwEQ_ext.h5')"
   ]
  },
  {
   "cell_type": "code",
   "execution_count": 30,
   "metadata": {},
   "outputs": [
    {
     "data": {
      "text/html": [
       "<div>\n",
       "<style scoped>\n",
       "    .dataframe tbody tr th:only-of-type {\n",
       "        vertical-align: middle;\n",
       "    }\n",
       "\n",
       "    .dataframe tbody tr th {\n",
       "        vertical-align: top;\n",
       "    }\n",
       "\n",
       "    .dataframe thead tr th {\n",
       "        text-align: left;\n",
       "    }\n",
       "\n",
       "    .dataframe thead tr:last-of-type th {\n",
       "        text-align: right;\n",
       "    }\n",
       "</style>\n",
       "<table border=\"1\" class=\"dataframe\">\n",
       "  <thead>\n",
       "    <tr>\n",
       "      <th></th>\n",
       "      <th colspan=\"3\" halign=\"left\">Actual</th>\n",
       "      <th>Prob</th>\n",
       "    </tr>\n",
       "    <tr>\n",
       "      <th></th>\n",
       "      <th>mean</th>\n",
       "      <th>sum</th>\n",
       "      <th>count</th>\n",
       "      <th>mean</th>\n",
       "    </tr>\n",
       "    <tr>\n",
       "      <th>Bin</th>\n",
       "      <th></th>\n",
       "      <th></th>\n",
       "      <th></th>\n",
       "      <th></th>\n",
       "    </tr>\n",
       "  </thead>\n",
       "  <tbody>\n",
       "    <tr>\n",
       "      <th>1</th>\n",
       "      <td>0.000430</td>\n",
       "      <td>13.0</td>\n",
       "      <td>30217</td>\n",
       "      <td>0.053640</td>\n",
       "    </tr>\n",
       "    <tr>\n",
       "      <th>2</th>\n",
       "      <td>0.000791</td>\n",
       "      <td>30.0</td>\n",
       "      <td>37950</td>\n",
       "      <td>0.152313</td>\n",
       "    </tr>\n",
       "    <tr>\n",
       "      <th>3</th>\n",
       "      <td>0.001419</td>\n",
       "      <td>71.0</td>\n",
       "      <td>50039</td>\n",
       "      <td>0.251968</td>\n",
       "    </tr>\n",
       "    <tr>\n",
       "      <th>4</th>\n",
       "      <td>0.002112</td>\n",
       "      <td>122.0</td>\n",
       "      <td>57772</td>\n",
       "      <td>0.350540</td>\n",
       "    </tr>\n",
       "    <tr>\n",
       "      <th>5</th>\n",
       "      <td>0.004016</td>\n",
       "      <td>262.0</td>\n",
       "      <td>65235</td>\n",
       "      <td>0.450915</td>\n",
       "    </tr>\n",
       "    <tr>\n",
       "      <th>6</th>\n",
       "      <td>0.004729</td>\n",
       "      <td>299.0</td>\n",
       "      <td>63222</td>\n",
       "      <td>0.548956</td>\n",
       "    </tr>\n",
       "    <tr>\n",
       "      <th>7</th>\n",
       "      <td>0.004775</td>\n",
       "      <td>262.0</td>\n",
       "      <td>54864</td>\n",
       "      <td>0.646747</td>\n",
       "    </tr>\n",
       "    <tr>\n",
       "      <th>8</th>\n",
       "      <td>0.003553</td>\n",
       "      <td>127.0</td>\n",
       "      <td>35748</td>\n",
       "      <td>0.748075</td>\n",
       "    </tr>\n",
       "    <tr>\n",
       "      <th>9</th>\n",
       "      <td>0.002377</td>\n",
       "      <td>51.0</td>\n",
       "      <td>21457</td>\n",
       "      <td>0.840028</td>\n",
       "    </tr>\n",
       "    <tr>\n",
       "      <th>10</th>\n",
       "      <td>0.001952</td>\n",
       "      <td>5.0</td>\n",
       "      <td>2561</td>\n",
       "      <td>0.923023</td>\n",
       "    </tr>\n",
       "    <tr>\n",
       "      <th>11</th>\n",
       "      <td>0.000000</td>\n",
       "      <td>0.0</td>\n",
       "      <td>25</td>\n",
       "      <td>1.000000</td>\n",
       "    </tr>\n",
       "  </tbody>\n",
       "</table>\n",
       "</div>"
      ],
      "text/plain": [
       "       Actual                    Prob\n",
       "         mean    sum  count      mean\n",
       "Bin                                  \n",
       "1    0.000430   13.0  30217  0.053640\n",
       "2    0.000791   30.0  37950  0.152313\n",
       "3    0.001419   71.0  50039  0.251968\n",
       "4    0.002112  122.0  57772  0.350540\n",
       "5    0.004016  262.0  65235  0.450915\n",
       "6    0.004729  299.0  63222  0.548956\n",
       "7    0.004775  262.0  54864  0.646747\n",
       "8    0.003553  127.0  35748  0.748075\n",
       "9    0.002377   51.0  21457  0.840028\n",
       "10   0.001952    5.0   2561  0.923023\n",
       "11   0.000000    0.0     25  1.000000"
      ]
     },
     "execution_count": 30,
     "metadata": {},
     "output_type": "execute_result"
    }
   ],
   "source": [
    "bin_prob(test_pred_probs[:,0], y_test)"
   ]
  },
  {
   "cell_type": "code",
   "execution_count": 31,
   "metadata": {},
   "outputs": [
    {
     "data": {
      "text/plain": [
       "177877"
      ]
     },
     "execution_count": 31,
     "metadata": {},
     "output_type": "execute_result"
    }
   ],
   "source": [
    "test_preds = test_pred_probs[:,0]>0.5\n",
    "test_preds.sum()"
   ]
  },
  {
   "cell_type": "code",
   "execution_count": 32,
   "metadata": {},
   "outputs": [
    {
     "name": "stdout",
     "output_type": "stream",
     "text": [
      "Confusion matrix, without normalization\n",
      "[[240715 177133]\n",
      " [   498    744]]\n",
      "              precision    recall  f1-score   support\n",
      "\n",
      "         nwf       1.00      0.58      0.73    417848\n",
      "          wf       0.00      0.60      0.01      1242\n",
      "\n",
      "   micro avg       0.58      0.58      0.58    419090\n",
      "   macro avg       0.50      0.59      0.37    419090\n",
      "weighted avg       0.99      0.58      0.73    419090\n",
      "\n"
     ]
    },
    {
     "data": {
      "image/png": "[encoded data removed]",
      "text/plain": [
       "<Figure size 432x288 with 2 Axes>"
      ]
     },
     "metadata": {
      "needs_background": "light"
     },
     "output_type": "display_data"
    },
    {
     "data": {
      "text/plain": [
       "<matplotlib.axes._subplots.AxesSubplot at 0x7f33bc57fba8>"
      ]
     },
     "execution_count": 32,
     "metadata": {},
     "output_type": "execute_result"
    }
   ],
   "source": [
    "plot_confusion_matrix(y_test, test_preds, ['nwf', 'wf'], normalize=True)"
   ]
  },
  {
   "cell_type": "code",
   "execution_count": 33,
   "metadata": {},
   "outputs": [
    {
     "data": {
      "text/plain": [
       "200"
      ]
     },
     "execution_count": 33,
     "metadata": {},
     "output_type": "execute_result"
    }
   ],
   "source": [
    "gc.collect()"
   ]
  },
  {
   "cell_type": "code",
   "execution_count": null,
   "metadata": {},
   "outputs": [],
   "source": []
  }
 ],
 "metadata": {
  "kernelspec": {
   "display_name": "Python 3",
   "language": "python",
   "name": "python3"
  },
  "language_info": {
   "codemirror_mode": {
    "name": "ipython",
    "version": 3
   },
   "file_extension": ".py",
   "mimetype": "text/x-python",
   "name": "python",
   "nbconvert_exporter": "python",
   "pygments_lexer": "ipython3",
   "version": "3.5.2"
  }
 },
 "nbformat": 4,
 "nbformat_minor": 2
}
