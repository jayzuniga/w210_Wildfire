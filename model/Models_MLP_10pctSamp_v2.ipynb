{
 "cells": [
  {
   "cell_type": "code",
   "execution_count": 1,
   "metadata": {},
   "outputs": [
    {
     "data": {
      "text/html": [
       "<style>.container { width:100% !important; }</style>"
      ],
      "text/plain": [
       "<IPython.core.display.HTML object>"
      ]
     },
     "metadata": {},
     "output_type": "display_data"
    }
   ],
   "source": [
    "# increase cell width\n",
    "from IPython.core.display import display, HTML\n",
    "display(HTML(\"<style>.container { width:100% !important; }</style>\"))"
   ]
  },
  {
   "cell_type": "code",
   "execution_count": 2,
   "metadata": {},
   "outputs": [],
   "source": [
    "import pandas as pd\n",
    "import numpy as np\n",
    "import gc\n",
    "import os\n",
    "import time"
   ]
  },
  {
   "cell_type": "code",
   "execution_count": 3,
   "metadata": {},
   "outputs": [],
   "source": [
    "import matplotlib.pyplot as plt\n",
    "%matplotlib inline"
   ]
  },
  {
   "cell_type": "code",
   "execution_count": 4,
   "metadata": {},
   "outputs": [],
   "source": [
    "from sklearn.preprocessing import MinMaxScaler\n",
    "from sklearn.metrics import confusion_matrix\n",
    "from sklearn.metrics import classification_report\n",
    "from sklearn.utils import class_weight"
   ]
  },
  {
   "cell_type": "code",
   "execution_count": 5,
   "metadata": {},
   "outputs": [],
   "source": [
    "import tensorflow as tf\n",
    "from tensorflow.python.keras import models\n",
    "from tensorflow.python.keras.layers import Dense, Activation, Dropout\n",
    "from tensorflow.python.keras import metrics\n",
    "\n",
    "from tensorflow.python.keras.layers import Conv1D\n",
    "from tensorflow.python.keras.layers import MaxPooling1D\n",
    "from tensorflow.python.keras.layers import GlobalAveragePooling1D\n",
    "from tensorflow.python.keras.layers import GlobalMaxPooling1D"
   ]
  },
  {
   "cell_type": "code",
   "execution_count": 6,
   "metadata": {},
   "outputs": [
    {
     "data": {
      "text/plain": [
       "(1169778, 163)"
      ]
     },
     "execution_count": 6,
     "metadata": {},
     "output_type": "execute_result"
    }
   ],
   "source": [
    "final_df = pd.read_csv('./consolidated_4_10pct_sample.csv')\n",
    "final_df.shape"
   ]
  },
  {
   "cell_type": "code",
   "execution_count": 7,
   "metadata": {},
   "outputs": [],
   "source": [
    "def split_train_test(data, features):\n",
    "    indexer = data[['s2_cell_id','measure_date']].copy()\n",
    "    train = data[data.measure_date < '2018-01-01'].copy()\n",
    "    test = data[data.measure_date >= '2018-01-01'].copy()\n",
    "    \n",
    "    y_train = train.wf_wildfire.copy().values\n",
    "    y_test = test.wf_wildfire.copy().values    \n",
    "    \n",
    "    train = train[features]\n",
    "    test = test[features]    \n",
    "    \n",
    "    test_ids = data[data.measure_date >= '2018-01-01'][['s2_cell_id', 'measure_date']]\n",
    "    \n",
    "    return train, test, y_train, y_test, test_ids"
   ]
  },
  {
   "cell_type": "code",
   "execution_count": 8,
   "metadata": {},
   "outputs": [],
   "source": [
    "def plot_confusion_matrix(y_true, y_pred, classes,\n",
    "                          normalize=False,\n",
    "                          cmap=plt.cm.Blues):\n",
    "    \"\"\"\n",
    "    Source: https://scikit-learn.org/stable/auto_examples/model_selection/plot_confusion_matrix.html#sphx-glr-auto-examples-model-selection-plot-confusion-matrix-py\n",
    "\n",
    "    Prints and plots the confusion matrix.\n",
    "\n",
    "    Args:\n",
    "        y_true: list of true target labels\n",
    "        y_pred: list of predicted target labels\n",
    "        classes: tuple of class labels in 0, 1 order\n",
    "\n",
    "    Kwargs:\n",
    "        normalize: bool, normalize confusion matrix or not\n",
    "        cmap: color map\n",
    "    \"\"\"\n",
    "\n",
    "    if normalize:\n",
    "        title = 'Normalized confusion matrix'\n",
    "    else:\n",
    "        title = 'Confusion matrix, without normalization'\n",
    "\n",
    "    # Compute confusion matrix\n",
    "    cm = confusion_matrix(y_true, y_pred)\n",
    "    print('Confusion matrix, without normalization')\n",
    "    print(cm)\n",
    "\n",
    "    print(classification_report(y_true, y_pred, target_names=classes))\n",
    "\n",
    "    if normalize:\n",
    "        cm = cm.astype('float') / cm.sum(axis=1)[:, np.newaxis]\n",
    "\n",
    "    fig, ax = plt.subplots()\n",
    "    im = ax.imshow(cm, interpolation='nearest', cmap=cmap)\n",
    "    ax.figure.colorbar(im, ax=ax)\n",
    "    # show all ticks...\n",
    "    ax.set(xticks=np.arange(cm.shape[1]),\n",
    "           yticks=np.arange(cm.shape[0]),\n",
    "           xticklabels=classes,\n",
    "           yticklabels=classes,\n",
    "           title=title,\n",
    "           ylabel='True label',\n",
    "           xlabel='Predicted label')\n",
    "\n",
    "    # rotate the tick labels and set their alignment.\n",
    "    plt.setp(ax.get_xticklabels(),\n",
    "             rotation=45,\n",
    "             ha=\"right\",\n",
    "             rotation_mode=\"anchor\")\n",
    "\n",
    "    # loop over data dimensions and create text annotations.\n",
    "    fmt = '.2f' if normalize else 'd'\n",
    "    thresh = cm.max() / 2.\n",
    "    for i in range(cm.shape[0]):\n",
    "        for j in range(cm.shape[1]):\n",
    "            ax.text(j, i, format(cm[i, j], fmt),\n",
    "                    ha=\"center\", va=\"center\",\n",
    "                    color=\"white\" if cm[i, j] > thresh else \"black\")\n",
    "    fig.tight_layout()\n",
    "    plt.show()\n",
    "    return ax"
   ]
  },
  {
   "cell_type": "code",
   "execution_count": 9,
   "metadata": {},
   "outputs": [],
   "source": [
    "def bin_prob(probs, y_test):\n",
    "    y_binned = np.digitize(probs, np.arange(0,1.1,0.1))\n",
    "    bin_df = pd.DataFrame(list(zip(y_test, probs, y_binned)), columns =['Actual', 'Prob', 'Bin'])\n",
    "    bin_df = bin_df.groupby('Bin').agg({'Actual': ['mean', 'sum', 'count'], 'Prob': 'mean'})\n",
    "    return bin_df"
   ]
  },
  {
   "cell_type": "code",
   "execution_count": 10,
   "metadata": {},
   "outputs": [],
   "source": [
    "class TimeHistory(tf.keras.callbacks.Callback):\n",
    "    \"\"\"\n",
    "    https://stackoverflow.com/questions/43178668/\n",
    "    record-the-computation-time-for-each-epoch-in-keras-during-model-fit\n",
    "    \"\"\"\n",
    "\n",
    "    def on_train_begin(self, logs={}):\n",
    "        self.times = []\n",
    "\n",
    "    def on_epoch_begin(self, epoch, logs={}):\n",
    "        self.epoch_time_start = time.time()\n",
    "\n",
    "    def on_epoch_end(self, epoch, logs={}):\n",
    "        self.times.append(time.time() - self.epoch_time_start)"
   ]
  },
  {
   "cell_type": "code",
   "execution_count": 11,
   "metadata": {},
   "outputs": [],
   "source": [
    "def mlp_model(layers, units, dropout_rate, input_shape, op_units, op_activation):\n",
    "    \"\"\"\n",
    "    Creates an instance of a multi-layer perceptron model.\n",
    "\n",
    "    Arguments\n",
    "      layers: int, number of `Dense` layers in the model.\n",
    "      units: int, output dimension of the layers.\n",
    "      dropout_rate: float, percentage of input to drop at Dropout layers.\n",
    "      input_shape: tuple, shape of input to the model.\n",
    "      op_units: number of output units (1 for binary target)\n",
    "      op_activation: activation function (sigmoid for binary target)\n",
    "\n",
    "    Returns\n",
    "      An MLP model instance.\n",
    "    \"\"\"\n",
    "\n",
    "    model = models.Sequential()\n",
    "    model.add(Dropout(rate=dropout_rate, input_shape=input_shape))\n",
    "\n",
    "    for _ in range(layers - 1):\n",
    "        model.add(Dense(units=units, activation='relu'))\n",
    "        model.add(Dropout(rate=dropout_rate))\n",
    "\n",
    "    model.add(Dense(units=op_units, activation=op_activation))\n",
    "\n",
    "    return model"
   ]
  },
  {
   "cell_type": "code",
   "execution_count": 12,
   "metadata": {},
   "outputs": [],
   "source": [
    "def train_model(data,\n",
    "                model_type='cnn',\n",
    "                learning_rate=1e-3,\n",
    "                epochs=1000,\n",
    "                batch_size=128,\n",
    "                blocks=2,\n",
    "                filters=64,\n",
    "                layers=2,\n",
    "                units=64,\n",
    "                dropout_rate=0.2,\n",
    "                kernel_size=3,\n",
    "                pool_size=3,\n",
    "                num_classes=2,\n",
    "                class_weights={0:1.,1:1.}):\n",
    "    \"\"\"\n",
    "    Trains sequence model on the given dataset.\n",
    "\n",
    "    Args:\n",
    "      data: tuples of vectorized training and test texts and labels.\n",
    "      log_dir: directory to write logs to\n",
    "\n",
    "    Kwargs:\n",
    "      model_type: str, type of model to train\n",
    "      word_index: word_index if applicable\n",
    "      learning_rate: float, learning rate for training model.\n",
    "      epochs: int, number of epochs.\n",
    "      batch_size: int, number of samples per batch.\n",
    "      blocks: int, number of pairs of sepCNN and pooling blocks in the model.\n",
    "      filters: int, output dimension of sepCNN layers in the model.\n",
    "      dropout_rate: float: percentage of input to drop at Dropout layers.\n",
    "      embedding_dim: int, dimension of the embedding vectors.\n",
    "      kernel_size: int, length of the convolution window.\n",
    "      pool_size: int, factor by which to downscale input at MaxPooling layer.\n",
    "      max_num_words: int, max number of features to use\n",
    "      num_classes: int, number of classes in the target variable\n",
    "      use_pretrained_embedding: bool, use pretrained embeddings or no\n",
    "      is_embedding_trainable: bool, train embeddings or no\n",
    "      use_word_embedding: bool, False if sentence encodding is used\n",
    "      glove_dir: directory with glove embeddings if applicable\n",
    "    \"\"\"\n",
    "\n",
    "    # Get the data.\n",
    "    x_train, train_labels, x_val, val_labels = data\n",
    "\n",
    "    if num_classes == 2:\n",
    "        op_units, op_activation = 1, 'sigmoid'\n",
    "    else:\n",
    "        op_units, op_activation = num_classes, 'softmax'\n",
    "\n",
    "    # Create model instance.\n",
    "    if model_type == 'cnn':\n",
    "        model = cnn_model(filters=filters,\n",
    "                          kernel_size=kernel_size,\n",
    "                          layers=layers,\n",
    "                          dropout_rate=dropout_rate,\n",
    "                          pool_size=pool_size,\n",
    "                          input_shape=x_train.shape[1:],\n",
    "                          op_units=op_units,\n",
    "                          op_activation=op_activation)\n",
    "    elif model_type == 'mlp':\n",
    "        model = mlp_model(layers=layers,\n",
    "                          units=units,\n",
    "                          dropout_rate=dropout_rate,\n",
    "                          input_shape=x_train.shape[1:],\n",
    "                          op_units=op_units,\n",
    "                          op_activation=op_activation)\n",
    "\n",
    "    # Compile model with learning parameters.\n",
    "    optimizer = tf.keras.optimizers.Adam(lr=learning_rate)\n",
    "#     optimizer = tf.keras.optimizers.RMSprop(lr=learning_rate) - didn't work (too many false negatives)\n",
    "#     optimizer = tf.keras.optimizers.SGD(lr=learning_rate) - similar performance to Adam\n",
    "#     optimizer = tf.keras.optimizers.Adagrad(lr=learning_rate) - didn't work (too many false positives)\n",
    "    model.compile(optimizer=optimizer,\n",
    "                loss='binary_crossentropy',\n",
    "                metrics=[metrics.Recall()])\n",
    "\n",
    "    # Create callback for early stopping on validation loss. If the loss does\n",
    "    # not decrease in two consecutive tries, stop training.\n",
    "    callbacks = [\n",
    "#           tf.keras.callbacks.EarlyStopping(monitor='val_loss',\n",
    "#                                            patience=2),\n",
    "          TimeHistory()]\n",
    "\n",
    "    # Train and validate model.\n",
    "    history = model.fit(\n",
    "      x_train,\n",
    "      train_labels,\n",
    "      epochs=epochs,\n",
    "      callbacks=callbacks,\n",
    "      validation_data=(x_val, val_labels),\n",
    "      verbose=2,  # Logs once per epoch.\n",
    "      batch_size=batch_size,\n",
    "      class_weight=class_weights)\n",
    "\n",
    "    train_pred_probs = model.predict(x_train)\n",
    "    val_pred_probs = model.predict(x_val)\n",
    "\n",
    "    return history.history, model, train_pred_probs, val_pred_probs"
   ]
  },
  {
   "cell_type": "code",
   "execution_count": 13,
   "metadata": {},
   "outputs": [],
   "source": [
    "scaler = MinMaxScaler()"
   ]
  },
  {
   "cell_type": "markdown",
   "metadata": {},
   "source": [
    "## Optimizer: Adam; Features: - precipitation"
   ]
  },
  {
   "cell_type": "code",
   "execution_count": 14,
   "metadata": {},
   "outputs": [],
   "source": [
    "tl_features = [\n",
    "    'tl_object_id',\n",
    "    'tl_kv_sort_sum'\n",
    "]\n",
    "\n",
    "wf_features = [\n",
    "    'wf_count_1yr_ago',\n",
    "    'wf_count_2yr_ago',\n",
    "    'wf_count_3yr_ago',\n",
    "    'wf_count_4yr_ago',\n",
    "    'wf_count_5yr_ago'\n",
    "]\n",
    "\n",
    "sat_features = [\n",
    " 'sat_faparval_min',\n",
    " 'sat_faparval_max',\n",
    " 'sat_faparval_mean',\n",
    "#  'sat_faparval_median',\n",
    " 'sat_faparval_std',\n",
    " 'sat_faparval_size',\n",
    " 'sat_faparval_count',\n",
    " 'sat_faparval',\n",
    " 'sat_faparmask_min',\n",
    " 'sat_faparmask_max',\n",
    " 'sat_faparmask_mean',\n",
    "#  'sat_faparmask_median',\n",
    " 'sat_faparmask_std',\n",
    " 'sat_faparmask_size'\n",
    "]\n",
    "\n",
    "wea_features = [\n",
    " 'wea_air_temp_max',\n",
    " 'wea_air_temp_mean',\n",
    "#  'wea_precip_accum_max',\n",
    " 'relative_humidity_max',\n",
    " 'relative_humidity_min',\n",
    " 'relative_humidity_mean',\n",
    " 'wea_wind_speed_max',\n",
    " 'wea_wind_speed_min',\n",
    " 'wea_wind_speed_mean',\n",
    " 'wind_gust_max',\n",
    " 'wea_air_temp_mean_ma7',\n",
    "#  'wea_precip_accum_max_ma7',\n",
    " 'relative_humidity_mean_ma7',\n",
    " 'wea_air_temp_mean_l1',\n",
    "#  'wea_precip_accum_max_l1',\n",
    " 'relative_humidity_mean_l1'\n",
    "]\n",
    "\n",
    "new_features = [\n",
    " 'fuel_percent_ma7',\n",
    " 'fuel_percent_ma30',\n",
    " 'fuel_percent_l1',\n",
    " 'wea_air_temp_mean_ma30',\n",
    "#  'wea_precip_accum_max_ma30',\n",
    " 'relative_humidity_mean_ma30'\n",
    "]"
   ]
  },
  {
   "cell_type": "code",
   "execution_count": 26,
   "metadata": {},
   "outputs": [],
   "source": [
    "gc.collect()\n",
    "feature_cols = wea_features + tl_features + sat_features + ['fuel_percent'] + new_features\n",
    "train, test, y_train, y_test, test_ids = split_train_test(final_df, feature_cols)"
   ]
  },
  {
   "cell_type": "code",
   "execution_count": 27,
   "metadata": {},
   "outputs": [
    {
     "data": {
      "text/plain": [
       "((780816, 33), (388962, 33))"
      ]
     },
     "execution_count": 27,
     "metadata": {},
     "output_type": "execute_result"
    }
   ],
   "source": [
    "train.shape, test.shape"
   ]
  },
  {
   "cell_type": "code",
   "execution_count": 17,
   "metadata": {},
   "outputs": [
    {
     "data": {
      "text/plain": [
       "array([  0.50156157, 160.59563965])"
      ]
     },
     "execution_count": 17,
     "metadata": {},
     "output_type": "execute_result"
    }
   ],
   "source": [
    "cw = class_weight.compute_class_weight('balanced', np.unique(y_train), y_train)\n",
    "cw"
   ]
  },
  {
   "cell_type": "code",
   "execution_count": 28,
   "metadata": {},
   "outputs": [
    {
     "name": "stderr",
     "output_type": "stream",
     "text": [
      "/usr/local/lib/python3.5/dist-packages/sklearn/preprocessing/data.py:334: DataConversionWarning: Data with input dtype bool, int64, float64 were all converted to float64 by MinMaxScaler.\n",
      "  return self.partial_fit(X, y)\n"
     ]
    }
   ],
   "source": [
    "train_sc = scaler.fit_transform(train)\n",
    "test_sc = scaler.transform(test)"
   ]
  },
  {
   "cell_type": "code",
   "execution_count": 29,
   "metadata": {},
   "outputs": [],
   "source": [
    "model_params = {\n",
    "    'model_type': 'mlp',\n",
    "    'learning_rate': 1e-3,\n",
    "    'epochs': 20,\n",
    "    'batch_size': 128,\n",
    "    'layers': 2,\n",
    "    'units': 64,\n",
    "    'dropout_rate': 0.2,\n",
    "    'class_weights': {0: 1., 1: 2000.}\n",
    "}"
   ]
  },
  {
   "cell_type": "code",
   "execution_count": 30,
   "metadata": {},
   "outputs": [
    {
     "name": "stdout",
     "output_type": "stream",
     "text": [
      "Train on 780816 samples, validate on 388962 samples\n",
      "Epoch 1/20\n",
      " - 9s - loss: 0.5663 - recall_1: 0.1172 - val_loss: 0.3803 - val_recall_1: 0.1562\n",
      "Epoch 2/20\n",
      " - 9s - loss: 0.5529 - recall_1: 0.2049 - val_loss: 0.4720 - val_recall_1: 0.5056\n",
      "Epoch 3/20\n",
      " - 10s - loss: 0.5471 - recall_1: 0.2501 - val_loss: 0.4400 - val_recall_1: 0.3535\n",
      "Epoch 4/20\n",
      " - 10s - loss: 0.5400 - recall_1: 0.2653 - val_loss: 0.4190 - val_recall_1: 0.3205\n",
      "Epoch 5/20\n",
      " - 9s - loss: 0.5374 - recall_1: 0.3406 - val_loss: 0.4756 - val_recall_1: 0.5531\n",
      "Epoch 6/20\n",
      " - 9s - loss: 0.5363 - recall_1: 0.3007 - val_loss: 0.4843 - val_recall_1: 0.6055\n",
      "Epoch 7/20\n",
      " - 9s - loss: 0.5304 - recall_1: 0.3270 - val_loss: 0.4926 - val_recall_1: 0.6707\n",
      "Epoch 8/20\n",
      " - 9s - loss: 0.5328 - recall_1: 0.3427 - val_loss: 0.4446 - val_recall_1: 0.5556\n",
      "Epoch 9/20\n",
      " - 9s - loss: 0.5320 - recall_1: 0.3414 - val_loss: 0.3995 - val_recall_1: 0.3671\n",
      "Epoch 10/20\n",
      " - 9s - loss: 0.5316 - recall_1: 0.3311 - val_loss: 0.4812 - val_recall_1: 0.6248\n",
      "Epoch 11/20\n",
      " - 9s - loss: 0.5264 - recall_1: 0.3883 - val_loss: 0.4554 - val_recall_1: 0.6159\n",
      "Epoch 12/20\n",
      " - 9s - loss: 0.5253 - recall_1: 0.3624 - val_loss: 0.4746 - val_recall_1: 0.6981\n",
      "Epoch 13/20\n",
      " - 9s - loss: 0.5235 - recall_1: 0.3739 - val_loss: 0.4660 - val_recall_1: 0.5338\n",
      "Epoch 14/20\n",
      " - 9s - loss: 0.5245 - recall_1: 0.3743 - val_loss: 0.4911 - val_recall_1: 0.6932\n",
      "Epoch 15/20\n",
      " - 9s - loss: 0.5285 - recall_1: 0.4023 - val_loss: 0.4617 - val_recall_1: 0.6433\n",
      "Epoch 16/20\n",
      " - 9s - loss: 0.5218 - recall_1: 0.3616 - val_loss: 0.5467 - val_recall_1: 0.7939\n",
      "Epoch 17/20\n",
      " - 9s - loss: 0.5205 - recall_1: 0.3830 - val_loss: 0.3981 - val_recall_1: 0.4758\n",
      "Epoch 18/20\n",
      " - 9s - loss: 0.5212 - recall_1: 0.3937 - val_loss: 0.4765 - val_recall_1: 0.6337\n",
      "Epoch 19/20\n",
      " - 9s - loss: 0.5171 - recall_1: 0.3891 - val_loss: 0.4433 - val_recall_1: 0.5403\n",
      "Epoch 20/20\n",
      " - 9s - loss: 0.5227 - recall_1: 0.3764 - val_loss: 0.5303 - val_recall_1: 0.7053\n"
     ]
    }
   ],
   "source": [
    "gc.collect()\n",
    "history, model_mlp, train_pred_probs, test_pred_probs = train_model((train_sc, y_train, test_sc, y_test), **model_params)"
   ]
  },
  {
   "cell_type": "code",
   "execution_count": 36,
   "metadata": {},
   "outputs": [],
   "source": [
    "model_mlp.save('./Models/mlp_adam_noprecip_cw2000.h5')"
   ]
  },
  {
   "cell_type": "code",
   "execution_count": 56,
   "metadata": {},
   "outputs": [
    {
     "data": {
      "text/plain": [
       "<tensorflow.python.keras.engine.sequential.Sequential at 0x7efde76f94a8>"
      ]
     },
     "execution_count": 56,
     "metadata": {},
     "output_type": "execute_result"
    }
   ],
   "source": [
    "model_mlp"
   ]
  },
  {
   "cell_type": "code",
   "execution_count": 31,
   "metadata": {},
   "outputs": [
    {
     "data": {
      "text/html": [
       "<div>\n",
       "<style scoped>\n",
       "    .dataframe tbody tr th:only-of-type {\n",
       "        vertical-align: middle;\n",
       "    }\n",
       "\n",
       "    .dataframe tbody tr th {\n",
       "        vertical-align: top;\n",
       "    }\n",
       "\n",
       "    .dataframe thead tr th {\n",
       "        text-align: left;\n",
       "    }\n",
       "\n",
       "    .dataframe thead tr:last-of-type th {\n",
       "        text-align: right;\n",
       "    }\n",
       "</style>\n",
       "<table border=\"1\" class=\"dataframe\">\n",
       "  <thead>\n",
       "    <tr>\n",
       "      <th></th>\n",
       "      <th colspan=\"3\" halign=\"left\">Actual</th>\n",
       "      <th>Prob</th>\n",
       "    </tr>\n",
       "    <tr>\n",
       "      <th></th>\n",
       "      <th>mean</th>\n",
       "      <th>sum</th>\n",
       "      <th>count</th>\n",
       "      <th>mean</th>\n",
       "    </tr>\n",
       "    <tr>\n",
       "      <th>Bin</th>\n",
       "      <th></th>\n",
       "      <th></th>\n",
       "      <th></th>\n",
       "      <th></th>\n",
       "    </tr>\n",
       "  </thead>\n",
       "  <tbody>\n",
       "    <tr>\n",
       "      <th>1</th>\n",
       "      <td>0.000000</td>\n",
       "      <td>0.0</td>\n",
       "      <td>21975</td>\n",
       "      <td>0.043555</td>\n",
       "    </tr>\n",
       "    <tr>\n",
       "      <th>2</th>\n",
       "      <td>0.000237</td>\n",
       "      <td>8.0</td>\n",
       "      <td>33768</td>\n",
       "      <td>0.155113</td>\n",
       "    </tr>\n",
       "    <tr>\n",
       "      <th>3</th>\n",
       "      <td>0.000266</td>\n",
       "      <td>14.0</td>\n",
       "      <td>52631</td>\n",
       "      <td>0.251570</td>\n",
       "    </tr>\n",
       "    <tr>\n",
       "      <th>4</th>\n",
       "      <td>0.000782</td>\n",
       "      <td>48.0</td>\n",
       "      <td>61379</td>\n",
       "      <td>0.351754</td>\n",
       "    </tr>\n",
       "    <tr>\n",
       "      <th>5</th>\n",
       "      <td>0.003214</td>\n",
       "      <td>296.0</td>\n",
       "      <td>92110</td>\n",
       "      <td>0.455343</td>\n",
       "    </tr>\n",
       "    <tr>\n",
       "      <th>6</th>\n",
       "      <td>0.006379</td>\n",
       "      <td>744.0</td>\n",
       "      <td>116631</td>\n",
       "      <td>0.540164</td>\n",
       "    </tr>\n",
       "    <tr>\n",
       "      <th>7</th>\n",
       "      <td>0.013222</td>\n",
       "      <td>128.0</td>\n",
       "      <td>9681</td>\n",
       "      <td>0.633043</td>\n",
       "    </tr>\n",
       "    <tr>\n",
       "      <th>8</th>\n",
       "      <td>0.005229</td>\n",
       "      <td>4.0</td>\n",
       "      <td>765</td>\n",
       "      <td>0.726134</td>\n",
       "    </tr>\n",
       "    <tr>\n",
       "      <th>9</th>\n",
       "      <td>0.000000</td>\n",
       "      <td>0.0</td>\n",
       "      <td>5</td>\n",
       "      <td>0.819805</td>\n",
       "    </tr>\n",
       "    <tr>\n",
       "      <th>10</th>\n",
       "      <td>0.000000</td>\n",
       "      <td>0.0</td>\n",
       "      <td>17</td>\n",
       "      <td>0.994023</td>\n",
       "    </tr>\n",
       "  </tbody>\n",
       "</table>\n",
       "</div>"
      ],
      "text/plain": [
       "       Actual                     Prob\n",
       "         mean    sum   count      mean\n",
       "Bin                                   \n",
       "1    0.000000    0.0   21975  0.043555\n",
       "2    0.000237    8.0   33768  0.155113\n",
       "3    0.000266   14.0   52631  0.251570\n",
       "4    0.000782   48.0   61379  0.351754\n",
       "5    0.003214  296.0   92110  0.455343\n",
       "6    0.006379  744.0  116631  0.540164\n",
       "7    0.013222  128.0    9681  0.633043\n",
       "8    0.005229    4.0     765  0.726134\n",
       "9    0.000000    0.0       5  0.819805\n",
       "10   0.000000    0.0      17  0.994023"
      ]
     },
     "execution_count": 31,
     "metadata": {},
     "output_type": "execute_result"
    }
   ],
   "source": [
    "bin_prob(test_pred_probs[:,0], y_test)"
   ]
  },
  {
   "cell_type": "code",
   "execution_count": 34,
   "metadata": {},
   "outputs": [
    {
     "data": {
      "text/plain": [
       "127099"
      ]
     },
     "execution_count": 34,
     "metadata": {},
     "output_type": "execute_result"
    }
   ],
   "source": [
    "test_preds = test_pred_probs[:,0]>0.5\n",
    "test_preds.sum()"
   ]
  },
  {
   "cell_type": "code",
   "execution_count": 35,
   "metadata": {},
   "outputs": [
    {
     "name": "stdout",
     "output_type": "stream",
     "text": [
      "Confusion matrix, without normalization\n",
      "[[261497 126223]\n",
      " [   366    876]]\n",
      "              precision    recall  f1-score   support\n",
      "\n",
      "         nwf       1.00      0.67      0.81    387720\n",
      "          wf       0.01      0.71      0.01      1242\n",
      "\n",
      "   micro avg       0.67      0.67      0.67    388962\n",
      "   macro avg       0.50      0.69      0.41    388962\n",
      "weighted avg       1.00      0.67      0.80    388962\n",
      "\n"
     ]
    },
    {
     "data": {
      "image/png": "[encoded data removed]",
      "text/plain": [
       "<Figure size 432x288 with 2 Axes>"
      ]
     },
     "metadata": {
      "needs_background": "light"
     },
     "output_type": "display_data"
    },
    {
     "data": {
      "text/plain": [
       "<matplotlib.axes._subplots.AxesSubplot at 0x7efea7e1d7f0>"
      ]
     },
     "execution_count": 35,
     "metadata": {},
     "output_type": "execute_result"
    }
   ],
   "source": [
    "plot_confusion_matrix(y_test, test_preds, ['nwf', 'wf'], normalize=True)"
   ]
  },
  {
   "cell_type": "markdown",
   "metadata": {},
   "source": [
    "## Optimizer: Adam; Features: + precipitation"
   ]
  },
  {
   "cell_type": "code",
   "execution_count": 43,
   "metadata": {},
   "outputs": [],
   "source": [
    "tl_features = [\n",
    "    'tl_object_id',\n",
    "    'tl_kv_sort_sum'\n",
    "]\n",
    "\n",
    "wf_features = [\n",
    "    'wf_count_1yr_ago',\n",
    "    'wf_count_2yr_ago',\n",
    "    'wf_count_3yr_ago',\n",
    "    'wf_count_4yr_ago',\n",
    "    'wf_count_5yr_ago'\n",
    "]\n",
    "\n",
    "sat_features = [\n",
    " 'sat_faparval_min',\n",
    " 'sat_faparval_max',\n",
    " 'sat_faparval_mean',\n",
    "#  'sat_faparval_median',\n",
    " 'sat_faparval_std',\n",
    " 'sat_faparval_size',\n",
    " 'sat_faparval_count',\n",
    " 'sat_faparval',\n",
    " 'sat_faparmask_min',\n",
    " 'sat_faparmask_max',\n",
    " 'sat_faparmask_mean',\n",
    "#  'sat_faparmask_median',\n",
    " 'sat_faparmask_std',\n",
    " 'sat_faparmask_size'\n",
    "]\n",
    "\n",
    "wea_features = [\n",
    " 'wea_air_temp_max',\n",
    " 'wea_air_temp_mean',\n",
    " 'wea_precip_accum_max',\n",
    " 'relative_humidity_max',\n",
    " 'relative_humidity_min',\n",
    " 'relative_humidity_mean',\n",
    " 'wea_wind_speed_max',\n",
    " 'wea_wind_speed_min',\n",
    " 'wea_wind_speed_mean',\n",
    " 'wind_gust_max',\n",
    " 'wea_air_temp_mean_ma7',\n",
    " 'wea_precip_accum_max_ma7',\n",
    " 'relative_humidity_mean_ma7',\n",
    " 'wea_air_temp_mean_l1',\n",
    " 'wea_precip_accum_max_l1',\n",
    " 'relative_humidity_mean_l1'\n",
    "]\n",
    "\n",
    "new_features = [\n",
    " 'fuel_percent_ma7',\n",
    " 'fuel_percent_ma30',\n",
    " 'fuel_percent_l1',\n",
    " 'wea_air_temp_mean_ma30',\n",
    " 'wea_precip_accum_max_ma30',\n",
    " 'relative_humidity_mean_ma30'\n",
    "]"
   ]
  },
  {
   "cell_type": "code",
   "execution_count": 44,
   "metadata": {},
   "outputs": [
    {
     "name": "stderr",
     "output_type": "stream",
     "text": [
      "/usr/local/lib/python3.5/dist-packages/sklearn/preprocessing/data.py:334: DataConversionWarning: Data with input dtype bool, int64, float64 were all converted to float64 by MinMaxScaler.\n",
      "  return self.partial_fit(X, y)\n"
     ]
    }
   ],
   "source": [
    "gc.collect()\n",
    "feature_cols = wea_features + tl_features + sat_features + ['fuel_percent'] + new_features\n",
    "train, test, y_train, y_test, test_ids = split_train_test(final_df, feature_cols)\n",
    "\n",
    "train_sc = scaler.fit_transform(train)\n",
    "test_sc = scaler.transform(test)"
   ]
  },
  {
   "cell_type": "code",
   "execution_count": 46,
   "metadata": {},
   "outputs": [],
   "source": [
    "model_params = {\n",
    "    'model_type': 'mlp',\n",
    "    'learning_rate': 0.001,\n",
    "    'epochs': 20,\n",
    "    'batch_size': 128,\n",
    "    'layers': 2,\n",
    "    'units': 64,\n",
    "    'dropout_rate': 0.2,\n",
    "    'class_weights': {0: 1., 1: 2000.}\n",
    "}"
   ]
  },
  {
   "cell_type": "code",
   "execution_count": 47,
   "metadata": {},
   "outputs": [
    {
     "name": "stdout",
     "output_type": "stream",
     "text": [
      "Train on 780816 samples, validate on 388962 samples\n",
      "Epoch 1/20\n",
      " - 11s - loss: 0.5622 - recall_3: 0.1547 - val_loss: 0.5223 - val_recall_3: 0.6232\n",
      "Epoch 2/20\n",
      " - 10s - loss: 0.5461 - recall_3: 0.1929 - val_loss: 0.4177 - val_recall_3: 0.3253\n",
      "Epoch 3/20\n",
      " - 10s - loss: 0.5458 - recall_3: 0.2480 - val_loss: 0.2950 - val_recall_3: 0.0298\n",
      "Epoch 4/20\n",
      " - 9s - loss: 0.5387 - recall_3: 0.2912 - val_loss: 0.4209 - val_recall_3: 0.3849\n",
      "Epoch 5/20\n",
      " - 9s - loss: 0.5379 - recall_3: 0.2995 - val_loss: 0.5510 - val_recall_3: 0.7641\n",
      "Epoch 6/20\n",
      " - 9s - loss: 0.5356 - recall_3: 0.3348 - val_loss: 0.4847 - val_recall_3: 0.6135\n",
      "Epoch 7/20\n",
      " - 10s - loss: 0.5308 - recall_3: 0.3287 - val_loss: 0.4944 - val_recall_3: 0.6610\n",
      "Epoch 8/20\n",
      " - 10s - loss: 0.5288 - recall_3: 0.3616 - val_loss: 0.4465 - val_recall_3: 0.4750\n",
      "Epoch 9/20\n",
      " - 10s - loss: 0.5237 - recall_3: 0.3497 - val_loss: 0.4704 - val_recall_3: 0.5725\n",
      "Epoch 10/20\n",
      " - 10s - loss: 0.5249 - recall_3: 0.3575 - val_loss: 0.5370 - val_recall_3: 0.7770\n",
      "Epoch 11/20\n",
      " - 10s - loss: 0.5252 - recall_3: 0.3566 - val_loss: 0.4868 - val_recall_3: 0.6779\n",
      "Epoch 12/20\n",
      " - 11s - loss: 0.5248 - recall_3: 0.3842 - val_loss: 0.4432 - val_recall_3: 0.6506\n",
      "Epoch 13/20\n",
      " - 10s - loss: 0.5225 - recall_3: 0.3838 - val_loss: 0.4709 - val_recall_3: 0.6481\n",
      "Epoch 14/20\n",
      " - 10s - loss: 0.5258 - recall_3: 0.3731 - val_loss: 0.4744 - val_recall_3: 0.6417\n",
      "Epoch 15/20\n",
      " - 10s - loss: 0.5200 - recall_3: 0.3789 - val_loss: 0.5079 - val_recall_3: 0.6844\n",
      "Epoch 16/20\n",
      " - 10s - loss: 0.5196 - recall_3: 0.3776 - val_loss: 0.5201 - val_recall_3: 0.7729\n",
      "Epoch 17/20\n",
      " - 10s - loss: 0.5141 - recall_3: 0.3883 - val_loss: 0.5497 - val_recall_3: 0.7568\n",
      "Epoch 18/20\n",
      " - 10s - loss: 0.5148 - recall_3: 0.3970 - val_loss: 0.4796 - val_recall_3: 0.6377\n",
      "Epoch 19/20\n",
      " - 10s - loss: 0.5163 - recall_3: 0.4031 - val_loss: 0.4591 - val_recall_3: 0.6264\n",
      "Epoch 20/20\n",
      " - 10s - loss: 0.5175 - recall_3: 0.3916 - val_loss: 0.5200 - val_recall_3: 0.7238\n"
     ]
    }
   ],
   "source": [
    "gc.collect()\n",
    "history, model_mlp, train_pred_probs, test_pred_probs = train_model((train_sc, y_train, test_sc, y_test), **model_params)"
   ]
  },
  {
   "cell_type": "code",
   "execution_count": 51,
   "metadata": {},
   "outputs": [],
   "source": [
    "model_mlp.save('./Models/mlp_adam_precip_cw2000.h5')"
   ]
  },
  {
   "cell_type": "code",
   "execution_count": 48,
   "metadata": {},
   "outputs": [
    {
     "data": {
      "text/html": [
       "<div>\n",
       "<style scoped>\n",
       "    .dataframe tbody tr th:only-of-type {\n",
       "        vertical-align: middle;\n",
       "    }\n",
       "\n",
       "    .dataframe tbody tr th {\n",
       "        vertical-align: top;\n",
       "    }\n",
       "\n",
       "    .dataframe thead tr th {\n",
       "        text-align: left;\n",
       "    }\n",
       "\n",
       "    .dataframe thead tr:last-of-type th {\n",
       "        text-align: right;\n",
       "    }\n",
       "</style>\n",
       "<table border=\"1\" class=\"dataframe\">\n",
       "  <thead>\n",
       "    <tr>\n",
       "      <th></th>\n",
       "      <th colspan=\"3\" halign=\"left\">Actual</th>\n",
       "      <th>Prob</th>\n",
       "    </tr>\n",
       "    <tr>\n",
       "      <th></th>\n",
       "      <th>mean</th>\n",
       "      <th>sum</th>\n",
       "      <th>count</th>\n",
       "      <th>mean</th>\n",
       "    </tr>\n",
       "    <tr>\n",
       "      <th>Bin</th>\n",
       "      <th></th>\n",
       "      <th></th>\n",
       "      <th></th>\n",
       "      <th></th>\n",
       "    </tr>\n",
       "  </thead>\n",
       "  <tbody>\n",
       "    <tr>\n",
       "      <th>1</th>\n",
       "      <td>0.000188</td>\n",
       "      <td>5.0</td>\n",
       "      <td>26585</td>\n",
       "      <td>0.046102</td>\n",
       "    </tr>\n",
       "    <tr>\n",
       "      <th>2</th>\n",
       "      <td>0.000205</td>\n",
       "      <td>8.0</td>\n",
       "      <td>38968</td>\n",
       "      <td>0.155045</td>\n",
       "    </tr>\n",
       "    <tr>\n",
       "      <th>3</th>\n",
       "      <td>0.000305</td>\n",
       "      <td>16.0</td>\n",
       "      <td>52543</td>\n",
       "      <td>0.251285</td>\n",
       "    </tr>\n",
       "    <tr>\n",
       "      <th>4</th>\n",
       "      <td>0.001126</td>\n",
       "      <td>71.0</td>\n",
       "      <td>63031</td>\n",
       "      <td>0.352163</td>\n",
       "    </tr>\n",
       "    <tr>\n",
       "      <th>5</th>\n",
       "      <td>0.002665</td>\n",
       "      <td>243.0</td>\n",
       "      <td>91175</td>\n",
       "      <td>0.453981</td>\n",
       "    </tr>\n",
       "    <tr>\n",
       "      <th>6</th>\n",
       "      <td>0.007460</td>\n",
       "      <td>797.0</td>\n",
       "      <td>106839</td>\n",
       "      <td>0.542620</td>\n",
       "    </tr>\n",
       "    <tr>\n",
       "      <th>7</th>\n",
       "      <td>0.011011</td>\n",
       "      <td>94.0</td>\n",
       "      <td>8537</td>\n",
       "      <td>0.629201</td>\n",
       "    </tr>\n",
       "    <tr>\n",
       "      <th>8</th>\n",
       "      <td>0.009485</td>\n",
       "      <td>7.0</td>\n",
       "      <td>738</td>\n",
       "      <td>0.730117</td>\n",
       "    </tr>\n",
       "    <tr>\n",
       "      <th>9</th>\n",
       "      <td>0.008197</td>\n",
       "      <td>1.0</td>\n",
       "      <td>122</td>\n",
       "      <td>0.852240</td>\n",
       "    </tr>\n",
       "    <tr>\n",
       "      <th>10</th>\n",
       "      <td>0.000000</td>\n",
       "      <td>0.0</td>\n",
       "      <td>334</td>\n",
       "      <td>0.971275</td>\n",
       "    </tr>\n",
       "    <tr>\n",
       "      <th>11</th>\n",
       "      <td>0.000000</td>\n",
       "      <td>0.0</td>\n",
       "      <td>90</td>\n",
       "      <td>1.000000</td>\n",
       "    </tr>\n",
       "  </tbody>\n",
       "</table>\n",
       "</div>"
      ],
      "text/plain": [
       "       Actual                     Prob\n",
       "         mean    sum   count      mean\n",
       "Bin                                   \n",
       "1    0.000188    5.0   26585  0.046102\n",
       "2    0.000205    8.0   38968  0.155045\n",
       "3    0.000305   16.0   52543  0.251285\n",
       "4    0.001126   71.0   63031  0.352163\n",
       "5    0.002665  243.0   91175  0.453981\n",
       "6    0.007460  797.0  106839  0.542620\n",
       "7    0.011011   94.0    8537  0.629201\n",
       "8    0.009485    7.0     738  0.730117\n",
       "9    0.008197    1.0     122  0.852240\n",
       "10   0.000000    0.0     334  0.971275\n",
       "11   0.000000    0.0      90  1.000000"
      ]
     },
     "execution_count": 48,
     "metadata": {},
     "output_type": "execute_result"
    }
   ],
   "source": [
    "bin_prob(test_pred_probs[:,0], y_test)"
   ]
  },
  {
   "cell_type": "code",
   "execution_count": 49,
   "metadata": {},
   "outputs": [
    {
     "data": {
      "text/plain": [
       "116660"
      ]
     },
     "execution_count": 49,
     "metadata": {},
     "output_type": "execute_result"
    }
   ],
   "source": [
    "test_preds = test_pred_probs[:,0]>0.5\n",
    "test_preds.sum()"
   ]
  },
  {
   "cell_type": "code",
   "execution_count": 50,
   "metadata": {},
   "outputs": [
    {
     "name": "stdout",
     "output_type": "stream",
     "text": [
      "Confusion matrix, without normalization\n",
      "[[271959 115761]\n",
      " [   343    899]]\n",
      "              precision    recall  f1-score   support\n",
      "\n",
      "         nwf       1.00      0.70      0.82    387720\n",
      "          wf       0.01      0.72      0.02      1242\n",
      "\n",
      "   micro avg       0.70      0.70      0.70    388962\n",
      "   macro avg       0.50      0.71      0.42    388962\n",
      "weighted avg       1.00      0.70      0.82    388962\n",
      "\n"
     ]
    },
    {
     "data": {
      "image/png": "[encoded data removed]",
      "text/plain": [
       "<Figure size 432x288 with 2 Axes>"
      ]
     },
     "metadata": {
      "needs_background": "light"
     },
     "output_type": "display_data"
    },
    {
     "data": {
      "text/plain": [
       "<matplotlib.axes._subplots.AxesSubplot at 0x7efe2015e550>"
      ]
     },
     "execution_count": 50,
     "metadata": {},
     "output_type": "execute_result"
    }
   ],
   "source": [
    "plot_confusion_matrix(y_test, test_preds, ['nwf', 'wf'], normalize=True)"
   ]
  },
  {
   "cell_type": "code",
   "execution_count": null,
   "metadata": {},
   "outputs": [],
   "source": []
  }
 ],
 "metadata": {
  "kernelspec": {
   "display_name": "Python 3",
   "language": "python",
   "name": "python3"
  },
  "language_info": {
   "codemirror_mode": {
    "name": "ipython",
    "version": 3
   },
   "file_extension": ".py",
   "mimetype": "text/x-python",
   "name": "python",
   "nbconvert_exporter": "python",
   "pygments_lexer": "ipython3",
   "version": "3.5.2"
  }
 },
 "nbformat": 4,
 "nbformat_minor": 2
}
