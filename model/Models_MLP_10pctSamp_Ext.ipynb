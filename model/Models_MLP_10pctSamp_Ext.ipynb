{
 "cells": [
  {
   "cell_type": "code",
   "execution_count": 1,
   "metadata": {},
   "outputs": [
    {
     "data": {
      "text/html": [
       "<style>.container { width:100% !important; }</style>"
      ],
      "text/plain": [
       "<IPython.core.display.HTML object>"
      ]
     },
     "metadata": {},
     "output_type": "display_data"
    }
   ],
   "source": [
    "# increase cell width\n",
    "from IPython.core.display import display, HTML\n",
    "display(HTML(\"<style>.container { width:100% !important; }</style>\"))"
   ]
  },
  {
   "cell_type": "code",
   "execution_count": 2,
   "metadata": {},
   "outputs": [],
   "source": [
    "import pandas as pd\n",
    "import numpy as np\n",
    "import gc\n",
    "import os\n",
    "import time\n",
    "import pickle"
   ]
  },
  {
   "cell_type": "code",
   "execution_count": 3,
   "metadata": {},
   "outputs": [],
   "source": [
    "import matplotlib.pyplot as plt\n",
    "%matplotlib inline"
   ]
  },
  {
   "cell_type": "code",
   "execution_count": 4,
   "metadata": {},
   "outputs": [],
   "source": [
    "from sklearn.preprocessing import MinMaxScaler\n",
    "from sklearn.metrics import confusion_matrix\n",
    "from sklearn.metrics import classification_report\n",
    "from sklearn.utils import class_weight"
   ]
  },
  {
   "cell_type": "code",
   "execution_count": 5,
   "metadata": {},
   "outputs": [],
   "source": [
    "import tensorflow as tf\n",
    "from tensorflow.python.keras import models\n",
    "from tensorflow.python.keras.layers import Dense, Activation, Dropout\n",
    "from tensorflow.python.keras import metrics\n",
    "\n",
    "from tensorflow.python.keras.layers import Conv1D\n",
    "from tensorflow.python.keras.layers import MaxPooling1D\n",
    "from tensorflow.python.keras.layers import GlobalAveragePooling1D\n",
    "from tensorflow.python.keras.layers import GlobalMaxPooling1D"
   ]
  },
  {
   "cell_type": "code",
   "execution_count": 6,
   "metadata": {},
   "outputs": [
    {
     "data": {
      "text/plain": [
       "(1243426, 66)"
      ]
     },
     "execution_count": 6,
     "metadata": {},
     "output_type": "execute_result"
    }
   ],
   "source": [
    "final_df = pd.read_csv('./consolidated_4_10pct_sample_new.csv')\n",
    "final_df.shape"
   ]
  },
  {
   "cell_type": "code",
   "execution_count": 7,
   "metadata": {},
   "outputs": [],
   "source": [
    "def split_train_test(data, features):\n",
    "    indexer = data[['s2_cell_id','measure_date']].copy()\n",
    "    train = data[data.measure_date < '2018-01-01'].copy()\n",
    "    test = data[data.measure_date >= '2018-01-01'].copy()\n",
    "    \n",
    "    y_train = train.wf_wildfire.copy().values\n",
    "    y_test = test.wf_wildfire.copy().values    \n",
    "    \n",
    "    y_train_ext = train.wf_wildfire_ext.copy().values\n",
    "    y_test_ext = test.wf_wildfire_ext.copy().values    \n",
    "\n",
    "    train = train[features]\n",
    "    test = test[features]    \n",
    "    \n",
    "    test_ids = data[data.measure_date >= '2018-01-01'][['s2_cell_id', 'measure_date']]\n",
    "    \n",
    "    return train, test, y_train, y_test, y_train_ext, y_test_ext, test_ids"
   ]
  },
  {
   "cell_type": "code",
   "execution_count": 8,
   "metadata": {},
   "outputs": [],
   "source": [
    "def plot_confusion_matrix(y_true, y_pred, classes,\n",
    "                          normalize=False,\n",
    "                          cmap=plt.cm.Blues):\n",
    "    \"\"\"\n",
    "    Source: https://scikit-learn.org/stable/auto_examples/model_selection/plot_confusion_matrix.html#sphx-glr-auto-examples-model-selection-plot-confusion-matrix-py\n",
    "\n",
    "    Prints and plots the confusion matrix.\n",
    "\n",
    "    Args:\n",
    "        y_true: list of true target labels\n",
    "        y_pred: list of predicted target labels\n",
    "        classes: tuple of class labels in 0, 1 order\n",
    "\n",
    "    Kwargs:\n",
    "        normalize: bool, normalize confusion matrix or not\n",
    "        cmap: color map\n",
    "    \"\"\"\n",
    "\n",
    "    if normalize:\n",
    "        title = 'Normalized confusion matrix'\n",
    "    else:\n",
    "        title = 'Confusion matrix, without normalization'\n",
    "\n",
    "    # Compute confusion matrix\n",
    "    cm = confusion_matrix(y_true, y_pred)\n",
    "    print('Confusion matrix, without normalization')\n",
    "    print(cm)\n",
    "\n",
    "    print(classification_report(y_true, y_pred, target_names=classes))\n",
    "\n",
    "    if normalize:\n",
    "        cm = cm.astype('float') / cm.sum(axis=1)[:, np.newaxis]\n",
    "\n",
    "    fig, ax = plt.subplots()\n",
    "    im = ax.imshow(cm, interpolation='nearest', cmap=cmap)\n",
    "    ax.figure.colorbar(im, ax=ax)\n",
    "    # show all ticks...\n",
    "    ax.set(xticks=np.arange(cm.shape[1]),\n",
    "           yticks=np.arange(cm.shape[0]),\n",
    "           xticklabels=classes,\n",
    "           yticklabels=classes,\n",
    "           title=title,\n",
    "           ylabel='True label',\n",
    "           xlabel='Predicted label')\n",
    "\n",
    "    # rotate the tick labels and set their alignment.\n",
    "    plt.setp(ax.get_xticklabels(),\n",
    "             rotation=45,\n",
    "             ha=\"right\",\n",
    "             rotation_mode=\"anchor\")\n",
    "\n",
    "    # loop over data dimensions and create text annotations.\n",
    "    fmt = '.2f' if normalize else 'd'\n",
    "    thresh = cm.max() / 2.\n",
    "    for i in range(cm.shape[0]):\n",
    "        for j in range(cm.shape[1]):\n",
    "            ax.text(j, i, format(cm[i, j], fmt),\n",
    "                    ha=\"center\", va=\"center\",\n",
    "                    color=\"white\" if cm[i, j] > thresh else \"black\")\n",
    "    fig.tight_layout()\n",
    "    plt.show()\n",
    "    return ax"
   ]
  },
  {
   "cell_type": "code",
   "execution_count": 9,
   "metadata": {},
   "outputs": [],
   "source": [
    "def bin_prob(probs, y_test):\n",
    "    y_binned = np.digitize(probs, np.arange(0,1.1,0.1))\n",
    "    bin_df = pd.DataFrame(list(zip(y_test, probs, y_binned)), columns =['Actual', 'Prob', 'Bin'])\n",
    "    bin_df = bin_df.groupby('Bin').agg({'Actual': ['mean', 'sum', 'count'], 'Prob': 'mean'})\n",
    "    return bin_df"
   ]
  },
  {
   "cell_type": "code",
   "execution_count": 10,
   "metadata": {},
   "outputs": [],
   "source": [
    "class TimeHistory(tf.keras.callbacks.Callback):\n",
    "    \"\"\"\n",
    "    https://stackoverflow.com/questions/43178668/\n",
    "    record-the-computation-time-for-each-epoch-in-keras-during-model-fit\n",
    "    \"\"\"\n",
    "\n",
    "    def on_train_begin(self, logs={}):\n",
    "        self.times = []\n",
    "\n",
    "    def on_epoch_begin(self, epoch, logs={}):\n",
    "        self.epoch_time_start = time.time()\n",
    "\n",
    "    def on_epoch_end(self, epoch, logs={}):\n",
    "        self.times.append(time.time() - self.epoch_time_start)"
   ]
  },
  {
   "cell_type": "code",
   "execution_count": 11,
   "metadata": {},
   "outputs": [],
   "source": [
    "def mlp_model(layers, units, dropout_rate, input_shape, op_units, op_activation):\n",
    "    \"\"\"\n",
    "    Creates an instance of a multi-layer perceptron model.\n",
    "\n",
    "    Arguments\n",
    "      layers: int, number of `Dense` layers in the model.\n",
    "      units: int, output dimension of the layers.\n",
    "      dropout_rate: float, percentage of input to drop at Dropout layers.\n",
    "      input_shape: tuple, shape of input to the model.\n",
    "      op_units: number of output units (1 for binary target)\n",
    "      op_activation: activation function (sigmoid for binary target)\n",
    "\n",
    "    Returns\n",
    "      An MLP model instance.\n",
    "    \"\"\"\n",
    "\n",
    "    model = models.Sequential()\n",
    "    model.add(Dropout(rate=dropout_rate, input_shape=input_shape))\n",
    "\n",
    "    for _ in range(layers - 1):\n",
    "        model.add(Dense(units=units, activation='relu'))\n",
    "        model.add(Dropout(rate=dropout_rate))\n",
    "\n",
    "    model.add(Dense(units=op_units, activation=op_activation))\n",
    "\n",
    "    return model"
   ]
  },
  {
   "cell_type": "code",
   "execution_count": 12,
   "metadata": {},
   "outputs": [],
   "source": [
    "def train_model(data,\n",
    "                model_type='cnn',\n",
    "                learning_rate=1e-3,\n",
    "                epochs=1000,\n",
    "                batch_size=128,\n",
    "                blocks=2,\n",
    "                filters=64,\n",
    "                layers=2,\n",
    "                units=64,\n",
    "                dropout_rate=0.2,\n",
    "                kernel_size=3,\n",
    "                pool_size=3,\n",
    "                num_classes=2,\n",
    "                class_weights={0:1.,1:1.}):\n",
    "    \"\"\"\n",
    "    Trains sequence model on the given dataset.\n",
    "\n",
    "    Args:\n",
    "      data: tuples of vectorized training and test texts and labels.\n",
    "      log_dir: directory to write logs to\n",
    "\n",
    "    Kwargs:\n",
    "      model_type: str, type of model to train\n",
    "      word_index: word_index if applicable\n",
    "      learning_rate: float, learning rate for training model.\n",
    "      epochs: int, number of epochs.\n",
    "      batch_size: int, number of samples per batch.\n",
    "      blocks: int, number of pairs of sepCNN and pooling blocks in the model.\n",
    "      filters: int, output dimension of sepCNN layers in the model.\n",
    "      dropout_rate: float: percentage of input to drop at Dropout layers.\n",
    "      embedding_dim: int, dimension of the embedding vectors.\n",
    "      kernel_size: int, length of the convolution window.\n",
    "      pool_size: int, factor by which to downscale input at MaxPooling layer.\n",
    "      max_num_words: int, max number of features to use\n",
    "      num_classes: int, number of classes in the target variable\n",
    "      use_pretrained_embedding: bool, use pretrained embeddings or no\n",
    "      is_embedding_trainable: bool, train embeddings or no\n",
    "      use_word_embedding: bool, False if sentence encodding is used\n",
    "      glove_dir: directory with glove embeddings if applicable\n",
    "    \"\"\"\n",
    "\n",
    "    # Get the data.\n",
    "    x_train, train_labels, x_val, val_labels = data\n",
    "\n",
    "    if num_classes == 2:\n",
    "        op_units, op_activation = 1, 'sigmoid'\n",
    "    else:\n",
    "        op_units, op_activation = num_classes, 'softmax'\n",
    "\n",
    "    # Create model instance.\n",
    "    if model_type == 'cnn':\n",
    "        model = cnn_model(filters=filters,\n",
    "                          kernel_size=kernel_size,\n",
    "                          layers=layers,\n",
    "                          dropout_rate=dropout_rate,\n",
    "                          pool_size=pool_size,\n",
    "                          input_shape=x_train.shape[1:],\n",
    "                          op_units=op_units,\n",
    "                          op_activation=op_activation)\n",
    "    elif model_type == 'mlp':\n",
    "        model = mlp_model(layers=layers,\n",
    "                          units=units,\n",
    "                          dropout_rate=dropout_rate,\n",
    "                          input_shape=x_train.shape[1:],\n",
    "                          op_units=op_units,\n",
    "                          op_activation=op_activation)\n",
    "\n",
    "    # Compile model with learning parameters.\n",
    "    optimizer = tf.keras.optimizers.Adam(lr=learning_rate)\n",
    "#     optimizer = tf.keras.optimizers.RMSprop(lr=learning_rate) - didn't work (too many false negatives)\n",
    "#     optimizer = tf.keras.optimizers.SGD(lr=learning_rate) - similar performance to Adam\n",
    "#     optimizer = tf.keras.optimizers.Adagrad(lr=learning_rate) - didn't work (too many false positives)\n",
    "    model.compile(optimizer=optimizer,\n",
    "                loss='binary_crossentropy',\n",
    "                metrics=[metrics.Recall()])\n",
    "\n",
    "    # Create callback for early stopping on validation loss. If the loss does\n",
    "    # not decrease in two consecutive tries, stop training.\n",
    "    callbacks = [\n",
    "#           tf.keras.callbacks.EarlyStopping(monitor='val_loss',\n",
    "#                                            patience=2),\n",
    "          TimeHistory()]\n",
    "\n",
    "    # Train and validate model.\n",
    "    history = model.fit(\n",
    "      x_train,\n",
    "      train_labels,\n",
    "      epochs=epochs,\n",
    "      callbacks=callbacks,\n",
    "      validation_data=(x_val, val_labels),\n",
    "      verbose=2,  # Logs once per epoch.\n",
    "      batch_size=batch_size,\n",
    "      class_weight=class_weights)\n",
    "\n",
    "    train_pred_probs = model.predict(x_train)\n",
    "    val_pred_probs = model.predict(x_val)\n",
    "\n",
    "    return history.history, model, train_pred_probs, val_pred_probs"
   ]
  },
  {
   "cell_type": "code",
   "execution_count": 13,
   "metadata": {},
   "outputs": [],
   "source": [
    "scaler = MinMaxScaler()"
   ]
  },
  {
   "cell_type": "markdown",
   "metadata": {},
   "source": [
    "## Optimizer: Adam; Features: - precipitation"
   ]
  },
  {
   "cell_type": "code",
   "execution_count": 14,
   "metadata": {},
   "outputs": [],
   "source": [
    "tl_features = [\n",
    "    'tl_object_id',\n",
    "    'tl_kv_sort_sum'\n",
    "]\n",
    "\n",
    "sat_features = [\n",
    " 'sat_faparval_min',\n",
    " 'sat_faparval_max',\n",
    " 'sat_faparval_mean',\n",
    " 'sat_faparval_std',\n",
    " 'sat_faparval_size',\n",
    " 'sat_faparval_count',\n",
    " 'sat_faparval',\n",
    " 'sat_faparmask_min',\n",
    " 'sat_faparmask_max',\n",
    " 'sat_faparmask_mean',\n",
    " 'sat_faparmask_std',\n",
    " 'sat_faparmask_size'\n",
    "]\n",
    "\n",
    "wea_features = [\n",
    " 'wea_air_temp_max',\n",
    " 'wea_air_temp_mean',\n",
    " 'relative_humidity_max',\n",
    " 'relative_humidity_min',\n",
    " 'relative_humidity_mean',\n",
    " 'wea_wind_speed_max',\n",
    " 'wea_wind_speed_min',\n",
    " 'wea_wind_speed_mean',\n",
    " 'wind_gust_max',\n",
    " 'wea_air_temp_mean_ma7',\n",
    " 'relative_humidity_mean_ma7',\n",
    " 'wea_air_temp_mean_l1',\n",
    " 'relative_humidity_mean_l1',\n",
    " 'wea_air_temp_mean_ma30',\n",
    " 'relative_humidity_mean_ma30'\n",
    "]\n",
    "\n",
    "fuel_features = [\n",
    " 'fuel_percent',\n",
    " 'fuel_percent_ma7',\n",
    " 'fuel_percent_ma30',\n",
    " 'fuel_percent_l1',\n",
    "]"
   ]
  },
  {
   "cell_type": "code",
   "execution_count": 90,
   "metadata": {},
   "outputs": [],
   "source": [
    "gc.collect()\n",
    "feature_cols = wea_features + tl_features + sat_features + fuel_features\n",
    "train, test, y_train, y_test, y_train_ext, y_test_ext, test_ids = split_train_test(final_df, feature_cols)"
   ]
  },
  {
   "cell_type": "code",
   "execution_count": 91,
   "metadata": {},
   "outputs": [
    {
     "data": {
      "text/plain": [
       "((825325, 33), (418101, 33))"
      ]
     },
     "execution_count": 91,
     "metadata": {},
     "output_type": "execute_result"
    }
   ],
   "source": [
    "train.shape, test.shape"
   ]
  },
  {
   "cell_type": "code",
   "execution_count": 92,
   "metadata": {},
   "outputs": [
    {
     "name": "stderr",
     "output_type": "stream",
     "text": [
      "/usr/local/lib/python3.5/dist-packages/sklearn/preprocessing/data.py:334: DataConversionWarning: Data with input dtype bool, int64, float64 were all converted to float64 by MinMaxScaler.\n",
      "  return self.partial_fit(X, y)\n"
     ]
    }
   ],
   "source": [
    "train_sc = scaler.fit_transform(train)\n",
    "test_sc = scaler.transform(test)"
   ]
  },
  {
   "cell_type": "code",
   "execution_count": 93,
   "metadata": {},
   "outputs": [],
   "source": [
    "pickle.dump(scaler, open('./Models/scaler_10pct_noprecip_cwEQ_ext_new', 'wb'))"
   ]
  },
  {
   "cell_type": "code",
   "execution_count": 21,
   "metadata": {},
   "outputs": [
    {
     "data": {
      "text/plain": [
       "array([0.53436733, 7.77435004])"
      ]
     },
     "execution_count": 21,
     "metadata": {},
     "output_type": "execute_result"
    }
   ],
   "source": [
    "cw = class_weight.compute_class_weight('balanced', np.unique(y_train_ext), y_train_ext)\n",
    "cw"
   ]
  },
  {
   "cell_type": "code",
   "execution_count": 22,
   "metadata": {},
   "outputs": [],
   "source": [
    "model_params = {\n",
    "    'model_type': 'mlp',\n",
    "    'learning_rate': 1e-3,\n",
    "    'epochs': 20,\n",
    "    'batch_size': 128,\n",
    "    'layers': 2,\n",
    "    'units': 64,\n",
    "    'dropout_rate': 0.2,\n",
    "    'class_weights': {0: cw[0], 1: cw[1]}\n",
    "}"
   ]
  },
  {
   "cell_type": "code",
   "execution_count": 53,
   "metadata": {},
   "outputs": [
    {
     "name": "stdout",
     "output_type": "stream",
     "text": [
      "Train on 825325 samples, validate on 418101 samples\n",
      "Epoch 1/20\n",
      " - 12s - loss: 0.5769 - recall_3: 0.7440 - val_loss: 0.7728 - val_recall_3: 0.9326\n",
      "Epoch 2/20\n",
      " - 10s - loss: 0.5379 - recall_3: 0.8020 - val_loss: 0.8679 - val_recall_3: 0.9504\n",
      "Epoch 3/20\n",
      " - 11s - loss: 0.5288 - recall_3: 0.8086 - val_loss: 0.6840 - val_recall_3: 0.8965\n",
      "Epoch 4/20\n",
      " - 11s - loss: 0.5224 - recall_3: 0.8097 - val_loss: 0.7920 - val_recall_3: 0.9379\n",
      "Epoch 5/20\n",
      " - 11s - loss: 0.5195 - recall_3: 0.8117 - val_loss: 0.7965 - val_recall_3: 0.9280\n",
      "Epoch 6/20\n",
      " - 11s - loss: 0.5174 - recall_3: 0.8135 - val_loss: 0.8143 - val_recall_3: 0.9203\n",
      "Epoch 7/20\n",
      " - 11s - loss: 0.5159 - recall_3: 0.8129 - val_loss: 0.8250 - val_recall_3: 0.9441\n",
      "Epoch 8/20\n",
      " - 11s - loss: 0.5147 - recall_3: 0.8146 - val_loss: 0.8039 - val_recall_3: 0.9352\n",
      "Epoch 9/20\n",
      " - 11s - loss: 0.5139 - recall_3: 0.8143 - val_loss: 0.8203 - val_recall_3: 0.9352\n",
      "Epoch 10/20\n",
      " - 11s - loss: 0.5117 - recall_3: 0.8182 - val_loss: 0.7646 - val_recall_3: 0.9276\n",
      "Epoch 11/20\n",
      " - 10s - loss: 0.5122 - recall_3: 0.8170 - val_loss: 0.7559 - val_recall_3: 0.9266\n",
      "Epoch 12/20\n",
      " - 10s - loss: 0.5108 - recall_3: 0.8168 - val_loss: 0.7783 - val_recall_3: 0.9422\n",
      "Epoch 13/20\n",
      " - 11s - loss: 0.5105 - recall_3: 0.8180 - val_loss: 0.7209 - val_recall_3: 0.9342\n",
      "Epoch 14/20\n",
      " - 10s - loss: 0.5090 - recall_3: 0.8185 - val_loss: 0.7143 - val_recall_3: 0.9205\n",
      "Epoch 15/20\n",
      " - 10s - loss: 0.5073 - recall_3: 0.8196 - val_loss: 0.6963 - val_recall_3: 0.9269\n",
      "Epoch 16/20\n",
      " - 10s - loss: 0.5072 - recall_3: 0.8177 - val_loss: 0.7615 - val_recall_3: 0.9401\n",
      "Epoch 17/20\n",
      " - 10s - loss: 0.5054 - recall_3: 0.8181 - val_loss: 0.6767 - val_recall_3: 0.9200\n",
      "Epoch 18/20\n",
      " - 10s - loss: 0.5058 - recall_3: 0.8177 - val_loss: 0.6704 - val_recall_3: 0.9269\n",
      "Epoch 19/20\n",
      " - 10s - loss: 0.5046 - recall_3: 0.8221 - val_loss: 0.6898 - val_recall_3: 0.9164\n",
      "Epoch 20/20\n",
      " - 10s - loss: 0.5035 - recall_3: 0.8208 - val_loss: 0.6743 - val_recall_3: 0.9008\n"
     ]
    }
   ],
   "source": [
    "gc.collect()\n",
    "history, model_mlp, train_pred_probs, test_pred_probs = train_model((train_sc, y_train_ext, test_sc, y_test_ext), **model_params)"
   ]
  },
  {
   "cell_type": "code",
   "execution_count": 54,
   "metadata": {},
   "outputs": [],
   "source": [
    "model_mlp.save('./Models/mlp_adam_noprecip_cwEQ_ext_new.h5')"
   ]
  },
  {
   "cell_type": "code",
   "execution_count": 55,
   "metadata": {},
   "outputs": [
    {
     "data": {
      "text/html": [
       "<div>\n",
       "<style scoped>\n",
       "    .dataframe tbody tr th:only-of-type {\n",
       "        vertical-align: middle;\n",
       "    }\n",
       "\n",
       "    .dataframe tbody tr th {\n",
       "        vertical-align: top;\n",
       "    }\n",
       "\n",
       "    .dataframe thead tr th {\n",
       "        text-align: left;\n",
       "    }\n",
       "\n",
       "    .dataframe thead tr:last-of-type th {\n",
       "        text-align: right;\n",
       "    }\n",
       "</style>\n",
       "<table border=\"1\" class=\"dataframe\">\n",
       "  <thead>\n",
       "    <tr>\n",
       "      <th></th>\n",
       "      <th colspan=\"3\" halign=\"left\">Actual</th>\n",
       "      <th>Prob</th>\n",
       "    </tr>\n",
       "    <tr>\n",
       "      <th></th>\n",
       "      <th>mean</th>\n",
       "      <th>sum</th>\n",
       "      <th>count</th>\n",
       "      <th>mean</th>\n",
       "    </tr>\n",
       "    <tr>\n",
       "      <th>Bin</th>\n",
       "      <th></th>\n",
       "      <th></th>\n",
       "      <th></th>\n",
       "      <th></th>\n",
       "    </tr>\n",
       "  </thead>\n",
       "  <tbody>\n",
       "    <tr>\n",
       "      <th>1</th>\n",
       "      <td>0.000170</td>\n",
       "      <td>4.0</td>\n",
       "      <td>23476</td>\n",
       "      <td>0.044769</td>\n",
       "    </tr>\n",
       "    <tr>\n",
       "      <th>2</th>\n",
       "      <td>0.000984</td>\n",
       "      <td>22.0</td>\n",
       "      <td>22369</td>\n",
       "      <td>0.151870</td>\n",
       "    </tr>\n",
       "    <tr>\n",
       "      <th>3</th>\n",
       "      <td>0.001832</td>\n",
       "      <td>57.0</td>\n",
       "      <td>31108</td>\n",
       "      <td>0.253647</td>\n",
       "    </tr>\n",
       "    <tr>\n",
       "      <th>4</th>\n",
       "      <td>0.002049</td>\n",
       "      <td>102.0</td>\n",
       "      <td>49777</td>\n",
       "      <td>0.353970</td>\n",
       "    </tr>\n",
       "    <tr>\n",
       "      <th>5</th>\n",
       "      <td>0.002862</td>\n",
       "      <td>207.0</td>\n",
       "      <td>72325</td>\n",
       "      <td>0.452065</td>\n",
       "    </tr>\n",
       "    <tr>\n",
       "      <th>6</th>\n",
       "      <td>0.003324</td>\n",
       "      <td>287.0</td>\n",
       "      <td>86334</td>\n",
       "      <td>0.550671</td>\n",
       "    </tr>\n",
       "    <tr>\n",
       "      <th>7</th>\n",
       "      <td>0.004493</td>\n",
       "      <td>389.0</td>\n",
       "      <td>86583</td>\n",
       "      <td>0.648066</td>\n",
       "    </tr>\n",
       "    <tr>\n",
       "      <th>8</th>\n",
       "      <td>0.003826</td>\n",
       "      <td>167.0</td>\n",
       "      <td>43647</td>\n",
       "      <td>0.736859</td>\n",
       "    </tr>\n",
       "    <tr>\n",
       "      <th>9</th>\n",
       "      <td>0.002872</td>\n",
       "      <td>7.0</td>\n",
       "      <td>2437</td>\n",
       "      <td>0.816676</td>\n",
       "    </tr>\n",
       "    <tr>\n",
       "      <th>10</th>\n",
       "      <td>0.000000</td>\n",
       "      <td>0.0</td>\n",
       "      <td>28</td>\n",
       "      <td>0.986070</td>\n",
       "    </tr>\n",
       "    <tr>\n",
       "      <th>11</th>\n",
       "      <td>0.000000</td>\n",
       "      <td>0.0</td>\n",
       "      <td>17</td>\n",
       "      <td>1.000000</td>\n",
       "    </tr>\n",
       "  </tbody>\n",
       "</table>\n",
       "</div>"
      ],
      "text/plain": [
       "       Actual                    Prob\n",
       "         mean    sum  count      mean\n",
       "Bin                                  \n",
       "1    0.000170    4.0  23476  0.044769\n",
       "2    0.000984   22.0  22369  0.151870\n",
       "3    0.001832   57.0  31108  0.253647\n",
       "4    0.002049  102.0  49777  0.353970\n",
       "5    0.002862  207.0  72325  0.452065\n",
       "6    0.003324  287.0  86334  0.550671\n",
       "7    0.004493  389.0  86583  0.648066\n",
       "8    0.003826  167.0  43647  0.736859\n",
       "9    0.002872    7.0   2437  0.816676\n",
       "10   0.000000    0.0     28  0.986070\n",
       "11   0.000000    0.0     17  1.000000"
      ]
     },
     "execution_count": 55,
     "metadata": {},
     "output_type": "execute_result"
    }
   ],
   "source": [
    "bin_prob(test_pred_probs[:,0], y_test)"
   ]
  },
  {
   "cell_type": "code",
   "execution_count": 56,
   "metadata": {},
   "outputs": [
    {
     "data": {
      "text/plain": [
       "219046"
      ]
     },
     "execution_count": 56,
     "metadata": {},
     "output_type": "execute_result"
    }
   ],
   "source": [
    "test_preds = test_pred_probs[:,0]>0.5\n",
    "test_preds.sum()"
   ]
  },
  {
   "cell_type": "code",
   "execution_count": 57,
   "metadata": {},
   "outputs": [
    {
     "name": "stdout",
     "output_type": "stream",
     "text": [
      "Confusion matrix, without normalization\n",
      "[[198663 218196]\n",
      " [   392    850]]\n",
      "              precision    recall  f1-score   support\n",
      "\n",
      "         nwf       1.00      0.48      0.65    416859\n",
      "          wf       0.00      0.68      0.01      1242\n",
      "\n",
      "   micro avg       0.48      0.48      0.48    418101\n",
      "   macro avg       0.50      0.58      0.33    418101\n",
      "weighted avg       1.00      0.48      0.64    418101\n",
      "\n"
     ]
    },
    {
     "data": {
      "image/png": "[encoded data removed]",
      "text/plain": [
       "<Figure size 432x288 with 2 Axes>"
      ]
     },
     "metadata": {
      "needs_background": "light"
     },
     "output_type": "display_data"
    },
    {
     "data": {
      "text/plain": [
       "<matplotlib.axes._subplots.AxesSubplot at 0x7f44e1ce8860>"
      ]
     },
     "execution_count": 57,
     "metadata": {},
     "output_type": "execute_result"
    }
   ],
   "source": [
    "plot_confusion_matrix(y_test, test_preds, ['nwf', 'wf'], normalize=True)"
   ]
  },
  {
   "cell_type": "markdown",
   "metadata": {},
   "source": [
    "## Testing new features"
   ]
  },
  {
   "cell_type": "code",
   "execution_count": 16,
   "metadata": {},
   "outputs": [],
   "source": [
    "new_tl_features = [\n",
    "    'tl_s2_cells_lvl16_cnt',\n",
    "    'tl_s2_cells_lvl16_cnt_coverage'\n",
    "]\n",
    "\n",
    "new_control_features = [\n",
    " 'fz_grp_high',\n",
    " 'fz_grp_low',\n",
    " 'fz_grp_med'\n",
    "]\n",
    "\n",
    "new_sat_feature = [\n",
    "  'sat_faparval_median',\n",
    "  'sat_faparval_undefined'\n",
    "]\n",
    "\n",
    "precip_cut50 = [\n",
    "    'wea_precip_accum_max_cut50',\n",
    "    'wea_precip_accum_max_ma7_cut50',\n",
    "    'wea_precip_accum_max_ma30_cut50',\n",
    "    'wea_precip_accum_max_l1_cut50'\n",
    "]\n",
    "\n",
    "precip_cut70 = [\n",
    "    'wea_precip_accum_max_cut70',\n",
    "    'wea_precip_accum_max_ma7_cut70',\n",
    "    'wea_precip_accum_max_ma30_cut70',\n",
    "    'wea_precip_accum_max_l1_cut70'\n",
    "]\n",
    "\n",
    "precip_cut90 = [\n",
    "    'wea_precip_accum_max_cut90',\n",
    "    'wea_precip_accum_max_ma7_cut90',\n",
    "    'wea_precip_accum_max_ma30_cut90',\n",
    "    'wea_precip_accum_max_l1_cut90'\n",
    "]"
   ]
  },
  {
   "cell_type": "markdown",
   "metadata": {},
   "source": [
    "### + Fire Zones Controls"
   ]
  },
  {
   "cell_type": "code",
   "execution_count": 88,
   "metadata": {},
   "outputs": [
    {
     "name": "stderr",
     "output_type": "stream",
     "text": [
      "/usr/local/lib/python3.5/dist-packages/sklearn/preprocessing/data.py:334: DataConversionWarning: Data with input dtype bool, int64, float64 were all converted to float64 by MinMaxScaler.\n",
      "  return self.partial_fit(X, y)\n"
     ]
    }
   ],
   "source": [
    "gc.collect()\n",
    "feature_cols = wea_features + tl_features + sat_features + fuel_features + new_control_features\n",
    "train, test, y_train, y_test, y_train_ext, y_test_ext, test_ids = split_train_test(final_df, feature_cols)\n",
    "\n",
    "train_sc = scaler.fit_transform(train)\n",
    "test_sc = scaler.transform(test)"
   ]
  },
  {
   "cell_type": "code",
   "execution_count": 89,
   "metadata": {},
   "outputs": [],
   "source": [
    "pickle.dump(scaler, open('./Models/scaler_10pct_noprecip_cwEQ_ext_fz', 'wb'))"
   ]
  },
  {
   "cell_type": "code",
   "execution_count": 39,
   "metadata": {},
   "outputs": [
    {
     "name": "stdout",
     "output_type": "stream",
     "text": [
      "Train on 825325 samples, validate on 418101 samples\n",
      "Epoch 1/20\n",
      " - 11s - loss: 0.5827 - recall_2: 0.7316 - val_loss: 0.6914 - val_recall_2: 0.9001\n",
      "Epoch 2/20\n",
      " - 10s - loss: 0.5422 - recall_2: 0.7942 - val_loss: 0.7556 - val_recall_2: 0.9205\n",
      "Epoch 3/20\n",
      " - 10s - loss: 0.5297 - recall_2: 0.8048 - val_loss: 0.8345 - val_recall_2: 0.9538\n",
      "Epoch 4/20\n",
      " - 10s - loss: 0.5245 - recall_2: 0.8085 - val_loss: 0.9352 - val_recall_2: 0.9465\n",
      "Epoch 5/20\n",
      " - 10s - loss: 0.5207 - recall_2: 0.8121 - val_loss: 0.8612 - val_recall_2: 0.9418\n",
      "Epoch 6/20\n",
      " - 10s - loss: 0.5168 - recall_2: 0.8150 - val_loss: 0.8153 - val_recall_2: 0.9404\n",
      "Epoch 7/20\n",
      " - 10s - loss: 0.5161 - recall_2: 0.8139 - val_loss: 0.8786 - val_recall_2: 0.9489\n",
      "Epoch 8/20\n",
      " - 10s - loss: 0.5142 - recall_2: 0.8176 - val_loss: 0.8185 - val_recall_2: 0.9408\n",
      "Epoch 9/20\n",
      " - 10s - loss: 0.5130 - recall_2: 0.8190 - val_loss: 0.6872 - val_recall_2: 0.9168\n",
      "Epoch 10/20\n",
      " - 10s - loss: 0.5124 - recall_2: 0.8178 - val_loss: 0.7606 - val_recall_2: 0.9351\n",
      "Epoch 11/20\n",
      " - 10s - loss: 0.5112 - recall_2: 0.8178 - val_loss: 0.8250 - val_recall_2: 0.9359\n",
      "Epoch 12/20\n",
      " - 11s - loss: 0.5102 - recall_2: 0.8194 - val_loss: 0.8496 - val_recall_2: 0.9389\n",
      "Epoch 13/20\n",
      " - 10s - loss: 0.5095 - recall_2: 0.8177 - val_loss: 0.8102 - val_recall_2: 0.9397\n",
      "Epoch 14/20\n",
      " - 10s - loss: 0.5095 - recall_2: 0.8177 - val_loss: 0.7559 - val_recall_2: 0.9290\n",
      "Epoch 15/20\n",
      " - 10s - loss: 0.5095 - recall_2: 0.8196 - val_loss: 0.8166 - val_recall_2: 0.9343\n",
      "Epoch 16/20\n",
      " - 10s - loss: 0.5079 - recall_2: 0.8196 - val_loss: 0.7944 - val_recall_2: 0.9362\n",
      "Epoch 17/20\n",
      " - 10s - loss: 0.5067 - recall_2: 0.8206 - val_loss: 0.7309 - val_recall_2: 0.9308\n",
      "Epoch 18/20\n",
      " - 10s - loss: 0.5063 - recall_2: 0.8208 - val_loss: 0.7843 - val_recall_2: 0.9377\n",
      "Epoch 19/20\n",
      " - 10s - loss: 0.5061 - recall_2: 0.8191 - val_loss: 0.7906 - val_recall_2: 0.9306\n",
      "Epoch 20/20\n",
      " - 10s - loss: 0.5056 - recall_2: 0.8187 - val_loss: 0.7308 - val_recall_2: 0.9134\n"
     ]
    }
   ],
   "source": [
    "gc.collect()\n",
    "history, model_mlp, train_pred_probs, test_pred_probs = train_model((train_sc, y_train_ext, test_sc, y_test_ext), **model_params)"
   ]
  },
  {
   "cell_type": "code",
   "execution_count": 47,
   "metadata": {},
   "outputs": [],
   "source": [
    "model_mlp.save('./Models/mlp_adam_noprecip_cwEQ_ext_fz.h5')"
   ]
  },
  {
   "cell_type": "code",
   "execution_count": 44,
   "metadata": {},
   "outputs": [
    {
     "data": {
      "text/html": [
       "<div>\n",
       "<style scoped>\n",
       "    .dataframe tbody tr th:only-of-type {\n",
       "        vertical-align: middle;\n",
       "    }\n",
       "\n",
       "    .dataframe tbody tr th {\n",
       "        vertical-align: top;\n",
       "    }\n",
       "\n",
       "    .dataframe thead tr th {\n",
       "        text-align: left;\n",
       "    }\n",
       "\n",
       "    .dataframe thead tr:last-of-type th {\n",
       "        text-align: right;\n",
       "    }\n",
       "</style>\n",
       "<table border=\"1\" class=\"dataframe\">\n",
       "  <thead>\n",
       "    <tr>\n",
       "      <th></th>\n",
       "      <th colspan=\"3\" halign=\"left\">Actual</th>\n",
       "      <th>Prob</th>\n",
       "    </tr>\n",
       "    <tr>\n",
       "      <th></th>\n",
       "      <th>mean</th>\n",
       "      <th>sum</th>\n",
       "      <th>count</th>\n",
       "      <th>mean</th>\n",
       "    </tr>\n",
       "    <tr>\n",
       "      <th>Bin</th>\n",
       "      <th></th>\n",
       "      <th></th>\n",
       "      <th></th>\n",
       "      <th></th>\n",
       "    </tr>\n",
       "  </thead>\n",
       "  <tbody>\n",
       "    <tr>\n",
       "      <th>1</th>\n",
       "      <td>0.000291</td>\n",
       "      <td>7.0</td>\n",
       "      <td>24020</td>\n",
       "      <td>0.048960</td>\n",
       "    </tr>\n",
       "    <tr>\n",
       "      <th>2</th>\n",
       "      <td>0.000876</td>\n",
       "      <td>22.0</td>\n",
       "      <td>25119</td>\n",
       "      <td>0.152044</td>\n",
       "    </tr>\n",
       "    <tr>\n",
       "      <th>3</th>\n",
       "      <td>0.001832</td>\n",
       "      <td>62.0</td>\n",
       "      <td>33844</td>\n",
       "      <td>0.252357</td>\n",
       "    </tr>\n",
       "    <tr>\n",
       "      <th>4</th>\n",
       "      <td>0.002189</td>\n",
       "      <td>100.0</td>\n",
       "      <td>45678</td>\n",
       "      <td>0.352245</td>\n",
       "    </tr>\n",
       "    <tr>\n",
       "      <th>5</th>\n",
       "      <td>0.003074</td>\n",
       "      <td>179.0</td>\n",
       "      <td>58239</td>\n",
       "      <td>0.451574</td>\n",
       "    </tr>\n",
       "    <tr>\n",
       "      <th>6</th>\n",
       "      <td>0.003494</td>\n",
       "      <td>242.0</td>\n",
       "      <td>69260</td>\n",
       "      <td>0.551034</td>\n",
       "    </tr>\n",
       "    <tr>\n",
       "      <th>7</th>\n",
       "      <td>0.003897</td>\n",
       "      <td>289.0</td>\n",
       "      <td>74153</td>\n",
       "      <td>0.648800</td>\n",
       "    </tr>\n",
       "    <tr>\n",
       "      <th>8</th>\n",
       "      <td>0.004031</td>\n",
       "      <td>272.0</td>\n",
       "      <td>67469</td>\n",
       "      <td>0.747980</td>\n",
       "    </tr>\n",
       "    <tr>\n",
       "      <th>9</th>\n",
       "      <td>0.003417</td>\n",
       "      <td>69.0</td>\n",
       "      <td>20191</td>\n",
       "      <td>0.828555</td>\n",
       "    </tr>\n",
       "    <tr>\n",
       "      <th>10</th>\n",
       "      <td>0.000000</td>\n",
       "      <td>0.0</td>\n",
       "      <td>114</td>\n",
       "      <td>0.920248</td>\n",
       "    </tr>\n",
       "    <tr>\n",
       "      <th>11</th>\n",
       "      <td>0.000000</td>\n",
       "      <td>0.0</td>\n",
       "      <td>14</td>\n",
       "      <td>1.000000</td>\n",
       "    </tr>\n",
       "  </tbody>\n",
       "</table>\n",
       "</div>"
      ],
      "text/plain": [
       "       Actual                    Prob\n",
       "         mean    sum  count      mean\n",
       "Bin                                  \n",
       "1    0.000291    7.0  24020  0.048960\n",
       "2    0.000876   22.0  25119  0.152044\n",
       "3    0.001832   62.0  33844  0.252357\n",
       "4    0.002189  100.0  45678  0.352245\n",
       "5    0.003074  179.0  58239  0.451574\n",
       "6    0.003494  242.0  69260  0.551034\n",
       "7    0.003897  289.0  74153  0.648800\n",
       "8    0.004031  272.0  67469  0.747980\n",
       "9    0.003417   69.0  20191  0.828555\n",
       "10   0.000000    0.0    114  0.920248\n",
       "11   0.000000    0.0     14  1.000000"
      ]
     },
     "execution_count": 44,
     "metadata": {},
     "output_type": "execute_result"
    }
   ],
   "source": [
    "bin_prob(test_pred_probs[:,0], y_test)"
   ]
  },
  {
   "cell_type": "code",
   "execution_count": 45,
   "metadata": {},
   "outputs": [
    {
     "data": {
      "text/plain": [
       "231201"
      ]
     },
     "execution_count": 45,
     "metadata": {},
     "output_type": "execute_result"
    }
   ],
   "source": [
    "test_preds = test_pred_probs[:,0]>0.5\n",
    "test_preds.sum()"
   ]
  },
  {
   "cell_type": "code",
   "execution_count": 46,
   "metadata": {},
   "outputs": [
    {
     "name": "stdout",
     "output_type": "stream",
     "text": [
      "Confusion matrix, without normalization\n",
      "[[186530 230329]\n",
      " [   370    872]]\n",
      "              precision    recall  f1-score   support\n",
      "\n",
      "         nwf       1.00      0.45      0.62    416859\n",
      "          wf       0.00      0.70      0.01      1242\n",
      "\n",
      "   micro avg       0.45      0.45      0.45    418101\n",
      "   macro avg       0.50      0.57      0.31    418101\n",
      "weighted avg       1.00      0.45      0.62    418101\n",
      "\n"
     ]
    },
    {
     "data": {
      "image/png": "[encoded data removed]",
      "text/plain": [
       "<Figure size 432x288 with 2 Axes>"
      ]
     },
     "metadata": {
      "needs_background": "light"
     },
     "output_type": "display_data"
    },
    {
     "data": {
      "text/plain": [
       "<matplotlib.axes._subplots.AxesSubplot at 0x7f44f4252400>"
      ]
     },
     "execution_count": 46,
     "metadata": {},
     "output_type": "execute_result"
    }
   ],
   "source": [
    "plot_confusion_matrix(y_test, test_preds, ['nwf', 'wf'], normalize=True)"
   ]
  },
  {
   "cell_type": "code",
   "execution_count": 43,
   "metadata": {},
   "outputs": [
    {
     "data": {
      "text/plain": [
       "200"
      ]
     },
     "execution_count": 43,
     "metadata": {},
     "output_type": "execute_result"
    }
   ],
   "source": [
    "gc.collect()"
   ]
  },
  {
   "cell_type": "markdown",
   "metadata": {},
   "source": [
    "### + Precipitation cut at 50% humidity"
   ]
  },
  {
   "cell_type": "code",
   "execution_count": 86,
   "metadata": {},
   "outputs": [
    {
     "name": "stderr",
     "output_type": "stream",
     "text": [
      "/usr/local/lib/python3.5/dist-packages/sklearn/preprocessing/data.py:334: DataConversionWarning: Data with input dtype bool, int64, float64 were all converted to float64 by MinMaxScaler.\n",
      "  return self.partial_fit(X, y)\n"
     ]
    }
   ],
   "source": [
    "gc.collect()\n",
    "feature_cols = wea_features + tl_features + sat_features + fuel_features + precip_cut50\n",
    "train, test, y_train, y_test, y_train_ext, y_test_ext, test_ids = split_train_test(final_df, feature_cols)\n",
    "\n",
    "train_sc = scaler.fit_transform(train)\n",
    "test_sc = scaler.transform(test)"
   ]
  },
  {
   "cell_type": "code",
   "execution_count": 87,
   "metadata": {},
   "outputs": [],
   "source": [
    "pickle.dump(scaler, open('./Models/scaler_10pct_precip50_cwEQ_ext_new', 'wb'))"
   ]
  },
  {
   "cell_type": "code",
   "execution_count": 59,
   "metadata": {},
   "outputs": [
    {
     "name": "stdout",
     "output_type": "stream",
     "text": [
      "Train on 825325 samples, validate on 418101 samples\n",
      "Epoch 1/20\n",
      " - 12s - loss: 0.5692 - recall_4: 0.7477 - val_loss: 0.7413 - val_recall_4: 0.8735\n",
      "Epoch 2/20\n",
      " - 11s - loss: 0.5205 - recall_4: 0.7946 - val_loss: 0.7373 - val_recall_4: 0.8702\n",
      "Epoch 3/20\n",
      " - 11s - loss: 0.5065 - recall_4: 0.8045 - val_loss: 0.6333 - val_recall_4: 0.8471\n",
      "Epoch 4/20\n",
      " - 11s - loss: 0.5000 - recall_4: 0.8071 - val_loss: 0.7067 - val_recall_4: 0.8591\n",
      "Epoch 5/20\n",
      " - 11s - loss: 0.4956 - recall_4: 0.8104 - val_loss: 0.7190 - val_recall_4: 0.8942\n",
      "Epoch 6/20\n",
      " - 11s - loss: 0.4904 - recall_4: 0.8171 - val_loss: 0.7203 - val_recall_4: 0.8984\n",
      "Epoch 7/20\n",
      " - 11s - loss: 0.4890 - recall_4: 0.8165 - val_loss: 0.6502 - val_recall_4: 0.8805\n",
      "Epoch 8/20\n",
      " - 11s - loss: 0.4865 - recall_4: 0.8168 - val_loss: 0.6332 - val_recall_4: 0.8750\n",
      "Epoch 9/20\n",
      " - 11s - loss: 0.4850 - recall_4: 0.8190 - val_loss: 0.6735 - val_recall_4: 0.8924\n",
      "Epoch 10/20\n",
      " - 11s - loss: 0.4830 - recall_4: 0.8215 - val_loss: 0.7285 - val_recall_4: 0.8996\n",
      "Epoch 11/20\n",
      " - 10s - loss: 0.4828 - recall_4: 0.8239 - val_loss: 0.6455 - val_recall_4: 0.8784\n",
      "Epoch 12/20\n",
      " - 11s - loss: 0.4808 - recall_4: 0.8231 - val_loss: 0.6925 - val_recall_4: 0.8912\n",
      "Epoch 13/20\n",
      " - 11s - loss: 0.4802 - recall_4: 0.8268 - val_loss: 0.6748 - val_recall_4: 0.9029\n",
      "Epoch 14/20\n",
      " - 11s - loss: 0.4796 - recall_4: 0.8262 - val_loss: 0.6123 - val_recall_4: 0.8713\n",
      "Epoch 15/20\n",
      " - 11s - loss: 0.4787 - recall_4: 0.8270 - val_loss: 0.6263 - val_recall_4: 0.8672\n",
      "Epoch 16/20\n",
      " - 11s - loss: 0.4776 - recall_4: 0.8252 - val_loss: 0.6629 - val_recall_4: 0.8882\n",
      "Epoch 17/20\n",
      " - 11s - loss: 0.4770 - recall_4: 0.8263 - val_loss: 0.6236 - val_recall_4: 0.8743\n",
      "Epoch 18/20\n",
      " - 10s - loss: 0.4769 - recall_4: 0.8271 - val_loss: 0.6086 - val_recall_4: 0.8583\n",
      "Epoch 19/20\n",
      " - 11s - loss: 0.4765 - recall_4: 0.8279 - val_loss: 0.6167 - val_recall_4: 0.8793\n",
      "Epoch 20/20\n",
      " - 10s - loss: 0.4761 - recall_4: 0.8274 - val_loss: 0.6649 - val_recall_4: 0.8998\n"
     ]
    }
   ],
   "source": [
    "gc.collect()\n",
    "history, model_mlp, train_pred_probs, test_pred_probs = train_model((train_sc, y_train_ext, test_sc, y_test_ext), **model_params)"
   ]
  },
  {
   "cell_type": "code",
   "execution_count": 63,
   "metadata": {},
   "outputs": [],
   "source": [
    "model_mlp.save('./Models/mlp_adam_precip50_cwEQ_ext_new.h5')"
   ]
  },
  {
   "cell_type": "code",
   "execution_count": 61,
   "metadata": {},
   "outputs": [
    {
     "data": {
      "text/html": [
       "<div>\n",
       "<style scoped>\n",
       "    .dataframe tbody tr th:only-of-type {\n",
       "        vertical-align: middle;\n",
       "    }\n",
       "\n",
       "    .dataframe tbody tr th {\n",
       "        vertical-align: top;\n",
       "    }\n",
       "\n",
       "    .dataframe thead tr th {\n",
       "        text-align: left;\n",
       "    }\n",
       "\n",
       "    .dataframe thead tr:last-of-type th {\n",
       "        text-align: right;\n",
       "    }\n",
       "</style>\n",
       "<table border=\"1\" class=\"dataframe\">\n",
       "  <thead>\n",
       "    <tr>\n",
       "      <th></th>\n",
       "      <th colspan=\"3\" halign=\"left\">Actual</th>\n",
       "      <th>Prob</th>\n",
       "    </tr>\n",
       "    <tr>\n",
       "      <th></th>\n",
       "      <th>mean</th>\n",
       "      <th>sum</th>\n",
       "      <th>count</th>\n",
       "      <th>mean</th>\n",
       "    </tr>\n",
       "    <tr>\n",
       "      <th>Bin</th>\n",
       "      <th></th>\n",
       "      <th></th>\n",
       "      <th></th>\n",
       "      <th></th>\n",
       "    </tr>\n",
       "  </thead>\n",
       "  <tbody>\n",
       "    <tr>\n",
       "      <th>1</th>\n",
       "      <td>0.000163</td>\n",
       "      <td>5.0</td>\n",
       "      <td>30686</td>\n",
       "      <td>0.050988</td>\n",
       "    </tr>\n",
       "    <tr>\n",
       "      <th>2</th>\n",
       "      <td>0.000881</td>\n",
       "      <td>26.0</td>\n",
       "      <td>29520</td>\n",
       "      <td>0.151603</td>\n",
       "    </tr>\n",
       "    <tr>\n",
       "      <th>3</th>\n",
       "      <td>0.001228</td>\n",
       "      <td>49.0</td>\n",
       "      <td>39892</td>\n",
       "      <td>0.252794</td>\n",
       "    </tr>\n",
       "    <tr>\n",
       "      <th>4</th>\n",
       "      <td>0.001557</td>\n",
       "      <td>82.0</td>\n",
       "      <td>52673</td>\n",
       "      <td>0.351697</td>\n",
       "    </tr>\n",
       "    <tr>\n",
       "      <th>5</th>\n",
       "      <td>0.002516</td>\n",
       "      <td>160.0</td>\n",
       "      <td>63597</td>\n",
       "      <td>0.450794</td>\n",
       "    </tr>\n",
       "    <tr>\n",
       "      <th>6</th>\n",
       "      <td>0.003554</td>\n",
       "      <td>234.0</td>\n",
       "      <td>65839</td>\n",
       "      <td>0.550241</td>\n",
       "    </tr>\n",
       "    <tr>\n",
       "      <th>7</th>\n",
       "      <td>0.005050</td>\n",
       "      <td>326.0</td>\n",
       "      <td>64551</td>\n",
       "      <td>0.650138</td>\n",
       "    </tr>\n",
       "    <tr>\n",
       "      <th>8</th>\n",
       "      <td>0.005184</td>\n",
       "      <td>303.0</td>\n",
       "      <td>58450</td>\n",
       "      <td>0.744999</td>\n",
       "    </tr>\n",
       "    <tr>\n",
       "      <th>9</th>\n",
       "      <td>0.004550</td>\n",
       "      <td>57.0</td>\n",
       "      <td>12527</td>\n",
       "      <td>0.829995</td>\n",
       "    </tr>\n",
       "    <tr>\n",
       "      <th>10</th>\n",
       "      <td>0.000000</td>\n",
       "      <td>0.0</td>\n",
       "      <td>355</td>\n",
       "      <td>0.947721</td>\n",
       "    </tr>\n",
       "    <tr>\n",
       "      <th>11</th>\n",
       "      <td>0.000000</td>\n",
       "      <td>0.0</td>\n",
       "      <td>11</td>\n",
       "      <td>1.000000</td>\n",
       "    </tr>\n",
       "  </tbody>\n",
       "</table>\n",
       "</div>"
      ],
      "text/plain": [
       "       Actual                    Prob\n",
       "         mean    sum  count      mean\n",
       "Bin                                  \n",
       "1    0.000163    5.0  30686  0.050988\n",
       "2    0.000881   26.0  29520  0.151603\n",
       "3    0.001228   49.0  39892  0.252794\n",
       "4    0.001557   82.0  52673  0.351697\n",
       "5    0.002516  160.0  63597  0.450794\n",
       "6    0.003554  234.0  65839  0.550241\n",
       "7    0.005050  326.0  64551  0.650138\n",
       "8    0.005184  303.0  58450  0.744999\n",
       "9    0.004550   57.0  12527  0.829995\n",
       "10   0.000000    0.0    355  0.947721\n",
       "11   0.000000    0.0     11  1.000000"
      ]
     },
     "execution_count": 61,
     "metadata": {},
     "output_type": "execute_result"
    }
   ],
   "source": [
    "bin_prob(test_pred_probs[:,0], y_test)"
   ]
  },
  {
   "cell_type": "code",
   "execution_count": 62,
   "metadata": {},
   "outputs": [
    {
     "name": "stdout",
     "output_type": "stream",
     "text": [
      "Confusion matrix, without normalization\n",
      "[[216046 200813]\n",
      " [   322    920]]\n",
      "              precision    recall  f1-score   support\n",
      "\n",
      "         nwf       1.00      0.52      0.68    416859\n",
      "          wf       0.00      0.74      0.01      1242\n",
      "\n",
      "   micro avg       0.52      0.52      0.52    418101\n",
      "   macro avg       0.50      0.63      0.35    418101\n",
      "weighted avg       1.00      0.52      0.68    418101\n",
      "\n"
     ]
    },
    {
     "data": {
      "image/png": "[encoded data removed]",
      "text/plain": [
       "<Figure size 432x288 with 2 Axes>"
      ]
     },
     "metadata": {
      "needs_background": "light"
     },
     "output_type": "display_data"
    },
    {
     "data": {
      "text/plain": [
       "<matplotlib.axes._subplots.AxesSubplot at 0x7f44e1560668>"
      ]
     },
     "execution_count": 62,
     "metadata": {},
     "output_type": "execute_result"
    }
   ],
   "source": [
    "test_preds = test_pred_probs[:,0]>0.5\n",
    "plot_confusion_matrix(y_test, test_preds, ['nwf', 'wf'], normalize=True)"
   ]
  },
  {
   "cell_type": "markdown",
   "metadata": {},
   "source": [
    "### + Precipitation cut at 70% humidity"
   ]
  },
  {
   "cell_type": "code",
   "execution_count": 84,
   "metadata": {},
   "outputs": [
    {
     "name": "stderr",
     "output_type": "stream",
     "text": [
      "/usr/local/lib/python3.5/dist-packages/sklearn/preprocessing/data.py:334: DataConversionWarning: Data with input dtype bool, int64, float64 were all converted to float64 by MinMaxScaler.\n",
      "  return self.partial_fit(X, y)\n"
     ]
    }
   ],
   "source": [
    "gc.collect()\n",
    "feature_cols = wea_features + tl_features + sat_features + fuel_features + precip_cut70\n",
    "train, test, y_train, y_test, y_train_ext, y_test_ext, test_ids = split_train_test(final_df, feature_cols)\n",
    "\n",
    "train_sc = scaler.fit_transform(train)\n",
    "test_sc = scaler.transform(test)"
   ]
  },
  {
   "cell_type": "code",
   "execution_count": 85,
   "metadata": {},
   "outputs": [],
   "source": [
    "pickle.dump(scaler, open('./Models/scaler_10pct_precip70_cwEQ_ext_new', 'wb'))"
   ]
  },
  {
   "cell_type": "code",
   "execution_count": 65,
   "metadata": {},
   "outputs": [
    {
     "name": "stdout",
     "output_type": "stream",
     "text": [
      "Train on 825325 samples, validate on 418101 samples\n",
      "Epoch 1/20\n",
      " - 12s - loss: 0.5683 - recall_5: 0.7610 - val_loss: 0.6439 - val_recall_5: 0.8856\n",
      "Epoch 2/20\n",
      " - 12s - loss: 0.5262 - recall_5: 0.8048 - val_loss: 0.5967 - val_recall_5: 0.8556\n",
      "Epoch 3/20\n",
      " - 11s - loss: 0.5123 - recall_5: 0.8115 - val_loss: 0.6423 - val_recall_5: 0.8733\n",
      "Epoch 4/20\n",
      " - 11s - loss: 0.5053 - recall_5: 0.8152 - val_loss: 0.7396 - val_recall_5: 0.9072\n",
      "Epoch 5/20\n",
      " - 11s - loss: 0.5021 - recall_5: 0.8196 - val_loss: 0.6921 - val_recall_5: 0.8826\n",
      "Epoch 6/20\n",
      " - 11s - loss: 0.5002 - recall_5: 0.8193 - val_loss: 0.6029 - val_recall_5: 0.8529\n",
      "Epoch 7/20\n",
      " - 11s - loss: 0.4965 - recall_5: 0.8204 - val_loss: 0.7734 - val_recall_5: 0.9218\n",
      "Epoch 8/20\n",
      " - 11s - loss: 0.4945 - recall_5: 0.8231 - val_loss: 0.7095 - val_recall_5: 0.9044\n",
      "Epoch 9/20\n",
      " - 11s - loss: 0.4925 - recall_5: 0.8220 - val_loss: 0.7125 - val_recall_5: 0.9047\n",
      "Epoch 10/20\n",
      " - 11s - loss: 0.4910 - recall_5: 0.8256 - val_loss: 0.7144 - val_recall_5: 0.9061\n",
      "Epoch 11/20\n",
      " - 11s - loss: 0.4909 - recall_5: 0.8256 - val_loss: 0.7121 - val_recall_5: 0.9122\n",
      "Epoch 12/20\n",
      " - 11s - loss: 0.4890 - recall_5: 0.8267 - val_loss: 0.7500 - val_recall_5: 0.9206\n",
      "Epoch 13/20\n",
      " - 11s - loss: 0.4878 - recall_5: 0.8264 - val_loss: 0.6344 - val_recall_5: 0.8885\n",
      "Epoch 14/20\n",
      " - 11s - loss: 0.4872 - recall_5: 0.8262 - val_loss: 0.6187 - val_recall_5: 0.8681\n",
      "Epoch 15/20\n",
      " - 11s - loss: 0.4857 - recall_5: 0.8288 - val_loss: 0.6476 - val_recall_5: 0.8924\n",
      "Epoch 16/20\n",
      " - 11s - loss: 0.4849 - recall_5: 0.8269 - val_loss: 0.6813 - val_recall_5: 0.9069\n",
      "Epoch 17/20\n",
      " - 11s - loss: 0.4847 - recall_5: 0.8280 - val_loss: 0.5884 - val_recall_5: 0.8200\n",
      "Epoch 18/20\n",
      " - 11s - loss: 0.4838 - recall_5: 0.8261 - val_loss: 0.6023 - val_recall_5: 0.8614\n",
      "Epoch 19/20\n",
      " - 11s - loss: 0.4833 - recall_5: 0.8294 - val_loss: 0.6655 - val_recall_5: 0.8934\n",
      "Epoch 20/20\n",
      " - 11s - loss: 0.4828 - recall_5: 0.8279 - val_loss: 0.6693 - val_recall_5: 0.9049\n"
     ]
    }
   ],
   "source": [
    "gc.collect()\n",
    "history, model_mlp, train_pred_probs, test_pred_probs = train_model((train_sc, y_train_ext, test_sc, y_test_ext), **model_params)"
   ]
  },
  {
   "cell_type": "code",
   "execution_count": 68,
   "metadata": {},
   "outputs": [],
   "source": [
    "model_mlp.save('./Models/mlp_adam_precip70_cwEQ_ext_new.h5')"
   ]
  },
  {
   "cell_type": "code",
   "execution_count": 66,
   "metadata": {},
   "outputs": [
    {
     "data": {
      "text/html": [
       "<div>\n",
       "<style scoped>\n",
       "    .dataframe tbody tr th:only-of-type {\n",
       "        vertical-align: middle;\n",
       "    }\n",
       "\n",
       "    .dataframe tbody tr th {\n",
       "        vertical-align: top;\n",
       "    }\n",
       "\n",
       "    .dataframe thead tr th {\n",
       "        text-align: left;\n",
       "    }\n",
       "\n",
       "    .dataframe thead tr:last-of-type th {\n",
       "        text-align: right;\n",
       "    }\n",
       "</style>\n",
       "<table border=\"1\" class=\"dataframe\">\n",
       "  <thead>\n",
       "    <tr>\n",
       "      <th></th>\n",
       "      <th colspan=\"3\" halign=\"left\">Actual</th>\n",
       "      <th>Prob</th>\n",
       "    </tr>\n",
       "    <tr>\n",
       "      <th></th>\n",
       "      <th>mean</th>\n",
       "      <th>sum</th>\n",
       "      <th>count</th>\n",
       "      <th>mean</th>\n",
       "    </tr>\n",
       "    <tr>\n",
       "      <th>Bin</th>\n",
       "      <th></th>\n",
       "      <th></th>\n",
       "      <th></th>\n",
       "      <th></th>\n",
       "    </tr>\n",
       "  </thead>\n",
       "  <tbody>\n",
       "    <tr>\n",
       "      <th>1</th>\n",
       "      <td>0.000157</td>\n",
       "      <td>4.0</td>\n",
       "      <td>25522</td>\n",
       "      <td>0.050439</td>\n",
       "    </tr>\n",
       "    <tr>\n",
       "      <th>2</th>\n",
       "      <td>0.000667</td>\n",
       "      <td>18.0</td>\n",
       "      <td>26990</td>\n",
       "      <td>0.152859</td>\n",
       "    </tr>\n",
       "    <tr>\n",
       "      <th>3</th>\n",
       "      <td>0.001010</td>\n",
       "      <td>45.0</td>\n",
       "      <td>44538</td>\n",
       "      <td>0.254943</td>\n",
       "    </tr>\n",
       "    <tr>\n",
       "      <th>4</th>\n",
       "      <td>0.001531</td>\n",
       "      <td>90.0</td>\n",
       "      <td>58786</td>\n",
       "      <td>0.349348</td>\n",
       "    </tr>\n",
       "    <tr>\n",
       "      <th>5</th>\n",
       "      <td>0.002515</td>\n",
       "      <td>138.0</td>\n",
       "      <td>54864</td>\n",
       "      <td>0.450432</td>\n",
       "    </tr>\n",
       "    <tr>\n",
       "      <th>6</th>\n",
       "      <td>0.004260</td>\n",
       "      <td>275.0</td>\n",
       "      <td>64547</td>\n",
       "      <td>0.551397</td>\n",
       "    </tr>\n",
       "    <tr>\n",
       "      <th>7</th>\n",
       "      <td>0.004979</td>\n",
       "      <td>375.0</td>\n",
       "      <td>75309</td>\n",
       "      <td>0.652222</td>\n",
       "    </tr>\n",
       "    <tr>\n",
       "      <th>8</th>\n",
       "      <td>0.004418</td>\n",
       "      <td>259.0</td>\n",
       "      <td>58623</td>\n",
       "      <td>0.740377</td>\n",
       "    </tr>\n",
       "    <tr>\n",
       "      <th>9</th>\n",
       "      <td>0.004323</td>\n",
       "      <td>38.0</td>\n",
       "      <td>8791</td>\n",
       "      <td>0.826060</td>\n",
       "    </tr>\n",
       "    <tr>\n",
       "      <th>10</th>\n",
       "      <td>0.000000</td>\n",
       "      <td>0.0</td>\n",
       "      <td>116</td>\n",
       "      <td>0.949955</td>\n",
       "    </tr>\n",
       "    <tr>\n",
       "      <th>11</th>\n",
       "      <td>0.000000</td>\n",
       "      <td>0.0</td>\n",
       "      <td>15</td>\n",
       "      <td>1.000000</td>\n",
       "    </tr>\n",
       "  </tbody>\n",
       "</table>\n",
       "</div>"
      ],
      "text/plain": [
       "       Actual                    Prob\n",
       "         mean    sum  count      mean\n",
       "Bin                                  \n",
       "1    0.000157    4.0  25522  0.050439\n",
       "2    0.000667   18.0  26990  0.152859\n",
       "3    0.001010   45.0  44538  0.254943\n",
       "4    0.001531   90.0  58786  0.349348\n",
       "5    0.002515  138.0  54864  0.450432\n",
       "6    0.004260  275.0  64547  0.551397\n",
       "7    0.004979  375.0  75309  0.652222\n",
       "8    0.004418  259.0  58623  0.740377\n",
       "9    0.004323   38.0   8791  0.826060\n",
       "10   0.000000    0.0    116  0.949955\n",
       "11   0.000000    0.0     15  1.000000"
      ]
     },
     "execution_count": 66,
     "metadata": {},
     "output_type": "execute_result"
    }
   ],
   "source": [
    "bin_prob(test_pred_probs[:,0], y_test)"
   ]
  },
  {
   "cell_type": "code",
   "execution_count": 67,
   "metadata": {},
   "outputs": [
    {
     "name": "stdout",
     "output_type": "stream",
     "text": [
      "Confusion matrix, without normalization\n",
      "[[210405 206454]\n",
      " [   295    947]]\n",
      "              precision    recall  f1-score   support\n",
      "\n",
      "         nwf       1.00      0.50      0.67    416859\n",
      "          wf       0.00      0.76      0.01      1242\n",
      "\n",
      "   micro avg       0.51      0.51      0.51    418101\n",
      "   macro avg       0.50      0.63      0.34    418101\n",
      "weighted avg       1.00      0.51      0.67    418101\n",
      "\n"
     ]
    },
    {
     "data": {
      "image/png": "[encoded data removed]",
      "text/plain": [
       "<Figure size 432x288 with 2 Axes>"
      ]
     },
     "metadata": {
      "needs_background": "light"
     },
     "output_type": "display_data"
    },
    {
     "data": {
      "text/plain": [
       "<matplotlib.axes._subplots.AxesSubplot at 0x7f44e10da208>"
      ]
     },
     "execution_count": 67,
     "metadata": {},
     "output_type": "execute_result"
    }
   ],
   "source": [
    "test_preds = test_pred_probs[:,0]>0.5\n",
    "plot_confusion_matrix(y_test, test_preds, ['nwf', 'wf'], normalize=True)"
   ]
  },
  {
   "cell_type": "markdown",
   "metadata": {},
   "source": [
    "### + Precipitation cut at 90% humidity"
   ]
  },
  {
   "cell_type": "code",
   "execution_count": 82,
   "metadata": {
    "scrolled": true
   },
   "outputs": [
    {
     "name": "stderr",
     "output_type": "stream",
     "text": [
      "/usr/local/lib/python3.5/dist-packages/sklearn/preprocessing/data.py:334: DataConversionWarning: Data with input dtype bool, int64, float64 were all converted to float64 by MinMaxScaler.\n",
      "  return self.partial_fit(X, y)\n"
     ]
    }
   ],
   "source": [
    "gc.collect()\n",
    "feature_cols = wea_features + tl_features + sat_features + fuel_features + precip_cut90\n",
    "train, test, y_train, y_test, y_train_ext, y_test_ext, test_ids = split_train_test(final_df, feature_cols)\n",
    "\n",
    "train_sc = scaler.fit_transform(train)\n",
    "test_sc = scaler.transform(test)"
   ]
  },
  {
   "cell_type": "code",
   "execution_count": 83,
   "metadata": {},
   "outputs": [],
   "source": [
    "pickle.dump(scaler, open('./Models/scaler_10pct_precip90_cwEQ_ext_new', 'wb'))"
   ]
  },
  {
   "cell_type": "code",
   "execution_count": 70,
   "metadata": {},
   "outputs": [
    {
     "name": "stdout",
     "output_type": "stream",
     "text": [
      "Train on 825325 samples, validate on 418101 samples\n",
      "Epoch 1/20\n",
      " - 11s - loss: 0.5763 - recall_6: 0.7466 - val_loss: 0.7438 - val_recall_6: 0.9273\n",
      "Epoch 2/20\n",
      " - 11s - loss: 0.5382 - recall_6: 0.8054 - val_loss: 0.8523 - val_recall_6: 0.9423\n",
      "Epoch 3/20\n",
      " - 11s - loss: 0.5262 - recall_6: 0.8101 - val_loss: 0.7198 - val_recall_6: 0.9138\n",
      "Epoch 4/20\n",
      " - 11s - loss: 0.5197 - recall_6: 0.8123 - val_loss: 0.8024 - val_recall_6: 0.9491\n",
      "Epoch 5/20\n",
      " - 11s - loss: 0.5168 - recall_6: 0.8117 - val_loss: 0.7657 - val_recall_6: 0.9287\n",
      "Epoch 6/20\n",
      " - 11s - loss: 0.5154 - recall_6: 0.8159 - val_loss: 0.7124 - val_recall_6: 0.9044\n",
      "Epoch 7/20\n",
      " - 11s - loss: 0.5128 - recall_6: 0.8143 - val_loss: 0.7173 - val_recall_6: 0.9180\n",
      "Epoch 8/20\n",
      " - 11s - loss: 0.5123 - recall_6: 0.8172 - val_loss: 0.7528 - val_recall_6: 0.9201\n",
      "Epoch 9/20\n",
      " - 11s - loss: 0.5114 - recall_6: 0.8155 - val_loss: 0.7772 - val_recall_6: 0.9315\n",
      "Epoch 10/20\n",
      " - 11s - loss: 0.5100 - recall_6: 0.8174 - val_loss: 0.8004 - val_recall_6: 0.9261\n",
      "Epoch 11/20\n",
      " - 11s - loss: 0.5076 - recall_6: 0.8183 - val_loss: 0.7351 - val_recall_6: 0.9150\n",
      "Epoch 12/20\n",
      " - 11s - loss: 0.5075 - recall_6: 0.8196 - val_loss: 0.7261 - val_recall_6: 0.9197\n",
      "Epoch 13/20\n",
      " - 11s - loss: 0.5068 - recall_6: 0.8206 - val_loss: 0.7530 - val_recall_6: 0.9262\n",
      "Epoch 14/20\n",
      " - 11s - loss: 0.5066 - recall_6: 0.8206 - val_loss: 0.6745 - val_recall_6: 0.9103\n",
      "Epoch 15/20\n",
      " - 12s - loss: 0.5038 - recall_6: 0.8231 - val_loss: 0.6399 - val_recall_6: 0.8951\n",
      "Epoch 16/20\n",
      " - 11s - loss: 0.5046 - recall_6: 0.8225 - val_loss: 0.6956 - val_recall_6: 0.9077\n",
      "Epoch 17/20\n",
      " - 11s - loss: 0.5013 - recall_6: 0.8203 - val_loss: 0.6859 - val_recall_6: 0.9080\n",
      "Epoch 18/20\n",
      " - 11s - loss: 0.5012 - recall_6: 0.8218 - val_loss: 0.6740 - val_recall_6: 0.9088\n",
      "Epoch 19/20\n",
      " - 12s - loss: 0.5013 - recall_6: 0.8221 - val_loss: 0.7115 - val_recall_6: 0.9239\n",
      "Epoch 20/20\n",
      " - 11s - loss: 0.5006 - recall_6: 0.8233 - val_loss: 0.6768 - val_recall_6: 0.9000\n"
     ]
    }
   ],
   "source": [
    "gc.collect()\n",
    "history, model_mlp, train_pred_probs, test_pred_probs = train_model((train_sc, y_train_ext, test_sc, y_test_ext), **model_params)"
   ]
  },
  {
   "cell_type": "code",
   "execution_count": 73,
   "metadata": {},
   "outputs": [],
   "source": [
    "model_mlp.save('./Models/mlp_adam_precip90_cwEQ_ext_new.h5')"
   ]
  },
  {
   "cell_type": "code",
   "execution_count": 71,
   "metadata": {},
   "outputs": [
    {
     "data": {
      "text/html": [
       "<div>\n",
       "<style scoped>\n",
       "    .dataframe tbody tr th:only-of-type {\n",
       "        vertical-align: middle;\n",
       "    }\n",
       "\n",
       "    .dataframe tbody tr th {\n",
       "        vertical-align: top;\n",
       "    }\n",
       "\n",
       "    .dataframe thead tr th {\n",
       "        text-align: left;\n",
       "    }\n",
       "\n",
       "    .dataframe thead tr:last-of-type th {\n",
       "        text-align: right;\n",
       "    }\n",
       "</style>\n",
       "<table border=\"1\" class=\"dataframe\">\n",
       "  <thead>\n",
       "    <tr>\n",
       "      <th></th>\n",
       "      <th colspan=\"3\" halign=\"left\">Actual</th>\n",
       "      <th>Prob</th>\n",
       "    </tr>\n",
       "    <tr>\n",
       "      <th></th>\n",
       "      <th>mean</th>\n",
       "      <th>sum</th>\n",
       "      <th>count</th>\n",
       "      <th>mean</th>\n",
       "    </tr>\n",
       "    <tr>\n",
       "      <th>Bin</th>\n",
       "      <th></th>\n",
       "      <th></th>\n",
       "      <th></th>\n",
       "      <th></th>\n",
       "    </tr>\n",
       "  </thead>\n",
       "  <tbody>\n",
       "    <tr>\n",
       "      <th>1</th>\n",
       "      <td>0.000295</td>\n",
       "      <td>7.0</td>\n",
       "      <td>23703</td>\n",
       "      <td>0.046321</td>\n",
       "    </tr>\n",
       "    <tr>\n",
       "      <th>2</th>\n",
       "      <td>0.000882</td>\n",
       "      <td>22.0</td>\n",
       "      <td>24931</td>\n",
       "      <td>0.151393</td>\n",
       "    </tr>\n",
       "    <tr>\n",
       "      <th>3</th>\n",
       "      <td>0.001595</td>\n",
       "      <td>54.0</td>\n",
       "      <td>33853</td>\n",
       "      <td>0.253466</td>\n",
       "    </tr>\n",
       "    <tr>\n",
       "      <th>4</th>\n",
       "      <td>0.002093</td>\n",
       "      <td>108.0</td>\n",
       "      <td>51604</td>\n",
       "      <td>0.353024</td>\n",
       "    </tr>\n",
       "    <tr>\n",
       "      <th>5</th>\n",
       "      <td>0.002814</td>\n",
       "      <td>190.0</td>\n",
       "      <td>67523</td>\n",
       "      <td>0.451563</td>\n",
       "    </tr>\n",
       "    <tr>\n",
       "      <th>6</th>\n",
       "      <td>0.003345</td>\n",
       "      <td>263.0</td>\n",
       "      <td>78630</td>\n",
       "      <td>0.550667</td>\n",
       "    </tr>\n",
       "    <tr>\n",
       "      <th>7</th>\n",
       "      <td>0.004402</td>\n",
       "      <td>363.0</td>\n",
       "      <td>82458</td>\n",
       "      <td>0.649436</td>\n",
       "    </tr>\n",
       "    <tr>\n",
       "      <th>8</th>\n",
       "      <td>0.004138</td>\n",
       "      <td>209.0</td>\n",
       "      <td>50510</td>\n",
       "      <td>0.740790</td>\n",
       "    </tr>\n",
       "    <tr>\n",
       "      <th>9</th>\n",
       "      <td>0.005374</td>\n",
       "      <td>26.0</td>\n",
       "      <td>4838</td>\n",
       "      <td>0.821879</td>\n",
       "    </tr>\n",
       "    <tr>\n",
       "      <th>10</th>\n",
       "      <td>0.000000</td>\n",
       "      <td>0.0</td>\n",
       "      <td>34</td>\n",
       "      <td>0.967859</td>\n",
       "    </tr>\n",
       "    <tr>\n",
       "      <th>11</th>\n",
       "      <td>0.000000</td>\n",
       "      <td>0.0</td>\n",
       "      <td>17</td>\n",
       "      <td>1.000000</td>\n",
       "    </tr>\n",
       "  </tbody>\n",
       "</table>\n",
       "</div>"
      ],
      "text/plain": [
       "       Actual                    Prob\n",
       "         mean    sum  count      mean\n",
       "Bin                                  \n",
       "1    0.000295    7.0  23703  0.046321\n",
       "2    0.000882   22.0  24931  0.151393\n",
       "3    0.001595   54.0  33853  0.253466\n",
       "4    0.002093  108.0  51604  0.353024\n",
       "5    0.002814  190.0  67523  0.451563\n",
       "6    0.003345  263.0  78630  0.550667\n",
       "7    0.004402  363.0  82458  0.649436\n",
       "8    0.004138  209.0  50510  0.740790\n",
       "9    0.005374   26.0   4838  0.821879\n",
       "10   0.000000    0.0     34  0.967859\n",
       "11   0.000000    0.0     17  1.000000"
      ]
     },
     "execution_count": 71,
     "metadata": {},
     "output_type": "execute_result"
    }
   ],
   "source": [
    "bin_prob(test_pred_probs[:,0], y_test)"
   ]
  },
  {
   "cell_type": "code",
   "execution_count": 72,
   "metadata": {},
   "outputs": [
    {
     "name": "stdout",
     "output_type": "stream",
     "text": [
      "Confusion matrix, without normalization\n",
      "[[201233 215626]\n",
      " [   381    861]]\n",
      "              precision    recall  f1-score   support\n",
      "\n",
      "         nwf       1.00      0.48      0.65    416859\n",
      "          wf       0.00      0.69      0.01      1242\n",
      "\n",
      "   micro avg       0.48      0.48      0.48    418101\n",
      "   macro avg       0.50      0.59      0.33    418101\n",
      "weighted avg       1.00      0.48      0.65    418101\n",
      "\n"
     ]
    },
    {
     "data": {
      "image/png": "[encoded data removed]",
      "text/plain": [
       "<Figure size 432x288 with 2 Axes>"
      ]
     },
     "metadata": {
      "needs_background": "light"
     },
     "output_type": "display_data"
    },
    {
     "data": {
      "text/plain": [
       "<matplotlib.axes._subplots.AxesSubplot at 0x7f44e0b32be0>"
      ]
     },
     "execution_count": 72,
     "metadata": {},
     "output_type": "execute_result"
    }
   ],
   "source": [
    "test_preds = test_pred_probs[:,0]>0.5\n",
    "plot_confusion_matrix(y_test, test_preds, ['nwf', 'wf'], normalize=True)"
   ]
  },
  {
   "cell_type": "markdown",
   "metadata": {},
   "source": [
    "### + The Rest"
   ]
  },
  {
   "cell_type": "code",
   "execution_count": 17,
   "metadata": {},
   "outputs": [
    {
     "name": "stderr",
     "output_type": "stream",
     "text": [
      "/usr/local/lib/python3.5/dist-packages/sklearn/preprocessing/data.py:334: DataConversionWarning: Data with input dtype bool, int64, float64 were all converted to float64 by MinMaxScaler.\n",
      "  return self.partial_fit(X, y)\n"
     ]
    }
   ],
   "source": [
    "gc.collect()\n",
    "feature_cols = wea_features + tl_features + sat_features + fuel_features + precip_cut50 + new_tl_features + new_control_features + ['sat_faparval_median']\n",
    "train, test, y_train, y_test, y_train_ext, y_test_ext, test_ids = split_train_test(final_df, feature_cols)\n",
    "\n",
    "train_sc = scaler.fit_transform(train)\n",
    "test_sc = scaler.transform(test)"
   ]
  },
  {
   "cell_type": "code",
   "execution_count": 18,
   "metadata": {},
   "outputs": [],
   "source": [
    "pickle.dump(scaler, open('./Models/scaler_10pct_precip50_cwEQ_ext_other', 'wb'))"
   ]
  },
  {
   "cell_type": "code",
   "execution_count": 23,
   "metadata": {},
   "outputs": [
    {
     "name": "stdout",
     "output_type": "stream",
     "text": [
      "WARNING:tensorflow:From /usr/local/lib/python3.5/dist-packages/tensorflow/python/keras/layers/core.py:143: calling dropout (from tensorflow.python.ops.nn_ops) with keep_prob is deprecated and will be removed in a future version.\n",
      "Instructions for updating:\n",
      "Please use `rate` instead of `keep_prob`. Rate should be set to `rate = 1 - keep_prob`.\n",
      "WARNING:tensorflow:From /usr/local/lib/python3.5/dist-packages/tensorflow/python/ops/control_flow_ops.py:423: colocate_with (from tensorflow.python.framework.ops) is deprecated and will be removed in a future version.\n",
      "Instructions for updating:\n",
      "Colocations handled automatically by placer.\n",
      "Train on 825325 samples, validate on 418101 samples\n",
      "WARNING:tensorflow:From /usr/local/lib/python3.5/dist-packages/tensorflow/python/ops/math_ops.py:3066: to_int32 (from tensorflow.python.ops.math_ops) is deprecated and will be removed in a future version.\n",
      "Instructions for updating:\n",
      "Use tf.cast instead.\n",
      "Epoch 1/20\n",
      " - 11s - loss: 0.5708 - recall: 0.7366 - val_loss: 0.6452 - val_recall: 0.8319\n",
      "Epoch 2/20\n",
      " - 10s - loss: 0.5219 - recall: 0.7894 - val_loss: 0.6585 - val_recall: 0.8489\n",
      "Epoch 3/20\n",
      " - 11s - loss: 0.5056 - recall: 0.8061 - val_loss: 0.6578 - val_recall: 0.8443\n",
      "Epoch 4/20\n",
      " - 11s - loss: 0.4975 - recall: 0.8095 - val_loss: 0.6947 - val_recall: 0.8705\n",
      "Epoch 5/20\n",
      " - 11s - loss: 0.4930 - recall: 0.8137 - val_loss: 0.6718 - val_recall: 0.8602\n",
      "Epoch 6/20\n",
      " - 11s - loss: 0.4902 - recall: 0.8156 - val_loss: 0.6641 - val_recall: 0.8716\n",
      "Epoch 7/20\n",
      " - 11s - loss: 0.4876 - recall: 0.8203 - val_loss: 0.6837 - val_recall: 0.8719\n",
      "Epoch 8/20\n",
      " - 11s - loss: 0.4850 - recall: 0.8195 - val_loss: 0.6874 - val_recall: 0.8888\n",
      "Epoch 9/20\n",
      " - 10s - loss: 0.4827 - recall: 0.8224 - val_loss: 0.6863 - val_recall: 0.8845\n",
      "Epoch 10/20\n",
      " - 10s - loss: 0.4826 - recall: 0.8231 - val_loss: 0.6573 - val_recall: 0.8583\n",
      "Epoch 11/20\n",
      " - 10s - loss: 0.4813 - recall: 0.8241 - val_loss: 0.6439 - val_recall: 0.8624\n",
      "Epoch 12/20\n",
      " - 10s - loss: 0.4785 - recall: 0.8292 - val_loss: 0.6252 - val_recall: 0.8605\n",
      "Epoch 13/20\n",
      " - 10s - loss: 0.4790 - recall: 0.8266 - val_loss: 0.6551 - val_recall: 0.8652\n",
      "Epoch 14/20\n",
      " - 10s - loss: 0.4769 - recall: 0.8296 - val_loss: 0.6450 - val_recall: 0.8502\n",
      "Epoch 15/20\n",
      " - 10s - loss: 0.4765 - recall: 0.8299 - val_loss: 0.6639 - val_recall: 0.8701\n",
      "Epoch 16/20\n",
      " - 10s - loss: 0.4763 - recall: 0.8297 - val_loss: 0.6698 - val_recall: 0.8764\n",
      "Epoch 17/20\n",
      " - 10s - loss: 0.4761 - recall: 0.8295 - val_loss: 0.6488 - val_recall: 0.8842\n",
      "Epoch 18/20\n",
      " - 10s - loss: 0.4741 - recall: 0.8323 - val_loss: 0.6302 - val_recall: 0.8580\n",
      "Epoch 19/20\n",
      " - 10s - loss: 0.4737 - recall: 0.8300 - val_loss: 0.6258 - val_recall: 0.8680\n",
      "Epoch 20/20\n",
      " - 10s - loss: 0.4736 - recall: 0.8331 - val_loss: 0.6092 - val_recall: 0.8554\n"
     ]
    }
   ],
   "source": [
    "gc.collect()\n",
    "history, model_mlp, train_pred_probs, test_pred_probs = train_model((train_sc, y_train_ext, test_sc, y_test_ext), **model_params)"
   ]
  },
  {
   "cell_type": "code",
   "execution_count": 24,
   "metadata": {},
   "outputs": [],
   "source": [
    "model_mlp.save('./Models/mlp_adam_precip50_cwEQ_ext_other.h5')"
   ]
  },
  {
   "cell_type": "code",
   "execution_count": 25,
   "metadata": {},
   "outputs": [
    {
     "data": {
      "text/html": [
       "<div>\n",
       "<style scoped>\n",
       "    .dataframe tbody tr th:only-of-type {\n",
       "        vertical-align: middle;\n",
       "    }\n",
       "\n",
       "    .dataframe tbody tr th {\n",
       "        vertical-align: top;\n",
       "    }\n",
       "\n",
       "    .dataframe thead tr th {\n",
       "        text-align: left;\n",
       "    }\n",
       "\n",
       "    .dataframe thead tr:last-of-type th {\n",
       "        text-align: right;\n",
       "    }\n",
       "</style>\n",
       "<table border=\"1\" class=\"dataframe\">\n",
       "  <thead>\n",
       "    <tr>\n",
       "      <th></th>\n",
       "      <th colspan=\"3\" halign=\"left\">Actual</th>\n",
       "      <th>Prob</th>\n",
       "    </tr>\n",
       "    <tr>\n",
       "      <th></th>\n",
       "      <th>mean</th>\n",
       "      <th>sum</th>\n",
       "      <th>count</th>\n",
       "      <th>mean</th>\n",
       "    </tr>\n",
       "    <tr>\n",
       "      <th>Bin</th>\n",
       "      <th></th>\n",
       "      <th></th>\n",
       "      <th></th>\n",
       "      <th></th>\n",
       "    </tr>\n",
       "  </thead>\n",
       "  <tbody>\n",
       "    <tr>\n",
       "      <th>1</th>\n",
       "      <td>0.000332</td>\n",
       "      <td>13.0</td>\n",
       "      <td>39112</td>\n",
       "      <td>0.046359</td>\n",
       "    </tr>\n",
       "    <tr>\n",
       "      <th>2</th>\n",
       "      <td>0.001180</td>\n",
       "      <td>44.0</td>\n",
       "      <td>37287</td>\n",
       "      <td>0.152040</td>\n",
       "    </tr>\n",
       "    <tr>\n",
       "      <th>3</th>\n",
       "      <td>0.001550</td>\n",
       "      <td>74.0</td>\n",
       "      <td>47755</td>\n",
       "      <td>0.251942</td>\n",
       "    </tr>\n",
       "    <tr>\n",
       "      <th>4</th>\n",
       "      <td>0.002126</td>\n",
       "      <td>119.0</td>\n",
       "      <td>55969</td>\n",
       "      <td>0.351156</td>\n",
       "    </tr>\n",
       "    <tr>\n",
       "      <th>5</th>\n",
       "      <td>0.002791</td>\n",
       "      <td>170.0</td>\n",
       "      <td>60916</td>\n",
       "      <td>0.450015</td>\n",
       "    </tr>\n",
       "    <tr>\n",
       "      <th>6</th>\n",
       "      <td>0.003313</td>\n",
       "      <td>191.0</td>\n",
       "      <td>57660</td>\n",
       "      <td>0.548480</td>\n",
       "    </tr>\n",
       "    <tr>\n",
       "      <th>7</th>\n",
       "      <td>0.005354</td>\n",
       "      <td>323.0</td>\n",
       "      <td>60326</td>\n",
       "      <td>0.652202</td>\n",
       "    </tr>\n",
       "    <tr>\n",
       "      <th>8</th>\n",
       "      <td>0.005299</td>\n",
       "      <td>283.0</td>\n",
       "      <td>53409</td>\n",
       "      <td>0.741068</td>\n",
       "    </tr>\n",
       "    <tr>\n",
       "      <th>9</th>\n",
       "      <td>0.004574</td>\n",
       "      <td>25.0</td>\n",
       "      <td>5466</td>\n",
       "      <td>0.822121</td>\n",
       "    </tr>\n",
       "    <tr>\n",
       "      <th>10</th>\n",
       "      <td>0.000000</td>\n",
       "      <td>0.0</td>\n",
       "      <td>187</td>\n",
       "      <td>0.959463</td>\n",
       "    </tr>\n",
       "    <tr>\n",
       "      <th>11</th>\n",
       "      <td>0.000000</td>\n",
       "      <td>0.0</td>\n",
       "      <td>14</td>\n",
       "      <td>1.000000</td>\n",
       "    </tr>\n",
       "  </tbody>\n",
       "</table>\n",
       "</div>"
      ],
      "text/plain": [
       "       Actual                    Prob\n",
       "         mean    sum  count      mean\n",
       "Bin                                  \n",
       "1    0.000332   13.0  39112  0.046359\n",
       "2    0.001180   44.0  37287  0.152040\n",
       "3    0.001550   74.0  47755  0.251942\n",
       "4    0.002126  119.0  55969  0.351156\n",
       "5    0.002791  170.0  60916  0.450015\n",
       "6    0.003313  191.0  57660  0.548480\n",
       "7    0.005354  323.0  60326  0.652202\n",
       "8    0.005299  283.0  53409  0.741068\n",
       "9    0.004574   25.0   5466  0.822121\n",
       "10   0.000000    0.0    187  0.959463\n",
       "11   0.000000    0.0     14  1.000000"
      ]
     },
     "execution_count": 25,
     "metadata": {},
     "output_type": "execute_result"
    }
   ],
   "source": [
    "bin_prob(test_pred_probs[:,0], y_test)"
   ]
  },
  {
   "cell_type": "code",
   "execution_count": 26,
   "metadata": {},
   "outputs": [
    {
     "name": "stdout",
     "output_type": "stream",
     "text": [
      "Confusion matrix, without normalization\n",
      "[[240619 176240]\n",
      " [   420    822]]\n",
      "              precision    recall  f1-score   support\n",
      "\n",
      "         nwf       1.00      0.58      0.73    416859\n",
      "          wf       0.00      0.66      0.01      1242\n",
      "\n",
      "   micro avg       0.58      0.58      0.58    418101\n",
      "   macro avg       0.50      0.62      0.37    418101\n",
      "weighted avg       1.00      0.58      0.73    418101\n",
      "\n"
     ]
    },
    {
     "data": {
      "image/png": "[encoded data removed]",
      "text/plain": [
       "<Figure size 432x288 with 2 Axes>"
      ]
     },
     "metadata": {
      "needs_background": "light"
     },
     "output_type": "display_data"
    },
    {
     "data": {
      "text/plain": [
       "<matplotlib.axes._subplots.AxesSubplot at 0x7fa7584d6b38>"
      ]
     },
     "execution_count": 26,
     "metadata": {},
     "output_type": "execute_result"
    }
   ],
   "source": [
    "test_preds = test_pred_probs[:,0]>0.5\n",
    "plot_confusion_matrix(y_test, test_preds, ['nwf', 'wf'], normalize=True)"
   ]
  },
  {
   "cell_type": "markdown",
   "metadata": {},
   "source": [
    "### precip50 + new sat feature"
   ]
  },
  {
   "cell_type": "code",
   "execution_count": 100,
   "metadata": {},
   "outputs": [
    {
     "name": "stderr",
     "output_type": "stream",
     "text": [
      "/usr/local/lib/python3.5/dist-packages/sklearn/preprocessing/data.py:334: DataConversionWarning: Data with input dtype bool, int64, float64 were all converted to float64 by MinMaxScaler.\n",
      "  return self.partial_fit(X, y)\n"
     ]
    }
   ],
   "source": [
    "gc.collect()\n",
    "feature_cols = wea_features + tl_features + sat_features + fuel_features + precip_cut50 + new_control_features + ['sat_faparval_undefined']\n",
    "train, test, y_train, y_test, y_train_ext, y_test_ext, test_ids = split_train_test(final_df, feature_cols)\n",
    "\n",
    "train_sc = scaler.fit_transform(train)\n",
    "test_sc = scaler.transform(test)"
   ]
  },
  {
   "cell_type": "code",
   "execution_count": 101,
   "metadata": {},
   "outputs": [],
   "source": [
    "pickle.dump(scaler, open('./Models/scaler_10pct_precip50_cwEQ_ext_fz_sat', 'wb'))"
   ]
  },
  {
   "cell_type": "code",
   "execution_count": 102,
   "metadata": {},
   "outputs": [
    {
     "name": "stdout",
     "output_type": "stream",
     "text": [
      "Train on 825325 samples, validate on 418101 samples\n",
      "Epoch 1/20\n",
      " - 13s - loss: 0.5665 - recall_9: 0.7476 - val_loss: 0.7072 - val_recall_9: 0.8892\n",
      "Epoch 2/20\n",
      " - 12s - loss: 0.5205 - recall_9: 0.7940 - val_loss: 0.7191 - val_recall_9: 0.8950\n",
      "Epoch 3/20\n",
      " - 12s - loss: 0.5060 - recall_9: 0.8052 - val_loss: 0.6475 - val_recall_9: 0.8842\n",
      "Epoch 4/20\n",
      " - 13s - loss: 0.4989 - recall_9: 0.8110 - val_loss: 0.6982 - val_recall_9: 0.9020\n",
      "Epoch 5/20\n",
      " - 12s - loss: 0.4933 - recall_9: 0.8136 - val_loss: 0.6433 - val_recall_9: 0.8405\n",
      "Epoch 6/20\n",
      " - 12s - loss: 0.4902 - recall_9: 0.8172 - val_loss: 0.7069 - val_recall_9: 0.9067\n",
      "Epoch 7/20\n",
      " - 12s - loss: 0.4868 - recall_9: 0.8201 - val_loss: 0.6950 - val_recall_9: 0.8969\n",
      "Epoch 8/20\n",
      " - 12s - loss: 0.4855 - recall_9: 0.8200 - val_loss: 0.7234 - val_recall_9: 0.9004\n",
      "Epoch 9/20\n",
      " - 12s - loss: 0.4834 - recall_9: 0.8224 - val_loss: 0.6870 - val_recall_9: 0.9044\n",
      "Epoch 10/20\n",
      " - 12s - loss: 0.4829 - recall_9: 0.8215 - val_loss: 0.7041 - val_recall_9: 0.9036\n",
      "Epoch 11/20\n",
      " - 13s - loss: 0.4830 - recall_9: 0.8242 - val_loss: 0.6400 - val_recall_9: 0.8822\n",
      "Epoch 12/20\n",
      " - 13s - loss: 0.4802 - recall_9: 0.8231 - val_loss: 0.6868 - val_recall_9: 0.8982\n",
      "Epoch 13/20\n",
      " - 13s - loss: 0.4789 - recall_9: 0.8258 - val_loss: 0.6411 - val_recall_9: 0.8851\n",
      "Epoch 14/20\n",
      " - 12s - loss: 0.4790 - recall_9: 0.8249 - val_loss: 0.6548 - val_recall_9: 0.8823\n",
      "Epoch 15/20\n",
      " - 14s - loss: 0.4775 - recall_9: 0.8255 - val_loss: 0.6348 - val_recall_9: 0.8727\n",
      "Epoch 16/20\n",
      " - 12s - loss: 0.4782 - recall_9: 0.8252 - val_loss: 0.7246 - val_recall_9: 0.9041\n",
      "Epoch 17/20\n",
      " - 12s - loss: 0.4769 - recall_9: 0.8259 - val_loss: 0.6678 - val_recall_9: 0.8918\n",
      "Epoch 18/20\n",
      " - 12s - loss: 0.4769 - recall_9: 0.8268 - val_loss: 0.5781 - val_recall_9: 0.8437\n",
      "Epoch 19/20\n",
      " - 12s - loss: 0.4762 - recall_9: 0.8252 - val_loss: 0.6376 - val_recall_9: 0.8849\n",
      "Epoch 20/20\n",
      " - 12s - loss: 0.4754 - recall_9: 0.8277 - val_loss: 0.7320 - val_recall_9: 0.9059\n"
     ]
    }
   ],
   "source": [
    "gc.collect()\n",
    "history, model_mlp, train_pred_probs, test_pred_probs = train_model((train_sc, y_train_ext, test_sc, y_test_ext), **model_params)"
   ]
  },
  {
   "cell_type": "code",
   "execution_count": 103,
   "metadata": {},
   "outputs": [],
   "source": [
    "model_mlp.save('./Models/mlp_adam_precip50_cwEQ_ext_fz_sat.h5')"
   ]
  },
  {
   "cell_type": "code",
   "execution_count": 104,
   "metadata": {},
   "outputs": [
    {
     "data": {
      "text/html": [
       "<div>\n",
       "<style scoped>\n",
       "    .dataframe tbody tr th:only-of-type {\n",
       "        vertical-align: middle;\n",
       "    }\n",
       "\n",
       "    .dataframe tbody tr th {\n",
       "        vertical-align: top;\n",
       "    }\n",
       "\n",
       "    .dataframe thead tr th {\n",
       "        text-align: left;\n",
       "    }\n",
       "\n",
       "    .dataframe thead tr:last-of-type th {\n",
       "        text-align: right;\n",
       "    }\n",
       "</style>\n",
       "<table border=\"1\" class=\"dataframe\">\n",
       "  <thead>\n",
       "    <tr>\n",
       "      <th></th>\n",
       "      <th colspan=\"3\" halign=\"left\">Actual</th>\n",
       "      <th>Prob</th>\n",
       "    </tr>\n",
       "    <tr>\n",
       "      <th></th>\n",
       "      <th>mean</th>\n",
       "      <th>sum</th>\n",
       "      <th>count</th>\n",
       "      <th>mean</th>\n",
       "    </tr>\n",
       "    <tr>\n",
       "      <th>Bin</th>\n",
       "      <th></th>\n",
       "      <th></th>\n",
       "      <th></th>\n",
       "      <th></th>\n",
       "    </tr>\n",
       "  </thead>\n",
       "  <tbody>\n",
       "    <tr>\n",
       "      <th>1</th>\n",
       "      <td>0.000223</td>\n",
       "      <td>6.0</td>\n",
       "      <td>26937</td>\n",
       "      <td>0.049603</td>\n",
       "    </tr>\n",
       "    <tr>\n",
       "      <th>2</th>\n",
       "      <td>0.000720</td>\n",
       "      <td>17.0</td>\n",
       "      <td>23603</td>\n",
       "      <td>0.150749</td>\n",
       "    </tr>\n",
       "    <tr>\n",
       "      <th>3</th>\n",
       "      <td>0.001398</td>\n",
       "      <td>46.0</td>\n",
       "      <td>32915</td>\n",
       "      <td>0.254190</td>\n",
       "    </tr>\n",
       "    <tr>\n",
       "      <th>4</th>\n",
       "      <td>0.001509</td>\n",
       "      <td>77.0</td>\n",
       "      <td>51020</td>\n",
       "      <td>0.352705</td>\n",
       "    </tr>\n",
       "    <tr>\n",
       "      <th>5</th>\n",
       "      <td>0.002549</td>\n",
       "      <td>163.0</td>\n",
       "      <td>63946</td>\n",
       "      <td>0.451136</td>\n",
       "    </tr>\n",
       "    <tr>\n",
       "      <th>6</th>\n",
       "      <td>0.003026</td>\n",
       "      <td>192.0</td>\n",
       "      <td>63457</td>\n",
       "      <td>0.549901</td>\n",
       "    </tr>\n",
       "    <tr>\n",
       "      <th>7</th>\n",
       "      <td>0.004810</td>\n",
       "      <td>296.0</td>\n",
       "      <td>61537</td>\n",
       "      <td>0.649494</td>\n",
       "    </tr>\n",
       "    <tr>\n",
       "      <th>8</th>\n",
       "      <td>0.004990</td>\n",
       "      <td>325.0</td>\n",
       "      <td>65135</td>\n",
       "      <td>0.748529</td>\n",
       "    </tr>\n",
       "    <tr>\n",
       "      <th>9</th>\n",
       "      <td>0.003945</td>\n",
       "      <td>111.0</td>\n",
       "      <td>28137</td>\n",
       "      <td>0.835962</td>\n",
       "    </tr>\n",
       "    <tr>\n",
       "      <th>10</th>\n",
       "      <td>0.006410</td>\n",
       "      <td>9.0</td>\n",
       "      <td>1404</td>\n",
       "      <td>0.920287</td>\n",
       "    </tr>\n",
       "    <tr>\n",
       "      <th>11</th>\n",
       "      <td>0.000000</td>\n",
       "      <td>0.0</td>\n",
       "      <td>10</td>\n",
       "      <td>1.000000</td>\n",
       "    </tr>\n",
       "  </tbody>\n",
       "</table>\n",
       "</div>"
      ],
      "text/plain": [
       "       Actual                    Prob\n",
       "         mean    sum  count      mean\n",
       "Bin                                  \n",
       "1    0.000223    6.0  26937  0.049603\n",
       "2    0.000720   17.0  23603  0.150749\n",
       "3    0.001398   46.0  32915  0.254190\n",
       "4    0.001509   77.0  51020  0.352705\n",
       "5    0.002549  163.0  63946  0.451136\n",
       "6    0.003026  192.0  63457  0.549901\n",
       "7    0.004810  296.0  61537  0.649494\n",
       "8    0.004990  325.0  65135  0.748529\n",
       "9    0.003945  111.0  28137  0.835962\n",
       "10   0.006410    9.0   1404  0.920287\n",
       "11   0.000000    0.0     10  1.000000"
      ]
     },
     "execution_count": 104,
     "metadata": {},
     "output_type": "execute_result"
    }
   ],
   "source": [
    "bin_prob(test_pred_probs[:,0], y_test)"
   ]
  },
  {
   "cell_type": "code",
   "execution_count": 105,
   "metadata": {},
   "outputs": [
    {
     "name": "stdout",
     "output_type": "stream",
     "text": [
      "Confusion matrix, without normalization\n",
      "[[198112 218747]\n",
      " [   309    933]]\n",
      "              precision    recall  f1-score   support\n",
      "\n",
      "         nwf       1.00      0.48      0.64    416859\n",
      "          wf       0.00      0.75      0.01      1242\n",
      "\n",
      "   micro avg       0.48      0.48      0.48    418101\n",
      "   macro avg       0.50      0.61      0.33    418101\n",
      "weighted avg       1.00      0.48      0.64    418101\n",
      "\n"
     ]
    },
    {
     "data": {
      "image/png": "[encoded data removed]",
      "text/plain": [
       "<Figure size 432x288 with 2 Axes>"
      ]
     },
     "metadata": {
      "needs_background": "light"
     },
     "output_type": "display_data"
    },
    {
     "data": {
      "text/plain": [
       "<matplotlib.axes._subplots.AxesSubplot at 0x7f44df933d68>"
      ]
     },
     "execution_count": 105,
     "metadata": {},
     "output_type": "execute_result"
    }
   ],
   "source": [
    "test_preds = test_pred_probs[:,0]>0.5\n",
    "plot_confusion_matrix(y_test, test_preds, ['nwf', 'wf'], normalize=True)"
   ]
  },
  {
   "cell_type": "code",
   "execution_count": null,
   "metadata": {},
   "outputs": [],
   "source": []
  }
 ],
 "metadata": {
  "kernelspec": {
   "display_name": "Python 3",
   "language": "python",
   "name": "python3"
  },
  "language_info": {
   "codemirror_mode": {
    "name": "ipython",
    "version": 3
   },
   "file_extension": ".py",
   "mimetype": "text/x-python",
   "name": "python",
   "nbconvert_exporter": "python",
   "pygments_lexer": "ipython3",
   "version": "3.5.2"
  }
 },
 "nbformat": 4,
 "nbformat_minor": 2
}
