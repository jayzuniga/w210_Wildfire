{
 "cells": [
  {
   "cell_type": "code",
   "execution_count": 2,
   "metadata": {},
   "outputs": [],
   "source": [
    "import pandas as pd\n",
    "import numpy as np\n",
    "import gc\n",
    "import os\n",
    "import time"
   ]
  },
  {
   "cell_type": "code",
   "execution_count": 18,
   "metadata": {},
   "outputs": [],
   "source": [
    "keep_wf_cols = [\n",
    "    'S2_Cells_ID',\n",
    "    'WF_FIRE_DATE',\n",
    "    'WF_WildFire',\n",
    "    'WF_WildFire_COUNT_1YR_AGO',\n",
    "    'WF_WildFire_COUNT_2YR_AGO',\n",
    "    'WF_WildFire_COUNT_3YR_AGO',\n",
    "    'WF_WildFire_COUNT_4YR_AGO',\n",
    "    'WF_WildFire_COUNT_5YR_AGO'\n",
    "]\n",
    "\n",
    "new_wf_cols = [\n",
    "    's2_cell_id',\n",
    "    'measure_date',\n",
    "    'wf_wildfire_ext',         \n",
    "    'wf_count_1yr_ago',    \n",
    "    'wf_count_2yr_ago',    \n",
    "    'wf_count_3yr_ago',    \n",
    "    'wf_count_4yr_ago',    \n",
    "    'wf_count_5yr_ago'    \n",
    "]\n",
    "wf_hist_cols = [\n",
    "    'wf_count_1yr_ago',    \n",
    "    'wf_count_2yr_ago',    \n",
    "    'wf_count_3yr_ago',    \n",
    "    'wf_count_4yr_ago',    \n",
    "    'wf_count_5yr_ago'    \n",
    "]"
   ]
  },
  {
   "cell_type": "markdown",
   "metadata": {},
   "source": [
    "### Re-processing final dataset\n",
    "\n",
    "- `WildFire_S2Cells_Extended.csv` is available on GitHub in DataPrep/Data/Procecced directory\n",
    "- It's created in the `DataPrep/WildFire_S2_Ext.ipynb`\n",
    "- \"Extended\" means that the wildfire indicator for the cell extends beyond alarm date (up to containment date)"
   ]
  },
  {
   "cell_type": "code",
   "execution_count": 19,
   "metadata": {},
   "outputs": [
    {
     "data": {
      "text/plain": [
       "(86689, 8)"
      ]
     },
     "execution_count": 19,
     "metadata": {},
     "output_type": "execute_result"
    }
   ],
   "source": [
    "new_wf_data = pd.read_csv('../Data/Processed/WildFire_S2Cells_Extended.csv')\n",
    "new_wf_data = new_wf_data[keep_wf_cols]\n",
    "new_wf_data.columns = new_wf_cols\n",
    "new_wf_data.shape"
   ]
  },
  {
   "cell_type": "code",
   "execution_count": 17,
   "metadata": {},
   "outputs": [
    {
     "data": {
      "text/plain": [
       "86689"
      ]
     },
     "execution_count": 17,
     "metadata": {},
     "output_type": "execute_result"
    }
   ],
   "source": [
    "new_wf_data.wf_wildfire.sum()"
   ]
  },
  {
   "cell_type": "code",
   "execution_count": 20,
   "metadata": {},
   "outputs": [],
   "source": [
    "def sample_data(filepath, sample=0.1):\n",
    "    temp = pd.read_csv(filepath)\n",
    "    print(f\"Observations in raw: {temp.shape[0]}\")\n",
    "    temp.drop(columns=wf_hist_cols, inplace=True)\n",
    "    temp = temp.merge(new_wf_data, on=['s2_cell_id', 'measure_date'], how='left')\n",
    "    temp_wf = temp[~temp.wf_wildfire_ext.isna()]\n",
    "    print(f\"WF Observations in raw: {temp_wf.shape[0]}\")\n",
    "    temp_nwf = temp[temp.wf_wildfire_ext.isna()].sample(frac=sample, random_state=1)\n",
    "    print(f\"NWF Observations sampled: {temp_nwf.shape[0]}\")\n",
    "    temp = temp_wf.append(temp_nwf)\n",
    "    print(f\"Observations in processed: {temp.shape[0]}\")\n",
    "    return temp"
   ]
  },
  {
   "cell_type": "code",
   "execution_count": 7,
   "metadata": {},
   "outputs": [
    {
     "data": {
      "text/plain": [
       "['consolidated_by_cell_day_4_000000000012',\n",
       " 'new_weather_000000000000',\n",
       " 'consolidated_by_cell_day_4_000000000007',\n",
       " 'consolidated_by_cell_day_4_000000000008',\n",
       " 'consolidated_by_cell_day_4_000000000015',\n",
       " 'consolidated_by_cell_day_4_000000000014',\n",
       " 'consolidated_by_cell_day_4_000000000003',\n",
       " 'consolidated_by_cell_day_4_000000000011',\n",
       " 'consolidated_by_cell_day_4_000000000002',\n",
       " 'consolidated_by_cell_day_4_000000000005',\n",
       " 'consolidated_by_cell_day_4_000000000000',\n",
       " 'consolidated_by_cell_day_4_000000000004',\n",
       " 'weather_ma7_000000000000',\n",
       " 'consolidated_by_cell_day_4_000000000001',\n",
       " 'new_weather_000000000002',\n",
       " 'consolidated_by_cell_day_4_000000000013',\n",
       " 'consolidated_by_cell_day_4_000000000006',\n",
       " 'consolidated_by_cell_day_4_000000000010',\n",
       " 'new_weather_000000000001',\n",
       " 'weather_lag1_000000000000',\n",
       " 'consolidated_by_cell_day_4_000000000009']"
      ]
     },
     "execution_count": 7,
     "metadata": {},
     "output_type": "execute_result"
    }
   ],
   "source": [
    "allfiles = os.listdir('/tf/notebooks/W210/Model/Data')\n",
    "allfiles"
   ]
  },
  {
   "cell_type": "code",
   "execution_count": 32,
   "metadata": {},
   "outputs": [
    {
     "name": "stdout",
     "output_type": "stream",
     "text": [
      "Processing File consolidated_by_cell_day_4_000000000012\n",
      "Observations in raw: 728502\n",
      "WF Observations in raw: 5429\n",
      "NWF Observations sampled: 72307\n",
      "Observations in processed: 77736\n",
      "Observations in the dataset so far: 77736\n",
      "Processing File consolidated_by_cell_day_4_000000000007\n",
      "Observations in raw: 728591\n",
      "WF Observations in raw: 5594\n",
      "NWF Observations sampled: 72300\n",
      "Observations in processed: 77894\n",
      "Observations in the dataset so far: 155630\n",
      "Processing File consolidated_by_cell_day_4_000000000008\n",
      "Observations in raw: 728849\n",
      "WF Observations in raw: 5295\n",
      "NWF Observations sampled: 72355\n",
      "Observations in processed: 77650\n",
      "Observations in the dataset so far: 233280\n",
      "Processing File consolidated_by_cell_day_4_000000000015\n",
      "Observations in raw: 728849\n",
      "WF Observations in raw: 5376\n",
      "NWF Observations sampled: 72347\n",
      "Observations in processed: 77723\n",
      "Observations in the dataset so far: 311003\n",
      "Processing File consolidated_by_cell_day_4_000000000014\n",
      "Observations in raw: 729638\n",
      "WF Observations in raw: 5479\n",
      "NWF Observations sampled: 72416\n",
      "Observations in processed: 77895\n",
      "Observations in the dataset so far: 388898\n",
      "Processing File consolidated_by_cell_day_4_000000000003\n",
      "Observations in raw: 729227\n",
      "WF Observations in raw: 5430\n",
      "NWF Observations sampled: 72380\n",
      "Observations in processed: 77810\n",
      "Observations in the dataset so far: 466708\n",
      "Processing File consolidated_by_cell_day_4_000000000011\n",
      "Observations in raw: 730303\n",
      "WF Observations in raw: 5383\n",
      "NWF Observations sampled: 72492\n",
      "Observations in processed: 77875\n",
      "Observations in the dataset so far: 544583\n",
      "Processing File consolidated_by_cell_day_4_000000000002\n",
      "Observations in raw: 728118\n",
      "WF Observations in raw: 5353\n",
      "NWF Observations sampled: 72276\n",
      "Observations in processed: 77629\n",
      "Observations in the dataset so far: 622212\n",
      "Processing File consolidated_by_cell_day_4_000000000005\n",
      "Observations in raw: 729840\n",
      "WF Observations in raw: 5447\n",
      "NWF Observations sampled: 72439\n",
      "Observations in processed: 77886\n",
      "Observations in the dataset so far: 700098\n",
      "Processing File consolidated_by_cell_day_4_000000000000\n",
      "Observations in raw: 731500\n",
      "WF Observations in raw: 5423\n",
      "NWF Observations sampled: 72608\n",
      "Observations in processed: 78031\n",
      "Observations in the dataset so far: 778129\n",
      "Processing File consolidated_by_cell_day_4_000000000004\n",
      "Observations in raw: 728122\n",
      "WF Observations in raw: 5431\n",
      "NWF Observations sampled: 72269\n",
      "Observations in processed: 77700\n",
      "Observations in the dataset so far: 855829\n",
      "Processing File consolidated_by_cell_day_4_000000000001\n",
      "Observations in raw: 730091\n",
      "WF Observations in raw: 5425\n",
      "NWF Observations sampled: 72467\n",
      "Observations in processed: 77892\n",
      "Observations in the dataset so far: 933721\n",
      "Processing File consolidated_by_cell_day_4_000000000013\n",
      "Observations in raw: 727064\n",
      "WF Observations in raw: 5441\n",
      "NWF Observations sampled: 72162\n",
      "Observations in processed: 77603\n",
      "Observations in the dataset so far: 1011324\n",
      "Processing File consolidated_by_cell_day_4_000000000006\n",
      "Observations in raw: 730521\n",
      "WF Observations in raw: 5342\n",
      "NWF Observations sampled: 72518\n",
      "Observations in processed: 77860\n",
      "Observations in the dataset so far: 1089184\n",
      "Processing File consolidated_by_cell_day_4_000000000010\n",
      "Observations in raw: 727620\n",
      "WF Observations in raw: 5424\n",
      "NWF Observations sampled: 72220\n",
      "Observations in processed: 77644\n",
      "Observations in the dataset so far: 1166828\n",
      "Processing File consolidated_by_cell_day_4_000000000009\n",
      "Observations in raw: 727893\n",
      "WF Observations in raw: 5417\n",
      "NWF Observations sampled: 72248\n",
      "Observations in processed: 77665\n",
      "Observations in the dataset so far: 1244493\n"
     ]
    }
   ],
   "source": [
    "final_df = pd.DataFrame()\n",
    "for file in allfiles:\n",
    "    if file[0] == 'c':\n",
    "        print(f\"Processing File {file}\")\n",
    "        path = '/tf/notebooks/W210/Model/Data/' + file\n",
    "        final_df = final_df.append(sample_data(path))\n",
    "        print(f\"Observations in the dataset so far: {final_df.shape[0]}\")\n",
    "final_df.reset_index(drop=True,inplace=True)"
   ]
  },
  {
   "cell_type": "code",
   "execution_count": 33,
   "metadata": {},
   "outputs": [
    {
     "data": {
      "text/plain": [
       "45"
      ]
     },
     "execution_count": 33,
     "metadata": {},
     "output_type": "execute_result"
    }
   ],
   "source": [
    "gc.collect()"
   ]
  },
  {
   "cell_type": "code",
   "execution_count": 34,
   "metadata": {},
   "outputs": [
    {
     "data": {
      "text/plain": [
       "(1244493, 152)"
      ]
     },
     "execution_count": 34,
     "metadata": {},
     "output_type": "execute_result"
    }
   ],
   "source": [
    "final_df.shape"
   ]
  },
  {
   "cell_type": "code",
   "execution_count": 37,
   "metadata": {},
   "outputs": [
    {
     "data": {
      "text/plain": [
       "10643"
      ]
     },
     "execution_count": 37,
     "metadata": {},
     "output_type": "execute_result"
    }
   ],
   "source": [
    "final_df.s2_cell_id.nunique()"
   ]
  },
  {
   "cell_type": "code",
   "execution_count": 38,
   "metadata": {},
   "outputs": [
    {
     "data": {
      "text/plain": [
       "(3673.0, 86689.0)"
      ]
     },
     "execution_count": 38,
     "metadata": {},
     "output_type": "execute_result"
    }
   ],
   "source": [
    "final_df.wf_wildfire.sum(), final_df.wf_wildfire_ext.sum()"
   ]
  },
  {
   "cell_type": "code",
   "execution_count": 39,
   "metadata": {},
   "outputs": [
    {
     "data": {
      "text/plain": [
       "0.06965808566219336"
      ]
     },
     "execution_count": 39,
     "metadata": {},
     "output_type": "execute_result"
    }
   ],
   "source": [
    "final_df.wf_wildfire_ext.sum() / final_df.shape[0]"
   ]
  },
  {
   "cell_type": "code",
   "execution_count": 40,
   "metadata": {},
   "outputs": [],
   "source": [
    "fuel_mean = 78.74 # Calculated in BigQuery\n",
    "final_df.fuel_percent.replace('backfill',str(fuel_mean),inplace = True)\n",
    "final_df['fuel_percent'] = pd.to_numeric(final_df.fuel_percent)"
   ]
  },
  {
   "cell_type": "code",
   "execution_count": 41,
   "metadata": {},
   "outputs": [
    {
     "data": {
      "text/plain": [
       "tl_object_id                 float64\n",
       "tl_kv_sort_sum               float64\n",
       "tl_kv_sort_mean              float64\n",
       "tl_kv_sort_max               float64\n",
       "tl_owner                     float64\n",
       "tl_circuit                   float64\n",
       "tl_length_mil_sum            float64\n",
       "tl_length_mil_mean           float64\n",
       "tl_length_mil_max            float64\n",
       "tl_owner_amp                 float64\n",
       "tl_owner_anza                float64\n",
       "tl_owner_apud                float64\n",
       "tl_owner_blythe_energy       float64\n",
       "tl_owner_bpa                 float64\n",
       "tl_owner_bves                float64\n",
       "tl_owner_calpeco             float64\n",
       "tl_owner_ccsf                float64\n",
       "tl_owner_esj                 float64\n",
       "tl_owner_iid                 float64\n",
       "tl_owner_ipa                 float64\n",
       "tl_owner_kmpud               float64\n",
       "tl_owner_ladwp               float64\n",
       "tl_owner_lmud                float64\n",
       "tl_owner_mid                 float64\n",
       "tl_owner_mwd                 float64\n",
       "tl_owner_npua                float64\n",
       "tl_owner_nvenergy            float64\n",
       "tl_owner_pcorp               float64\n",
       "tl_owner_pg_e                float64\n",
       "tl_owner_plsr                float64\n",
       "tl_owner_reu                 float64\n",
       "tl_owner_rpu                 float64\n",
       "tl_owner_sce                 float64\n",
       "tl_owner_sdg_e               float64\n",
       "tl_owner_shasta_lake         float64\n",
       "tl_owner_smud                float64\n",
       "tl_owner_svec                float64\n",
       "tl_owner_svp                 float64\n",
       "tl_owner_tanc                float64\n",
       "tl_owner_tid                 float64\n",
       "tl_owner_tpud                float64\n",
       "tl_owner_trans_bay_cable     float64\n",
       "tl_owner_venon               float64\n",
       "tl_owner_victorville         float64\n",
       "tl_owner_wapa                float64\n",
       "tl_circuit_liberty_energy    float64\n",
       "tl_circuit_many              float64\n",
       "tl_circuit_quad              float64\n",
       "tl_circuit_single            float64\n",
       "tl_type_oh                   float64\n",
       "tl_type_ug                   float64\n",
       "tl_type_uw                   float64\n",
       "dtype: object"
      ]
     },
     "execution_count": 41,
     "metadata": {},
     "output_type": "execute_result"
    }
   ],
   "source": [
    "final_df[[col for col in final_df if col.startswith('tl_')]].dtypes"
   ]
  },
  {
   "cell_type": "code",
   "execution_count": 42,
   "metadata": {},
   "outputs": [
    {
     "data": {
      "text/plain": [
       "tl_object_id                 764837\n",
       "tl_kv_sort_sum               764837\n",
       "tl_kv_sort_mean              764837\n",
       "tl_kv_sort_max               764837\n",
       "tl_owner                     764837\n",
       "tl_circuit                   764837\n",
       "tl_length_mil_sum            764837\n",
       "tl_length_mil_mean           764959\n",
       "tl_length_mil_max            764959\n",
       "tl_owner_amp                 764837\n",
       "tl_owner_anza                764837\n",
       "tl_owner_apud                764837\n",
       "tl_owner_blythe_energy       764837\n",
       "tl_owner_bpa                 764837\n",
       "tl_owner_bves                764837\n",
       "tl_owner_calpeco             764837\n",
       "tl_owner_ccsf                764837\n",
       "tl_owner_esj                 764837\n",
       "tl_owner_iid                 764837\n",
       "tl_owner_ipa                 764837\n",
       "tl_owner_kmpud               764837\n",
       "tl_owner_ladwp               764837\n",
       "tl_owner_lmud                764837\n",
       "tl_owner_mid                 764837\n",
       "tl_owner_mwd                 764837\n",
       "tl_owner_npua                764837\n",
       "tl_owner_nvenergy            764837\n",
       "tl_owner_pcorp               764837\n",
       "tl_owner_pg_e                764837\n",
       "tl_owner_plsr                764837\n",
       "tl_owner_reu                 764837\n",
       "tl_owner_rpu                 764837\n",
       "tl_owner_sce                 764837\n",
       "tl_owner_sdg_e               764837\n",
       "tl_owner_shasta_lake         764837\n",
       "tl_owner_smud                764837\n",
       "tl_owner_svec                764837\n",
       "tl_owner_svp                 764837\n",
       "tl_owner_tanc                764837\n",
       "tl_owner_tid                 764837\n",
       "tl_owner_tpud                764837\n",
       "tl_owner_trans_bay_cable     764837\n",
       "tl_owner_venon               764837\n",
       "tl_owner_victorville         764837\n",
       "tl_owner_wapa                764837\n",
       "tl_circuit_liberty_energy    764837\n",
       "tl_circuit_many              764837\n",
       "tl_circuit_quad              764837\n",
       "tl_circuit_single            764837\n",
       "tl_type_oh                   764837\n",
       "tl_type_ug                   764837\n",
       "tl_type_uw                   764837\n",
       "dtype: int64"
      ]
     },
     "execution_count": 42,
     "metadata": {},
     "output_type": "execute_result"
    }
   ],
   "source": [
    "final_df[[col for col in final_df if col.startswith('tl_')]].isna().sum()"
   ]
  },
  {
   "cell_type": "code",
   "execution_count": 43,
   "metadata": {},
   "outputs": [
    {
     "data": {
      "text/plain": [
       "wf_wildfire         float64\n",
       "wf_gis_acres        float64\n",
       "wf_fire_dur         float64\n",
       "wf_agency_bia       float64\n",
       "wf_agency_blm       float64\n",
       "wf_agency_coco      float64\n",
       "wf_agency_cdf       float64\n",
       "wf_agency_dod       float64\n",
       "wf_agency_lra       float64\n",
       "wf_agency_nps       float64\n",
       "wf_agency_usf       float64\n",
       "wf_cause_1          float64\n",
       "wf_cause_2          float64\n",
       "wf_cause_3          float64\n",
       "wf_cause_4          float64\n",
       "wf_cause_5          float64\n",
       "wf_cause_6          float64\n",
       "wf_cause_7          float64\n",
       "wf_cause_8          float64\n",
       "wf_cause_9          float64\n",
       "wf_cause_10         float64\n",
       "wf_cause_11         float64\n",
       "wf_cause_14         float64\n",
       "wf_cause_15         float64\n",
       "wf_cause_16         float64\n",
       "wf_cause_18         float64\n",
       "wf_c_method_1       float64\n",
       "wf_c_method_2       float64\n",
       "wf_c_method_3       float64\n",
       "wf_c_method_4       float64\n",
       "wf_c_method_5       float64\n",
       "wf_c_method_6       float64\n",
       "wf_c_method_7       float64\n",
       "wf_c_method_8       float64\n",
       "wf_cum_area         float64\n",
       "wf_wildfire_ext     float64\n",
       "wf_count_1yr_ago    float64\n",
       "wf_count_2yr_ago    float64\n",
       "wf_count_3yr_ago    float64\n",
       "wf_count_4yr_ago    float64\n",
       "wf_count_5yr_ago    float64\n",
       "dtype: object"
      ]
     },
     "execution_count": 43,
     "metadata": {},
     "output_type": "execute_result"
    }
   ],
   "source": [
    "final_df[[col for col in final_df if col.startswith('wf_')]].dtypes"
   ]
  },
  {
   "cell_type": "code",
   "execution_count": 44,
   "metadata": {},
   "outputs": [
    {
     "data": {
      "text/plain": [
       "fuel_uid         object\n",
       "fuel_percent    float64\n",
       "dtype: object"
      ]
     },
     "execution_count": 44,
     "metadata": {},
     "output_type": "execute_result"
    }
   ],
   "source": [
    "final_df[[col for col in final_df if col.startswith('fuel_')]].dtypes"
   ]
  },
  {
   "cell_type": "code",
   "execution_count": 45,
   "metadata": {},
   "outputs": [
    {
     "data": {
      "text/plain": [
       "sat_faparval_min        float64\n",
       "sat_faparval_max        float64\n",
       "sat_faparval_mean       float64\n",
       "sat_faparval_median     float64\n",
       "sat_faparval_std        float64\n",
       "sat_faparval_size         int64\n",
       "sat_faparval_count        int64\n",
       "sat_faparval              int64\n",
       "sat_faparmask_min          bool\n",
       "sat_faparmask_max          bool\n",
       "sat_faparmask_mean      float64\n",
       "sat_faparmask_median     object\n",
       "sat_faparmask_std       float64\n",
       "sat_faparmask_size        int64\n",
       "dtype: object"
      ]
     },
     "execution_count": 45,
     "metadata": {},
     "output_type": "execute_result"
    }
   ],
   "source": [
    "final_df[[col for col in final_df if col.startswith('sat_')]].dtypes"
   ]
  },
  {
   "cell_type": "code",
   "execution_count": 46,
   "metadata": {},
   "outputs": [
    {
     "data": {
      "text/plain": [
       "sat_faparval_min           0\n",
       "sat_faparval_max           0\n",
       "sat_faparval_mean          0\n",
       "sat_faparval_median     1393\n",
       "sat_faparval_std           0\n",
       "sat_faparval_size          0\n",
       "sat_faparval_count         0\n",
       "sat_faparval               0\n",
       "sat_faparmask_min          0\n",
       "sat_faparmask_max          0\n",
       "sat_faparmask_mean         0\n",
       "sat_faparmask_median       0\n",
       "sat_faparmask_std          0\n",
       "sat_faparmask_size         0\n",
       "dtype: int64"
      ]
     },
     "execution_count": 46,
     "metadata": {},
     "output_type": "execute_result"
    }
   ],
   "source": [
    "final_df[[col for col in final_df if col.startswith('sat_')]].isna().sum()"
   ]
  },
  {
   "cell_type": "code",
   "execution_count": 47,
   "metadata": {},
   "outputs": [
    {
     "data": {
      "text/html": [
       "<div>\n",
       "<style scoped>\n",
       "    .dataframe tbody tr th:only-of-type {\n",
       "        vertical-align: middle;\n",
       "    }\n",
       "\n",
       "    .dataframe tbody tr th {\n",
       "        vertical-align: top;\n",
       "    }\n",
       "\n",
       "    .dataframe thead th {\n",
       "        text-align: right;\n",
       "    }\n",
       "</style>\n",
       "<table border=\"1\" class=\"dataframe\">\n",
       "  <thead>\n",
       "    <tr style=\"text-align: right;\">\n",
       "      <th></th>\n",
       "      <th>sat_faparval_min</th>\n",
       "      <th>sat_faparval_max</th>\n",
       "      <th>sat_faparval_mean</th>\n",
       "      <th>sat_faparval_median</th>\n",
       "      <th>sat_faparval_std</th>\n",
       "      <th>sat_faparval_size</th>\n",
       "      <th>sat_faparval_count</th>\n",
       "      <th>sat_faparval</th>\n",
       "      <th>sat_faparmask_mean</th>\n",
       "      <th>sat_faparmask_std</th>\n",
       "      <th>sat_faparmask_size</th>\n",
       "    </tr>\n",
       "  </thead>\n",
       "  <tbody>\n",
       "    <tr>\n",
       "      <th>count</th>\n",
       "      <td>1.244493e+06</td>\n",
       "      <td>1.244493e+06</td>\n",
       "      <td>1.244493e+06</td>\n",
       "      <td>1.243100e+06</td>\n",
       "      <td>1.244493e+06</td>\n",
       "      <td>1.244493e+06</td>\n",
       "      <td>1.244493e+06</td>\n",
       "      <td>1.244493e+06</td>\n",
       "      <td>1.244493e+06</td>\n",
       "      <td>1.244493e+06</td>\n",
       "      <td>1.244493e+06</td>\n",
       "    </tr>\n",
       "    <tr>\n",
       "      <th>mean</th>\n",
       "      <td>1.679720e-01</td>\n",
       "      <td>5.789316e-01</td>\n",
       "      <td>3.036527e-01</td>\n",
       "      <td>3.837108e-01</td>\n",
       "      <td>6.749477e-02</td>\n",
       "      <td>5.700334e+02</td>\n",
       "      <td>5.700334e+02</td>\n",
       "      <td>1.059598e+02</td>\n",
       "      <td>4.286636e-02</td>\n",
       "      <td>5.665585e-02</td>\n",
       "      <td>5.700334e+02</td>\n",
       "    </tr>\n",
       "    <tr>\n",
       "      <th>std</th>\n",
       "      <td>1.567811e-01</td>\n",
       "      <td>2.571035e-01</td>\n",
       "      <td>2.487487e-01</td>\n",
       "      <td>2.117039e-01</td>\n",
       "      <td>5.484031e-02</td>\n",
       "      <td>7.353150e+02</td>\n",
       "      <td>7.353150e+02</td>\n",
       "      <td>9.594004e+01</td>\n",
       "      <td>1.492667e-01</td>\n",
       "      <td>1.246532e-01</td>\n",
       "      <td>7.353150e+02</td>\n",
       "    </tr>\n",
       "    <tr>\n",
       "      <th>min</th>\n",
       "      <td>0.000000e+00</td>\n",
       "      <td>0.000000e+00</td>\n",
       "      <td>0.000000e+00</td>\n",
       "      <td>0.000000e+00</td>\n",
       "      <td>0.000000e+00</td>\n",
       "      <td>1.820000e+02</td>\n",
       "      <td>1.820000e+02</td>\n",
       "      <td>1.000000e+00</td>\n",
       "      <td>0.000000e+00</td>\n",
       "      <td>0.000000e+00</td>\n",
       "      <td>1.820000e+02</td>\n",
       "    </tr>\n",
       "    <tr>\n",
       "      <th>25%</th>\n",
       "      <td>4.000000e-02</td>\n",
       "      <td>4.280000e-01</td>\n",
       "      <td>0.000000e+00</td>\n",
       "      <td>2.160000e-01</td>\n",
       "      <td>0.000000e+00</td>\n",
       "      <td>1.990000e+02</td>\n",
       "      <td>1.990000e+02</td>\n",
       "      <td>6.300000e+01</td>\n",
       "      <td>0.000000e+00</td>\n",
       "      <td>0.000000e+00</td>\n",
       "      <td>1.990000e+02</td>\n",
       "    </tr>\n",
       "    <tr>\n",
       "      <th>50%</th>\n",
       "      <td>1.160000e-01</td>\n",
       "      <td>6.320000e-01</td>\n",
       "      <td>3.067501e-01</td>\n",
       "      <td>3.860000e-01</td>\n",
       "      <td>6.845509e-02</td>\n",
       "      <td>2.110000e+02</td>\n",
       "      <td>2.110000e+02</td>\n",
       "      <td>8.500000e+01</td>\n",
       "      <td>0.000000e+00</td>\n",
       "      <td>0.000000e+00</td>\n",
       "      <td>2.110000e+02</td>\n",
       "    </tr>\n",
       "    <tr>\n",
       "      <th>75%</th>\n",
       "      <td>2.680000e-01</td>\n",
       "      <td>7.840000e-01</td>\n",
       "      <td>5.099282e-01</td>\n",
       "      <td>5.440000e-01</td>\n",
       "      <td>1.028945e-01</td>\n",
       "      <td>7.880000e+02</td>\n",
       "      <td>7.880000e+02</td>\n",
       "      <td>1.160000e+02</td>\n",
       "      <td>1.105278e-03</td>\n",
       "      <td>2.884748e-02</td>\n",
       "      <td>7.880000e+02</td>\n",
       "    </tr>\n",
       "    <tr>\n",
       "      <th>max</th>\n",
       "      <td>9.400001e-01</td>\n",
       "      <td>9.400001e-01</td>\n",
       "      <td>9.171257e-01</td>\n",
       "      <td>9.360000e-01</td>\n",
       "      <td>3.436576e-01</td>\n",
       "      <td>3.647000e+03</td>\n",
       "      <td>3.647000e+03</td>\n",
       "      <td>1.761000e+03</td>\n",
       "      <td>1.000000e+00</td>\n",
       "      <td>5.000000e-01</td>\n",
       "      <td>3.647000e+03</td>\n",
       "    </tr>\n",
       "  </tbody>\n",
       "</table>\n",
       "</div>"
      ],
      "text/plain": [
       "       sat_faparval_min  sat_faparval_max  sat_faparval_mean  \\\n",
       "count      1.244493e+06      1.244493e+06       1.244493e+06   \n",
       "mean       1.679720e-01      5.789316e-01       3.036527e-01   \n",
       "std        1.567811e-01      2.571035e-01       2.487487e-01   \n",
       "min        0.000000e+00      0.000000e+00       0.000000e+00   \n",
       "25%        4.000000e-02      4.280000e-01       0.000000e+00   \n",
       "50%        1.160000e-01      6.320000e-01       3.067501e-01   \n",
       "75%        2.680000e-01      7.840000e-01       5.099282e-01   \n",
       "max        9.400001e-01      9.400001e-01       9.171257e-01   \n",
       "\n",
       "       sat_faparval_median  sat_faparval_std  sat_faparval_size  \\\n",
       "count         1.243100e+06      1.244493e+06       1.244493e+06   \n",
       "mean          3.837108e-01      6.749477e-02       5.700334e+02   \n",
       "std           2.117039e-01      5.484031e-02       7.353150e+02   \n",
       "min           0.000000e+00      0.000000e+00       1.820000e+02   \n",
       "25%           2.160000e-01      0.000000e+00       1.990000e+02   \n",
       "50%           3.860000e-01      6.845509e-02       2.110000e+02   \n",
       "75%           5.440000e-01      1.028945e-01       7.880000e+02   \n",
       "max           9.360000e-01      3.436576e-01       3.647000e+03   \n",
       "\n",
       "       sat_faparval_count  sat_faparval  sat_faparmask_mean  \\\n",
       "count        1.244493e+06  1.244493e+06        1.244493e+06   \n",
       "mean         5.700334e+02  1.059598e+02        4.286636e-02   \n",
       "std          7.353150e+02  9.594004e+01        1.492667e-01   \n",
       "min          1.820000e+02  1.000000e+00        0.000000e+00   \n",
       "25%          1.990000e+02  6.300000e+01        0.000000e+00   \n",
       "50%          2.110000e+02  8.500000e+01        0.000000e+00   \n",
       "75%          7.880000e+02  1.160000e+02        1.105278e-03   \n",
       "max          3.647000e+03  1.761000e+03        1.000000e+00   \n",
       "\n",
       "       sat_faparmask_std  sat_faparmask_size  \n",
       "count       1.244493e+06        1.244493e+06  \n",
       "mean        5.665585e-02        5.700334e+02  \n",
       "std         1.246532e-01        7.353150e+02  \n",
       "min         0.000000e+00        1.820000e+02  \n",
       "25%         0.000000e+00        1.990000e+02  \n",
       "50%         0.000000e+00        2.110000e+02  \n",
       "75%         2.884748e-02        7.880000e+02  \n",
       "max         5.000000e-01        3.647000e+03  "
      ]
     },
     "execution_count": 47,
     "metadata": {},
     "output_type": "execute_result"
    }
   ],
   "source": [
    "final_df[[col for col in final_df if col.startswith('sat_')]].describe()"
   ]
  },
  {
   "cell_type": "code",
   "execution_count": 48,
   "metadata": {},
   "outputs": [
    {
     "data": {
      "text/plain": [
       "1393"
      ]
     },
     "execution_count": 48,
     "metadata": {},
     "output_type": "execute_result"
    }
   ],
   "source": [
    "final_df.sat_faparval_median.isna().sum()"
   ]
  },
  {
   "cell_type": "code",
   "execution_count": 49,
   "metadata": {},
   "outputs": [
    {
     "data": {
      "text/html": [
       "<div>\n",
       "<style scoped>\n",
       "    .dataframe tbody tr th:only-of-type {\n",
       "        vertical-align: middle;\n",
       "    }\n",
       "\n",
       "    .dataframe tbody tr th {\n",
       "        vertical-align: top;\n",
       "    }\n",
       "\n",
       "    .dataframe thead th {\n",
       "        text-align: right;\n",
       "    }\n",
       "</style>\n",
       "<table border=\"1\" class=\"dataframe\">\n",
       "  <thead>\n",
       "    <tr style=\"text-align: right;\">\n",
       "      <th></th>\n",
       "      <th>s2_cell_id</th>\n",
       "      <th>measure_date</th>\n",
       "      <th>sat_faparval</th>\n",
       "      <th>sat_faparval_median</th>\n",
       "      <th>sat_faparmask_median</th>\n",
       "    </tr>\n",
       "  </thead>\n",
       "  <tbody>\n",
       "    <tr>\n",
       "      <th>5669</th>\n",
       "      <td>8097cb</td>\n",
       "      <td>2017-01-21</td>\n",
       "      <td>1</td>\n",
       "      <td>NaN</td>\n",
       "      <td>1.0</td>\n",
       "    </tr>\n",
       "    <tr>\n",
       "      <th>6080</th>\n",
       "      <td>80bfe1c</td>\n",
       "      <td>2016-03-27</td>\n",
       "      <td>1</td>\n",
       "      <td>NaN</td>\n",
       "      <td>1.0</td>\n",
       "    </tr>\n",
       "    <tr>\n",
       "      <th>6566</th>\n",
       "      <td>54c9574</td>\n",
       "      <td>2016-01-05</td>\n",
       "      <td>1</td>\n",
       "      <td>NaN</td>\n",
       "      <td>True</td>\n",
       "    </tr>\n",
       "    <tr>\n",
       "      <th>6587</th>\n",
       "      <td>80958a4</td>\n",
       "      <td>2016-05-28</td>\n",
       "      <td>1</td>\n",
       "      <td>NaN</td>\n",
       "      <td>True</td>\n",
       "    </tr>\n",
       "    <tr>\n",
       "      <th>6918</th>\n",
       "      <td>8095fb4</td>\n",
       "      <td>2017-02-01</td>\n",
       "      <td>1</td>\n",
       "      <td>NaN</td>\n",
       "      <td>True</td>\n",
       "    </tr>\n",
       "  </tbody>\n",
       "</table>\n",
       "</div>"
      ],
      "text/plain": [
       "     s2_cell_id measure_date  sat_faparval  sat_faparval_median  \\\n",
       "5669     8097cb   2017-01-21             1                  NaN   \n",
       "6080    80bfe1c   2016-03-27             1                  NaN   \n",
       "6566    54c9574   2016-01-05             1                  NaN   \n",
       "6587    80958a4   2016-05-28             1                  NaN   \n",
       "6918    8095fb4   2017-02-01             1                  NaN   \n",
       "\n",
       "     sat_faparmask_median  \n",
       "5669                  1.0  \n",
       "6080                  1.0  \n",
       "6566                 True  \n",
       "6587                 True  \n",
       "6918                 True  "
      ]
     },
     "execution_count": 49,
     "metadata": {},
     "output_type": "execute_result"
    }
   ],
   "source": [
    "final_df[final_df.sat_faparval_median.isna()][['s2_cell_id', 'measure_date', 'sat_faparval', 'sat_faparval_median', 'sat_faparmask_median']].head()"
   ]
  },
  {
   "cell_type": "code",
   "execution_count": 50,
   "metadata": {},
   "outputs": [],
   "source": [
    "weather = [\n",
    " 'wea_air_temp_max',\n",
    " 'wea_air_temp_mean',\n",
    " 'wea_precip_accum_max',\n",
    " 'relative_humidity_max',\n",
    " 'relative_humidity_min',\n",
    " 'relative_humidity_mean',\n",
    " 'wea_wind_speed_max',\n",
    " 'wea_wind_speed_min',\n",
    " 'wea_wind_speed_mean',\n",
    " 'wind_gust_max'\n",
    "]"
   ]
  },
  {
   "cell_type": "code",
   "execution_count": 51,
   "metadata": {},
   "outputs": [
    {
     "data": {
      "text/plain": [
       "wea_air_temp_max          float64\n",
       "wea_air_temp_mean         float64\n",
       "wea_precip_accum_max      float64\n",
       "relative_humidity_max     float64\n",
       "relative_humidity_min     float64\n",
       "relative_humidity_mean    float64\n",
       "wea_wind_speed_max        float64\n",
       "wea_wind_speed_min        float64\n",
       "wea_wind_speed_mean       float64\n",
       "wind_gust_max             float64\n",
       "dtype: object"
      ]
     },
     "execution_count": 51,
     "metadata": {},
     "output_type": "execute_result"
    }
   ],
   "source": [
    "final_df[weather].dtypes"
   ]
  },
  {
   "cell_type": "code",
   "execution_count": 52,
   "metadata": {},
   "outputs": [
    {
     "data": {
      "text/plain": [
       "wea_air_temp_max          0\n",
       "wea_air_temp_mean         0\n",
       "wea_precip_accum_max      0\n",
       "relative_humidity_max     0\n",
       "relative_humidity_min     0\n",
       "relative_humidity_mean    0\n",
       "wea_wind_speed_max        0\n",
       "wea_wind_speed_min        0\n",
       "wea_wind_speed_mean       0\n",
       "wind_gust_max             0\n",
       "dtype: int64"
      ]
     },
     "execution_count": 52,
     "metadata": {},
     "output_type": "execute_result"
    }
   ],
   "source": [
    "final_df[weather].isna().sum()"
   ]
  },
  {
   "cell_type": "code",
   "execution_count": 53,
   "metadata": {},
   "outputs": [],
   "source": [
    "final_df.fillna(0, inplace=True)"
   ]
  },
  {
   "cell_type": "code",
   "execution_count": 54,
   "metadata": {},
   "outputs": [
    {
     "data": {
      "text/html": [
       "<div>\n",
       "<style scoped>\n",
       "    .dataframe tbody tr th:only-of-type {\n",
       "        vertical-align: middle;\n",
       "    }\n",
       "\n",
       "    .dataframe tbody tr th {\n",
       "        vertical-align: top;\n",
       "    }\n",
       "\n",
       "    .dataframe thead th {\n",
       "        text-align: right;\n",
       "    }\n",
       "</style>\n",
       "<table border=\"1\" class=\"dataframe\">\n",
       "  <thead>\n",
       "    <tr style=\"text-align: right;\">\n",
       "      <th></th>\n",
       "      <th>s2_cell_id</th>\n",
       "      <th>measure_date</th>\n",
       "      <th>tl_object_id</th>\n",
       "      <th>tl_kv_sort_sum</th>\n",
       "      <th>tl_kv_sort_mean</th>\n",
       "      <th>tl_kv_sort_max</th>\n",
       "      <th>tl_owner</th>\n",
       "      <th>tl_circuit</th>\n",
       "      <th>tl_length_mil_sum</th>\n",
       "      <th>tl_length_mil_mean</th>\n",
       "      <th>...</th>\n",
       "      <th>wea_wind_speed_min</th>\n",
       "      <th>wea_wind_speed_mean</th>\n",
       "      <th>wea_stid_wind_gust</th>\n",
       "      <th>wind_gust_max</th>\n",
       "      <th>wf_wildfire_ext</th>\n",
       "      <th>wf_count_1yr_ago</th>\n",
       "      <th>wf_count_2yr_ago</th>\n",
       "      <th>wf_count_3yr_ago</th>\n",
       "      <th>wf_count_4yr_ago</th>\n",
       "      <th>wf_count_5yr_ago</th>\n",
       "    </tr>\n",
       "  </thead>\n",
       "  <tbody>\n",
       "    <tr>\n",
       "      <th>0</th>\n",
       "      <td>54cb13</td>\n",
       "      <td>2018-07-14</td>\n",
       "      <td>0.0</td>\n",
       "      <td>0.0</td>\n",
       "      <td>0.0</td>\n",
       "      <td>0.0</td>\n",
       "      <td>0.0</td>\n",
       "      <td>0.0</td>\n",
       "      <td>0.0</td>\n",
       "      <td>0.0</td>\n",
       "      <td>...</td>\n",
       "      <td>0.90</td>\n",
       "      <td>1.955000</td>\n",
       "      <td>FLAC1</td>\n",
       "      <td>7.15</td>\n",
       "      <td>1.0</td>\n",
       "      <td>0.0</td>\n",
       "      <td>0.0</td>\n",
       "      <td>0.0</td>\n",
       "      <td>0.0</td>\n",
       "      <td>0.0</td>\n",
       "    </tr>\n",
       "    <tr>\n",
       "      <th>1</th>\n",
       "      <td>54cb65</td>\n",
       "      <td>2017-08-04</td>\n",
       "      <td>0.0</td>\n",
       "      <td>0.0</td>\n",
       "      <td>0.0</td>\n",
       "      <td>0.0</td>\n",
       "      <td>0.0</td>\n",
       "      <td>0.0</td>\n",
       "      <td>0.0</td>\n",
       "      <td>0.0</td>\n",
       "      <td>...</td>\n",
       "      <td>0.90</td>\n",
       "      <td>2.160833</td>\n",
       "      <td>FLAC1</td>\n",
       "      <td>7.60</td>\n",
       "      <td>1.0</td>\n",
       "      <td>0.0</td>\n",
       "      <td>0.0</td>\n",
       "      <td>0.0</td>\n",
       "      <td>0.0</td>\n",
       "      <td>1.0</td>\n",
       "    </tr>\n",
       "    <tr>\n",
       "      <th>2</th>\n",
       "      <td>54cb65</td>\n",
       "      <td>2017-08-05</td>\n",
       "      <td>0.0</td>\n",
       "      <td>0.0</td>\n",
       "      <td>0.0</td>\n",
       "      <td>0.0</td>\n",
       "      <td>0.0</td>\n",
       "      <td>0.0</td>\n",
       "      <td>0.0</td>\n",
       "      <td>0.0</td>\n",
       "      <td>...</td>\n",
       "      <td>0.90</td>\n",
       "      <td>2.029583</td>\n",
       "      <td>FLAC1</td>\n",
       "      <td>7.15</td>\n",
       "      <td>1.0</td>\n",
       "      <td>0.0</td>\n",
       "      <td>0.0</td>\n",
       "      <td>0.0</td>\n",
       "      <td>0.0</td>\n",
       "      <td>1.0</td>\n",
       "    </tr>\n",
       "    <tr>\n",
       "      <th>3</th>\n",
       "      <td>54cc87</td>\n",
       "      <td>2017-08-20</td>\n",
       "      <td>0.0</td>\n",
       "      <td>0.0</td>\n",
       "      <td>0.0</td>\n",
       "      <td>0.0</td>\n",
       "      <td>0.0</td>\n",
       "      <td>0.0</td>\n",
       "      <td>0.0</td>\n",
       "      <td>0.0</td>\n",
       "      <td>...</td>\n",
       "      <td>0.45</td>\n",
       "      <td>2.198333</td>\n",
       "      <td>RSHC1</td>\n",
       "      <td>7.60</td>\n",
       "      <td>1.0</td>\n",
       "      <td>0.0</td>\n",
       "      <td>0.0</td>\n",
       "      <td>0.0</td>\n",
       "      <td>0.0</td>\n",
       "      <td>0.0</td>\n",
       "    </tr>\n",
       "    <tr>\n",
       "      <th>4</th>\n",
       "      <td>54cc87</td>\n",
       "      <td>2017-08-08</td>\n",
       "      <td>0.0</td>\n",
       "      <td>0.0</td>\n",
       "      <td>0.0</td>\n",
       "      <td>0.0</td>\n",
       "      <td>0.0</td>\n",
       "      <td>0.0</td>\n",
       "      <td>0.0</td>\n",
       "      <td>0.0</td>\n",
       "      <td>...</td>\n",
       "      <td>0.00</td>\n",
       "      <td>1.452917</td>\n",
       "      <td>RSHC1</td>\n",
       "      <td>11.62</td>\n",
       "      <td>1.0</td>\n",
       "      <td>0.0</td>\n",
       "      <td>0.0</td>\n",
       "      <td>0.0</td>\n",
       "      <td>0.0</td>\n",
       "      <td>0.0</td>\n",
       "    </tr>\n",
       "  </tbody>\n",
       "</table>\n",
       "<p>5 rows × 152 columns</p>\n",
       "</div>"
      ],
      "text/plain": [
       "  s2_cell_id measure_date  tl_object_id  tl_kv_sort_sum  tl_kv_sort_mean  \\\n",
       "0     54cb13   2018-07-14           0.0             0.0              0.0   \n",
       "1     54cb65   2017-08-04           0.0             0.0              0.0   \n",
       "2     54cb65   2017-08-05           0.0             0.0              0.0   \n",
       "3     54cc87   2017-08-20           0.0             0.0              0.0   \n",
       "4     54cc87   2017-08-08           0.0             0.0              0.0   \n",
       "\n",
       "   tl_kv_sort_max  tl_owner  tl_circuit  tl_length_mil_sum  \\\n",
       "0             0.0       0.0         0.0                0.0   \n",
       "1             0.0       0.0         0.0                0.0   \n",
       "2             0.0       0.0         0.0                0.0   \n",
       "3             0.0       0.0         0.0                0.0   \n",
       "4             0.0       0.0         0.0                0.0   \n",
       "\n",
       "   tl_length_mil_mean        ...         wea_wind_speed_min  \\\n",
       "0                 0.0        ...                       0.90   \n",
       "1                 0.0        ...                       0.90   \n",
       "2                 0.0        ...                       0.90   \n",
       "3                 0.0        ...                       0.45   \n",
       "4                 0.0        ...                       0.00   \n",
       "\n",
       "   wea_wind_speed_mean  wea_stid_wind_gust  wind_gust_max  wf_wildfire_ext  \\\n",
       "0             1.955000               FLAC1           7.15              1.0   \n",
       "1             2.160833               FLAC1           7.60              1.0   \n",
       "2             2.029583               FLAC1           7.15              1.0   \n",
       "3             2.198333               RSHC1           7.60              1.0   \n",
       "4             1.452917               RSHC1          11.62              1.0   \n",
       "\n",
       "   wf_count_1yr_ago  wf_count_2yr_ago  wf_count_3yr_ago  wf_count_4yr_ago  \\\n",
       "0               0.0               0.0               0.0               0.0   \n",
       "1               0.0               0.0               0.0               0.0   \n",
       "2               0.0               0.0               0.0               0.0   \n",
       "3               0.0               0.0               0.0               0.0   \n",
       "4               0.0               0.0               0.0               0.0   \n",
       "\n",
       "   wf_count_5yr_ago  \n",
       "0               0.0  \n",
       "1               1.0  \n",
       "2               1.0  \n",
       "3               0.0  \n",
       "4               0.0  \n",
       "\n",
       "[5 rows x 152 columns]"
      ]
     },
     "execution_count": 54,
     "metadata": {},
     "output_type": "execute_result"
    }
   ],
   "source": [
    "final_df.head()"
   ]
  },
  {
   "cell_type": "code",
   "execution_count": 55,
   "metadata": {},
   "outputs": [
    {
     "data": {
      "text/plain": [
       "14"
      ]
     },
     "execution_count": 55,
     "metadata": {},
     "output_type": "execute_result"
    }
   ],
   "source": [
    "gc.collect()"
   ]
  },
  {
   "cell_type": "markdown",
   "metadata": {},
   "source": [
    "### Append new weather data"
   ]
  },
  {
   "cell_type": "code",
   "execution_count": 8,
   "metadata": {},
   "outputs": [
    {
     "name": "stdout",
     "output_type": "stream",
     "text": [
      "Processing new_weather_000000000000\n"
     ]
    },
    {
     "name": "stderr",
     "output_type": "stream",
     "text": [
      "/usr/local/lib/python3.5/dist-packages/IPython/core/interactiveshell.py:3020: DtypeWarning: Columns (4) have mixed types. Specify dtype option on import or set low_memory=False.\n",
      "  interactivity=interactivity, compiler=compiler, result=result)\n"
     ]
    },
    {
     "name": "stdout",
     "output_type": "stream",
     "text": [
      "Processing new_weather_000000000002\n",
      "Processing new_weather_000000000001\n"
     ]
    }
   ],
   "source": [
    "weather_df = pd.DataFrame()\n",
    "for file in allfiles:\n",
    "    if file[:3] == 'new':\n",
    "        print(\"Processing {}\".format(file))\n",
    "        path = '/tf/notebooks/W210/Model/Data/' + file\n",
    "        weather_df = weather_df.append(pd.read_csv(path))"
   ]
  },
  {
   "cell_type": "code",
   "execution_count": 9,
   "metadata": {},
   "outputs": [
    {
     "data": {
      "text/plain": [
       "(11664728, 14)"
      ]
     },
     "execution_count": 9,
     "metadata": {},
     "output_type": "execute_result"
    }
   ],
   "source": [
    "weather_temp1 = weather_df[weather_df.measure_date=='2016-01-01'].drop(columns=['fuel_percent_l1', 'wea_air_temp_mean_l1', 'wea_precip_accum_max_l1', 'relative_humidity_mean_l1'])\n",
    "weather_temp2 = weather_df[weather_df.measure_date=='2016-01-02'][['s2_cell_id', 'fuel_percent_l1', 'wea_air_temp_mean_l1', 'wea_precip_accum_max_l1', 'relative_humidity_mean_l1']]\n",
    "weather_temp1 = weather_temp1.merge(weather_temp2, on='s2_cell_id')\n",
    "weather_temp1 = weather_temp1[weather_df.columns]\n",
    "weather_df = weather_df[weather_df.measure_date!='2016-01-01'].append(weather_temp1)\n",
    "weather_df.shape"
   ]
  },
  {
   "cell_type": "code",
   "execution_count": 10,
   "metadata": {},
   "outputs": [],
   "source": [
    "del weather_temp1, weather_temp2"
   ]
  },
  {
   "cell_type": "code",
   "execution_count": 11,
   "metadata": {},
   "outputs": [
    {
     "data": {
      "text/plain": [
       "72"
      ]
     },
     "execution_count": 11,
     "metadata": {},
     "output_type": "execute_result"
    }
   ],
   "source": [
    "gc.collect()"
   ]
  },
  {
   "cell_type": "code",
   "execution_count": 12,
   "metadata": {},
   "outputs": [],
   "source": [
    "# final_df.drop(columns=[ 'wea_air_temp_mean_ma7',\n",
    "#  'wea_precip_accum_max_ma7',\n",
    "#  'relative_humidity_mean_ma7',\n",
    "#  'fuel_percent_l1',\n",
    "#  'wea_air_temp_mean_l1',\n",
    "#  'wea_precip_accum_max_l1',\n",
    "#  'relative_humidity_mean_l1'], inplace=True)"
   ]
  },
  {
   "cell_type": "code",
   "execution_count": 13,
   "metadata": {},
   "outputs": [
    {
     "data": {
      "text/plain": [
       "(77.65220728441221, 77.60258163254542)"
      ]
     },
     "execution_count": 13,
     "metadata": {},
     "output_type": "execute_result"
    }
   ],
   "source": [
    "final_df = final_df.merge(weather_df, on=['s2_cell_id', 'measure_date'])\n",
    "final_df['fuel_percent_l1'] = pd.to_numeric(final_df['fuel_percent_l1'], errors = 'coerce')\n",
    "final_df['fuel_percent'].mean(), final_df['fuel_percent_l1'].mean()"
   ]
  },
  {
   "cell_type": "code",
   "execution_count": 14,
   "metadata": {},
   "outputs": [],
   "source": [
    "final_df['fuel_percent_l1'] = final_df['fuel_percent_l1'].fillna(78.8)"
   ]
  },
  {
   "cell_type": "code",
   "execution_count": 15,
   "metadata": {},
   "outputs": [],
   "source": [
    "final_df.to_csv('./consolidated_4_10pct_sample_ext.csv', index=False)"
   ]
  },
  {
   "cell_type": "code",
   "execution_count": 4,
   "metadata": {},
   "outputs": [
    {
     "name": "stderr",
     "output_type": "stream",
     "text": [
      "/usr/local/lib/python3.5/dist-packages/IPython/core/interactiveshell.py:3020: DtypeWarning: Columns (155) have mixed types. Specify dtype option on import or set low_memory=False.\n",
      "  interactivity=interactivity, compiler=compiler, result=result)\n"
     ]
    }
   ],
   "source": [
    "# final_df = pd.read_csv('./consolidated_4_10pct_sample_ext.csv')"
   ]
  },
  {
   "cell_type": "code",
   "execution_count": 16,
   "metadata": {},
   "outputs": [
    {
     "data": {
      "text/plain": [
       "28"
      ]
     },
     "execution_count": 16,
     "metadata": {},
     "output_type": "execute_result"
    }
   ],
   "source": [
    "gc.collect()"
   ]
  },
  {
   "cell_type": "code",
   "execution_count": null,
   "metadata": {},
   "outputs": [],
   "source": []
  }
 ],
 "metadata": {
  "kernelspec": {
   "display_name": "Python 3",
   "language": "python",
   "name": "python3"
  },
  "language_info": {
   "codemirror_mode": {
    "name": "ipython",
    "version": 3
   },
   "file_extension": ".py",
   "mimetype": "text/x-python",
   "name": "python",
   "nbconvert_exporter": "python",
   "pygments_lexer": "ipython3",
   "version": "3.5.2"
  }
 },
 "nbformat": 4,
 "nbformat_minor": 2
}
