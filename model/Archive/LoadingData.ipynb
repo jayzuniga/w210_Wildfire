{
 "cells": [
  {
   "cell_type": "code",
   "execution_count": 1,
   "metadata": {},
   "outputs": [],
   "source": [
    "import pandas as pd\n",
    "import numpy as np\n",
    "import gc\n",
    "import os\n",
    "import time"
   ]
  },
  {
   "cell_type": "markdown",
   "metadata": {},
   "source": [
    "### Get the data from BQ bucket"
   ]
  },
  {
   "cell_type": "code",
   "execution_count": 17,
   "metadata": {},
   "outputs": [
    {
     "name": "stdout",
     "output_type": "stream",
     "text": [
      "Copying gs://wildfire-yz/consolidated/consolidated_by_cell_day_4_000000000000...\n",
      "Copying gs://wildfire-yz/consolidated/consolidated_by_cell_day_4_000000000001...\n",
      "Copying gs://wildfire-yz/consolidated/consolidated_by_cell_day_4_000000000002...\n",
      "Copying gs://wildfire-yz/consolidated/consolidated_by_cell_day_4_000000000003...\n",
      "/ [4 files][  1.5 GiB/  1.5 GiB]   39.5 MiB/s                                   \n",
      "==> NOTE: You are performing a sequence of gsutil operations that may\n",
      "run significantly faster if you instead use gsutil -m cp ... Please\n",
      "see the -m section under \"gsutil help options\" for further information\n",
      "about when gsutil -m can be advantageous.\n",
      "\n",
      "Copying gs://wildfire-yz/consolidated/consolidated_by_cell_day_4_000000000004...\n",
      "Copying gs://wildfire-yz/consolidated/consolidated_by_cell_day_4_000000000005...\n",
      "Copying gs://wildfire-yz/consolidated/consolidated_by_cell_day_4_000000000006...\n",
      "Copying gs://wildfire-yz/consolidated/consolidated_by_cell_day_4_000000000007...\n",
      "Copying gs://wildfire-yz/consolidated/consolidated_by_cell_day_4_000000000008...\n",
      "Copying gs://wildfire-yz/consolidated/consolidated_by_cell_day_4_000000000009...\n",
      "Copying gs://wildfire-yz/consolidated/consolidated_by_cell_day_4_000000000010...\n",
      "Copying gs://wildfire-yz/consolidated/consolidated_by_cell_day_4_000000000011...\n",
      "Copying gs://wildfire-yz/consolidated/consolidated_by_cell_day_4_000000000012...\n",
      "Copying gs://wildfire-yz/consolidated/consolidated_by_cell_day_4_000000000013...\n",
      "Copying gs://wildfire-yz/consolidated/consolidated_by_cell_day_4_000000000014...\n",
      "Copying gs://wildfire-yz/consolidated/consolidated_by_cell_day_4_000000000015...\n",
      "| [16 files][  5.9 GiB/  5.9 GiB]   37.2 MiB/s                                  \n",
      "Operation completed over 16 objects/5.9 GiB.                                     \n"
     ]
    }
   ],
   "source": [
    "!gsutil -m cp gs://wildfire-yz/consolidated/consolidated_by_cell_day_4_* Data/"
   ]
  },
  {
   "cell_type": "code",
   "execution_count": 2,
   "metadata": {},
   "outputs": [
    {
     "name": "stdout",
     "output_type": "stream",
     "text": [
      "/bin/sh: 1: gsutil: not found\r\n"
     ]
    }
   ],
   "source": [
    "!gsutil -m cp gs://wildfire-yz/new_weather/new_weather* Data/"
   ]
  },
  {
   "cell_type": "markdown",
   "metadata": {},
   "source": [
    "### Get 10% sample of non-wildfire cells"
   ]
  },
  {
   "cell_type": "code",
   "execution_count": 32,
   "metadata": {},
   "outputs": [],
   "source": [
    "def sample_data(filepath, sample=0.1):\n",
    "    \"\"\"\n",
    "    Takes sample of the non-wildfire cells\n",
    "    \"\"\"\n",
    "    temp = pd.read_csv(filepath)\n",
    "    print(f\"Observations in raw: {temp.shape[0]}\")\n",
    "    temp_wf = temp[~temp.wf_wildfire.isna()]\n",
    "    print(f\"WF Observations in raw: {temp_wf.shape[0]}\")\n",
    "    temp_nwf = temp[temp.wf_wildfire.isna()].sample(frac=sample, random_state=1)\n",
    "    print(f\"NWF Observations sampled: {temp_nwf.shape[0]}\")\n",
    "    temp = temp_wf.append(temp_nwf)\n",
    "    print(f\"Observations in processed: {temp.shape[0]}\")\n",
    "    return temp"
   ]
  },
  {
   "cell_type": "code",
   "execution_count": 2,
   "metadata": {},
   "outputs": [
    {
     "data": {
      "text/plain": [
       "['consolidated_by_cell_day_4_000000000012',\n",
       " 'new_weather_000000000000',\n",
       " 'consolidated_by_cell_day_4_000000000007',\n",
       " 'consolidated_by_cell_day_4_000000000008',\n",
       " 'consolidated_by_cell_day_4_000000000015',\n",
       " 'consolidated_by_cell_day_4_000000000014',\n",
       " 'consolidated_by_cell_day_4_000000000003',\n",
       " 'consolidated_by_cell_day_4_000000000011',\n",
       " 'consolidated_by_cell_day_4_000000000002',\n",
       " 'consolidated_by_cell_day_4_000000000005',\n",
       " 'consolidated_by_cell_day_4_000000000000',\n",
       " 'consolidated_by_cell_day_4_000000000004',\n",
       " 'weather_ma7_000000000000',\n",
       " 'consolidated_by_cell_day_4_000000000001',\n",
       " 'new_weather_000000000002',\n",
       " 'consolidated_by_cell_day_4_000000000013',\n",
       " 'consolidated_by_cell_day_4_000000000006',\n",
       " 'consolidated_by_cell_day_4_000000000010',\n",
       " 'new_weather_000000000001',\n",
       " 'weather_lag1_000000000000',\n",
       " 'consolidated_by_cell_day_4_000000000009']"
      ]
     },
     "execution_count": 2,
     "metadata": {},
     "output_type": "execute_result"
    }
   ],
   "source": [
    "# allfiles = os.listdir('/home/yulia/Documents/MIDS/W210/Model/Data')\n",
    "allfiles = os.listdir('/tf/notebooks/W210/Model/Data')\n",
    "allfiles"
   ]
  },
  {
   "cell_type": "code",
   "execution_count": 41,
   "metadata": {},
   "outputs": [
    {
     "name": "stdout",
     "output_type": "stream",
     "text": [
      "Processing File consolidated_by_cell_day_4_000000000012\n",
      "Observations in raw: 728502\n",
      "WF Observations in raw: 240\n",
      "NWF Observations sampled: 72826\n",
      "Observations in processed: 73066\n",
      "Observations in final dataset: 73066\n",
      "Processing File consolidated_by_cell_day_4_000000000007\n",
      "Observations in raw: 728591\n",
      "WF Observations in raw: 248\n",
      "NWF Observations sampled: 72834\n",
      "Observations in processed: 73082\n",
      "Observations in final dataset: 146148\n",
      "Processing File consolidated_by_cell_day_4_000000000008\n",
      "Observations in raw: 728849\n",
      "WF Observations in raw: 211\n",
      "NWF Observations sampled: 72864\n",
      "Observations in processed: 73075\n",
      "Observations in final dataset: 219223\n",
      "Processing File consolidated_by_cell_day_4_000000000015\n",
      "Observations in raw: 728849\n",
      "WF Observations in raw: 228\n",
      "NWF Observations sampled: 72862\n",
      "Observations in processed: 73090\n",
      "Observations in final dataset: 292313\n",
      "Processing File consolidated_by_cell_day_4_000000000014\n",
      "Observations in raw: 729638\n",
      "WF Observations in raw: 226\n",
      "NWF Observations sampled: 72941\n",
      "Observations in processed: 73167\n",
      "Observations in final dataset: 365480\n",
      "Processing File consolidated_by_cell_day_4_000000000003\n",
      "Observations in raw: 729227\n",
      "WF Observations in raw: 227\n",
      "NWF Observations sampled: 72900\n",
      "Observations in processed: 73127\n",
      "Observations in final dataset: 438607\n",
      "Processing File consolidated_by_cell_day_4_000000000011\n",
      "Observations in raw: 730303\n",
      "WF Observations in raw: 235\n",
      "NWF Observations sampled: 73007\n",
      "Observations in processed: 73242\n",
      "Observations in final dataset: 511849\n",
      "Processing File consolidated_by_cell_day_4_000000000002\n",
      "Observations in raw: 728118\n",
      "WF Observations in raw: 240\n",
      "NWF Observations sampled: 72788\n",
      "Observations in processed: 73028\n",
      "Observations in final dataset: 584877\n",
      "Processing File consolidated_by_cell_day_4_000000000005\n",
      "Observations in raw: 729840\n",
      "WF Observations in raw: 195\n",
      "NWF Observations sampled: 72964\n",
      "Observations in processed: 73159\n",
      "Observations in final dataset: 658036\n",
      "Processing File consolidated_by_cell_day_4_000000000000\n",
      "Observations in raw: 731500\n",
      "WF Observations in raw: 220\n",
      "NWF Observations sampled: 73128\n",
      "Observations in processed: 73348\n",
      "Observations in final dataset: 731384\n",
      "Processing File consolidated_by_cell_day_4_000000000004\n",
      "Observations in raw: 728122\n",
      "WF Observations in raw: 237\n",
      "NWF Observations sampled: 72788\n",
      "Observations in processed: 73025\n",
      "Observations in final dataset: 804409\n",
      "Processing File consolidated_by_cell_day_4_000000000001\n",
      "Observations in raw: 730091\n",
      "WF Observations in raw: 236\n",
      "NWF Observations sampled: 72986\n",
      "Observations in processed: 73222\n",
      "Observations in final dataset: 877631\n",
      "Processing File consolidated_by_cell_day_4_000000000013\n",
      "Observations in raw: 727064\n",
      "WF Observations in raw: 229\n",
      "NWF Observations sampled: 72684\n",
      "Observations in processed: 72913\n",
      "Observations in final dataset: 950544\n",
      "Processing File consolidated_by_cell_day_4_000000000006\n",
      "Observations in raw: 730521\n",
      "WF Observations in raw: 238\n",
      "NWF Observations sampled: 73028\n",
      "Observations in processed: 73266\n",
      "Observations in final dataset: 1023810\n",
      "Processing File consolidated_by_cell_day_4_000000000010\n",
      "Observations in raw: 727620\n",
      "WF Observations in raw: 249\n",
      "NWF Observations sampled: 72737\n",
      "Observations in processed: 72986\n",
      "Observations in final dataset: 1096796\n",
      "Processing File consolidated_by_cell_day_4_000000000009\n",
      "Observations in raw: 727893\n",
      "WF Observations in raw: 214\n",
      "NWF Observations sampled: 72768\n",
      "Observations in processed: 72982\n",
      "Observations in final dataset: 1169778\n"
     ]
    }
   ],
   "source": [
    "final_df = pd.DataFrame()\n",
    "for file in allfiles:\n",
    "    if file[0] == 'c':\n",
    "        print(f\"Processing File {file}\")\n",
    "        path = '/tf/notebooks/W210/Model/Data/' + file\n",
    "        final_df = final_df.append(sample_data(path))\n",
    "        print(f\"Observations in final dataset: {final_df.shape[0]}\")\n",
    "final_df.reset_index(drop=True,inplace=True)"
   ]
  },
  {
   "cell_type": "code",
   "execution_count": 42,
   "metadata": {},
   "outputs": [
    {
     "data": {
      "text/plain": [
       "24"
      ]
     },
     "execution_count": 42,
     "metadata": {},
     "output_type": "execute_result"
    }
   ],
   "source": [
    "gc.collect()"
   ]
  },
  {
   "cell_type": "code",
   "execution_count": 43,
   "metadata": {},
   "outputs": [
    {
     "data": {
      "text/plain": [
       "(1169778, 151)"
      ]
     },
     "execution_count": 43,
     "metadata": {},
     "output_type": "execute_result"
    }
   ],
   "source": [
    "final_df.shape"
   ]
  },
  {
   "cell_type": "code",
   "execution_count": 212,
   "metadata": {},
   "outputs": [
    {
     "data": {
      "text/plain": [
       "10643"
      ]
     },
     "execution_count": 212,
     "metadata": {},
     "output_type": "execute_result"
    }
   ],
   "source": [
    "final_df.s2_cell_id.nunique()"
   ]
  },
  {
   "cell_type": "code",
   "execution_count": 44,
   "metadata": {},
   "outputs": [
    {
     "data": {
      "text/plain": [
       "3673.0"
      ]
     },
     "execution_count": 44,
     "metadata": {},
     "output_type": "execute_result"
    }
   ],
   "source": [
    "final_df.wf_wildfire.sum()"
   ]
  },
  {
   "cell_type": "code",
   "execution_count": 45,
   "metadata": {},
   "outputs": [
    {
     "data": {
      "text/plain": [
       "0.0031399120174939177"
      ]
     },
     "execution_count": 45,
     "metadata": {},
     "output_type": "execute_result"
    }
   ],
   "source": [
    "final_df.wf_wildfire.sum() / final_df.shape[0]"
   ]
  },
  {
   "cell_type": "markdown",
   "metadata": {},
   "source": [
    "### Checking features"
   ]
  },
  {
   "cell_type": "code",
   "execution_count": 49,
   "metadata": {},
   "outputs": [],
   "source": [
    "fuel_mean = 78.74 # Calculated in BigQuery\n",
    "final_df.fuel_percent.replace('backfill',str(fuel_mean),inplace = True)\n",
    "final_df['fuel_percent'] = pd.to_numeric(final_df.fuel_percent)"
   ]
  },
  {
   "cell_type": "code",
   "execution_count": 56,
   "metadata": {},
   "outputs": [
    {
     "data": {
      "text/plain": [
       "tl_object_id                 float64\n",
       "tl_kv_sort_sum               float64\n",
       "tl_kv_sort_mean              float64\n",
       "tl_kv_sort_max               float64\n",
       "tl_owner                     float64\n",
       "tl_circuit                   float64\n",
       "tl_length_mil_sum            float64\n",
       "tl_length_mil_mean           float64\n",
       "tl_length_mil_max            float64\n",
       "tl_owner_amp                 float64\n",
       "tl_owner_anza                float64\n",
       "tl_owner_apud                float64\n",
       "tl_owner_blythe_energy       float64\n",
       "tl_owner_bpa                 float64\n",
       "tl_owner_bves                float64\n",
       "tl_owner_calpeco             float64\n",
       "tl_owner_ccsf                float64\n",
       "tl_owner_esj                 float64\n",
       "tl_owner_iid                 float64\n",
       "tl_owner_ipa                 float64\n",
       "tl_owner_kmpud               float64\n",
       "tl_owner_ladwp               float64\n",
       "tl_owner_lmud                float64\n",
       "tl_owner_mid                 float64\n",
       "tl_owner_mwd                 float64\n",
       "tl_owner_npua                float64\n",
       "tl_owner_nvenergy            float64\n",
       "tl_owner_pcorp               float64\n",
       "tl_owner_pg_e                float64\n",
       "tl_owner_plsr                float64\n",
       "tl_owner_reu                 float64\n",
       "tl_owner_rpu                 float64\n",
       "tl_owner_sce                 float64\n",
       "tl_owner_sdg_e               float64\n",
       "tl_owner_shasta_lake         float64\n",
       "tl_owner_smud                float64\n",
       "tl_owner_svec                float64\n",
       "tl_owner_svp                 float64\n",
       "tl_owner_tanc                float64\n",
       "tl_owner_tid                 float64\n",
       "tl_owner_tpud                float64\n",
       "tl_owner_trans_bay_cable     float64\n",
       "tl_owner_venon               float64\n",
       "tl_owner_victorville         float64\n",
       "tl_owner_wapa                float64\n",
       "tl_circuit_liberty_energy    float64\n",
       "tl_circuit_many              float64\n",
       "tl_circuit_quad              float64\n",
       "tl_circuit_single            float64\n",
       "tl_type_oh                   float64\n",
       "tl_type_ug                   float64\n",
       "tl_type_uw                   float64\n",
       "dtype: object"
      ]
     },
     "execution_count": 56,
     "metadata": {},
     "output_type": "execute_result"
    }
   ],
   "source": [
    "final_df[[col for col in final_df if col.startswith('tl_')]].dtypes"
   ]
  },
  {
   "cell_type": "code",
   "execution_count": 59,
   "metadata": {},
   "outputs": [
    {
     "data": {
      "text/plain": [
       "tl_object_id                 707861\n",
       "tl_kv_sort_sum               707861\n",
       "tl_kv_sort_mean              707861\n",
       "tl_kv_sort_max               707861\n",
       "tl_owner                     707861\n",
       "tl_circuit                   707861\n",
       "tl_length_mil_sum            707861\n",
       "tl_length_mil_mean           707968\n",
       "tl_length_mil_max            707968\n",
       "tl_owner_amp                 707861\n",
       "tl_owner_anza                707861\n",
       "tl_owner_apud                707861\n",
       "tl_owner_blythe_energy       707861\n",
       "tl_owner_bpa                 707861\n",
       "tl_owner_bves                707861\n",
       "tl_owner_calpeco             707861\n",
       "tl_owner_ccsf                707861\n",
       "tl_owner_esj                 707861\n",
       "tl_owner_iid                 707861\n",
       "tl_owner_ipa                 707861\n",
       "tl_owner_kmpud               707861\n",
       "tl_owner_ladwp               707861\n",
       "tl_owner_lmud                707861\n",
       "tl_owner_mid                 707861\n",
       "tl_owner_mwd                 707861\n",
       "tl_owner_npua                707861\n",
       "tl_owner_nvenergy            707861\n",
       "tl_owner_pcorp               707861\n",
       "tl_owner_pg_e                707861\n",
       "tl_owner_plsr                707861\n",
       "tl_owner_reu                 707861\n",
       "tl_owner_rpu                 707861\n",
       "tl_owner_sce                 707861\n",
       "tl_owner_sdg_e               707861\n",
       "tl_owner_shasta_lake         707861\n",
       "tl_owner_smud                707861\n",
       "tl_owner_svec                707861\n",
       "tl_owner_svp                 707861\n",
       "tl_owner_tanc                707861\n",
       "tl_owner_tid                 707861\n",
       "tl_owner_tpud                707861\n",
       "tl_owner_trans_bay_cable     707861\n",
       "tl_owner_venon               707861\n",
       "tl_owner_victorville         707861\n",
       "tl_owner_wapa                707861\n",
       "tl_circuit_liberty_energy    707861\n",
       "tl_circuit_many              707861\n",
       "tl_circuit_quad              707861\n",
       "tl_circuit_single            707861\n",
       "tl_type_oh                   707861\n",
       "tl_type_ug                   707861\n",
       "tl_type_uw                   707861\n",
       "dtype: int64"
      ]
     },
     "execution_count": 59,
     "metadata": {},
     "output_type": "execute_result"
    }
   ],
   "source": [
    "final_df[[col for col in final_df if col.startswith('tl_')]].isna().sum()"
   ]
  },
  {
   "cell_type": "code",
   "execution_count": 61,
   "metadata": {},
   "outputs": [
    {
     "data": {
      "text/plain": [
       "wf_wildfire         float64\n",
       "wf_gis_acres        float64\n",
       "wf_fire_dur         float64\n",
       "wf_agency_bia       float64\n",
       "wf_agency_blm       float64\n",
       "wf_agency_coco      float64\n",
       "wf_agency_cdf       float64\n",
       "wf_agency_dod       float64\n",
       "wf_agency_lra       float64\n",
       "wf_agency_nps       float64\n",
       "wf_agency_usf       float64\n",
       "wf_cause_1          float64\n",
       "wf_cause_2          float64\n",
       "wf_cause_3          float64\n",
       "wf_cause_4          float64\n",
       "wf_cause_5          float64\n",
       "wf_cause_6          float64\n",
       "wf_cause_7          float64\n",
       "wf_cause_8          float64\n",
       "wf_cause_9          float64\n",
       "wf_cause_10         float64\n",
       "wf_cause_11         float64\n",
       "wf_cause_14         float64\n",
       "wf_cause_15         float64\n",
       "wf_cause_16         float64\n",
       "wf_cause_18         float64\n",
       "wf_c_method_1       float64\n",
       "wf_c_method_2       float64\n",
       "wf_c_method_3       float64\n",
       "wf_c_method_4       float64\n",
       "wf_c_method_5       float64\n",
       "wf_c_method_6       float64\n",
       "wf_c_method_7       float64\n",
       "wf_c_method_8       float64\n",
       "wf_count_1yr_ago    float64\n",
       "wf_count_2yr_ago    float64\n",
       "wf_count_3yr_ago    float64\n",
       "wf_count_4yr_ago    float64\n",
       "wf_count_5yr_ago    float64\n",
       "wf_cum_area         float64\n",
       "dtype: object"
      ]
     },
     "execution_count": 61,
     "metadata": {},
     "output_type": "execute_result"
    }
   ],
   "source": [
    "final_df[[col for col in final_df if col.startswith('wf_')]].dtypes"
   ]
  },
  {
   "cell_type": "code",
   "execution_count": 62,
   "metadata": {},
   "outputs": [
    {
     "data": {
      "text/plain": [
       "fuel_uid         object\n",
       "fuel_percent    float64\n",
       "dtype: object"
      ]
     },
     "execution_count": 62,
     "metadata": {},
     "output_type": "execute_result"
    }
   ],
   "source": [
    "final_df[[col for col in final_df if col.startswith('fuel_')]].dtypes"
   ]
  },
  {
   "cell_type": "code",
   "execution_count": 63,
   "metadata": {},
   "outputs": [
    {
     "data": {
      "text/plain": [
       "sat_faparval_min        float64\n",
       "sat_faparval_max        float64\n",
       "sat_faparval_mean       float64\n",
       "sat_faparval_median     float64\n",
       "sat_faparval_std        float64\n",
       "sat_faparval_size         int64\n",
       "sat_faparval_count        int64\n",
       "sat_faparval              int64\n",
       "sat_faparmask_min          bool\n",
       "sat_faparmask_max          bool\n",
       "sat_faparmask_mean      float64\n",
       "sat_faparmask_median     object\n",
       "sat_faparmask_std       float64\n",
       "sat_faparmask_size        int64\n",
       "dtype: object"
      ]
     },
     "execution_count": 63,
     "metadata": {},
     "output_type": "execute_result"
    }
   ],
   "source": [
    "final_df[[col for col in final_df if col.startswith('sat_')]].dtypes"
   ]
  },
  {
   "cell_type": "code",
   "execution_count": 64,
   "metadata": {},
   "outputs": [
    {
     "data": {
      "text/plain": [
       "sat_faparval_min           0\n",
       "sat_faparval_max           0\n",
       "sat_faparval_mean          0\n",
       "sat_faparval_median     1400\n",
       "sat_faparval_std           0\n",
       "sat_faparval_size          0\n",
       "sat_faparval_count         0\n",
       "sat_faparval               0\n",
       "sat_faparmask_min          0\n",
       "sat_faparmask_max          0\n",
       "sat_faparmask_mean         0\n",
       "sat_faparmask_median       0\n",
       "sat_faparmask_std          0\n",
       "sat_faparmask_size         0\n",
       "dtype: int64"
      ]
     },
     "execution_count": 64,
     "metadata": {},
     "output_type": "execute_result"
    }
   ],
   "source": [
    "final_df[[col for col in final_df if col.startswith('sat_')]].isna().sum()"
   ]
  },
  {
   "cell_type": "code",
   "execution_count": 88,
   "metadata": {},
   "outputs": [
    {
     "data": {
      "text/html": [
       "<div>\n",
       "<style scoped>\n",
       "    .dataframe tbody tr th:only-of-type {\n",
       "        vertical-align: middle;\n",
       "    }\n",
       "\n",
       "    .dataframe tbody tr th {\n",
       "        vertical-align: top;\n",
       "    }\n",
       "\n",
       "    .dataframe thead th {\n",
       "        text-align: right;\n",
       "    }\n",
       "</style>\n",
       "<table border=\"1\" class=\"dataframe\">\n",
       "  <thead>\n",
       "    <tr style=\"text-align: right;\">\n",
       "      <th></th>\n",
       "      <th>sat_faparval_min</th>\n",
       "      <th>sat_faparval_max</th>\n",
       "      <th>sat_faparval_mean</th>\n",
       "      <th>sat_faparval_median</th>\n",
       "      <th>sat_faparval_std</th>\n",
       "      <th>sat_faparval_size</th>\n",
       "      <th>sat_faparval_count</th>\n",
       "      <th>sat_faparval</th>\n",
       "      <th>sat_faparmask_mean</th>\n",
       "      <th>sat_faparmask_std</th>\n",
       "      <th>sat_faparmask_size</th>\n",
       "    </tr>\n",
       "  </thead>\n",
       "  <tbody>\n",
       "    <tr>\n",
       "      <th>count</th>\n",
       "      <td>1.169778e+06</td>\n",
       "      <td>1.169778e+06</td>\n",
       "      <td>1.169778e+06</td>\n",
       "      <td>1.169778e+06</td>\n",
       "      <td>1.169778e+06</td>\n",
       "      <td>1.169778e+06</td>\n",
       "      <td>1.169778e+06</td>\n",
       "      <td>1.169778e+06</td>\n",
       "      <td>1.169778e+06</td>\n",
       "      <td>1.169778e+06</td>\n",
       "      <td>1.169778e+06</td>\n",
       "    </tr>\n",
       "    <tr>\n",
       "      <th>mean</th>\n",
       "      <td>1.685741e-01</td>\n",
       "      <td>5.764128e-01</td>\n",
       "      <td>3.013177e-01</td>\n",
       "      <td>3.824433e-01</td>\n",
       "      <td>6.649632e-02</td>\n",
       "      <td>5.803085e+02</td>\n",
       "      <td>5.803085e+02</td>\n",
       "      <td>1.064777e+02</td>\n",
       "      <td>4.531432e-02</td>\n",
       "      <td>5.869080e-02</td>\n",
       "      <td>5.803085e+02</td>\n",
       "    </tr>\n",
       "    <tr>\n",
       "      <th>std</th>\n",
       "      <td>1.584758e-01</td>\n",
       "      <td>2.604321e-01</td>\n",
       "      <td>2.499692e-01</td>\n",
       "      <td>2.133349e-01</td>\n",
       "      <td>5.485793e-02</td>\n",
       "      <td>7.436246e+02</td>\n",
       "      <td>7.436246e+02</td>\n",
       "      <td>9.749316e+01</td>\n",
       "      <td>1.537910e-01</td>\n",
       "      <td>1.271404e-01</td>\n",
       "      <td>7.436246e+02</td>\n",
       "    </tr>\n",
       "    <tr>\n",
       "      <th>min</th>\n",
       "      <td>0.000000e+00</td>\n",
       "      <td>0.000000e+00</td>\n",
       "      <td>0.000000e+00</td>\n",
       "      <td>0.000000e+00</td>\n",
       "      <td>0.000000e+00</td>\n",
       "      <td>1.820000e+02</td>\n",
       "      <td>1.820000e+02</td>\n",
       "      <td>1.000000e+00</td>\n",
       "      <td>0.000000e+00</td>\n",
       "      <td>0.000000e+00</td>\n",
       "      <td>1.820000e+02</td>\n",
       "    </tr>\n",
       "    <tr>\n",
       "      <th>25%</th>\n",
       "      <td>4.000000e-02</td>\n",
       "      <td>4.200000e-01</td>\n",
       "      <td>0.000000e+00</td>\n",
       "      <td>2.120000e-01</td>\n",
       "      <td>0.000000e+00</td>\n",
       "      <td>2.000000e+02</td>\n",
       "      <td>2.000000e+02</td>\n",
       "      <td>6.300000e+01</td>\n",
       "      <td>0.000000e+00</td>\n",
       "      <td>0.000000e+00</td>\n",
       "      <td>2.000000e+02</td>\n",
       "    </tr>\n",
       "    <tr>\n",
       "      <th>50%</th>\n",
       "      <td>1.160000e-01</td>\n",
       "      <td>6.320000e-01</td>\n",
       "      <td>3.015370e-01</td>\n",
       "      <td>3.840000e-01</td>\n",
       "      <td>6.716503e-02</td>\n",
       "      <td>2.120000e+02</td>\n",
       "      <td>2.120000e+02</td>\n",
       "      <td>8.500000e+01</td>\n",
       "      <td>0.000000e+00</td>\n",
       "      <td>0.000000e+00</td>\n",
       "      <td>2.120000e+02</td>\n",
       "    </tr>\n",
       "    <tr>\n",
       "      <th>75%</th>\n",
       "      <td>2.720000e-01</td>\n",
       "      <td>7.840000e-01</td>\n",
       "      <td>5.098532e-01</td>\n",
       "      <td>5.440000e-01</td>\n",
       "      <td>1.014885e-01</td>\n",
       "      <td>7.910000e+02</td>\n",
       "      <td>7.910000e+02</td>\n",
       "      <td>1.170000e+02</td>\n",
       "      <td>1.196172e-03</td>\n",
       "      <td>3.436038e-02</td>\n",
       "      <td>7.910000e+02</td>\n",
       "    </tr>\n",
       "    <tr>\n",
       "      <th>max</th>\n",
       "      <td>9.400001e-01</td>\n",
       "      <td>9.400001e-01</td>\n",
       "      <td>9.171257e-01</td>\n",
       "      <td>9.360000e-01</td>\n",
       "      <td>3.436576e-01</td>\n",
       "      <td>3.647000e+03</td>\n",
       "      <td>3.647000e+03</td>\n",
       "      <td>1.832000e+03</td>\n",
       "      <td>1.000000e+00</td>\n",
       "      <td>5.000000e-01</td>\n",
       "      <td>3.647000e+03</td>\n",
       "    </tr>\n",
       "  </tbody>\n",
       "</table>\n",
       "</div>"
      ],
      "text/plain": [
       "       sat_faparval_min  sat_faparval_max  sat_faparval_mean  \\\n",
       "count      1.169778e+06      1.169778e+06       1.169778e+06   \n",
       "mean       1.685741e-01      5.764128e-01       3.013177e-01   \n",
       "std        1.584758e-01      2.604321e-01       2.499692e-01   \n",
       "min        0.000000e+00      0.000000e+00       0.000000e+00   \n",
       "25%        4.000000e-02      4.200000e-01       0.000000e+00   \n",
       "50%        1.160000e-01      6.320000e-01       3.015370e-01   \n",
       "75%        2.720000e-01      7.840000e-01       5.098532e-01   \n",
       "max        9.400001e-01      9.400001e-01       9.171257e-01   \n",
       "\n",
       "       sat_faparval_median  sat_faparval_std  sat_faparval_size  \\\n",
       "count         1.169778e+06      1.169778e+06       1.169778e+06   \n",
       "mean          3.824433e-01      6.649632e-02       5.803085e+02   \n",
       "std           2.133349e-01      5.485793e-02       7.436246e+02   \n",
       "min           0.000000e+00      0.000000e+00       1.820000e+02   \n",
       "25%           2.120000e-01      0.000000e+00       2.000000e+02   \n",
       "50%           3.840000e-01      6.716503e-02       2.120000e+02   \n",
       "75%           5.440000e-01      1.014885e-01       7.910000e+02   \n",
       "max           9.360000e-01      3.436576e-01       3.647000e+03   \n",
       "\n",
       "       sat_faparval_count  sat_faparval  sat_faparmask_mean  \\\n",
       "count        1.169778e+06  1.169778e+06        1.169778e+06   \n",
       "mean         5.803085e+02  1.064777e+02        4.531432e-02   \n",
       "std          7.436246e+02  9.749316e+01        1.537910e-01   \n",
       "min          1.820000e+02  1.000000e+00        0.000000e+00   \n",
       "25%          2.000000e+02  6.300000e+01        0.000000e+00   \n",
       "50%          2.120000e+02  8.500000e+01        0.000000e+00   \n",
       "75%          7.910000e+02  1.170000e+02        1.196172e-03   \n",
       "max          3.647000e+03  1.832000e+03        1.000000e+00   \n",
       "\n",
       "       sat_faparmask_std  sat_faparmask_size  \n",
       "count       1.169778e+06        1.169778e+06  \n",
       "mean        5.869080e-02        5.803085e+02  \n",
       "std         1.271404e-01        7.436246e+02  \n",
       "min         0.000000e+00        1.820000e+02  \n",
       "25%         0.000000e+00        2.000000e+02  \n",
       "50%         0.000000e+00        2.120000e+02  \n",
       "75%         3.436038e-02        7.910000e+02  \n",
       "max         5.000000e-01        3.647000e+03  "
      ]
     },
     "execution_count": 88,
     "metadata": {},
     "output_type": "execute_result"
    }
   ],
   "source": [
    "final_df[[col for col in final_df if col.startswith('sat_')]].describe()"
   ]
  },
  {
   "cell_type": "code",
   "execution_count": 67,
   "metadata": {},
   "outputs": [
    {
     "data": {
      "text/plain": [
       "1400"
      ]
     },
     "execution_count": 67,
     "metadata": {},
     "output_type": "execute_result"
    }
   ],
   "source": [
    "final_df.sat_faparval_median.isna().sum()"
   ]
  },
  {
   "cell_type": "code",
   "execution_count": 69,
   "metadata": {},
   "outputs": [
    {
     "data": {
      "text/html": [
       "<div>\n",
       "<style scoped>\n",
       "    .dataframe tbody tr th:only-of-type {\n",
       "        vertical-align: middle;\n",
       "    }\n",
       "\n",
       "    .dataframe tbody tr th {\n",
       "        vertical-align: top;\n",
       "    }\n",
       "\n",
       "    .dataframe thead th {\n",
       "        text-align: right;\n",
       "    }\n",
       "</style>\n",
       "<table border=\"1\" class=\"dataframe\">\n",
       "  <thead>\n",
       "    <tr style=\"text-align: right;\">\n",
       "      <th></th>\n",
       "      <th>s2_cell_id</th>\n",
       "      <th>measure_date</th>\n",
       "      <th>sat_faparval</th>\n",
       "      <th>sat_faparval_median</th>\n",
       "      <th>sat_faparmask_median</th>\n",
       "    </tr>\n",
       "  </thead>\n",
       "  <tbody>\n",
       "    <tr>\n",
       "      <th>375</th>\n",
       "      <td>54c97cc</td>\n",
       "      <td>2016-01-06</td>\n",
       "      <td>1</td>\n",
       "      <td>NaN</td>\n",
       "      <td>True</td>\n",
       "    </tr>\n",
       "    <tr>\n",
       "      <th>732</th>\n",
       "      <td>80be284</td>\n",
       "      <td>2016-03-22</td>\n",
       "      <td>1</td>\n",
       "      <td>NaN</td>\n",
       "      <td>1.0</td>\n",
       "    </tr>\n",
       "    <tr>\n",
       "      <th>1453</th>\n",
       "      <td>809713c</td>\n",
       "      <td>2017-03-25</td>\n",
       "      <td>1</td>\n",
       "      <td>NaN</td>\n",
       "      <td>1.0</td>\n",
       "    </tr>\n",
       "    <tr>\n",
       "      <th>1876</th>\n",
       "      <td>80bfc64</td>\n",
       "      <td>2017-05-09</td>\n",
       "      <td>1</td>\n",
       "      <td>NaN</td>\n",
       "      <td>1.0</td>\n",
       "    </tr>\n",
       "    <tr>\n",
       "      <th>1961</th>\n",
       "      <td>80973d4</td>\n",
       "      <td>2018-03-20</td>\n",
       "      <td>1</td>\n",
       "      <td>NaN</td>\n",
       "      <td>1.0</td>\n",
       "    </tr>\n",
       "  </tbody>\n",
       "</table>\n",
       "</div>"
      ],
      "text/plain": [
       "     s2_cell_id measure_date  sat_faparval  sat_faparval_median  \\\n",
       "375     54c97cc   2016-01-06             1                  NaN   \n",
       "732     80be284   2016-03-22             1                  NaN   \n",
       "1453    809713c   2017-03-25             1                  NaN   \n",
       "1876    80bfc64   2017-05-09             1                  NaN   \n",
       "1961    80973d4   2018-03-20             1                  NaN   \n",
       "\n",
       "     sat_faparmask_median  \n",
       "375                  True  \n",
       "732                   1.0  \n",
       "1453                  1.0  \n",
       "1876                  1.0  \n",
       "1961                  1.0  "
      ]
     },
     "execution_count": 69,
     "metadata": {},
     "output_type": "execute_result"
    }
   ],
   "source": [
    "final_df[final_df.sat_faparval_median.isna()][['s2_cell_id', 'measure_date', 'sat_faparval', 'sat_faparval_median', 'sat_faparmask_median']].head()"
   ]
  },
  {
   "cell_type": "code",
   "execution_count": 91,
   "metadata": {},
   "outputs": [],
   "source": [
    "weather = [\n",
    " 'wea_air_temp_max',\n",
    " 'wea_air_temp_mean',\n",
    " 'wea_precip_accum_max',\n",
    " 'relative_humidity_max',\n",
    " 'relative_humidity_min',\n",
    " 'relative_humidity_mean',\n",
    " 'wea_wind_speed_max',\n",
    " 'wea_wind_speed_min',\n",
    " 'wea_wind_speed_mean',\n",
    " 'wind_gust_max'\n",
    "]"
   ]
  },
  {
   "cell_type": "code",
   "execution_count": 92,
   "metadata": {},
   "outputs": [
    {
     "data": {
      "text/plain": [
       "wea_air_temp_max          float64\n",
       "wea_air_temp_mean         float64\n",
       "wea_precip_accum_max      float64\n",
       "relative_humidity_max     float64\n",
       "relative_humidity_min     float64\n",
       "relative_humidity_mean    float64\n",
       "wea_wind_speed_max        float64\n",
       "wea_wind_speed_min        float64\n",
       "wea_wind_speed_mean       float64\n",
       "wind_gust_max             float64\n",
       "dtype: object"
      ]
     },
     "execution_count": 92,
     "metadata": {},
     "output_type": "execute_result"
    }
   ],
   "source": [
    "final_df[weather].dtypes"
   ]
  },
  {
   "cell_type": "code",
   "execution_count": 93,
   "metadata": {},
   "outputs": [
    {
     "data": {
      "text/plain": [
       "wea_air_temp_max          0\n",
       "wea_air_temp_mean         0\n",
       "wea_precip_accum_max      0\n",
       "relative_humidity_max     0\n",
       "relative_humidity_min     0\n",
       "relative_humidity_mean    0\n",
       "wea_wind_speed_max        0\n",
       "wea_wind_speed_min        0\n",
       "wea_wind_speed_mean       0\n",
       "wind_gust_max             0\n",
       "dtype: int64"
      ]
     },
     "execution_count": 93,
     "metadata": {},
     "output_type": "execute_result"
    }
   ],
   "source": [
    "final_df[weather].isna().sum()"
   ]
  },
  {
   "cell_type": "code",
   "execution_count": 73,
   "metadata": {},
   "outputs": [],
   "source": [
    "final_df.fillna(0, inplace=True)"
   ]
  },
  {
   "cell_type": "code",
   "execution_count": 74,
   "metadata": {},
   "outputs": [
    {
     "data": {
      "text/html": [
       "<div>\n",
       "<style scoped>\n",
       "    .dataframe tbody tr th:only-of-type {\n",
       "        vertical-align: middle;\n",
       "    }\n",
       "\n",
       "    .dataframe tbody tr th {\n",
       "        vertical-align: top;\n",
       "    }\n",
       "\n",
       "    .dataframe thead th {\n",
       "        text-align: right;\n",
       "    }\n",
       "</style>\n",
       "<table border=\"1\" class=\"dataframe\">\n",
       "  <thead>\n",
       "    <tr style=\"text-align: right;\">\n",
       "      <th></th>\n",
       "      <th>s2_cell_id</th>\n",
       "      <th>measure_date</th>\n",
       "      <th>tl_object_id</th>\n",
       "      <th>tl_kv_sort_sum</th>\n",
       "      <th>tl_kv_sort_mean</th>\n",
       "      <th>tl_kv_sort_max</th>\n",
       "      <th>tl_owner</th>\n",
       "      <th>tl_circuit</th>\n",
       "      <th>tl_length_mil_sum</th>\n",
       "      <th>tl_length_mil_mean</th>\n",
       "      <th>...</th>\n",
       "      <th>stid_relative_humidity</th>\n",
       "      <th>relative_humidity_max</th>\n",
       "      <th>relative_humidity_min</th>\n",
       "      <th>relative_humidity_mean</th>\n",
       "      <th>stid_wind_speed</th>\n",
       "      <th>wea_wind_speed_max</th>\n",
       "      <th>wea_wind_speed_min</th>\n",
       "      <th>wea_wind_speed_mean</th>\n",
       "      <th>wea_stid_wind_gust</th>\n",
       "      <th>wind_gust_max</th>\n",
       "    </tr>\n",
       "  </thead>\n",
       "  <tbody>\n",
       "    <tr>\n",
       "      <th>0</th>\n",
       "      <td>54cb13</td>\n",
       "      <td>2018-07-14</td>\n",
       "      <td>0.0</td>\n",
       "      <td>0.0</td>\n",
       "      <td>0.0</td>\n",
       "      <td>0.0</td>\n",
       "      <td>0.0</td>\n",
       "      <td>0.0</td>\n",
       "      <td>0.0</td>\n",
       "      <td>0.0</td>\n",
       "      <td>...</td>\n",
       "      <td>FLAC1</td>\n",
       "      <td>67.0</td>\n",
       "      <td>13.0</td>\n",
       "      <td>42.000000</td>\n",
       "      <td>FLAC1</td>\n",
       "      <td>3.13</td>\n",
       "      <td>0.9</td>\n",
       "      <td>1.955000</td>\n",
       "      <td>FLAC1</td>\n",
       "      <td>7.15</td>\n",
       "    </tr>\n",
       "    <tr>\n",
       "      <th>1</th>\n",
       "      <td>54ce7c</td>\n",
       "      <td>2017-09-04</td>\n",
       "      <td>0.0</td>\n",
       "      <td>0.0</td>\n",
       "      <td>0.0</td>\n",
       "      <td>0.0</td>\n",
       "      <td>0.0</td>\n",
       "      <td>0.0</td>\n",
       "      <td>0.0</td>\n",
       "      <td>0.0</td>\n",
       "      <td>...</td>\n",
       "      <td>BOLC1</td>\n",
       "      <td>33.0</td>\n",
       "      <td>14.0</td>\n",
       "      <td>23.083333</td>\n",
       "      <td>BOLC1</td>\n",
       "      <td>3.58</td>\n",
       "      <td>0.9</td>\n",
       "      <td>2.457500</td>\n",
       "      <td>BOLC1</td>\n",
       "      <td>6.70</td>\n",
       "    </tr>\n",
       "    <tr>\n",
       "      <th>2</th>\n",
       "      <td>54d2fb</td>\n",
       "      <td>2018-07-23</td>\n",
       "      <td>0.0</td>\n",
       "      <td>0.0</td>\n",
       "      <td>0.0</td>\n",
       "      <td>0.0</td>\n",
       "      <td>0.0</td>\n",
       "      <td>0.0</td>\n",
       "      <td>0.0</td>\n",
       "      <td>0.0</td>\n",
       "      <td>...</td>\n",
       "      <td>WYTC1</td>\n",
       "      <td>64.0</td>\n",
       "      <td>19.0</td>\n",
       "      <td>39.423611</td>\n",
       "      <td>OBRC1</td>\n",
       "      <td>1.34</td>\n",
       "      <td>0.0</td>\n",
       "      <td>0.355417</td>\n",
       "      <td>WYTC1</td>\n",
       "      <td>3.66</td>\n",
       "    </tr>\n",
       "    <tr>\n",
       "      <th>3</th>\n",
       "      <td>54d361</td>\n",
       "      <td>2017-08-07</td>\n",
       "      <td>0.0</td>\n",
       "      <td>0.0</td>\n",
       "      <td>0.0</td>\n",
       "      <td>0.0</td>\n",
       "      <td>0.0</td>\n",
       "      <td>0.0</td>\n",
       "      <td>0.0</td>\n",
       "      <td>0.0</td>\n",
       "      <td>...</td>\n",
       "      <td>RLKC1</td>\n",
       "      <td>74.0</td>\n",
       "      <td>11.0</td>\n",
       "      <td>40.833333</td>\n",
       "      <td>RLKC1</td>\n",
       "      <td>1.79</td>\n",
       "      <td>0.0</td>\n",
       "      <td>0.635000</td>\n",
       "      <td>RLKC1</td>\n",
       "      <td>5.37</td>\n",
       "    </tr>\n",
       "    <tr>\n",
       "      <th>4</th>\n",
       "      <td>808204</td>\n",
       "      <td>2018-07-31</td>\n",
       "      <td>0.0</td>\n",
       "      <td>0.0</td>\n",
       "      <td>0.0</td>\n",
       "      <td>0.0</td>\n",
       "      <td>0.0</td>\n",
       "      <td>0.0</td>\n",
       "      <td>0.0</td>\n",
       "      <td>0.0</td>\n",
       "      <td>...</td>\n",
       "      <td>MASC1</td>\n",
       "      <td>34.0</td>\n",
       "      <td>15.0</td>\n",
       "      <td>24.541667</td>\n",
       "      <td>MASC1</td>\n",
       "      <td>7.60</td>\n",
       "      <td>0.0</td>\n",
       "      <td>3.706667</td>\n",
       "      <td>MASC1</td>\n",
       "      <td>10.73</td>\n",
       "    </tr>\n",
       "  </tbody>\n",
       "</table>\n",
       "<p>5 rows × 151 columns</p>\n",
       "</div>"
      ],
      "text/plain": [
       "  s2_cell_id measure_date  tl_object_id  tl_kv_sort_sum  tl_kv_sort_mean  \\\n",
       "0     54cb13   2018-07-14           0.0             0.0              0.0   \n",
       "1     54ce7c   2017-09-04           0.0             0.0              0.0   \n",
       "2     54d2fb   2018-07-23           0.0             0.0              0.0   \n",
       "3     54d361   2017-08-07           0.0             0.0              0.0   \n",
       "4     808204   2018-07-31           0.0             0.0              0.0   \n",
       "\n",
       "   tl_kv_sort_max  tl_owner  tl_circuit  tl_length_mil_sum  \\\n",
       "0             0.0       0.0         0.0                0.0   \n",
       "1             0.0       0.0         0.0                0.0   \n",
       "2             0.0       0.0         0.0                0.0   \n",
       "3             0.0       0.0         0.0                0.0   \n",
       "4             0.0       0.0         0.0                0.0   \n",
       "\n",
       "   tl_length_mil_mean      ...        stid_relative_humidity  \\\n",
       "0                 0.0      ...                         FLAC1   \n",
       "1                 0.0      ...                         BOLC1   \n",
       "2                 0.0      ...                         WYTC1   \n",
       "3                 0.0      ...                         RLKC1   \n",
       "4                 0.0      ...                         MASC1   \n",
       "\n",
       "   relative_humidity_max  relative_humidity_min  relative_humidity_mean  \\\n",
       "0                   67.0                   13.0               42.000000   \n",
       "1                   33.0                   14.0               23.083333   \n",
       "2                   64.0                   19.0               39.423611   \n",
       "3                   74.0                   11.0               40.833333   \n",
       "4                   34.0                   15.0               24.541667   \n",
       "\n",
       "   stid_wind_speed  wea_wind_speed_max  wea_wind_speed_min  \\\n",
       "0            FLAC1                3.13                 0.9   \n",
       "1            BOLC1                3.58                 0.9   \n",
       "2            OBRC1                1.34                 0.0   \n",
       "3            RLKC1                1.79                 0.0   \n",
       "4            MASC1                7.60                 0.0   \n",
       "\n",
       "   wea_wind_speed_mean  wea_stid_wind_gust  wind_gust_max  \n",
       "0             1.955000               FLAC1           7.15  \n",
       "1             2.457500               BOLC1           6.70  \n",
       "2             0.355417               WYTC1           3.66  \n",
       "3             0.635000               RLKC1           5.37  \n",
       "4             3.706667               MASC1          10.73  \n",
       "\n",
       "[5 rows x 151 columns]"
      ]
     },
     "execution_count": 74,
     "metadata": {},
     "output_type": "execute_result"
    }
   ],
   "source": [
    "final_df.head()"
   ]
  },
  {
   "cell_type": "code",
   "execution_count": 54,
   "metadata": {},
   "outputs": [
    {
     "data": {
      "text/plain": [
       "349"
      ]
     },
     "execution_count": 54,
     "metadata": {},
     "output_type": "execute_result"
    }
   ],
   "source": [
    "gc.collect()"
   ]
  },
  {
   "cell_type": "markdown",
   "metadata": {},
   "source": [
    "### Getting the new weather data"
   ]
  },
  {
   "cell_type": "code",
   "execution_count": 4,
   "metadata": {},
   "outputs": [
    {
     "name": "stdout",
     "output_type": "stream",
     "text": [
      "Processing new_weather_000000000000\n"
     ]
    },
    {
     "name": "stderr",
     "output_type": "stream",
     "text": [
      "/usr/local/lib/python3.5/dist-packages/IPython/core/interactiveshell.py:3020: DtypeWarning: Columns (4) have mixed types. Specify dtype option on import or set low_memory=False.\n",
      "  interactivity=interactivity, compiler=compiler, result=result)\n"
     ]
    },
    {
     "name": "stdout",
     "output_type": "stream",
     "text": [
      "Processing new_weather_000000000002\n",
      "Processing new_weather_000000000001\n"
     ]
    }
   ],
   "source": [
    "weather_df = pd.DataFrame()\n",
    "for file in allfiles:\n",
    "    if file[:3] == 'new':\n",
    "        print(\"Processing {}\".format(file))\n",
    "        path = '/tf/notebooks/W210/Model/Data/' + file\n",
    "        weather_df = weather_df.append(pd.read_csv(path))"
   ]
  },
  {
   "cell_type": "code",
   "execution_count": 18,
   "metadata": {},
   "outputs": [
    {
     "data": {
      "text/plain": [
       "(11664728, 14)"
      ]
     },
     "execution_count": 18,
     "metadata": {},
     "output_type": "execute_result"
    }
   ],
   "source": [
    "weather_df.shape"
   ]
  },
  {
   "cell_type": "code",
   "execution_count": 19,
   "metadata": {},
   "outputs": [
    {
     "data": {
      "text/html": [
       "<div>\n",
       "<style scoped>\n",
       "    .dataframe tbody tr th:only-of-type {\n",
       "        vertical-align: middle;\n",
       "    }\n",
       "\n",
       "    .dataframe tbody tr th {\n",
       "        vertical-align: top;\n",
       "    }\n",
       "\n",
       "    .dataframe thead th {\n",
       "        text-align: right;\n",
       "    }\n",
       "</style>\n",
       "<table border=\"1\" class=\"dataframe\">\n",
       "  <thead>\n",
       "    <tr style=\"text-align: right;\">\n",
       "      <th></th>\n",
       "      <th>s2_cell_id</th>\n",
       "      <th>measure_date</th>\n",
       "      <th>fuel_percent_ma7</th>\n",
       "      <th>fuel_percent_ma30</th>\n",
       "      <th>fuel_percent_l1</th>\n",
       "      <th>wea_air_temp_mean_l1</th>\n",
       "      <th>wea_precip_accum_max_l1</th>\n",
       "      <th>relative_humidity_mean_l1</th>\n",
       "      <th>wea_air_temp_mean_ma7</th>\n",
       "      <th>wea_precip_accum_max_ma7</th>\n",
       "      <th>relative_humidity_mean_ma7</th>\n",
       "      <th>wea_air_temp_mean_ma30</th>\n",
       "      <th>wea_precip_accum_max_ma30</th>\n",
       "      <th>relative_humidity_mean_ma30</th>\n",
       "    </tr>\n",
       "  </thead>\n",
       "  <tbody>\n",
       "    <tr>\n",
       "      <th>0</th>\n",
       "      <td>54d2af</td>\n",
       "      <td>2017-08-16</td>\n",
       "      <td>84.142857</td>\n",
       "      <td>76.000000</td>\n",
       "      <td>112</td>\n",
       "      <td>19.166250</td>\n",
       "      <td>1648.968</td>\n",
       "      <td>58.708333</td>\n",
       "      <td>21.392067</td>\n",
       "      <td>1648.968000</td>\n",
       "      <td>48.148810</td>\n",
       "      <td>23.362051</td>\n",
       "      <td>1648.256800</td>\n",
       "      <td>40.119444</td>\n",
       "    </tr>\n",
       "    <tr>\n",
       "      <th>1</th>\n",
       "      <td>80c1a4</td>\n",
       "      <td>2017-04-21</td>\n",
       "      <td>119.714286</td>\n",
       "      <td>116.966667</td>\n",
       "      <td>133</td>\n",
       "      <td>10.463333</td>\n",
       "      <td>1005.586</td>\n",
       "      <td>55.291667</td>\n",
       "      <td>11.415298</td>\n",
       "      <td>1005.041714</td>\n",
       "      <td>51.005952</td>\n",
       "      <td>9.535111</td>\n",
       "      <td>1002.529533</td>\n",
       "      <td>50.388889</td>\n",
       "    </tr>\n",
       "    <tr>\n",
       "      <th>2</th>\n",
       "      <td>54d361</td>\n",
       "      <td>2016-06-17</td>\n",
       "      <td>109.285714</td>\n",
       "      <td>120.066667</td>\n",
       "      <td>185</td>\n",
       "      <td>10.047083</td>\n",
       "      <td>1665.732</td>\n",
       "      <td>73.166667</td>\n",
       "      <td>13.429464</td>\n",
       "      <td>1664.897429</td>\n",
       "      <td>63.386905</td>\n",
       "      <td>15.630542</td>\n",
       "      <td>1661.778067</td>\n",
       "      <td>62.312500</td>\n",
       "    </tr>\n",
       "    <tr>\n",
       "      <th>3</th>\n",
       "      <td>54d1f0c</td>\n",
       "      <td>2017-03-19</td>\n",
       "      <td>127.428571</td>\n",
       "      <td>109.533333</td>\n",
       "      <td>328</td>\n",
       "      <td>9.952500</td>\n",
       "      <td>1307.084</td>\n",
       "      <td>98.958333</td>\n",
       "      <td>10.373122</td>\n",
       "      <td>1282.808857</td>\n",
       "      <td>82.406926</td>\n",
       "      <td>5.127119</td>\n",
       "      <td>1227.387267</td>\n",
       "      <td>87.424720</td>\n",
       "    </tr>\n",
       "    <tr>\n",
       "      <th>4</th>\n",
       "      <td>54d28f4</td>\n",
       "      <td>2017-06-01</td>\n",
       "      <td>78.142857</td>\n",
       "      <td>100.500000</td>\n",
       "      <td>124</td>\n",
       "      <td>19.974583</td>\n",
       "      <td>2497.328</td>\n",
       "      <td>67.041667</td>\n",
       "      <td>21.392440</td>\n",
       "      <td>2496.021714</td>\n",
       "      <td>60.273810</td>\n",
       "      <td>20.150986</td>\n",
       "      <td>2495.465333</td>\n",
       "      <td>52.051389</td>\n",
       "    </tr>\n",
       "  </tbody>\n",
       "</table>\n",
       "</div>"
      ],
      "text/plain": [
       "  s2_cell_id measure_date  fuel_percent_ma7  fuel_percent_ma30  \\\n",
       "0     54d2af   2017-08-16         84.142857          76.000000   \n",
       "1     80c1a4   2017-04-21        119.714286         116.966667   \n",
       "2     54d361   2016-06-17        109.285714         120.066667   \n",
       "3    54d1f0c   2017-03-19        127.428571         109.533333   \n",
       "4    54d28f4   2017-06-01         78.142857         100.500000   \n",
       "\n",
       "  fuel_percent_l1  wea_air_temp_mean_l1  wea_precip_accum_max_l1  \\\n",
       "0             112             19.166250                 1648.968   \n",
       "1             133             10.463333                 1005.586   \n",
       "2             185             10.047083                 1665.732   \n",
       "3             328              9.952500                 1307.084   \n",
       "4             124             19.974583                 2497.328   \n",
       "\n",
       "   relative_humidity_mean_l1  wea_air_temp_mean_ma7  wea_precip_accum_max_ma7  \\\n",
       "0                  58.708333              21.392067               1648.968000   \n",
       "1                  55.291667              11.415298               1005.041714   \n",
       "2                  73.166667              13.429464               1664.897429   \n",
       "3                  98.958333              10.373122               1282.808857   \n",
       "4                  67.041667              21.392440               2496.021714   \n",
       "\n",
       "   relative_humidity_mean_ma7  wea_air_temp_mean_ma30  \\\n",
       "0                   48.148810               23.362051   \n",
       "1                   51.005952                9.535111   \n",
       "2                   63.386905               15.630542   \n",
       "3                   82.406926                5.127119   \n",
       "4                   60.273810               20.150986   \n",
       "\n",
       "   wea_precip_accum_max_ma30  relative_humidity_mean_ma30  \n",
       "0                1648.256800                    40.119444  \n",
       "1                1002.529533                    50.388889  \n",
       "2                1661.778067                    62.312500  \n",
       "3                1227.387267                    87.424720  \n",
       "4                2495.465333                    52.051389  "
      ]
     },
     "execution_count": 19,
     "metadata": {},
     "output_type": "execute_result"
    }
   ],
   "source": [
    "weather_df.head()"
   ]
  },
  {
   "cell_type": "code",
   "execution_count": 20,
   "metadata": {},
   "outputs": [
    {
     "data": {
      "text/plain": [
       "s2_cell_id                         0\n",
       "measure_date                       0\n",
       "fuel_percent_ma7                   0\n",
       "fuel_percent_ma30                  0\n",
       "fuel_percent_l1                10643\n",
       "wea_air_temp_mean_l1           10643\n",
       "wea_precip_accum_max_l1        10643\n",
       "relative_humidity_mean_l1      10643\n",
       "wea_air_temp_mean_ma7              0\n",
       "wea_precip_accum_max_ma7           0\n",
       "relative_humidity_mean_ma7         0\n",
       "wea_air_temp_mean_ma30             0\n",
       "wea_precip_accum_max_ma30          0\n",
       "relative_humidity_mean_ma30        0\n",
       "dtype: int64"
      ]
     },
     "execution_count": 20,
     "metadata": {},
     "output_type": "execute_result"
    }
   ],
   "source": [
    "weather_df.isna().sum()"
   ]
  },
  {
   "cell_type": "code",
   "execution_count": 21,
   "metadata": {},
   "outputs": [
    {
     "data": {
      "text/html": [
       "<div>\n",
       "<style scoped>\n",
       "    .dataframe tbody tr th:only-of-type {\n",
       "        vertical-align: middle;\n",
       "    }\n",
       "\n",
       "    .dataframe tbody tr th {\n",
       "        vertical-align: top;\n",
       "    }\n",
       "\n",
       "    .dataframe thead th {\n",
       "        text-align: right;\n",
       "    }\n",
       "</style>\n",
       "<table border=\"1\" class=\"dataframe\">\n",
       "  <thead>\n",
       "    <tr style=\"text-align: right;\">\n",
       "      <th></th>\n",
       "      <th>s2_cell_id</th>\n",
       "      <th>measure_date</th>\n",
       "      <th>fuel_percent_ma7</th>\n",
       "      <th>fuel_percent_ma30</th>\n",
       "      <th>fuel_percent_l1</th>\n",
       "      <th>wea_air_temp_mean_l1</th>\n",
       "      <th>wea_precip_accum_max_l1</th>\n",
       "      <th>relative_humidity_mean_l1</th>\n",
       "      <th>wea_air_temp_mean_ma7</th>\n",
       "      <th>wea_precip_accum_max_ma7</th>\n",
       "      <th>relative_humidity_mean_ma7</th>\n",
       "      <th>wea_air_temp_mean_ma30</th>\n",
       "      <th>wea_precip_accum_max_ma30</th>\n",
       "      <th>relative_humidity_mean_ma30</th>\n",
       "    </tr>\n",
       "  </thead>\n",
       "  <tbody>\n",
       "    <tr>\n",
       "      <th>528</th>\n",
       "      <td>8086b44</td>\n",
       "      <td>2016-01-01</td>\n",
       "      <td>78.0</td>\n",
       "      <td>78.0</td>\n",
       "      <td>NaN</td>\n",
       "      <td>NaN</td>\n",
       "      <td>NaN</td>\n",
       "      <td>NaN</td>\n",
       "      <td>5.216250</td>\n",
       "      <td>423.672</td>\n",
       "      <td>80.423611</td>\n",
       "      <td>5.216250</td>\n",
       "      <td>423.672</td>\n",
       "      <td>80.423611</td>\n",
       "    </tr>\n",
       "    <tr>\n",
       "      <th>569</th>\n",
       "      <td>809b264</td>\n",
       "      <td>2016-01-01</td>\n",
       "      <td>78.0</td>\n",
       "      <td>78.0</td>\n",
       "      <td>NaN</td>\n",
       "      <td>NaN</td>\n",
       "      <td>NaN</td>\n",
       "      <td>NaN</td>\n",
       "      <td>0.460833</td>\n",
       "      <td>91.948</td>\n",
       "      <td>67.315694</td>\n",
       "      <td>0.460833</td>\n",
       "      <td>91.948</td>\n",
       "      <td>67.315694</td>\n",
       "    </tr>\n",
       "    <tr>\n",
       "      <th>1834</th>\n",
       "      <td>8094a1</td>\n",
       "      <td>2016-01-01</td>\n",
       "      <td>78.0</td>\n",
       "      <td>78.0</td>\n",
       "      <td>NaN</td>\n",
       "      <td>NaN</td>\n",
       "      <td>NaN</td>\n",
       "      <td>NaN</td>\n",
       "      <td>3.304947</td>\n",
       "      <td>0.000</td>\n",
       "      <td>80.964413</td>\n",
       "      <td>3.304947</td>\n",
       "      <td>0.000</td>\n",
       "      <td>80.964413</td>\n",
       "    </tr>\n",
       "    <tr>\n",
       "      <th>1971</th>\n",
       "      <td>54ceb24</td>\n",
       "      <td>2016-01-01</td>\n",
       "      <td>78.0</td>\n",
       "      <td>78.0</td>\n",
       "      <td>NaN</td>\n",
       "      <td>NaN</td>\n",
       "      <td>NaN</td>\n",
       "      <td>NaN</td>\n",
       "      <td>-17.409167</td>\n",
       "      <td>328.930</td>\n",
       "      <td>81.833333</td>\n",
       "      <td>-17.409167</td>\n",
       "      <td>328.930</td>\n",
       "      <td>81.833333</td>\n",
       "    </tr>\n",
       "    <tr>\n",
       "      <th>2044</th>\n",
       "      <td>808389c</td>\n",
       "      <td>2016-01-01</td>\n",
       "      <td>73.0</td>\n",
       "      <td>73.0</td>\n",
       "      <td>NaN</td>\n",
       "      <td>NaN</td>\n",
       "      <td>NaN</td>\n",
       "      <td>NaN</td>\n",
       "      <td>2.221250</td>\n",
       "      <td>0.254</td>\n",
       "      <td>36.666667</td>\n",
       "      <td>2.221250</td>\n",
       "      <td>0.254</td>\n",
       "      <td>36.666667</td>\n",
       "    </tr>\n",
       "  </tbody>\n",
       "</table>\n",
       "</div>"
      ],
      "text/plain": [
       "     s2_cell_id measure_date  fuel_percent_ma7  fuel_percent_ma30  \\\n",
       "528     8086b44   2016-01-01              78.0               78.0   \n",
       "569     809b264   2016-01-01              78.0               78.0   \n",
       "1834     8094a1   2016-01-01              78.0               78.0   \n",
       "1971    54ceb24   2016-01-01              78.0               78.0   \n",
       "2044    808389c   2016-01-01              73.0               73.0   \n",
       "\n",
       "     fuel_percent_l1  wea_air_temp_mean_l1  wea_precip_accum_max_l1  \\\n",
       "528              NaN                   NaN                      NaN   \n",
       "569              NaN                   NaN                      NaN   \n",
       "1834             NaN                   NaN                      NaN   \n",
       "1971             NaN                   NaN                      NaN   \n",
       "2044             NaN                   NaN                      NaN   \n",
       "\n",
       "      relative_humidity_mean_l1  wea_air_temp_mean_ma7  \\\n",
       "528                         NaN               5.216250   \n",
       "569                         NaN               0.460833   \n",
       "1834                        NaN               3.304947   \n",
       "1971                        NaN             -17.409167   \n",
       "2044                        NaN               2.221250   \n",
       "\n",
       "      wea_precip_accum_max_ma7  relative_humidity_mean_ma7  \\\n",
       "528                    423.672                   80.423611   \n",
       "569                     91.948                   67.315694   \n",
       "1834                     0.000                   80.964413   \n",
       "1971                   328.930                   81.833333   \n",
       "2044                     0.254                   36.666667   \n",
       "\n",
       "      wea_air_temp_mean_ma30  wea_precip_accum_max_ma30  \\\n",
       "528                 5.216250                    423.672   \n",
       "569                 0.460833                     91.948   \n",
       "1834                3.304947                      0.000   \n",
       "1971              -17.409167                    328.930   \n",
       "2044                2.221250                      0.254   \n",
       "\n",
       "      relative_humidity_mean_ma30  \n",
       "528                     80.423611  \n",
       "569                     67.315694  \n",
       "1834                    80.964413  \n",
       "1971                    81.833333  \n",
       "2044                    36.666667  "
      ]
     },
     "execution_count": 21,
     "metadata": {},
     "output_type": "execute_result"
    }
   ],
   "source": [
    "weather_df[weather_df.measure_date=='2016-01-01'].head()"
   ]
  },
  {
   "cell_type": "code",
   "execution_count": 22,
   "metadata": {},
   "outputs": [
    {
     "data": {
      "text/plain": [
       "(11664728, 14)"
      ]
     },
     "execution_count": 22,
     "metadata": {},
     "output_type": "execute_result"
    }
   ],
   "source": [
    "weather_df.shape"
   ]
  },
  {
   "cell_type": "markdown",
   "metadata": {},
   "source": [
    "#### Replace missing values for the lag variables"
   ]
  },
  {
   "cell_type": "code",
   "execution_count": 5,
   "metadata": {},
   "outputs": [
    {
     "data": {
      "text/plain": [
       "(11664728, 14)"
      ]
     },
     "execution_count": 5,
     "metadata": {},
     "output_type": "execute_result"
    }
   ],
   "source": [
    "weather_temp1 = weather_df[weather_df.measure_date=='2016-01-01'].drop(columns=['fuel_percent_l1', 'wea_air_temp_mean_l1', 'wea_precip_accum_max_l1', 'relative_humidity_mean_l1'])\n",
    "weather_temp2 = weather_df[weather_df.measure_date=='2016-01-02'][['s2_cell_id', 'fuel_percent_l1', 'wea_air_temp_mean_l1', 'wea_precip_accum_max_l1', 'relative_humidity_mean_l1']]\n",
    "weather_temp1 = weather_temp1.merge(weather_temp2, on='s2_cell_id')\n",
    "weather_temp1 = weather_temp1[weather_df.columns]\n",
    "weather_df = weather_df[weather_df.measure_date!='2016-01-01'].append(weather_temp1)\n",
    "weather_df.shape"
   ]
  },
  {
   "cell_type": "code",
   "execution_count": 26,
   "metadata": {},
   "outputs": [
    {
     "data": {
      "text/plain": [
       "s2_cell_id                     0\n",
       "measure_date                   0\n",
       "fuel_percent_ma7               0\n",
       "fuel_percent_ma30              0\n",
       "fuel_percent_l1                0\n",
       "wea_air_temp_mean_l1           0\n",
       "wea_precip_accum_max_l1        0\n",
       "relative_humidity_mean_l1      0\n",
       "wea_air_temp_mean_ma7          0\n",
       "wea_precip_accum_max_ma7       0\n",
       "relative_humidity_mean_ma7     0\n",
       "wea_air_temp_mean_ma30         0\n",
       "wea_precip_accum_max_ma30      0\n",
       "relative_humidity_mean_ma30    0\n",
       "dtype: int64"
      ]
     },
     "execution_count": 26,
     "metadata": {},
     "output_type": "execute_result"
    }
   ],
   "source": [
    "weather_df.isna().sum()"
   ]
  },
  {
   "cell_type": "code",
   "execution_count": 6,
   "metadata": {},
   "outputs": [],
   "source": [
    "del weather_temp1, weather_temp2"
   ]
  },
  {
   "cell_type": "code",
   "execution_count": 7,
   "metadata": {},
   "outputs": [
    {
     "data": {
      "text/plain": [
       "49"
      ]
     },
     "execution_count": 7,
     "metadata": {},
     "output_type": "execute_result"
    }
   ],
   "source": [
    "gc.collect()"
   ]
  },
  {
   "cell_type": "code",
   "execution_count": 8,
   "metadata": {},
   "outputs": [],
   "source": [
    "# final_df.drop(columns=[ 'wea_air_temp_mean_ma7',\n",
    "#  'wea_precip_accum_max_ma7',\n",
    "#  'relative_humidity_mean_ma7',\n",
    "#  'fuel_percent_l1',\n",
    "#  'wea_air_temp_mean_l1',\n",
    "#  'wea_precip_accum_max_l1',\n",
    "#  'relative_humidity_mean_l1'], inplace=True)"
   ]
  },
  {
   "cell_type": "code",
   "execution_count": 20,
   "metadata": {},
   "outputs": [
    {
     "data": {
      "text/plain": [
       "(78.79543935686944, 78.8062260156661)"
      ]
     },
     "execution_count": 20,
     "metadata": {},
     "output_type": "execute_result"
    }
   ],
   "source": [
    "final_df = final_df.merge(weather_df, on=['s2_cell_id', 'measure_date'])\n",
    "final_df['fuel_percent_l1'] = pd.to_numeric(final_df['fuel_percent_l1'], errors = 'coerce')\n",
    "final_df['fuel_percent'].mean(), final_df['fuel_percent_l1'].mean()"
   ]
  },
  {
   "cell_type": "code",
   "execution_count": 21,
   "metadata": {},
   "outputs": [],
   "source": [
    "final_df['fuel_percent_l1'] = final_df['fuel_percent_l1'].fillna(78.8)"
   ]
  },
  {
   "cell_type": "code",
   "execution_count": 23,
   "metadata": {},
   "outputs": [],
   "source": [
    "final_df.to_csv('./consolidated_4_10pct_sample.csv', index=False)"
   ]
  },
  {
   "cell_type": "code",
   "execution_count": null,
   "metadata": {},
   "outputs": [],
   "source": [
    "# final_df = pd.read_csv('./consolidated_4_10pct_sample.csv')"
   ]
  },
  {
   "cell_type": "code",
   "execution_count": 34,
   "metadata": {},
   "outputs": [
    {
     "data": {
      "text/plain": [
       "['s2_cell_id',\n",
       " 'measure_date',\n",
       " 'fuel_percent_ma7',\n",
       " 'fuel_percent_ma30',\n",
       " 'fuel_percent_l1',\n",
       " 'wea_air_temp_mean_l1',\n",
       " 'wea_precip_accum_max_l1',\n",
       " 'relative_humidity_mean_l1',\n",
       " 'wea_air_temp_mean_ma7',\n",
       " 'wea_precip_accum_max_ma7',\n",
       " 'relative_humidity_mean_ma7',\n",
       " 'wea_air_temp_mean_ma30',\n",
       " 'wea_precip_accum_max_ma30',\n",
       " 'relative_humidity_mean_ma30']"
      ]
     },
     "execution_count": 34,
     "metadata": {},
     "output_type": "execute_result"
    }
   ],
   "source": [
    "list(weather_df)"
   ]
  },
  {
   "cell_type": "code",
   "execution_count": 12,
   "metadata": {},
   "outputs": [
    {
     "data": {
      "text/plain": [
       "0"
      ]
     },
     "execution_count": 12,
     "metadata": {},
     "output_type": "execute_result"
    }
   ],
   "source": [
    "final_df.isna().sum().sum()"
   ]
  },
  {
   "cell_type": "code",
   "execution_count": 15,
   "metadata": {},
   "outputs": [],
   "source": [
    "tl_features = [\n",
    "    'tl_object_id',\n",
    "    'tl_kv_sort_sum'\n",
    "]\n",
    "\n",
    "wf_features = [\n",
    "    'wf_count_1yr_ago',\n",
    "    'wf_count_2yr_ago',\n",
    "    'wf_count_3yr_ago',\n",
    "    'wf_count_4yr_ago',\n",
    "    'wf_count_5yr_ago'\n",
    "]\n",
    "\n",
    "sat_features = [\n",
    " 'sat_faparval_min',\n",
    " 'sat_faparval_max',\n",
    " 'sat_faparval_mean',\n",
    "#  'sat_faparval_median',\n",
    " 'sat_faparval_std',\n",
    " 'sat_faparval_size',\n",
    " 'sat_faparval_count',\n",
    " 'sat_faparval',\n",
    " 'sat_faparmask_min',\n",
    " 'sat_faparmask_max',\n",
    " 'sat_faparmask_mean',\n",
    "#  'sat_faparmask_median',\n",
    " 'sat_faparmask_std',\n",
    " 'sat_faparmask_size'\n",
    "]\n",
    "\n",
    "wea_features = [\n",
    " 'wea_air_temp_max',\n",
    " 'wea_air_temp_mean',\n",
    " 'wea_precip_accum_max',\n",
    " 'relative_humidity_max',\n",
    " 'relative_humidity_min',\n",
    " 'relative_humidity_mean',\n",
    " 'wea_wind_speed_max',\n",
    " 'wea_wind_speed_min',\n",
    " 'wea_wind_speed_mean',\n",
    " 'wind_gust_max',\n",
    " 'wea_air_temp_mean_ma7',\n",
    " 'wea_precip_accum_max_ma7',\n",
    " 'relative_humidity_mean_ma7',\n",
    " 'wea_air_temp_mean_l1',\n",
    " 'wea_precip_accum_max_l1',\n",
    " 'relative_humidity_mean_l1'\n",
    "]\n",
    "\n",
    "new_features = [\n",
    " 'fuel_percent_ma7',\n",
    " 'fuel_percent_ma30',\n",
    " 'fuel_percent_l1',\n",
    " 'wea_air_temp_mean_ma30',\n",
    " 'wea_precip_accum_max_ma30',\n",
    " 'relative_humidity_mean_ma30'\n",
    "]"
   ]
  },
  {
   "cell_type": "code",
   "execution_count": 22,
   "metadata": {},
   "outputs": [
    {
     "data": {
      "text/plain": [
       "wea_air_temp_max                20.899048\n",
       "wea_air_temp_mean               13.745029\n",
       "wea_precip_accum_max           454.564976\n",
       "relative_humidity_max           75.537893\n",
       "relative_humidity_min           32.317954\n",
       "relative_humidity_mean          56.507760\n",
       "wea_wind_speed_max               4.607323\n",
       "wea_wind_speed_min               0.564945\n",
       "wea_wind_speed_mean              2.114124\n",
       "wind_gust_max                    8.257752\n",
       "wea_air_temp_mean_ma7           13.713285\n",
       "wea_precip_accum_max_ma7       453.093549\n",
       "relative_humidity_mean_ma7      56.452337\n",
       "wea_air_temp_mean_l1            13.679229\n",
       "wea_precip_accum_max_l1        453.551936\n",
       "relative_humidity_mean_l1       56.415700\n",
       "tl_object_id                     1.884175\n",
       "tl_kv_sort_sum                 288.744253\n",
       "sat_faparval_min                 0.168574\n",
       "sat_faparval_max                 0.576413\n",
       "sat_faparval_mean                0.301318\n",
       "sat_faparval_std                 0.066496\n",
       "sat_faparval_size              580.308453\n",
       "sat_faparval_count             580.308453\n",
       "sat_faparval                   106.477707\n",
       "sat_faparmask_min                0.001197\n",
       "sat_faparmask_max                0.260446\n",
       "sat_faparmask_mean               0.045314\n",
       "sat_faparmask_std                0.058691\n",
       "sat_faparmask_size             580.308453\n",
       "fuel_percent                    78.795439\n",
       "fuel_percent_ma7                78.813348\n",
       "fuel_percent_ma30               78.886404\n",
       "fuel_percent_l1                 78.806162\n",
       "wea_air_temp_mean_ma30          13.687313\n",
       "wea_precip_accum_max_ma30      453.526846\n",
       "relative_humidity_mean_ma30     56.476835\n",
       "dtype: float64"
      ]
     },
     "execution_count": 22,
     "metadata": {},
     "output_type": "execute_result"
    }
   ],
   "source": [
    "final_df[wea_features + tl_features + sat_features + ['fuel_percent'] + new_features].mean()"
   ]
  },
  {
   "cell_type": "code",
   "execution_count": null,
   "metadata": {},
   "outputs": [],
   "source": []
  }
 ],
 "metadata": {
  "kernelspec": {
   "display_name": "Python 3",
   "language": "python",
   "name": "python3"
  },
  "language_info": {
   "codemirror_mode": {
    "name": "ipython",
    "version": 3
   },
   "file_extension": ".py",
   "mimetype": "text/x-python",
   "name": "python",
   "nbconvert_exporter": "python",
   "pygments_lexer": "ipython3",
   "version": "3.7.0"
  }
 },
 "nbformat": 4,
 "nbformat_minor": 2
}
