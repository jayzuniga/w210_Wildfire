{
 "cells": [
  {
   "cell_type": "markdown",
   "metadata": {},
   "source": [
    "### Export the bigquery table to csv files in cloud storage bucket"
   ]
  },
  {
   "cell_type": "code",
   "execution_count": null,
   "metadata": {},
   "outputs": [],
   "source": [
    "from google.cloud import bigquery\n",
    "client = bigquery.Client()\n",
    "bucket_name = \"wildfire_capstone_bucket\"\n",
    "project = \"wildfire-242801\"\n",
    "dataset_id = \"WildFire\"\n",
    "table_id = \"consolidated_by_cell_day_4\"\n",
    "\n",
    "# client = bigquery.Client()\n",
    "# bucket_name = \"wildfire_capstone_bucket\"\n",
    "# project = \"neon-obelisk-215514\"\n",
    "# dataset_id = \"fuel_moisture_by_s2_cell\"\n",
    "# table_id = \"lr_predictions\"\n",
    "\n",
    "\n",
    "destination_uri = \"gs://{}/{}\".format(bucket_name, \"consolidated-data-*.csv\")\n",
    "dataset_ref = client.dataset(dataset_id, project=project)\n",
    "table_ref = dataset_ref.table(table_id)\n",
    "\n",
    "extract_job = client.extract_table(\n",
    "    table_ref,\n",
    "    destination_uri,\n",
    "    # Location must match that of the source table.\n",
    "    location=\"US\",\n",
    ")  # API request\n",
    "extract_job.result()  # Waits for job to complete.\n",
    "\n",
    "print(\n",
    "    \"Exported {}:{}.{} to {}\".format(project, dataset_id, table_id, destination_uri)\n",
    ")"
   ]
  },
  {
   "cell_type": "markdown",
   "metadata": {},
   "source": [
    "### Copy csv's from cloud storage to the compute engine instance"
   ]
  },
  {
   "cell_type": "code",
   "execution_count": null,
   "metadata": {},
   "outputs": [],
   "source": [
    "! rm -R ../../full_dataset\n",
    "! mkdir ../../full_dataset\n",
    "! gsutil -m cp gs://wildfire_capstone_bucket/*.csv ../../full_dataset\n"
   ]
  },
  {
   "cell_type": "code",
   "execution_count": 3,
   "metadata": {},
   "outputs": [
    {
     "name": "stdout",
     "output_type": "stream",
     "text": [
      "consolidated-data-000000000000.csv  consolidated-data-000000000008.csv\r\n",
      "consolidated-data-000000000001.csv  consolidated-data-000000000009.csv\r\n",
      "consolidated-data-000000000002.csv  consolidated-data-000000000010.csv\r\n",
      "consolidated-data-000000000003.csv  consolidated-data-000000000011.csv\r\n",
      "consolidated-data-000000000004.csv  consolidated-data-000000000012.csv\r\n",
      "consolidated-data-000000000005.csv  consolidated-data-000000000013.csv\r\n",
      "consolidated-data-000000000006.csv  consolidated-data-000000000014.csv\r\n",
      "consolidated-data-000000000007.csv  consolidated-data-000000000015.csv\r\n"
     ]
    }
   ],
   "source": [
    "! ls ../../full_dataset"
   ]
  }
 ],
 "metadata": {
  "kernelspec": {
   "display_name": "Python 3",
   "language": "python",
   "name": "python3"
  },
  "language_info": {
   "codemirror_mode": {
    "name": "ipython",
    "version": 3
   },
   "file_extension": ".py",
   "mimetype": "text/x-python",
   "name": "python",
   "nbconvert_exporter": "python",
   "pygments_lexer": "ipython3",
   "version": "3.7.0"
  }
 },
 "nbformat": 4,
 "nbformat_minor": 2
}
