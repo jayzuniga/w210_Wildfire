{
 "cells": [
  {
   "cell_type": "code",
   "execution_count": 1,
   "metadata": {},
   "outputs": [
    {
     "data": {
      "text/html": [
       "<style>.container { width:100% !important; }</style>"
      ],
      "text/plain": [
       "<IPython.core.display.HTML object>"
      ]
     },
     "metadata": {},
     "output_type": "display_data"
    }
   ],
   "source": [
    "# increase cell width\n",
    "from IPython.core.display import display, HTML\n",
    "display(HTML(\"<style>.container { width:100% !important; }</style>\"))"
   ]
  },
  {
   "cell_type": "code",
   "execution_count": 4,
   "metadata": {},
   "outputs": [],
   "source": [
    "import pandas as pd\n",
    "import numpy as np\n",
    "import gc\n",
    "import os\n",
    "import time"
   ]
  },
  {
   "cell_type": "markdown",
   "metadata": {},
   "source": [
    "### Get the data from BQ bucket"
   ]
  },
  {
   "cell_type": "code",
   "execution_count": 1,
   "metadata": {},
   "outputs": [
    {
     "name": "stdout",
     "output_type": "stream",
     "text": [
      "Copying gs://wildfire-yz/consolidated2/consolidated_by_cell_day_4_000000000000...\n",
      "Copying gs://wildfire-yz/consolidated2/consolidated_by_cell_day_4_000000000001...\n",
      "Copying gs://wildfire-yz/consolidated2/consolidated_by_cell_day_4_000000000003...\n",
      "Copying gs://wildfire-yz/consolidated2/consolidated_by_cell_day_4_000000000002...\n",
      "Copying gs://wildfire-yz/consolidated2/consolidated_by_cell_day_4_000000000004...\n",
      "Copying gs://wildfire-yz/consolidated2/consolidated_by_cell_day_4_000000000005...\n",
      "Copying gs://wildfire-yz/consolidated2/consolidated_by_cell_day_4_000000000006...\n",
      "Copying gs://wildfire-yz/consolidated2/consolidated_by_cell_day_4_000000000008...\n",
      "Copying gs://wildfire-yz/consolidated2/consolidated_by_cell_day_4_000000000009...\n",
      "Copying gs://wildfire-yz/consolidated2/consolidated_by_cell_day_4_000000000007...\n",
      "Copying gs://wildfire-yz/consolidated2/consolidated_by_cell_day_4_000000000010...\n",
      "Copying gs://wildfire-yz/consolidated2/consolidated_by_cell_day_4_000000000012...\n",
      "Copying gs://wildfire-yz/consolidated2/consolidated_by_cell_day_4_000000000011...\n",
      "Copying gs://wildfire-yz/consolidated2/consolidated_by_cell_day_4_000000000013...\n",
      "Copying gs://wildfire-yz/consolidated2/consolidated_by_cell_day_4_000000000014...\n",
      "Copying gs://wildfire-yz/consolidated2/consolidated_by_cell_day_4_000000000015...\n",
      "Copying gs://wildfire-yz/consolidated2/consolidated_by_cell_day_4_000000000016...\n",
      "| [17/17 files][  7.7 GiB/  7.7 GiB] 100% Done  44.2 MiB/s ETA 00:00:00         \n",
      "Operation completed over 17 objects/7.7 GiB.                                     \n"
     ]
    }
   ],
   "source": [
    "!gsutil -m cp gs://wildfire-yz/consolidated2/consolidated_by_cell_day_4_* Data/"
   ]
  },
  {
   "cell_type": "code",
   "execution_count": 15,
   "metadata": {},
   "outputs": [],
   "source": [
    "data_dir = '/home/yulia/Documents/MIDS/W210/Model/Data/'\n",
    "# data_dir = '/tf/notebooks/W210/Model/Data/'"
   ]
  },
  {
   "cell_type": "code",
   "execution_count": 17,
   "metadata": {},
   "outputs": [
    {
     "data": {
      "text/plain": [
       "['consolidated_by_cell_day_4_000000000012',\n",
       " 'consolidated_by_cell_day_4_000000000007',\n",
       " 'consolidated_by_cell_day_4_000000000008',\n",
       " 'consolidated_by_cell_day_4_000000000015',\n",
       " 'consolidated_by_cell_day_4_000000000014',\n",
       " 'consolidated_by_cell_day_4_000000000003',\n",
       " 'consolidated_by_cell_day_4_000000000011',\n",
       " 'consolidated_by_cell_day_4_000000000002',\n",
       " 'consolidated_by_cell_day_4_000000000005',\n",
       " 'consolidated_by_cell_day_4_000000000000',\n",
       " 'consolidated_by_cell_day_4_000000000004',\n",
       " 'consolidated_by_cell_day_4_000000000001',\n",
       " 'consolidated_by_cell_day_4_000000000016',\n",
       " 'consolidated_by_cell_day_4_000000000013',\n",
       " 'consolidated_by_cell_day_4_000000000006',\n",
       " 'consolidated_by_cell_day_4_000000000010',\n",
       " 'consolidated_by_cell_day_4_000000000009']"
      ]
     },
     "execution_count": 17,
     "metadata": {},
     "output_type": "execute_result"
    }
   ],
   "source": [
    "allfiles = os.listdir(data_dir)\n",
    "allfiles"
   ]
  },
  {
   "cell_type": "code",
   "execution_count": 18,
   "metadata": {},
   "outputs": [],
   "source": [
    "keep_wf_cols = [\n",
    "    'S2_Cells_ID',\n",
    "    'WF_FIRE_DATE',\n",
    "    'WF_WildFire',\n",
    "    'WF_WildFire_COUNT_1YR_AGO',\n",
    "    'WF_WildFire_COUNT_2YR_AGO',\n",
    "    'WF_WildFire_COUNT_3YR_AGO',\n",
    "    'WF_WildFire_COUNT_4YR_AGO',\n",
    "    'WF_WildFire_COUNT_5YR_AGO'\n",
    "]\n",
    "\n",
    "new_wf_cols = [\n",
    "    's2_cell_id',\n",
    "    'measure_date',\n",
    "    'wf_wildfire_ext',         \n",
    "    'wf_count_1yr_ago',    \n",
    "    'wf_count_2yr_ago',    \n",
    "    'wf_count_3yr_ago',    \n",
    "    'wf_count_4yr_ago',    \n",
    "    'wf_count_5yr_ago'    \n",
    "]\n",
    "\n",
    "wf_hist_cols = [\n",
    "    'wf_count_1yr_ago',    \n",
    "    'wf_count_2yr_ago',    \n",
    "    'wf_count_3yr_ago',    \n",
    "    'wf_count_4yr_ago',    \n",
    "    'wf_count_5yr_ago'    \n",
    "]"
   ]
  },
  {
   "cell_type": "code",
   "execution_count": 10,
   "metadata": {},
   "outputs": [
    {
     "data": {
      "text/plain": [
       "(86689, 8)"
      ]
     },
     "execution_count": 10,
     "metadata": {},
     "output_type": "execute_result"
    }
   ],
   "source": [
    "wf_ext_df = pd.read_csv('../Data/Processed/WildFire_S2Cells_Extended.csv')\n",
    "wf_ext_df = wf_ext_df[keep_wf_cols]\n",
    "wf_ext_df.columns = new_wf_cols\n",
    "wf_ext_df.shape"
   ]
  },
  {
   "cell_type": "code",
   "execution_count": 13,
   "metadata": {},
   "outputs": [
    {
     "data": {
      "text/plain": [
       "86689"
      ]
     },
     "execution_count": 13,
     "metadata": {},
     "output_type": "execute_result"
    }
   ],
   "source": [
    "wf_ext_df.wf_wildfire_ext.sum()"
   ]
  },
  {
   "cell_type": "code",
   "execution_count": 11,
   "metadata": {},
   "outputs": [
    {
     "data": {
      "text/html": [
       "<div>\n",
       "<style scoped>\n",
       "    .dataframe tbody tr th:only-of-type {\n",
       "        vertical-align: middle;\n",
       "    }\n",
       "\n",
       "    .dataframe tbody tr th {\n",
       "        vertical-align: top;\n",
       "    }\n",
       "\n",
       "    .dataframe thead th {\n",
       "        text-align: right;\n",
       "    }\n",
       "</style>\n",
       "<table border=\"1\" class=\"dataframe\">\n",
       "  <thead>\n",
       "    <tr style=\"text-align: right;\">\n",
       "      <th></th>\n",
       "      <th>s2_cell_id</th>\n",
       "      <th>measure_date</th>\n",
       "      <th>wf_wildfire_ext</th>\n",
       "      <th>wf_count_1yr_ago</th>\n",
       "      <th>wf_count_2yr_ago</th>\n",
       "      <th>wf_count_3yr_ago</th>\n",
       "      <th>wf_count_4yr_ago</th>\n",
       "      <th>wf_count_5yr_ago</th>\n",
       "    </tr>\n",
       "  </thead>\n",
       "  <tbody>\n",
       "    <tr>\n",
       "      <th>0</th>\n",
       "      <td>54c942c</td>\n",
       "      <td>2017-07-24</td>\n",
       "      <td>1</td>\n",
       "      <td>0</td>\n",
       "      <td>0</td>\n",
       "      <td>0</td>\n",
       "      <td>0</td>\n",
       "      <td>0</td>\n",
       "    </tr>\n",
       "    <tr>\n",
       "      <th>1</th>\n",
       "      <td>54c942c</td>\n",
       "      <td>2017-07-25</td>\n",
       "      <td>1</td>\n",
       "      <td>0</td>\n",
       "      <td>0</td>\n",
       "      <td>0</td>\n",
       "      <td>0</td>\n",
       "      <td>0</td>\n",
       "    </tr>\n",
       "    <tr>\n",
       "      <th>2</th>\n",
       "      <td>54c942c</td>\n",
       "      <td>2017-07-26</td>\n",
       "      <td>1</td>\n",
       "      <td>0</td>\n",
       "      <td>0</td>\n",
       "      <td>0</td>\n",
       "      <td>0</td>\n",
       "      <td>0</td>\n",
       "    </tr>\n",
       "    <tr>\n",
       "      <th>3</th>\n",
       "      <td>54c942c</td>\n",
       "      <td>2017-07-27</td>\n",
       "      <td>1</td>\n",
       "      <td>0</td>\n",
       "      <td>0</td>\n",
       "      <td>0</td>\n",
       "      <td>0</td>\n",
       "      <td>0</td>\n",
       "    </tr>\n",
       "    <tr>\n",
       "      <th>4</th>\n",
       "      <td>54c942c</td>\n",
       "      <td>2017-07-28</td>\n",
       "      <td>1</td>\n",
       "      <td>0</td>\n",
       "      <td>0</td>\n",
       "      <td>0</td>\n",
       "      <td>0</td>\n",
       "      <td>0</td>\n",
       "    </tr>\n",
       "  </tbody>\n",
       "</table>\n",
       "</div>"
      ],
      "text/plain": [
       "  s2_cell_id measure_date  wf_wildfire_ext  wf_count_1yr_ago  \\\n",
       "0    54c942c   2017-07-24                1                 0   \n",
       "1    54c942c   2017-07-25                1                 0   \n",
       "2    54c942c   2017-07-26                1                 0   \n",
       "3    54c942c   2017-07-27                1                 0   \n",
       "4    54c942c   2017-07-28                1                 0   \n",
       "\n",
       "   wf_count_2yr_ago  wf_count_3yr_ago  wf_count_4yr_ago  wf_count_5yr_ago  \n",
       "0                 0                 0                 0                 0  \n",
       "1                 0                 0                 0                 0  \n",
       "2                 0                 0                 0                 0  \n",
       "3                 0                 0                 0                 0  \n",
       "4                 0                 0                 0                 0  "
      ]
     },
     "execution_count": 11,
     "metadata": {},
     "output_type": "execute_result"
    }
   ],
   "source": [
    "wf_ext_df.head()"
   ]
  },
  {
   "cell_type": "markdown",
   "metadata": {},
   "source": [
    "### Get 10% sample of non-wildfire cells"
   ]
  },
  {
   "cell_type": "code",
   "execution_count": 20,
   "metadata": {},
   "outputs": [],
   "source": [
    "def sample_data(filepath, sample=0.1):\n",
    "    temp = pd.read_csv(filepath)\n",
    "    print(f\"Observations in raw: {temp.shape[0]}\")\n",
    "    temp.drop(columns=wf_hist_cols, inplace=True)\n",
    "    temp = temp.merge(wf_ext_df, on=['s2_cell_id', 'measure_date'], how='left')\n",
    "    temp_wf = temp[~temp.wf_wildfire_ext.isna()]\n",
    "    print(f\"WF Observations in raw: {temp_wf.shape[0]}\")\n",
    "    temp_nwf = temp[temp.wf_wildfire_ext.isna()].sample(frac=sample, random_state=1)\n",
    "    print(f\"NWF Observations sampled: {temp_nwf.shape[0]}\")\n",
    "    temp = temp_wf.append(temp_nwf)\n",
    "    print(f\"Observations in processed: {temp.shape[0]}\")\n",
    "    return temp"
   ]
  },
  {
   "cell_type": "code",
   "execution_count": 21,
   "metadata": {
    "scrolled": false
   },
   "outputs": [
    {
     "name": "stdout",
     "output_type": "stream",
     "text": [
      "Processing File consolidated_by_cell_day_4_000000000012\n"
     ]
    },
    {
     "name": "stderr",
     "output_type": "stream",
     "text": [
      "/home/yulia/anaconda3/lib/python3.6/site-packages/IPython/core/interactiveshell.py:2903: DtypeWarning: Columns (97,98,99,100,101) have mixed types. Specify dtype option on import or set low_memory=False.\n",
      "  if self.run_code(code, result):\n"
     ]
    },
    {
     "name": "stdout",
     "output_type": "stream",
     "text": [
      "Observations in raw: 686543\n",
      "WF Observations in raw: 5218\n",
      "NWF Observations sampled: 68132\n",
      "Observations in processed: 73350\n",
      "Observations in the dataset so far: 73350\n",
      "Processing File consolidated_by_cell_day_4_000000000007\n",
      "Observations in raw: 686355\n",
      "WF Observations in raw: 5060\n",
      "NWF Observations sampled: 68130\n",
      "Observations in processed: 73190\n",
      "Observations in the dataset so far: 146540\n",
      "Processing File consolidated_by_cell_day_4_000000000008\n",
      "Observations in raw: 684324\n",
      "WF Observations in raw: 5069\n",
      "NWF Observations sampled: 67926\n",
      "Observations in processed: 72995\n",
      "Observations in the dataset so far: 219535\n",
      "Processing File consolidated_by_cell_day_4_000000000015\n",
      "Observations in raw: 685772\n",
      "WF Observations in raw: 5078\n",
      "NWF Observations sampled: 68069\n",
      "Observations in processed: 73147\n",
      "Observations in the dataset so far: 292682\n",
      "Processing File consolidated_by_cell_day_4_000000000014\n",
      "Observations in raw: 685737\n",
      "WF Observations in raw: 5037\n",
      "NWF Observations sampled: 68070\n",
      "Observations in processed: 73107\n",
      "Observations in the dataset so far: 365789\n",
      "Processing File consolidated_by_cell_day_4_000000000003\n",
      "Observations in raw: 685402\n",
      "WF Observations in raw: 4976\n",
      "NWF Observations sampled: 68043\n",
      "Observations in processed: 73019\n",
      "Observations in the dataset so far: 438808\n",
      "Processing File consolidated_by_cell_day_4_000000000011\n",
      "Observations in raw: 686787\n",
      "WF Observations in raw: 4949\n",
      "NWF Observations sampled: 68184\n",
      "Observations in processed: 73133\n",
      "Observations in the dataset so far: 511941\n",
      "Processing File consolidated_by_cell_day_4_000000000002\n",
      "Observations in raw: 687089\n",
      "WF Observations in raw: 5163\n",
      "NWF Observations sampled: 68193\n",
      "Observations in processed: 73356\n",
      "Observations in the dataset so far: 585297\n",
      "Processing File consolidated_by_cell_day_4_000000000005\n",
      "Observations in raw: 687600\n",
      "WF Observations in raw: 5092\n",
      "NWF Observations sampled: 68251\n",
      "Observations in processed: 73343\n",
      "Observations in the dataset so far: 658640\n",
      "Processing File consolidated_by_cell_day_4_000000000000\n",
      "Observations in raw: 686745\n",
      "WF Observations in raw: 5090\n",
      "NWF Observations sampled: 68166\n",
      "Observations in processed: 73256\n",
      "Observations in the dataset so far: 731896\n",
      "Processing File consolidated_by_cell_day_4_000000000004\n",
      "Observations in raw: 685856\n",
      "WF Observations in raw: 5129\n",
      "NWF Observations sampled: 68073\n",
      "Observations in processed: 73202\n",
      "Observations in the dataset so far: 805098\n",
      "Processing File consolidated_by_cell_day_4_000000000001\n",
      "Observations in raw: 686085\n",
      "WF Observations in raw: 5057\n",
      "NWF Observations sampled: 68103\n",
      "Observations in processed: 73160\n",
      "Observations in the dataset so far: 878258\n",
      "Processing File consolidated_by_cell_day_4_000000000016\n",
      "Observations in raw: 687152\n",
      "WF Observations in raw: 5084\n",
      "NWF Observations sampled: 68207\n",
      "Observations in processed: 73291\n",
      "Observations in the dataset so far: 951549\n",
      "Processing File consolidated_by_cell_day_4_000000000013\n",
      "Observations in raw: 685352\n",
      "WF Observations in raw: 5070\n",
      "NWF Observations sampled: 68028\n",
      "Observations in processed: 73098\n",
      "Observations in the dataset so far: 1024647\n",
      "Processing File consolidated_by_cell_day_4_000000000006\n",
      "Observations in raw: 686323\n",
      "WF Observations in raw: 5183\n",
      "NWF Observations sampled: 68114\n",
      "Observations in processed: 73297\n",
      "Observations in the dataset so far: 1097944\n",
      "Processing File consolidated_by_cell_day_4_000000000010\n",
      "Observations in raw: 685990\n",
      "WF Observations in raw: 5224\n",
      "NWF Observations sampled: 68077\n",
      "Observations in processed: 73301\n",
      "Observations in the dataset so far: 1171245\n",
      "Processing File consolidated_by_cell_day_4_000000000009\n",
      "Observations in raw: 685616\n",
      "WF Observations in raw: 5210\n",
      "NWF Observations sampled: 68041\n",
      "Observations in processed: 73251\n",
      "Observations in the dataset so far: 1244496\n"
     ]
    }
   ],
   "source": [
    "final_df = pd.DataFrame()\n",
    "for file in allfiles:\n",
    "    if file[0] == 'c':\n",
    "        print(f\"Processing File {file}\")\n",
    "        path = data_dir + file\n",
    "        final_df = final_df.append(sample_data(path))\n",
    "        print(f\"Observations in the dataset so far: {final_df.shape[0]}\")\n",
    "final_df.reset_index(drop=True,inplace=True)"
   ]
  },
  {
   "cell_type": "code",
   "execution_count": 22,
   "metadata": {},
   "outputs": [
    {
     "data": {
      "text/plain": [
       "202"
      ]
     },
     "execution_count": 22,
     "metadata": {},
     "output_type": "execute_result"
    }
   ],
   "source": [
    "gc.collect()"
   ]
  },
  {
   "cell_type": "code",
   "execution_count": 23,
   "metadata": {},
   "outputs": [
    {
     "data": {
      "text/plain": [
       "(1244496, 166)"
      ]
     },
     "execution_count": 23,
     "metadata": {},
     "output_type": "execute_result"
    }
   ],
   "source": [
    "final_df.shape"
   ]
  },
  {
   "cell_type": "code",
   "execution_count": 24,
   "metadata": {},
   "outputs": [
    {
     "data": {
      "text/plain": [
       "10643"
      ]
     },
     "execution_count": 24,
     "metadata": {},
     "output_type": "execute_result"
    }
   ],
   "source": [
    "final_df.s2_cell_id.nunique()"
   ]
  },
  {
   "cell_type": "code",
   "execution_count": 26,
   "metadata": {},
   "outputs": [
    {
     "data": {
      "text/plain": [
       "(3673.0, 86689.0)"
      ]
     },
     "execution_count": 26,
     "metadata": {},
     "output_type": "execute_result"
    }
   ],
   "source": [
    "final_df.wf_wildfire.sum(), final_df.wf_wildfire_ext.sum()"
   ]
  },
  {
   "cell_type": "code",
   "execution_count": 27,
   "metadata": {},
   "outputs": [
    {
     "data": {
      "text/plain": [
       "0.06965791774340778"
      ]
     },
     "execution_count": 27,
     "metadata": {},
     "output_type": "execute_result"
    }
   ],
   "source": [
    "final_df.wf_wildfire_ext.sum() / final_df.shape[0]"
   ]
  },
  {
   "cell_type": "markdown",
   "metadata": {},
   "source": [
    "### Checking features"
   ]
  },
  {
   "cell_type": "code",
   "execution_count": 33,
   "metadata": {},
   "outputs": [
    {
     "data": {
      "text/plain": [
       "(12175, 166)"
      ]
     },
     "execution_count": 33,
     "metadata": {},
     "output_type": "execute_result"
    }
   ],
   "source": [
    "final_df[final_df.fuel_percent_l1=='backfill'].shape"
   ]
  },
  {
   "cell_type": "code",
   "execution_count": null,
   "metadata": {},
   "outputs": [],
   "source": [
    "final_df[final_df.fuel_percent=='backfill'].shape"
   ]
  },
  {
   "cell_type": "code",
   "execution_count": 30,
   "metadata": {},
   "outputs": [],
   "source": [
    "fuel_mean = 78.74 # Calculated in BigQuery\n",
    "final_df.fuel_percent.replace('backfill',str(fuel_mean),inplace = True)\n",
    "final_df.fuel_percent_l1.replace('backfill',str(fuel_mean),inplace = True)\n",
    "final_df['fuel_percent'] = pd.to_numeric(final_df.fuel_percent)\n",
    "final_df['fuel_percent_l1'] = pd.to_numeric(final_df.fuel_percent_l1)"
   ]
  },
  {
   "cell_type": "code",
   "execution_count": 35,
   "metadata": {},
   "outputs": [
    {
     "data": {
      "text/plain": [
       "fuel_uid              object\n",
       "fuel_percent         float64\n",
       "fuel_percent_ma7     float64\n",
       "fuel_percent_ma30    float64\n",
       "fuel_percent_l1      float64\n",
       "dtype: object"
      ]
     },
     "execution_count": 35,
     "metadata": {},
     "output_type": "execute_result"
    }
   ],
   "source": [
    "final_df[[col for col in final_df if col.startswith('fuel_')]].dtypes"
   ]
  },
  {
   "cell_type": "code",
   "execution_count": 36,
   "metadata": {},
   "outputs": [
    {
     "data": {
      "text/plain": [
       "fuel_uid                0\n",
       "fuel_percent            0\n",
       "fuel_percent_ma7        0\n",
       "fuel_percent_ma30       0\n",
       "fuel_percent_l1      1070\n",
       "dtype: int64"
      ]
     },
     "execution_count": 36,
     "metadata": {},
     "output_type": "execute_result"
    }
   ],
   "source": [
    "final_df[[col for col in final_df if col.startswith('fuel_')]].isna().sum()"
   ]
  },
  {
   "cell_type": "code",
   "execution_count": 37,
   "metadata": {},
   "outputs": [
    {
     "data": {
      "text/plain": [
       "tl_object_id                      float64\n",
       "tl_kv_sort_sum                    float64\n",
       "tl_kv_sort_mean                   float64\n",
       "tl_kv_sort_max                    float64\n",
       "tl_owner                          float64\n",
       "tl_circuit                        float64\n",
       "tl_length_mil_sum                 float64\n",
       "tl_length_mil_mean                float64\n",
       "tl_length_mil_max                 float64\n",
       "tl_owner_amp                      float64\n",
       "tl_owner_anza                     float64\n",
       "tl_owner_apud                     float64\n",
       "tl_owner_blythe_energy            float64\n",
       "tl_owner_bpa                      float64\n",
       "tl_owner_bves                     float64\n",
       "tl_owner_calpeco                  float64\n",
       "tl_owner_ccsf                     float64\n",
       "tl_owner_esj                      float64\n",
       "tl_owner_iid                      float64\n",
       "tl_owner_ipa                      float64\n",
       "tl_owner_kmpud                    float64\n",
       "tl_owner_ladwp                    float64\n",
       "tl_owner_lmud                     float64\n",
       "tl_owner_mid                      float64\n",
       "tl_owner_mwd                      float64\n",
       "tl_owner_npua                     float64\n",
       "tl_owner_nvenergy                 float64\n",
       "tl_owner_pcorp                    float64\n",
       "tl_owner_pg_e                     float64\n",
       "tl_owner_plsr                     float64\n",
       "tl_owner_reu                      float64\n",
       "tl_owner_rpu                      float64\n",
       "tl_owner_sce                      float64\n",
       "tl_owner_sdg_e                    float64\n",
       "tl_owner_shasta_lake              float64\n",
       "tl_owner_smud                     float64\n",
       "tl_owner_svec                     float64\n",
       "tl_owner_svp                      float64\n",
       "tl_owner_tanc                     float64\n",
       "tl_owner_tid                      float64\n",
       "tl_owner_tpud                     float64\n",
       "tl_owner_trans_bay_cable          float64\n",
       "tl_owner_venon                    float64\n",
       "tl_owner_victorville              float64\n",
       "tl_owner_wapa                     float64\n",
       "tl_circuit_liberty_energy         float64\n",
       "tl_circuit_many                   float64\n",
       "tl_circuit_quad                   float64\n",
       "tl_circuit_single                 float64\n",
       "tl_type_oh                        float64\n",
       "tl_type_ug                        float64\n",
       "tl_type_uw                        float64\n",
       "tl_s2_cells_lvl16_cnt             float64\n",
       "tl_s2_cells_lvl16_cnt_coverage    float64\n",
       "dtype: object"
      ]
     },
     "execution_count": 37,
     "metadata": {},
     "output_type": "execute_result"
    }
   ],
   "source": [
    "final_df[[col for col in final_df if col.startswith('tl_')]].dtypes"
   ]
  },
  {
   "cell_type": "code",
   "execution_count": 38,
   "metadata": {},
   "outputs": [
    {
     "data": {
      "text/plain": [
       "tl_object_id                      764748\n",
       "tl_kv_sort_sum                    764748\n",
       "tl_kv_sort_mean                   764748\n",
       "tl_kv_sort_max                    764748\n",
       "tl_owner                          764748\n",
       "tl_circuit                        764748\n",
       "tl_length_mil_sum                 764748\n",
       "tl_length_mil_mean                764857\n",
       "tl_length_mil_max                 764857\n",
       "tl_owner_amp                      764748\n",
       "tl_owner_anza                     764748\n",
       "tl_owner_apud                     764748\n",
       "tl_owner_blythe_energy            764748\n",
       "tl_owner_bpa                      764748\n",
       "tl_owner_bves                     764748\n",
       "tl_owner_calpeco                  764748\n",
       "tl_owner_ccsf                     764748\n",
       "tl_owner_esj                      764748\n",
       "tl_owner_iid                      764748\n",
       "tl_owner_ipa                      764748\n",
       "tl_owner_kmpud                    764748\n",
       "tl_owner_ladwp                    764748\n",
       "tl_owner_lmud                     764748\n",
       "tl_owner_mid                      764748\n",
       "tl_owner_mwd                      764748\n",
       "tl_owner_npua                     764748\n",
       "tl_owner_nvenergy                 764748\n",
       "tl_owner_pcorp                    764748\n",
       "tl_owner_pg_e                     764748\n",
       "tl_owner_plsr                     764748\n",
       "tl_owner_reu                      764748\n",
       "tl_owner_rpu                      764748\n",
       "tl_owner_sce                      764748\n",
       "tl_owner_sdg_e                    764748\n",
       "tl_owner_shasta_lake              764748\n",
       "tl_owner_smud                     764748\n",
       "tl_owner_svec                     764748\n",
       "tl_owner_svp                      764748\n",
       "tl_owner_tanc                     764748\n",
       "tl_owner_tid                      764748\n",
       "tl_owner_tpud                     764748\n",
       "tl_owner_trans_bay_cable          764748\n",
       "tl_owner_venon                    764748\n",
       "tl_owner_victorville              764748\n",
       "tl_owner_wapa                     764748\n",
       "tl_circuit_liberty_energy         764748\n",
       "tl_circuit_many                   764748\n",
       "tl_circuit_quad                   764748\n",
       "tl_circuit_single                 764748\n",
       "tl_type_oh                        764748\n",
       "tl_type_ug                        764748\n",
       "tl_type_uw                        764748\n",
       "tl_s2_cells_lvl16_cnt             764748\n",
       "tl_s2_cells_lvl16_cnt_coverage    764748\n",
       "dtype: int64"
      ]
     },
     "execution_count": 38,
     "metadata": {},
     "output_type": "execute_result"
    }
   ],
   "source": [
    "final_df[[col for col in final_df if col.startswith('tl_')]].isna().sum()"
   ]
  },
  {
   "cell_type": "code",
   "execution_count": 39,
   "metadata": {},
   "outputs": [
    {
     "data": {
      "text/plain": [
       "wf_wildfire         float64\n",
       "wf_gis_acres        float64\n",
       "wf_fire_dur         float64\n",
       "wf_agency_bia       float64\n",
       "wf_agency_blm       float64\n",
       "wf_agency_coco      float64\n",
       "wf_agency_cdf       float64\n",
       "wf_agency_dod       float64\n",
       "wf_agency_lra       float64\n",
       "wf_agency_nps       float64\n",
       "wf_agency_usf       float64\n",
       "wf_cause_1          float64\n",
       "wf_cause_2          float64\n",
       "wf_cause_3          float64\n",
       "wf_cause_4          float64\n",
       "wf_cause_5          float64\n",
       "wf_cause_6          float64\n",
       "wf_cause_7          float64\n",
       "wf_cause_8          float64\n",
       "wf_cause_9          float64\n",
       "wf_cause_10         float64\n",
       "wf_cause_11         float64\n",
       "wf_cause_14         float64\n",
       "wf_cause_15         float64\n",
       "wf_cause_16         float64\n",
       "wf_cause_18         float64\n",
       "wf_c_method_1       float64\n",
       "wf_c_method_2       float64\n",
       "wf_c_method_3       float64\n",
       "wf_c_method_4       float64\n",
       "wf_c_method_5       float64\n",
       "wf_c_method_6       float64\n",
       "wf_c_method_7       float64\n",
       "wf_c_method_8       float64\n",
       "wf_cum_area         float64\n",
       "wf_wildfire_ext     float64\n",
       "wf_count_1yr_ago    float64\n",
       "wf_count_2yr_ago    float64\n",
       "wf_count_3yr_ago    float64\n",
       "wf_count_4yr_ago    float64\n",
       "wf_count_5yr_ago    float64\n",
       "dtype: object"
      ]
     },
     "execution_count": 39,
     "metadata": {},
     "output_type": "execute_result"
    }
   ],
   "source": [
    "final_df[[col for col in final_df if col.startswith('wf_')]].dtypes"
   ]
  },
  {
   "cell_type": "code",
   "execution_count": 41,
   "metadata": {},
   "outputs": [
    {
     "data": {
      "text/plain": [
       "sat_faparval_min         object\n",
       "sat_faparval_max         object\n",
       "sat_faparval_mean        object\n",
       "sat_faparval_median      object\n",
       "sat_faparval_std         object\n",
       "sat_faparval_size         int64\n",
       "sat_faparval_count        int64\n",
       "sat_faparval              int64\n",
       "sat_faparmask_min          bool\n",
       "sat_faparmask_max          bool\n",
       "sat_faparmask_mean      float64\n",
       "sat_faparmask_median     object\n",
       "sat_faparmask_std       float64\n",
       "sat_faparmask_size        int64\n",
       "dtype: object"
      ]
     },
     "execution_count": 41,
     "metadata": {},
     "output_type": "execute_result"
    }
   ],
   "source": [
    "final_df[[col for col in final_df if col.startswith('sat_')]].dtypes"
   ]
  },
  {
   "cell_type": "code",
   "execution_count": 51,
   "metadata": {},
   "outputs": [
    {
     "name": "stdout",
     "output_type": "stream",
     "text": [
      "1470\n",
      "1470\n",
      "1470\n",
      "1470\n",
      "1470\n"
     ]
    }
   ],
   "source": [
    "print((final_df.sat_faparval_min=='--').sum())\n",
    "print((final_df.sat_faparval_max=='--').sum())\n",
    "print((final_df.sat_faparval_mean=='--').sum())\n",
    "print((final_df.sat_faparval_median=='--').sum())\n",
    "print((final_df.sat_faparval_std=='--').sum())"
   ]
  },
  {
   "cell_type": "code",
   "execution_count": 56,
   "metadata": {},
   "outputs": [
    {
     "data": {
      "text/plain": [
       "0.0      605521\n",
       "False    597150\n",
       "1.0       34148\n",
       "True       7506\n",
       "0.5         171\n",
       "Name: sat_faparmask_median, dtype: int64"
      ]
     },
     "execution_count": 56,
     "metadata": {},
     "output_type": "execute_result"
    }
   ],
   "source": [
    "final_df.sat_faparmask_median.value_counts()"
   ]
  },
  {
   "cell_type": "code",
   "execution_count": 52,
   "metadata": {},
   "outputs": [
    {
     "data": {
      "text/plain": [
       "0    1243026\n",
       "1       1470\n",
       "Name: sat_faparval_undefined, dtype: int64"
      ]
     },
     "execution_count": 52,
     "metadata": {},
     "output_type": "execute_result"
    }
   ],
   "source": [
    "final_df['sat_faparval_undefined'] = (final_df.sat_faparval_min=='--').astype(int)\n",
    "final_df['sat_faparval_undefined'].value_counts()"
   ]
  },
  {
   "cell_type": "code",
   "execution_count": 53,
   "metadata": {},
   "outputs": [],
   "source": [
    "final_df['sat_faparval_min'] = pd.to_numeric(final_df.sat_faparval_min, errors='coerce')\n",
    "final_df['sat_faparval_max'] = pd.to_numeric(final_df.sat_faparval_max, errors='coerce')\n",
    "final_df['sat_faparval_mean'] = pd.to_numeric(final_df.sat_faparval_mean, errors='coerce')\n",
    "final_df['sat_faparval_median'] = pd.to_numeric(final_df.sat_faparval_median, errors='coerce')\n",
    "final_df['sat_faparval_std'] = pd.to_numeric(final_df.sat_faparval_std, errors='coerce')"
   ]
  },
  {
   "cell_type": "code",
   "execution_count": 58,
   "metadata": {},
   "outputs": [],
   "source": [
    "final_df['sat_faparval_min'] = final_df.sat_faparval_min.fillna(0)\n",
    "final_df['sat_faparval_max'] = final_df.sat_faparval_max.fillna(0)\n",
    "final_df['sat_faparval_mean'] = final_df.sat_faparval_mean.fillna(0)\n",
    "final_df['sat_faparval_median'] = final_df.sat_faparval_median.fillna(0)\n",
    "final_df['sat_faparval_std'] = final_df.sat_faparval_std.fillna(0)"
   ]
  },
  {
   "cell_type": "code",
   "execution_count": 59,
   "metadata": {},
   "outputs": [
    {
     "data": {
      "text/plain": [
       "sat_faparval_min          0\n",
       "sat_faparval_max          0\n",
       "sat_faparval_mean         0\n",
       "sat_faparval_median       0\n",
       "sat_faparval_std          0\n",
       "sat_faparval_size         0\n",
       "sat_faparval_count        0\n",
       "sat_faparval              0\n",
       "sat_faparmask_min         0\n",
       "sat_faparmask_max         0\n",
       "sat_faparmask_mean        0\n",
       "sat_faparmask_median      0\n",
       "sat_faparmask_std         0\n",
       "sat_faparmask_size        0\n",
       "sat_faparval_undefined    0\n",
       "dtype: int64"
      ]
     },
     "execution_count": 59,
     "metadata": {},
     "output_type": "execute_result"
    }
   ],
   "source": [
    "final_df[[col for col in final_df if col.startswith('sat_')]].isna().sum()"
   ]
  },
  {
   "cell_type": "code",
   "execution_count": 61,
   "metadata": {},
   "outputs": [
    {
     "data": {
      "text/html": [
       "<div>\n",
       "<style scoped>\n",
       "    .dataframe tbody tr th:only-of-type {\n",
       "        vertical-align: middle;\n",
       "    }\n",
       "\n",
       "    .dataframe tbody tr th {\n",
       "        vertical-align: top;\n",
       "    }\n",
       "\n",
       "    .dataframe thead th {\n",
       "        text-align: right;\n",
       "    }\n",
       "</style>\n",
       "<table border=\"1\" class=\"dataframe\">\n",
       "  <thead>\n",
       "    <tr style=\"text-align: right;\">\n",
       "      <th></th>\n",
       "      <th>sat_faparval_min</th>\n",
       "      <th>sat_faparval_max</th>\n",
       "      <th>sat_faparval_mean</th>\n",
       "      <th>sat_faparval_median</th>\n",
       "      <th>sat_faparval_std</th>\n",
       "      <th>sat_faparval_size</th>\n",
       "      <th>sat_faparval_count</th>\n",
       "      <th>sat_faparval</th>\n",
       "      <th>sat_faparmask_mean</th>\n",
       "      <th>sat_faparmask_std</th>\n",
       "      <th>sat_faparmask_size</th>\n",
       "      <th>sat_faparval_undefined</th>\n",
       "    </tr>\n",
       "  </thead>\n",
       "  <tbody>\n",
       "    <tr>\n",
       "      <th>count</th>\n",
       "      <td>1244496.00</td>\n",
       "      <td>1244496.00</td>\n",
       "      <td>1244496.00</td>\n",
       "      <td>1244496.00</td>\n",
       "      <td>1244496.00</td>\n",
       "      <td>1244496.00</td>\n",
       "      <td>1244496.00</td>\n",
       "      <td>1244496.00</td>\n",
       "      <td>1244496.00</td>\n",
       "      <td>1244496.00</td>\n",
       "      <td>1244496.00</td>\n",
       "      <td>1244496.00</td>\n",
       "    </tr>\n",
       "    <tr>\n",
       "      <th>mean</th>\n",
       "      <td>0.16</td>\n",
       "      <td>0.63</td>\n",
       "      <td>0.38</td>\n",
       "      <td>0.38</td>\n",
       "      <td>0.09</td>\n",
       "      <td>569.76</td>\n",
       "      <td>569.76</td>\n",
       "      <td>106.06</td>\n",
       "      <td>0.04</td>\n",
       "      <td>0.06</td>\n",
       "      <td>569.76</td>\n",
       "      <td>0.00</td>\n",
       "    </tr>\n",
       "    <tr>\n",
       "      <th>std</th>\n",
       "      <td>0.15</td>\n",
       "      <td>0.21</td>\n",
       "      <td>0.20</td>\n",
       "      <td>0.21</td>\n",
       "      <td>0.05</td>\n",
       "      <td>735.53</td>\n",
       "      <td>735.53</td>\n",
       "      <td>96.49</td>\n",
       "      <td>0.15</td>\n",
       "      <td>0.13</td>\n",
       "      <td>735.53</td>\n",
       "      <td>0.03</td>\n",
       "    </tr>\n",
       "    <tr>\n",
       "      <th>min</th>\n",
       "      <td>0.00</td>\n",
       "      <td>0.00</td>\n",
       "      <td>0.00</td>\n",
       "      <td>0.00</td>\n",
       "      <td>0.00</td>\n",
       "      <td>182.00</td>\n",
       "      <td>182.00</td>\n",
       "      <td>1.00</td>\n",
       "      <td>0.00</td>\n",
       "      <td>0.00</td>\n",
       "      <td>182.00</td>\n",
       "      <td>0.00</td>\n",
       "    </tr>\n",
       "    <tr>\n",
       "      <th>25%</th>\n",
       "      <td>0.04</td>\n",
       "      <td>0.50</td>\n",
       "      <td>0.23</td>\n",
       "      <td>0.21</td>\n",
       "      <td>0.06</td>\n",
       "      <td>199.00</td>\n",
       "      <td>199.00</td>\n",
       "      <td>63.00</td>\n",
       "      <td>0.00</td>\n",
       "      <td>0.00</td>\n",
       "      <td>199.00</td>\n",
       "      <td>0.00</td>\n",
       "    </tr>\n",
       "    <tr>\n",
       "      <th>50%</th>\n",
       "      <td>0.11</td>\n",
       "      <td>0.67</td>\n",
       "      <td>0.38</td>\n",
       "      <td>0.39</td>\n",
       "      <td>0.09</td>\n",
       "      <td>211.00</td>\n",
       "      <td>211.00</td>\n",
       "      <td>85.00</td>\n",
       "      <td>0.00</td>\n",
       "      <td>0.00</td>\n",
       "      <td>211.00</td>\n",
       "      <td>0.00</td>\n",
       "    </tr>\n",
       "    <tr>\n",
       "      <th>75%</th>\n",
       "      <td>0.25</td>\n",
       "      <td>0.80</td>\n",
       "      <td>0.54</td>\n",
       "      <td>0.54</td>\n",
       "      <td>0.12</td>\n",
       "      <td>788.00</td>\n",
       "      <td>788.00</td>\n",
       "      <td>116.00</td>\n",
       "      <td>0.00</td>\n",
       "      <td>0.03</td>\n",
       "      <td>788.00</td>\n",
       "      <td>0.00</td>\n",
       "    </tr>\n",
       "    <tr>\n",
       "      <th>max</th>\n",
       "      <td>0.85</td>\n",
       "      <td>0.94</td>\n",
       "      <td>0.92</td>\n",
       "      <td>0.94</td>\n",
       "      <td>0.38</td>\n",
       "      <td>3647.00</td>\n",
       "      <td>3647.00</td>\n",
       "      <td>1811.00</td>\n",
       "      <td>1.00</td>\n",
       "      <td>0.50</td>\n",
       "      <td>3647.00</td>\n",
       "      <td>1.00</td>\n",
       "    </tr>\n",
       "  </tbody>\n",
       "</table>\n",
       "</div>"
      ],
      "text/plain": [
       "       sat_faparval_min  sat_faparval_max  sat_faparval_mean  \\\n",
       "count        1244496.00        1244496.00         1244496.00   \n",
       "mean               0.16              0.63               0.38   \n",
       "std                0.15              0.21               0.20   \n",
       "min                0.00              0.00               0.00   \n",
       "25%                0.04              0.50               0.23   \n",
       "50%                0.11              0.67               0.38   \n",
       "75%                0.25              0.80               0.54   \n",
       "max                0.85              0.94               0.92   \n",
       "\n",
       "       sat_faparval_median  sat_faparval_std  sat_faparval_size  \\\n",
       "count           1244496.00        1244496.00         1244496.00   \n",
       "mean                  0.38              0.09             569.76   \n",
       "std                   0.21              0.05             735.53   \n",
       "min                   0.00              0.00             182.00   \n",
       "25%                   0.21              0.06             199.00   \n",
       "50%                   0.39              0.09             211.00   \n",
       "75%                   0.54              0.12             788.00   \n",
       "max                   0.94              0.38            3647.00   \n",
       "\n",
       "       sat_faparval_count  sat_faparval  sat_faparmask_mean  \\\n",
       "count          1244496.00    1244496.00          1244496.00   \n",
       "mean               569.76        106.06                0.04   \n",
       "std                735.53         96.49                0.15   \n",
       "min                182.00          1.00                0.00   \n",
       "25%                199.00         63.00                0.00   \n",
       "50%                211.00         85.00                0.00   \n",
       "75%                788.00        116.00                0.00   \n",
       "max               3647.00       1811.00                1.00   \n",
       "\n",
       "       sat_faparmask_std  sat_faparmask_size  sat_faparval_undefined  \n",
       "count         1244496.00          1244496.00              1244496.00  \n",
       "mean                0.06              569.76                    0.00  \n",
       "std                 0.13              735.53                    0.03  \n",
       "min                 0.00              182.00                    0.00  \n",
       "25%                 0.00              199.00                    0.00  \n",
       "50%                 0.00              211.00                    0.00  \n",
       "75%                 0.03              788.00                    0.00  \n",
       "max                 0.50             3647.00                    1.00  "
      ]
     },
     "execution_count": 61,
     "metadata": {},
     "output_type": "execute_result"
    }
   ],
   "source": [
    "final_df[[col for col in final_df if col.startswith('sat_')]].describe().round(2)"
   ]
  },
  {
   "cell_type": "code",
   "execution_count": 65,
   "metadata": {},
   "outputs": [],
   "source": [
    "weather = [\n",
    " 'wea_air_temp_mean_l1',\n",
    " 'wea_precip_accum_max_l1',\n",
    " 'relative_humidity_mean_l1',\n",
    " 'wea_air_temp_mean_ma7',\n",
    " 'wea_precip_accum_max_ma7',\n",
    " 'relative_humidity_mean_ma7',\n",
    " 'wea_air_temp_mean_ma30',\n",
    " 'wea_precip_accum_max_ma30',\n",
    " 'relative_humidity_mean_ma30',\n",
    " 'wea_air_temp_max',\n",
    " 'wea_air_temp_mean',\n",
    " 'wea_precip_accum_max',\n",
    " 'relative_humidity_max',\n",
    " 'relative_humidity_min',\n",
    " 'relative_humidity_mean',\n",
    " 'wea_wind_speed_max',\n",
    " 'wea_wind_speed_min',\n",
    " 'wea_wind_speed_mean',\n",
    " 'wind_gust_max',\n",
    "]"
   ]
  },
  {
   "cell_type": "code",
   "execution_count": 66,
   "metadata": {},
   "outputs": [
    {
     "data": {
      "text/plain": [
       "wea_air_temp_mean_l1           float64\n",
       "wea_precip_accum_max_l1        float64\n",
       "relative_humidity_mean_l1      float64\n",
       "wea_air_temp_mean_ma7          float64\n",
       "wea_precip_accum_max_ma7       float64\n",
       "relative_humidity_mean_ma7     float64\n",
       "wea_air_temp_mean_ma30         float64\n",
       "wea_precip_accum_max_ma30      float64\n",
       "relative_humidity_mean_ma30    float64\n",
       "wea_air_temp_max               float64\n",
       "wea_air_temp_mean              float64\n",
       "wea_precip_accum_max           float64\n",
       "relative_humidity_max          float64\n",
       "relative_humidity_min          float64\n",
       "relative_humidity_mean         float64\n",
       "wea_wind_speed_max             float64\n",
       "wea_wind_speed_min             float64\n",
       "wea_wind_speed_mean            float64\n",
       "wind_gust_max                  float64\n",
       "dtype: object"
      ]
     },
     "execution_count": 66,
     "metadata": {},
     "output_type": "execute_result"
    }
   ],
   "source": [
    "final_df[weather].dtypes"
   ]
  },
  {
   "cell_type": "code",
   "execution_count": 67,
   "metadata": {},
   "outputs": [
    {
     "data": {
      "text/plain": [
       "wea_air_temp_mean_l1           1070\n",
       "wea_precip_accum_max_l1        1070\n",
       "relative_humidity_mean_l1      1070\n",
       "wea_air_temp_mean_ma7             0\n",
       "wea_precip_accum_max_ma7          0\n",
       "relative_humidity_mean_ma7        0\n",
       "wea_air_temp_mean_ma30            0\n",
       "wea_precip_accum_max_ma30         0\n",
       "relative_humidity_mean_ma30       0\n",
       "wea_air_temp_max                  0\n",
       "wea_air_temp_mean                 0\n",
       "wea_precip_accum_max              0\n",
       "relative_humidity_max             0\n",
       "relative_humidity_min             0\n",
       "relative_humidity_mean            0\n",
       "wea_wind_speed_max                0\n",
       "wea_wind_speed_min                0\n",
       "wea_wind_speed_mean               0\n",
       "wind_gust_max                     0\n",
       "dtype: int64"
      ]
     },
     "execution_count": 67,
     "metadata": {},
     "output_type": "execute_result"
    }
   ],
   "source": [
    "final_df[weather].isna().sum()"
   ]
  },
  {
   "cell_type": "code",
   "execution_count": 68,
   "metadata": {},
   "outputs": [
    {
     "data": {
      "text/plain": [
       "227"
      ]
     },
     "execution_count": 68,
     "metadata": {},
     "output_type": "execute_result"
    }
   ],
   "source": [
    "gc.collect()"
   ]
  },
  {
   "cell_type": "markdown",
   "metadata": {},
   "source": [
    "#### Replace missing values for the lag variables"
   ]
  },
  {
   "cell_type": "code",
   "execution_count": 74,
   "metadata": {},
   "outputs": [
    {
     "data": {
      "text/plain": [
       "(1070, 167)"
      ]
     },
     "execution_count": 74,
     "metadata": {},
     "output_type": "execute_result"
    }
   ],
   "source": [
    "final_df[final_df.measure_date=='2016-01-01'].shape"
   ]
  },
  {
   "cell_type": "code",
   "execution_count": 78,
   "metadata": {},
   "outputs": [
    {
     "data": {
      "text/plain": [
       "(1243426, 167)"
      ]
     },
     "execution_count": 78,
     "metadata": {},
     "output_type": "execute_result"
    }
   ],
   "source": [
    "final_df = final_df[final_df.measure_date!='2016-01-01']\n",
    "final_df.shape"
   ]
  },
  {
   "cell_type": "code",
   "execution_count": 91,
   "metadata": {},
   "outputs": [
    {
     "data": {
      "text/plain": [
       "162"
      ]
     },
     "execution_count": 91,
     "metadata": {},
     "output_type": "execute_result"
    }
   ],
   "source": [
    "gc.collect()"
   ]
  },
  {
   "cell_type": "code",
   "execution_count": 86,
   "metadata": {},
   "outputs": [
    {
     "data": {
      "text/plain": [
       "0    CA270\n",
       "1    CA270\n",
       "2    CA278\n",
       "3    CA278\n",
       "4    CA278\n",
       "Name: fz_state_zone, dtype: object"
      ]
     },
     "execution_count": 86,
     "metadata": {},
     "output_type": "execute_result"
    }
   ],
   "source": [
    "final_df.fz_state_zone.head()"
   ]
  },
  {
   "cell_type": "code",
   "execution_count": 89,
   "metadata": {},
   "outputs": [],
   "source": [
    "control_vars = [\n",
    " 's2_cell_id',\n",
    " 'measure_date',\n",
    " 'fz_grp_high',\n",
    " 'fz_grp_low',\n",
    " 'fz_grp_med',\n",
    " 'fz_state_zone',\n",
    " 'wf_wildfire',\n",
    " 'wf_wildfire_ext',\n",
    "]\n",
    "\n",
    "tl_features = [\n",
    "    'tl_object_id',\n",
    "    'tl_kv_sort_sum',\n",
    "    'tl_s2_cells_lvl16_cnt',\n",
    "    'tl_s2_cells_lvl16_cnt_coverage'\n",
    "]\n",
    "\n",
    "wf_features = [\n",
    "    'wf_count_1yr_ago',\n",
    "    'wf_count_2yr_ago',\n",
    "    'wf_count_3yr_ago',\n",
    "    'wf_count_4yr_ago',\n",
    "    'wf_count_5yr_ago'\n",
    "]\n",
    "\n",
    "sat_features = [\n",
    " 'sat_faparval_min',\n",
    " 'sat_faparval_max',\n",
    " 'sat_faparval_mean',\n",
    " 'sat_faparval_median',\n",
    " 'sat_faparval_std',\n",
    " 'sat_faparval_size',\n",
    " 'sat_faparval_count',\n",
    " 'sat_faparval',\n",
    " 'sat_faparmask_min',\n",
    " 'sat_faparmask_max',\n",
    " 'sat_faparmask_mean',\n",
    "#  'sat_faparmask_median',\n",
    " 'sat_faparmask_std',\n",
    " 'sat_faparmask_size',\n",
    " 'sat_faparval_undefined'\n",
    "]\n",
    "\n",
    "wea_features = [\n",
    " 'wea_air_temp_max',\n",
    " 'wea_air_temp_mean',\n",
    " 'wea_precip_accum_max',\n",
    " 'relative_humidity_max',\n",
    " 'relative_humidity_min',\n",
    " 'relative_humidity_mean',\n",
    " 'wea_wind_speed_max',\n",
    " 'wea_wind_speed_min',\n",
    " 'wea_wind_speed_mean',\n",
    " 'wind_gust_max',\n",
    " 'wea_air_temp_mean_ma7',\n",
    " 'wea_precip_accum_max_ma7',\n",
    " 'relative_humidity_mean_ma7',\n",
    " 'wea_air_temp_mean_l1',\n",
    " 'wea_precip_accum_max_l1',\n",
    " 'relative_humidity_mean_l1',\n",
    " 'wea_air_temp_mean_ma30',\n",
    " 'wea_precip_accum_max_ma30',\n",
    " 'relative_humidity_mean_ma30'\n",
    "]\n",
    "\n",
    "fuel_features = [\n",
    " 'fuel_percent',\n",
    " 'fuel_percent_ma7',\n",
    " 'fuel_percent_ma30',\n",
    " 'fuel_percent_l1',\n",
    "]"
   ]
  },
  {
   "cell_type": "code",
   "execution_count": 90,
   "metadata": {},
   "outputs": [
    {
     "data": {
      "text/plain": [
       "tl_object_id                        4.720792\n",
       "tl_kv_sort_sum                    721.809149\n",
       "tl_s2_cells_lvl16_cnt             166.028750\n",
       "tl_s2_cells_lvl16_cnt_coverage      0.057191\n",
       "sat_faparval_min                    0.157561\n",
       "sat_faparval_max                    0.632617\n",
       "sat_faparval_mean                   0.384947\n",
       "sat_faparval_median                 0.383896\n",
       "sat_faparval_std                    0.095002\n",
       "sat_faparval_size                 569.752300\n",
       "sat_faparval_count                569.752300\n",
       "sat_faparval                      106.056871\n",
       "sat_faparmask_min                   0.001177\n",
       "sat_faparmask_max                   0.257098\n",
       "sat_faparmask_mean                  0.043190\n",
       "sat_faparmask_std                   0.056967\n",
       "sat_faparmask_size                569.752300\n",
       "sat_faparval_undefined              0.001177\n",
       "wea_air_temp_max                   21.225725\n",
       "wea_air_temp_mean                  13.924206\n",
       "wea_precip_accum_max              450.377858\n",
       "relative_humidity_max              75.055724\n",
       "relative_humidity_min              31.354433\n",
       "relative_humidity_mean             55.978699\n",
       "wea_wind_speed_max                  4.574612\n",
       "wea_wind_speed_min                  0.566407\n",
       "wea_wind_speed_mean                 2.102221\n",
       "wind_gust_max                       8.210131\n",
       "wea_air_temp_mean_ma7              13.960168\n",
       "wea_precip_accum_max_ma7          447.863921\n",
       "relative_humidity_mean_ma7         55.899842\n",
       "wea_air_temp_mean_l1               13.907711\n",
       "wea_precip_accum_max_l1           445.736068\n",
       "relative_humidity_mean_l1          55.824202\n",
       "wea_air_temp_mean_ma30             13.987144\n",
       "wea_precip_accum_max_ma30         450.467847\n",
       "relative_humidity_mean_ma30        55.878612\n",
       "fuel_percent                       77.650899\n",
       "fuel_percent_ma7                   77.666538\n",
       "fuel_percent_ma30                  77.837600\n",
       "fuel_percent_l1                    77.616102\n",
       "dtype: float64"
      ]
     },
     "execution_count": 90,
     "metadata": {},
     "output_type": "execute_result"
    }
   ],
   "source": [
    "final_df[tl_features+sat_features+wea_features+fuel_features].mean()"
   ]
  },
  {
   "cell_type": "code",
   "execution_count": 92,
   "metadata": {},
   "outputs": [
    {
     "data": {
      "text/plain": [
       "(1243426, 54)"
      ]
     },
     "execution_count": 92,
     "metadata": {},
     "output_type": "execute_result"
    }
   ],
   "source": [
    "keep_cols = control_vars+wf_features+tl_features+sat_features+wea_features+fuel_features\n",
    "final_df = final_df[keep_cols]\n",
    "final_df.shape"
   ]
  },
  {
   "cell_type": "code",
   "execution_count": 95,
   "metadata": {},
   "outputs": [
    {
     "name": "stderr",
     "output_type": "stream",
     "text": [
      "/home/yulia/anaconda3/lib/python3.6/site-packages/pandas/core/frame.py:3787: SettingWithCopyWarning: \n",
      "A value is trying to be set on a copy of a slice from a DataFrame\n",
      "\n",
      "See the caveats in the documentation: http://pandas.pydata.org/pandas-docs/stable/indexing.html#indexing-view-versus-copy\n",
      "  downcast=downcast, **kwargs)\n"
     ]
    }
   ],
   "source": [
    "final_df.fillna(0, inplace=True)"
   ]
  },
  {
   "cell_type": "code",
   "execution_count": 96,
   "metadata": {},
   "outputs": [
    {
     "data": {
      "text/plain": [
       "s2_cell_id                        0\n",
       "measure_date                      0\n",
       "fz_grp_high                       0\n",
       "fz_grp_low                        0\n",
       "fz_grp_med                        0\n",
       "fz_state_zone                     0\n",
       "wf_wildfire                       0\n",
       "wf_wildfire_ext                   0\n",
       "wf_count_1yr_ago                  0\n",
       "wf_count_2yr_ago                  0\n",
       "wf_count_3yr_ago                  0\n",
       "wf_count_4yr_ago                  0\n",
       "wf_count_5yr_ago                  0\n",
       "tl_object_id                      0\n",
       "tl_kv_sort_sum                    0\n",
       "tl_s2_cells_lvl16_cnt             0\n",
       "tl_s2_cells_lvl16_cnt_coverage    0\n",
       "sat_faparval_min                  0\n",
       "sat_faparval_max                  0\n",
       "sat_faparval_mean                 0\n",
       "sat_faparval_median               0\n",
       "sat_faparval_std                  0\n",
       "sat_faparval_size                 0\n",
       "sat_faparval_count                0\n",
       "sat_faparval                      0\n",
       "sat_faparmask_min                 0\n",
       "sat_faparmask_max                 0\n",
       "sat_faparmask_mean                0\n",
       "sat_faparmask_std                 0\n",
       "sat_faparmask_size                0\n",
       "sat_faparval_undefined            0\n",
       "wea_air_temp_max                  0\n",
       "wea_air_temp_mean                 0\n",
       "wea_precip_accum_max              0\n",
       "relative_humidity_max             0\n",
       "relative_humidity_min             0\n",
       "relative_humidity_mean            0\n",
       "wea_wind_speed_max                0\n",
       "wea_wind_speed_min                0\n",
       "wea_wind_speed_mean               0\n",
       "wind_gust_max                     0\n",
       "wea_air_temp_mean_ma7             0\n",
       "wea_precip_accum_max_ma7          0\n",
       "relative_humidity_mean_ma7        0\n",
       "wea_air_temp_mean_l1              0\n",
       "wea_precip_accum_max_l1           0\n",
       "relative_humidity_mean_l1         0\n",
       "wea_air_temp_mean_ma30            0\n",
       "wea_precip_accum_max_ma30         0\n",
       "relative_humidity_mean_ma30       0\n",
       "fuel_percent                      0\n",
       "fuel_percent_ma7                  0\n",
       "fuel_percent_ma30                 0\n",
       "fuel_percent_l1                   0\n",
       "dtype: int64"
      ]
     },
     "execution_count": 96,
     "metadata": {},
     "output_type": "execute_result"
    }
   ],
   "source": [
    "final_df.isna().sum()"
   ]
  },
  {
   "cell_type": "code",
   "execution_count": 97,
   "metadata": {},
   "outputs": [
    {
     "data": {
      "text/plain": [
       "0"
      ]
     },
     "execution_count": 97,
     "metadata": {},
     "output_type": "execute_result"
    }
   ],
   "source": [
    "final_df.isna().sum().sum()"
   ]
  },
  {
   "cell_type": "code",
   "execution_count": 98,
   "metadata": {},
   "outputs": [
    {
     "data": {
      "text/plain": [
       "(1243426, 54)"
      ]
     },
     "execution_count": 98,
     "metadata": {},
     "output_type": "execute_result"
    }
   ],
   "source": [
    "final_df.shape"
   ]
  },
  {
   "cell_type": "code",
   "execution_count": 100,
   "metadata": {},
   "outputs": [
    {
     "data": {
      "text/plain": [
       "(1243426, 105)"
      ]
     },
     "execution_count": 100,
     "metadata": {},
     "output_type": "execute_result"
    }
   ],
   "source": [
    "fz_dummies = pd.get_dummies(final_df.fz_state_zone)\n",
    "fz_dummies.shape"
   ]
  },
  {
   "cell_type": "code",
   "execution_count": 103,
   "metadata": {},
   "outputs": [
    {
     "data": {
      "text/plain": [
       "count    1243426.000\n",
       "mean         450.378\n",
       "std         4051.479\n",
       "min          -95.250\n",
       "25%           38.100\n",
       "50%          230.632\n",
       "75%          586.740\n",
       "max      1849780.400\n",
       "Name: wea_precip_accum_max, dtype: float64"
      ]
     },
     "execution_count": 103,
     "metadata": {},
     "output_type": "execute_result"
    }
   ],
   "source": [
    "final_df.wea_precip_accum_max.describe().round(3)"
   ]
  },
  {
   "cell_type": "code",
   "execution_count": 105,
   "metadata": {},
   "outputs": [
    {
     "data": {
      "text/plain": [
       "(6, 54)"
      ]
     },
     "execution_count": 105,
     "metadata": {},
     "output_type": "execute_result"
    }
   ],
   "source": [
    "final_df[final_df.wea_precip_accum_max<0].shape"
   ]
  },
  {
   "cell_type": "code",
   "execution_count": 107,
   "metadata": {},
   "outputs": [
    {
     "data": {
      "text/plain": [
       "count    1243426.000\n",
       "mean          31.354\n",
       "std          448.508\n",
       "min      -127888.000\n",
       "25%           16.060\n",
       "50%           27.000\n",
       "75%           46.000\n",
       "max          250.000\n",
       "Name: relative_humidity_min, dtype: float64"
      ]
     },
     "execution_count": 107,
     "metadata": {},
     "output_type": "execute_result"
    }
   ],
   "source": [
    "final_df.relative_humidity_min.describe().round(3)"
   ]
  },
  {
   "cell_type": "code",
   "execution_count": 108,
   "metadata": {},
   "outputs": [
    {
     "data": {
      "text/plain": [
       "(49, 54)"
      ]
     },
     "execution_count": 108,
     "metadata": {},
     "output_type": "execute_result"
    }
   ],
   "source": [
    "final_df[final_df.relative_humidity_min<0].shape"
   ]
  },
  {
   "cell_type": "code",
   "execution_count": 109,
   "metadata": {},
   "outputs": [
    {
     "data": {
      "text/html": [
       "<div>\n",
       "<style scoped>\n",
       "    .dataframe tbody tr th:only-of-type {\n",
       "        vertical-align: middle;\n",
       "    }\n",
       "\n",
       "    .dataframe tbody tr th {\n",
       "        vertical-align: top;\n",
       "    }\n",
       "\n",
       "    .dataframe thead th {\n",
       "        text-align: right;\n",
       "    }\n",
       "</style>\n",
       "<table border=\"1\" class=\"dataframe\">\n",
       "  <thead>\n",
       "    <tr style=\"text-align: right;\">\n",
       "      <th></th>\n",
       "      <th>s2_cell_id</th>\n",
       "      <th>measure_date</th>\n",
       "      <th>fz_grp_high</th>\n",
       "      <th>fz_grp_low</th>\n",
       "      <th>fz_grp_med</th>\n",
       "      <th>fz_state_zone</th>\n",
       "      <th>wf_wildfire</th>\n",
       "      <th>wf_wildfire_ext</th>\n",
       "      <th>wf_count_1yr_ago</th>\n",
       "      <th>wf_count_2yr_ago</th>\n",
       "      <th>...</th>\n",
       "      <th>wea_air_temp_mean_l1</th>\n",
       "      <th>wea_precip_accum_max_l1</th>\n",
       "      <th>relative_humidity_mean_l1</th>\n",
       "      <th>wea_air_temp_mean_ma30</th>\n",
       "      <th>wea_precip_accum_max_ma30</th>\n",
       "      <th>relative_humidity_mean_ma30</th>\n",
       "      <th>fuel_percent</th>\n",
       "      <th>fuel_percent_ma7</th>\n",
       "      <th>fuel_percent_ma30</th>\n",
       "      <th>fuel_percent_l1</th>\n",
       "    </tr>\n",
       "  </thead>\n",
       "  <tbody>\n",
       "    <tr>\n",
       "      <th>29027</th>\n",
       "      <td>54cd9fc</td>\n",
       "      <td>2018-12-19</td>\n",
       "      <td>1</td>\n",
       "      <td>0</td>\n",
       "      <td>0</td>\n",
       "      <td>CA213</td>\n",
       "      <td>0.0</td>\n",
       "      <td>0.0</td>\n",
       "      <td>0.0</td>\n",
       "      <td>0.0</td>\n",
       "      <td>...</td>\n",
       "      <td>6.661757</td>\n",
       "      <td>2413.000</td>\n",
       "      <td>88.767123</td>\n",
       "      <td>-25.054228</td>\n",
       "      <td>572.592200</td>\n",
       "      <td>30.737721</td>\n",
       "      <td>70.0</td>\n",
       "      <td>74.857143</td>\n",
       "      <td>67.600000</td>\n",
       "      <td>72.0</td>\n",
       "    </tr>\n",
       "    <tr>\n",
       "      <th>36188</th>\n",
       "      <td>8085fc</td>\n",
       "      <td>2018-03-14</td>\n",
       "      <td>0</td>\n",
       "      <td>1</td>\n",
       "      <td>0</td>\n",
       "      <td>CA006</td>\n",
       "      <td>0.0</td>\n",
       "      <td>0.0</td>\n",
       "      <td>0.0</td>\n",
       "      <td>0.0</td>\n",
       "      <td>...</td>\n",
       "      <td>-4567.780000</td>\n",
       "      <td>7.366</td>\n",
       "      <td>-100.000000</td>\n",
       "      <td>-4567.780000</td>\n",
       "      <td>6.680200</td>\n",
       "      <td>-100.000000</td>\n",
       "      <td>66.0</td>\n",
       "      <td>82.571429</td>\n",
       "      <td>80.433333</td>\n",
       "      <td>66.0</td>\n",
       "    </tr>\n",
       "    <tr>\n",
       "      <th>83652</th>\n",
       "      <td>80971c4</td>\n",
       "      <td>2018-04-07</td>\n",
       "      <td>1</td>\n",
       "      <td>0</td>\n",
       "      <td>0</td>\n",
       "      <td>CA592</td>\n",
       "      <td>0.0</td>\n",
       "      <td>0.0</td>\n",
       "      <td>0.0</td>\n",
       "      <td>0.0</td>\n",
       "      <td>...</td>\n",
       "      <td>3.196250</td>\n",
       "      <td>5.588</td>\n",
       "      <td>76.239583</td>\n",
       "      <td>-0.154079</td>\n",
       "      <td>197.662800</td>\n",
       "      <td>61.624237</td>\n",
       "      <td>156.0</td>\n",
       "      <td>91.857143</td>\n",
       "      <td>84.966667</td>\n",
       "      <td>89.0</td>\n",
       "    </tr>\n",
       "    <tr>\n",
       "      <th>93274</th>\n",
       "      <td>809c95</td>\n",
       "      <td>2018-12-11</td>\n",
       "      <td>0</td>\n",
       "      <td>0</td>\n",
       "      <td>1</td>\n",
       "      <td>CA268</td>\n",
       "      <td>0.0</td>\n",
       "      <td>0.0</td>\n",
       "      <td>0.0</td>\n",
       "      <td>0.0</td>\n",
       "      <td>...</td>\n",
       "      <td>6.198246</td>\n",
       "      <td>1062.482</td>\n",
       "      <td>85.100000</td>\n",
       "      <td>-254.615920</td>\n",
       "      <td>238.252000</td>\n",
       "      <td>-301.075668</td>\n",
       "      <td>74.0</td>\n",
       "      <td>72.285714</td>\n",
       "      <td>59.733333</td>\n",
       "      <td>74.0</td>\n",
       "    </tr>\n",
       "    <tr>\n",
       "      <th>106716</th>\n",
       "      <td>80bfe0c</td>\n",
       "      <td>2018-10-20</td>\n",
       "      <td>1</td>\n",
       "      <td>0</td>\n",
       "      <td>0</td>\n",
       "      <td>CA594</td>\n",
       "      <td>0.0</td>\n",
       "      <td>0.0</td>\n",
       "      <td>0.0</td>\n",
       "      <td>0.0</td>\n",
       "      <td>...</td>\n",
       "      <td>2.507396</td>\n",
       "      <td>36.576</td>\n",
       "      <td>44.833333</td>\n",
       "      <td>5.432586</td>\n",
       "      <td>175.683333</td>\n",
       "      <td>-878.964206</td>\n",
       "      <td>87.0</td>\n",
       "      <td>61.857143</td>\n",
       "      <td>52.833333</td>\n",
       "      <td>59.0</td>\n",
       "    </tr>\n",
       "  </tbody>\n",
       "</table>\n",
       "<p>5 rows × 54 columns</p>\n",
       "</div>"
      ],
      "text/plain": [
       "       s2_cell_id measure_date  fz_grp_high  fz_grp_low  fz_grp_med  \\\n",
       "29027     54cd9fc   2018-12-19            1           0           0   \n",
       "36188      8085fc   2018-03-14            0           1           0   \n",
       "83652     80971c4   2018-04-07            1           0           0   \n",
       "93274      809c95   2018-12-11            0           0           1   \n",
       "106716    80bfe0c   2018-10-20            1           0           0   \n",
       "\n",
       "       fz_state_zone  wf_wildfire  wf_wildfire_ext  wf_count_1yr_ago  \\\n",
       "29027          CA213          0.0              0.0               0.0   \n",
       "36188          CA006          0.0              0.0               0.0   \n",
       "83652          CA592          0.0              0.0               0.0   \n",
       "93274          CA268          0.0              0.0               0.0   \n",
       "106716         CA594          0.0              0.0               0.0   \n",
       "\n",
       "        wf_count_2yr_ago       ...         wea_air_temp_mean_l1  \\\n",
       "29027                0.0       ...                     6.661757   \n",
       "36188                0.0       ...                 -4567.780000   \n",
       "83652                0.0       ...                     3.196250   \n",
       "93274                0.0       ...                     6.198246   \n",
       "106716               0.0       ...                     2.507396   \n",
       "\n",
       "        wea_precip_accum_max_l1  relative_humidity_mean_l1  \\\n",
       "29027                  2413.000                  88.767123   \n",
       "36188                     7.366                -100.000000   \n",
       "83652                     5.588                  76.239583   \n",
       "93274                  1062.482                  85.100000   \n",
       "106716                   36.576                  44.833333   \n",
       "\n",
       "        wea_air_temp_mean_ma30  wea_precip_accum_max_ma30  \\\n",
       "29027               -25.054228                 572.592200   \n",
       "36188             -4567.780000                   6.680200   \n",
       "83652                -0.154079                 197.662800   \n",
       "93274              -254.615920                 238.252000   \n",
       "106716                5.432586                 175.683333   \n",
       "\n",
       "        relative_humidity_mean_ma30  fuel_percent  fuel_percent_ma7  \\\n",
       "29027                     30.737721          70.0         74.857143   \n",
       "36188                   -100.000000          66.0         82.571429   \n",
       "83652                     61.624237         156.0         91.857143   \n",
       "93274                   -301.075668          74.0         72.285714   \n",
       "106716                  -878.964206          87.0         61.857143   \n",
       "\n",
       "        fuel_percent_ma30  fuel_percent_l1  \n",
       "29027           67.600000             72.0  \n",
       "36188           80.433333             66.0  \n",
       "83652           84.966667             89.0  \n",
       "93274           59.733333             74.0  \n",
       "106716          52.833333             59.0  \n",
       "\n",
       "[5 rows x 54 columns]"
      ]
     },
     "execution_count": 109,
     "metadata": {},
     "output_type": "execute_result"
    }
   ],
   "source": [
    "final_df[final_df.relative_humidity_min<0].head()"
   ]
  },
  {
   "cell_type": "code",
   "execution_count": 138,
   "metadata": {},
   "outputs": [
    {
     "data": {
      "text/plain": [
       "count    1243426.0\n",
       "mean          56.0\n",
       "std           42.0\n",
       "min       -28062.0\n",
       "25%           37.0\n",
       "50%           55.0\n",
       "75%           76.0\n",
       "max         1624.0\n",
       "Name: relative_humidity_mean, dtype: float64"
      ]
     },
     "execution_count": 138,
     "metadata": {},
     "output_type": "execute_result"
    }
   ],
   "source": [
    "final_df.relative_humidity_mean.describe().round()"
   ]
  },
  {
   "cell_type": "code",
   "execution_count": 139,
   "metadata": {},
   "outputs": [
    {
     "data": {
      "text/plain": [
       "count     398623.000\n",
       "mean         479.587\n",
       "std         3211.475\n",
       "min          -95.250\n",
       "25%           85.598\n",
       "50%          266.192\n",
       "75%          625.094\n",
       "max      1404848.600\n",
       "Name: wea_precip_accum_max, dtype: float64"
      ]
     },
     "execution_count": 139,
     "metadata": {},
     "output_type": "execute_result"
    }
   ],
   "source": [
    "final_df[final_df.relative_humidity_mean>70].wea_precip_accum_max.describe().round(3)"
   ]
  },
  {
   "cell_type": "code",
   "execution_count": 140,
   "metadata": {},
   "outputs": [
    {
     "data": {
      "text/plain": [
       "count    1142472.000\n",
       "mean         441.931\n",
       "std         4010.565\n",
       "min          -95.250\n",
       "25%           33.274\n",
       "50%          221.488\n",
       "75%          571.754\n",
       "max      1849780.400\n",
       "Name: wea_precip_accum_max, dtype: float64"
      ]
     },
     "execution_count": 140,
     "metadata": {},
     "output_type": "execute_result"
    }
   ],
   "source": [
    "final_df[final_df.relative_humidity_mean<90].wea_precip_accum_max.describe().round(3)"
   ]
  },
  {
   "cell_type": "code",
   "execution_count": 141,
   "metadata": {},
   "outputs": [
    {
     "data": {
      "text/plain": [
       "count     844371.000\n",
       "mean         436.506\n",
       "std         4393.435\n",
       "min          -95.250\n",
       "25%           21.590\n",
       "50%          210.566\n",
       "75%          565.404\n",
       "max      1849780.400\n",
       "Name: wea_precip_accum_max, dtype: float64"
      ]
     },
     "execution_count": 141,
     "metadata": {},
     "output_type": "execute_result"
    }
   ],
   "source": [
    "final_df[final_df.relative_humidity_mean<70].wea_precip_accum_max.describe().round(3)"
   ]
  },
  {
   "cell_type": "code",
   "execution_count": 142,
   "metadata": {
    "scrolled": true
   },
   "outputs": [
    {
     "data": {
      "text/plain": [
       "count     533010.000\n",
       "mean         414.511\n",
       "std         4385.070\n",
       "min            0.000\n",
       "25%           13.208\n",
       "50%          167.386\n",
       "75%          523.240\n",
       "max      1849780.400\n",
       "Name: wea_precip_accum_max, dtype: float64"
      ]
     },
     "execution_count": 142,
     "metadata": {},
     "output_type": "execute_result"
    }
   ],
   "source": [
    "final_df[final_df.relative_humidity_mean<50].wea_precip_accum_max.describe().round(3)"
   ]
  },
  {
   "cell_type": "code",
   "execution_count": 143,
   "metadata": {},
   "outputs": [],
   "source": [
    "final_df['wea_precip_accum_max_cut90'] = np.where(final_df['relative_humidity_mean']<90, 0, final_df.wea_precip_accum_max)\n",
    "final_df['wea_precip_accum_max_cut70'] = np.where(final_df['relative_humidity_mean']<70, 0, final_df.wea_precip_accum_max)\n",
    "final_df['wea_precip_accum_max_cut50'] = np.where(final_df['relative_humidity_mean']<50, 0, final_df.wea_precip_accum_max)\n",
    "\n",
    "final_df['wea_precip_accum_max_ma7_cut90'] = np.where(final_df['relative_humidity_mean_ma7']<90, 0, final_df.wea_precip_accum_max_ma7)\n",
    "final_df['wea_precip_accum_max_ma7_cut70'] = np.where(final_df['relative_humidity_mean_ma7']<70, 0, final_df.wea_precip_accum_max_ma7)\n",
    "final_df['wea_precip_accum_max_ma7_cut50'] = np.where(final_df['relative_humidity_mean_ma7']<50, 0, final_df.wea_precip_accum_max_ma7)\n",
    "\n",
    "final_df['wea_precip_accum_max_ma30_cut90'] = np.where(final_df['relative_humidity_mean_ma30']<90, 0, final_df.wea_precip_accum_max_ma30)\n",
    "final_df['wea_precip_accum_max_ma30_cut70'] = np.where(final_df['relative_humidity_mean_ma30']<70, 0, final_df.wea_precip_accum_max_ma30)\n",
    "final_df['wea_precip_accum_max_ma30_cut50'] = np.where(final_df['relative_humidity_mean_ma30']<50, 0, final_df.wea_precip_accum_max_ma30)\n",
    "\n",
    "final_df['wea_precip_accum_max_l1_cut90'] = np.where(final_df['relative_humidity_mean_l1']<90, 0, final_df.wea_precip_accum_max_l1)\n",
    "final_df['wea_precip_accum_max_l1_cut70'] = np.where(final_df['relative_humidity_mean_l1']<70, 0, final_df.wea_precip_accum_max_l1)\n",
    "final_df['wea_precip_accum_max_l1_cut50'] = np.where(final_df['relative_humidity_mean_l1']<50, 0, final_df.wea_precip_accum_max_l1)"
   ]
  },
  {
   "cell_type": "code",
   "execution_count": 144,
   "metadata": {},
   "outputs": [],
   "source": [
    "final_df.to_csv('./consolidated_4_10pct_sample_new.csv', index=False)"
   ]
  },
  {
   "cell_type": "code",
   "execution_count": 146,
   "metadata": {},
   "outputs": [
    {
     "data": {
      "text/plain": [
       "0"
      ]
     },
     "execution_count": 146,
     "metadata": {},
     "output_type": "execute_result"
    }
   ],
   "source": [
    "final_df.isna().sum().sum()"
   ]
  },
  {
   "cell_type": "code",
   "execution_count": null,
   "metadata": {},
   "outputs": [],
   "source": []
  }
 ],
 "metadata": {
  "kernelspec": {
   "display_name": "Python 3",
   "language": "python",
   "name": "python3"
  },
  "language_info": {
   "codemirror_mode": {
    "name": "ipython",
    "version": 3
   },
   "file_extension": ".py",
   "mimetype": "text/x-python",
   "name": "python",
   "nbconvert_exporter": "python",
   "pygments_lexer": "ipython3",
   "version": "3.5.2"
  }
 },
 "nbformat": 4,
 "nbformat_minor": 2
}
