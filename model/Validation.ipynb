{
 "cells": [
  {
   "cell_type": "code",
   "execution_count": 1,
   "metadata": {},
   "outputs": [
    {
     "data": {
      "text/html": [
       "<style>.container { width:100% !important; }</style>"
      ],
      "text/plain": [
       "<IPython.core.display.HTML object>"
      ]
     },
     "metadata": {},
     "output_type": "display_data"
    }
   ],
   "source": [
    "# increase cell width\n",
    "from IPython.core.display import display, HTML\n",
    "display(HTML(\"<style>.container { width:100% !important; }</style>\"))"
   ]
  },
  {
   "cell_type": "code",
   "execution_count": 2,
   "metadata": {},
   "outputs": [],
   "source": [
    "import pandas as pd\n",
    "import numpy as np\n",
    "import gc\n",
    "import os\n",
    "import time\n",
    "import pickle"
   ]
  },
  {
   "cell_type": "code",
   "execution_count": 3,
   "metadata": {},
   "outputs": [],
   "source": [
    "import matplotlib.pyplot as plt\n",
    "%matplotlib inline"
   ]
  },
  {
   "cell_type": "code",
   "execution_count": 4,
   "metadata": {},
   "outputs": [],
   "source": [
    "from sklearn.preprocessing import MinMaxScaler\n",
    "from sklearn.metrics import confusion_matrix\n",
    "from sklearn.metrics import classification_report"
   ]
  },
  {
   "cell_type": "code",
   "execution_count": 1,
   "metadata": {},
   "outputs": [],
   "source": [
    "from tensorflow.python.keras.models import load_model"
   ]
  },
  {
   "cell_type": "code",
   "execution_count": 6,
   "metadata": {},
   "outputs": [],
   "source": [
    "def split_train_test(data, features):\n",
    "    indexer = data[['s2_cell_id','measure_date']].copy()\n",
    "    train = data[data.measure_date < '2018-01-01'].copy()\n",
    "    test = data[data.measure_date >= '2018-01-01'].copy()\n",
    "    \n",
    "    y_train = train.wf_wildfire.copy().values\n",
    "    y_test = test.wf_wildfire.copy().values    \n",
    "    \n",
    "    train = train[features]\n",
    "    test = test[features]    \n",
    "    \n",
    "    test_ids = data[data.measure_date >= '2018-01-01'][['s2_cell_id', 'measure_date']]\n",
    "    \n",
    "    return train, test, y_train, y_test, test_ids\n",
    "\n",
    "def plot_confusion_matrix(y_true, y_pred, classes,\n",
    "                          normalize=False,\n",
    "                          cmap=plt.cm.Blues):\n",
    "    \"\"\"\n",
    "    Source: https://scikit-learn.org/stable/auto_examples/model_selection/plot_confusion_matrix.html#sphx-glr-auto-examples-model-selection-plot-confusion-matrix-py\n",
    "\n",
    "    Prints and plots the confusion matrix.\n",
    "\n",
    "    Args:\n",
    "        y_true: list of true target labels\n",
    "        y_pred: list of predicted target labels\n",
    "        classes: tuple of class labels in 0, 1 order\n",
    "\n",
    "    Kwargs:\n",
    "        normalize: bool, normalize confusion matrix or not\n",
    "        cmap: color map\n",
    "    \"\"\"\n",
    "\n",
    "    if normalize:\n",
    "        title = 'Normalized confusion matrix'\n",
    "    else:\n",
    "        title = 'Confusion matrix, without normalization'\n",
    "\n",
    "    # Compute confusion matrix\n",
    "    cm = confusion_matrix(y_true, y_pred)\n",
    "    print('Confusion matrix, without normalization')\n",
    "    print(cm)\n",
    "\n",
    "    print(classification_report(y_true, y_pred, target_names=classes))\n",
    "\n",
    "    if normalize:\n",
    "        cm = cm.astype('float') / cm.sum(axis=1)[:, np.newaxis]\n",
    "\n",
    "    fig, ax = plt.subplots()\n",
    "    im = ax.imshow(cm, interpolation='nearest', cmap=cmap)\n",
    "    ax.figure.colorbar(im, ax=ax)\n",
    "    # show all ticks...\n",
    "    ax.set(xticks=np.arange(cm.shape[1]),\n",
    "           yticks=np.arange(cm.shape[0]),\n",
    "           xticklabels=classes,\n",
    "           yticklabels=classes,\n",
    "           title=title,\n",
    "           ylabel='True label',\n",
    "           xlabel='Predicted label')\n",
    "\n",
    "    # rotate the tick labels and set their alignment.\n",
    "    plt.setp(ax.get_xticklabels(),\n",
    "             rotation=45,\n",
    "             ha=\"right\",\n",
    "             rotation_mode=\"anchor\")\n",
    "\n",
    "    # loop over data dimensions and create text annotations.\n",
    "    fmt = '.2f' if normalize else 'd'\n",
    "    thresh = cm.max() / 2.\n",
    "    for i in range(cm.shape[0]):\n",
    "        for j in range(cm.shape[1]):\n",
    "            ax.text(j, i, format(cm[i, j], fmt),\n",
    "                    ha=\"center\", va=\"center\",\n",
    "                    color=\"white\" if cm[i, j] > thresh else \"black\")\n",
    "    fig.tight_layout()\n",
    "    plt.show()\n",
    "    \n",
    "def bin_prob(probs, y_test):\n",
    "    y_binned = np.digitize(probs, np.arange(0,1.1,0.1))\n",
    "    bin_df = pd.DataFrame(list(zip(y_test, probs, y_binned)), columns =['Actual', 'Prob', 'Bin'])\n",
    "    bin_df = bin_df.groupby('Bin').agg({'Actual': ['mean', 'sum', 'count'], 'Prob': 'mean'})\n",
    "    return bin_df"
   ]
  },
  {
   "cell_type": "code",
   "execution_count": 7,
   "metadata": {},
   "outputs": [],
   "source": [
    "scaler = MinMaxScaler()"
   ]
  },
  {
   "cell_type": "code",
   "execution_count": 8,
   "metadata": {},
   "outputs": [],
   "source": [
    "tl_features = [\n",
    "    'tl_object_id',\n",
    "    'tl_kv_sort_sum'\n",
    "]\n",
    "\n",
    "sat_features = [\n",
    " 'sat_faparval_min',\n",
    " 'sat_faparval_max',\n",
    " 'sat_faparval_mean',\n",
    " 'sat_faparval_std',\n",
    " 'sat_faparval_size',\n",
    " 'sat_faparval_count',\n",
    " 'sat_faparval',\n",
    " 'sat_faparmask_min',\n",
    " 'sat_faparmask_max',\n",
    " 'sat_faparmask_mean',\n",
    " 'sat_faparmask_std',\n",
    " 'sat_faparmask_size'\n",
    "]\n",
    "\n",
    "wea_features = [\n",
    " 'wea_air_temp_max',\n",
    " 'wea_air_temp_mean',\n",
    " 'relative_humidity_max',\n",
    " 'relative_humidity_min',\n",
    " 'relative_humidity_mean',\n",
    " 'wea_wind_speed_max',\n",
    " 'wea_wind_speed_min',\n",
    " 'wea_wind_speed_mean',\n",
    " 'wind_gust_max',\n",
    " 'wea_air_temp_mean_ma7',\n",
    " 'relative_humidity_mean_ma7',\n",
    " 'wea_air_temp_mean_l1',\n",
    " 'relative_humidity_mean_l1',\n",
    " 'wea_air_temp_mean_ma30',\n",
    " 'relative_humidity_mean_ma30'\n",
    "]\n",
    "\n",
    "fuel_features = [\n",
    " 'fuel_percent',\n",
    " 'fuel_percent_ma7',\n",
    " 'fuel_percent_ma30',\n",
    " 'fuel_percent_l1',\n",
    "]\n",
    "\n",
    "new_tl_features = [\n",
    "    'tl_s2_cells_lvl16_cnt',\n",
    "    'tl_s2_cells_lvl16_cnt_coverage'\n",
    "]\n",
    "\n",
    "new_control_features = [\n",
    " 'fz_grp_high',\n",
    " 'fz_grp_low',\n",
    " 'fz_grp_med'\n",
    "]\n",
    "\n",
    "new_sat_feature = [\n",
    "  'sat_faparval_median',\n",
    "  'sat_faparval_undefined'\n",
    "]\n",
    "\n",
    "precip_cut50 = [\n",
    "    'wea_precip_accum_max_cut50',\n",
    "    'wea_precip_accum_max_ma7_cut50',\n",
    "    'wea_precip_accum_max_ma30_cut50',\n",
    "    'wea_precip_accum_max_l1_cut50'\n",
    "]\n",
    "\n",
    "precip_cut70 = [\n",
    "    'wea_precip_accum_max_cut70',\n",
    "    'wea_precip_accum_max_ma7_cut70',\n",
    "    'wea_precip_accum_max_ma30_cut70',\n",
    "    'wea_precip_accum_max_l1_cut70'\n",
    "]\n",
    "\n",
    "precip_cut90 = [\n",
    "    'wea_precip_accum_max_cut90',\n",
    "    'wea_precip_accum_max_ma7_cut90',\n",
    "    'wea_precip_accum_max_ma30_cut90',\n",
    "    'wea_precip_accum_max_l1_cut90'\n",
    "]"
   ]
  },
  {
   "cell_type": "code",
   "execution_count": 9,
   "metadata": {},
   "outputs": [
    {
     "data": {
      "text/plain": [
       "(3884695, 59)"
      ]
     },
     "execution_count": 9,
     "metadata": {},
     "output_type": "execute_result"
    }
   ],
   "source": [
    "test_df = pd.read_csv('./consolidated_4_2018_new.csv')\n",
    "test_df.shape"
   ]
  },
  {
   "cell_type": "code",
   "execution_count": 10,
   "metadata": {},
   "outputs": [],
   "source": [
    "y_test = test_df.wf_wildfire.copy().values    \n",
    "test_ids = test_df[['s2_cell_id', 'measure_date']]"
   ]
  },
  {
   "cell_type": "code",
   "execution_count": 11,
   "metadata": {},
   "outputs": [],
   "source": [
    "def build_test(test_df, scaler, features):\n",
    "    cuts = list(range(0, test_df.shape[0], test_df.shape[0]//10+1))\n",
    "    cuts[-1] = test_df.shape[0]+1\n",
    "    test_sc = np.empty([0,len(features)])\n",
    "    for i in range(len(cuts[:-1])):\n",
    "        print(\"Cut: {}\".format(cuts[i]))\n",
    "        temp = test_df[cuts[i]:cuts[i+1]][features]  \n",
    "        temp = scaler.transform(temp)\n",
    "        test_sc = np.append(test_sc, temp, axis=0)\n",
    "    return test_sc"
   ]
  },
  {
   "cell_type": "code",
   "execution_count": 12,
   "metadata": {},
   "outputs": [],
   "source": [
    "def score_test(data, model_path):\n",
    "    model = load_model(model_path)\n",
    "    \n",
    "    probs = model.predict(data)\n",
    "    preds = probs[:,0]>0.5\n",
    "    \n",
    "    print(bin_prob(probs[:,0], y_test))\n",
    "    plot_confusion_matrix(y_test, preds, ['nwf', 'wf'], normalize=True)\n",
    "    \n",
    "    return probs"
   ]
  },
  {
   "cell_type": "code",
   "execution_count": 14,
   "metadata": {},
   "outputs": [
    {
     "name": "stdout",
     "output_type": "stream",
     "text": [
      "Cut: 0\n",
      "Cut: 388470\n",
      "Cut: 776940\n",
      "Cut: 1165410\n",
      "Cut: 1553880\n",
      "Cut: 1942350\n",
      "Cut: 2330820\n",
      "Cut: 2719290\n",
      "Cut: 3107760\n",
      "WARNING:tensorflow:From /usr/local/lib/python3.5/dist-packages/tensorflow/python/keras/layers/core.py:143: calling dropout (from tensorflow.python.ops.nn_ops) with keep_prob is deprecated and will be removed in a future version.\n",
      "Instructions for updating:\n",
      "Please use `rate` instead of `keep_prob`. Rate should be set to `rate = 1 - keep_prob`.\n",
      "WARNING:tensorflow:From /usr/local/lib/python3.5/dist-packages/tensorflow/python/ops/control_flow_ops.py:423: colocate_with (from tensorflow.python.framework.ops) is deprecated and will be removed in a future version.\n",
      "Instructions for updating:\n",
      "Colocations handled automatically by placer.\n",
      "WARNING:tensorflow:From /usr/local/lib/python3.5/dist-packages/tensorflow/python/ops/math_ops.py:3066: to_int32 (from tensorflow.python.ops.math_ops) is deprecated and will be removed in a future version.\n",
      "Instructions for updating:\n",
      "Use tf.cast instead.\n",
      "Confusion matrix, without normalization\n",
      "[[1964584 1918869]\n",
      " [    392     850]]\n",
      "              precision    recall  f1-score   support\n",
      "\n",
      "         nwf       1.00      0.51      0.67   3883453\n",
      "          wf       0.00      0.68      0.00      1242\n",
      "\n",
      "   micro avg       0.51      0.51      0.51   3884695\n",
      "   macro avg       0.50      0.60      0.34   3884695\n",
      "weighted avg       1.00      0.51      0.67   3884695\n",
      "\n"
     ]
    },
    {
     "data": {
      "image/png": "[encoded data removed]",
      "text/plain": [
       "<Figure size 432x288 with 2 Axes>"
      ]
     },
     "metadata": {
      "needs_background": "light"
     },
     "output_type": "display_data"
    }
   ],
   "source": [
    "scaler = pickle.load(open('./Models/scaler_10pct_noprecip_cwEQ_ext_new', 'rb'))\n",
    "feature_cols = wea_features + tl_features + sat_features + fuel_features\n",
    "test_sc = build_test(test_df, scaler, feature_cols)"
   ]
  },
  {
   "cell_type": "code",
   "execution_count": 16,
   "metadata": {},
   "outputs": [
    {
     "name": "stdout",
     "output_type": "stream",
     "text": [
      "       Actual                     Prob\n",
      "         mean    sum   count      mean\n",
      "Bin                                   \n",
      "1    0.000017    4.0  234451  0.044896\n",
      "2    0.000099   22.0  223337  0.152011\n",
      "3    0.000186   57.0  306923  0.253459\n",
      "4    0.000206  102.0  495645  0.353937\n",
      "5    0.000294  207.0  704620  0.452022\n",
      "6    0.000352  287.0  816467  0.550168\n",
      "7    0.000521  389.0  747121  0.646975\n",
      "8    0.000498  167.0  335441  0.736564\n",
      "9    0.000347    7.0   20177  0.817247\n",
      "10   0.000000    0.0     269  0.985043\n",
      "11   0.000000    0.0     244  1.000000\n",
      "Confusion matrix, without normalization\n",
      "[[1964584 1918869]\n",
      " [    392     850]]\n",
      "              precision    recall  f1-score   support\n",
      "\n",
      "         nwf       1.00      0.51      0.67   3883453\n",
      "          wf       0.00      0.68      0.00      1242\n",
      "\n",
      "   micro avg       0.51      0.51      0.51   3884695\n",
      "   macro avg       0.50      0.60      0.34   3884695\n",
      "weighted avg       1.00      0.51      0.67   3884695\n",
      "\n"
     ]
    },
    {
     "data": {
      "image/png": "[encoded data removed]",
      "text/plain": [
       "<Figure size 432x288 with 2 Axes>"
      ]
     },
     "metadata": {
      "needs_background": "light"
     },
     "output_type": "display_data"
    }
   ],
   "source": [
    "gc.collect()\n",
    "mlp_adam_noprecip_cwEQ_ext_new_probs = score_test(test_sc, './Models/mlp_adam_noprecip_cwEQ_ext_new.h5')"
   ]
  },
  {
   "cell_type": "code",
   "execution_count": 25,
   "metadata": {},
   "outputs": [
    {
     "name": "stdout",
     "output_type": "stream",
     "text": [
      "Cut: 0\n",
      "Cut: 388470\n",
      "Cut: 776940\n",
      "Cut: 1165410\n",
      "Cut: 1553880\n",
      "Cut: 1942350\n",
      "Cut: 2330820\n",
      "Cut: 2719290\n",
      "Cut: 3107760\n",
      "       Actual                     Prob\n",
      "         mean    sum   count      mean\n",
      "Bin                                   \n",
      "1    0.000029    7.0  239244  0.049040\n",
      "2    0.000087   22.0  252374  0.152040\n",
      "3    0.000184   62.0  336089  0.252506\n",
      "4    0.000221  100.0  452224  0.352151\n",
      "5    0.000315  179.0  569065  0.451497\n",
      "6    0.000369  242.0  655685  0.550687\n",
      "7    0.000429  289.0  673125  0.648227\n",
      "8    0.000493  272.0  551651  0.746907\n",
      "9    0.000448   69.0  154039  0.828901\n",
      "10   0.000000    0.0    1009  0.924870\n",
      "11   0.000000    0.0     190  1.000000\n",
      "Confusion matrix, without normalization\n",
      "[[1848626 2034827]\n",
      " [    370     872]]\n",
      "              precision    recall  f1-score   support\n",
      "\n",
      "         nwf       1.00      0.48      0.64   3883453\n",
      "          wf       0.00      0.70      0.00      1242\n",
      "\n",
      "   micro avg       0.48      0.48      0.48   3884695\n",
      "   macro avg       0.50      0.59      0.32   3884695\n",
      "weighted avg       1.00      0.48      0.64   3884695\n",
      "\n"
     ]
    },
    {
     "data": {
      "image/png": "[encoded data removed]",
      "text/plain": [
       "<Figure size 432x288 with 2 Axes>"
      ]
     },
     "metadata": {
      "needs_background": "light"
     },
     "output_type": "display_data"
    }
   ],
   "source": [
    "gc.collect()\n",
    "scaler = pickle.load(open('./Models/scaler_10pct_noprecip_cwEQ_ext_fz', 'rb'))\n",
    "feature_cols = wea_features + tl_features + sat_features + fuel_features + new_control_features\n",
    "test_sc = build_test(test_df, scaler, feature_cols)\n",
    "mlp_adam_noprecip_cwEQ_ext_fz_probs = score_test(test_sc, './Models/mlp_adam_noprecip_cwEQ_ext_fz.h5')"
   ]
  },
  {
   "cell_type": "code",
   "execution_count": 26,
   "metadata": {},
   "outputs": [
    {
     "name": "stdout",
     "output_type": "stream",
     "text": [
      "Cut: 0\n",
      "Cut: 388470\n",
      "Cut: 776940\n",
      "Cut: 1165410\n",
      "Cut: 1553880\n",
      "Cut: 1942350\n",
      "Cut: 2330820\n",
      "Cut: 2719290\n",
      "Cut: 3107760\n",
      "       Actual                     Prob\n",
      "         mean    sum   count      mean\n",
      "Bin                                   \n",
      "1    0.000016    5.0  306129  0.050880\n",
      "2    0.000088   26.0  294768  0.151386\n",
      "3    0.000124   49.0  395921  0.252861\n",
      "4    0.000157   82.0  523453  0.351703\n",
      "5    0.000258  160.0  620057  0.450410\n",
      "6    0.000382  234.0  612927  0.549893\n",
      "7    0.000569  326.0  573405  0.649428\n",
      "8    0.000649  303.0  466834  0.743709\n",
      "9    0.000650   57.0   87697  0.828279\n",
      "10   0.000000    0.0    3426  0.950736\n",
      "11   0.000000    0.0      78  1.000000\n",
      "Confusion matrix, without normalization\n",
      "[[2140007 1743446]\n",
      " [    322     920]]\n",
      "              precision    recall  f1-score   support\n",
      "\n",
      "         nwf       1.00      0.55      0.71   3883453\n",
      "          wf       0.00      0.74      0.00      1242\n",
      "\n",
      "   micro avg       0.55      0.55      0.55   3884695\n",
      "   macro avg       0.50      0.65      0.36   3884695\n",
      "weighted avg       1.00      0.55      0.71   3884695\n",
      "\n"
     ]
    },
    {
     "data": {
      "image/png": "[encoded data removed]",
      "text/plain": [
       "<Figure size 432x288 with 2 Axes>"
      ]
     },
     "metadata": {
      "needs_background": "light"
     },
     "output_type": "display_data"
    }
   ],
   "source": [
    "gc.collect()\n",
    "scaler = pickle.load(open('./Models/scaler_10pct_precip50_cwEQ_ext_new', 'rb'))\n",
    "feature_cols = wea_features + tl_features + sat_features + fuel_features + precip_cut50\n",
    "test_sc = build_test(test_df, scaler, feature_cols)\n",
    "mlp_adam_precip50_cwEQ_ext_new_probs = score_test(test_sc, './Models/mlp_adam_precip50_cwEQ_ext_new.h5')"
   ]
  },
  {
   "cell_type": "code",
   "execution_count": 27,
   "metadata": {},
   "outputs": [
    {
     "name": "stdout",
     "output_type": "stream",
     "text": [
      "Cut: 0\n",
      "Cut: 388470\n",
      "Cut: 776940\n",
      "Cut: 1165410\n",
      "Cut: 1553880\n",
      "Cut: 1942350\n",
      "Cut: 2330820\n",
      "Cut: 2719290\n",
      "Cut: 3107760\n",
      "       Actual                     Prob\n",
      "         mean    sum   count      mean\n",
      "Bin                                   \n",
      "1    0.000016    4.0  253272  0.050352\n",
      "2    0.000067   18.0  269598  0.152664\n",
      "3    0.000101   45.0  445851  0.254941\n",
      "4    0.000154   90.0  583178  0.349180\n",
      "5    0.000259  138.0  531984  0.450266\n",
      "6    0.000451  275.0  609165  0.551063\n",
      "7    0.000567  375.0  661790  0.651511\n",
      "8    0.000560  259.0  462368  0.739459\n",
      "9    0.000575   38.0   66122  0.826602\n",
      "10   0.000000    0.0    1166  0.949211\n",
      "11   0.000000    0.0     201  1.000000\n",
      "Confusion matrix, without normalization\n",
      "[[2083588 1799865]\n",
      " [    295     947]]\n",
      "              precision    recall  f1-score   support\n",
      "\n",
      "         nwf       1.00      0.54      0.70   3883453\n",
      "          wf       0.00      0.76      0.00      1242\n",
      "\n",
      "   micro avg       0.54      0.54      0.54   3884695\n",
      "   macro avg       0.50      0.65      0.35   3884695\n",
      "weighted avg       1.00      0.54      0.70   3884695\n",
      "\n"
     ]
    },
    {
     "data": {
      "image/png": "[encoded data removed]",
      "text/plain": [
       "<Figure size 432x288 with 2 Axes>"
      ]
     },
     "metadata": {
      "needs_background": "light"
     },
     "output_type": "display_data"
    }
   ],
   "source": [
    "gc.collect()\n",
    "scaler = pickle.load(open('./Models/scaler_10pct_precip70_cwEQ_ext_new', 'rb'))\n",
    "feature_cols = wea_features + tl_features + sat_features + fuel_features + precip_cut70\n",
    "test_sc = build_test(test_df, scaler, feature_cols)\n",
    "mlp_adam_precip70_cwEQ_ext_new_probs = score_test(test_sc, './Models/mlp_adam_precip70_cwEQ_ext_new.h5')"
   ]
  },
  {
   "cell_type": "code",
   "execution_count": 28,
   "metadata": {},
   "outputs": [
    {
     "name": "stdout",
     "output_type": "stream",
     "text": [
      "Cut: 0\n",
      "Cut: 388470\n",
      "Cut: 776940\n",
      "Cut: 1165410\n",
      "Cut: 1553880\n",
      "Cut: 1942350\n",
      "Cut: 2330820\n",
      "Cut: 2719290\n",
      "Cut: 3107760\n",
      "       Actual                     Prob\n",
      "         mean    sum   count      mean\n",
      "Bin                                   \n",
      "1    0.000030    7.0  236148  0.046302\n",
      "2    0.000088   22.0  250119  0.151508\n",
      "3    0.000161   54.0  336326  0.253481\n",
      "4    0.000212  108.0  508515  0.353013\n",
      "5    0.000289  190.0  658305  0.451601\n",
      "6    0.000354  263.0  743908  0.550094\n",
      "7    0.000502  363.0  723068  0.648654\n",
      "8    0.000535  209.0  390824  0.739437\n",
      "9    0.000704   26.0   36921  0.822470\n",
      "10   0.000000    0.0     324  0.969054\n",
      "11   0.000000    0.0     237  1.000000\n",
      "Confusion matrix, without normalization\n",
      "[[1989033 1894420]\n",
      " [    381     861]]\n",
      "              precision    recall  f1-score   support\n",
      "\n",
      "         nwf       1.00      0.51      0.68   3883453\n",
      "          wf       0.00      0.69      0.00      1242\n",
      "\n",
      "   micro avg       0.51      0.51      0.51   3884695\n",
      "   macro avg       0.50      0.60      0.34   3884695\n",
      "weighted avg       1.00      0.51      0.68   3884695\n",
      "\n"
     ]
    },
    {
     "data": {
      "image/png": "[encoded data removed]",
      "text/plain": [
       "<Figure size 432x288 with 2 Axes>"
      ]
     },
     "metadata": {
      "needs_background": "light"
     },
     "output_type": "display_data"
    }
   ],
   "source": [
    "gc.collect()\n",
    "scaler = pickle.load(open('./Models/scaler_10pct_precip90_cwEQ_ext_new', 'rb'))\n",
    "feature_cols = wea_features + tl_features + sat_features + fuel_features + precip_cut90\n",
    "test_sc = build_test(test_df, scaler, feature_cols)\n",
    "mlp_adam_precip90_cwEQ_ext_new_probs = score_test(test_sc, './Models/mlp_adam_precip90_cwEQ_ext_new.h5')"
   ]
  },
  {
   "cell_type": "code",
   "execution_count": 13,
   "metadata": {},
   "outputs": [
    {
     "name": "stdout",
     "output_type": "stream",
     "text": [
      "Cut: 0\n",
      "Cut: 388470\n",
      "Cut: 776940\n",
      "Cut: 1165410\n",
      "Cut: 1553880\n",
      "Cut: 1942350\n",
      "Cut: 2330820\n",
      "Cut: 2719290\n",
      "Cut: 3107760\n",
      "WARNING:tensorflow:From /usr/local/lib/python3.5/dist-packages/tensorflow/python/keras/layers/core.py:143: calling dropout (from tensorflow.python.ops.nn_ops) with keep_prob is deprecated and will be removed in a future version.\n",
      "Instructions for updating:\n",
      "Please use `rate` instead of `keep_prob`. Rate should be set to `rate = 1 - keep_prob`.\n",
      "WARNING:tensorflow:From /usr/local/lib/python3.5/dist-packages/tensorflow/python/ops/control_flow_ops.py:423: colocate_with (from tensorflow.python.framework.ops) is deprecated and will be removed in a future version.\n",
      "Instructions for updating:\n",
      "Colocations handled automatically by placer.\n",
      "WARNING:tensorflow:From /usr/local/lib/python3.5/dist-packages/tensorflow/python/ops/math_ops.py:3066: to_int32 (from tensorflow.python.ops.math_ops) is deprecated and will be removed in a future version.\n",
      "Instructions for updating:\n",
      "Use tf.cast instead.\n",
      "       Actual                     Prob\n",
      "         mean    sum   count      mean\n",
      "Bin                                   \n",
      "1    0.000033   13.0  390009  0.046428\n",
      "2    0.000119   44.0  370692  0.151858\n",
      "3    0.000156   74.0  473172  0.251813\n",
      "4    0.000215  119.0  552209  0.351064\n",
      "5    0.000290  170.0  586480  0.449797\n",
      "6    0.000360  191.0  530975  0.548639\n",
      "7    0.000618  323.0  522750  0.651298\n",
      "8    0.000676  283.0  418687  0.739956\n",
      "9    0.000664   25.0   37661  0.823159\n",
      "10   0.000000    0.0    1949  0.958077\n",
      "11   0.000000    0.0     111  1.000000\n",
      "Confusion matrix, without normalization\n",
      "[[2372142 1511311]\n",
      " [    420     822]]\n",
      "              precision    recall  f1-score   support\n",
      "\n",
      "         nwf       1.00      0.61      0.76   3883453\n",
      "          wf       0.00      0.66      0.00      1242\n",
      "\n",
      "   micro avg       0.61      0.61      0.61   3884695\n",
      "   macro avg       0.50      0.64      0.38   3884695\n",
      "weighted avg       1.00      0.61      0.76   3884695\n",
      "\n"
     ]
    },
    {
     "data": {
      "image/png": "[encoded data removed]",
      "text/plain": [
       "<Figure size 432x288 with 2 Axes>"
      ]
     },
     "metadata": {
      "needs_background": "light"
     },
     "output_type": "display_data"
    }
   ],
   "source": [
    "gc.collect()\n",
    "scaler = pickle.load(open('./Models/scaler_10pct_precip50_cwEQ_ext_other', 'rb'))\n",
    "feature_cols = wea_features + tl_features + sat_features + fuel_features + precip_cut50 + new_tl_features + new_control_features + ['sat_faparval_median']\n",
    "test_sc = build_test(test_df, scaler, feature_cols)\n",
    "mlp_adam_precip50_cwEQ_ext_other_probs = score_test(test_sc, './Models/mlp_adam_precip50_cwEQ_ext_other.h5')"
   ]
  },
  {
   "cell_type": "code",
   "execution_count": 34,
   "metadata": {},
   "outputs": [
    {
     "name": "stdout",
     "output_type": "stream",
     "text": [
      "Cut: 0\n",
      "Cut: 388470\n",
      "Cut: 776940\n",
      "Cut: 1165410\n",
      "Cut: 1553880\n",
      "Cut: 1942350\n",
      "Cut: 2330820\n",
      "Cut: 2719290\n",
      "Cut: 3107760\n",
      "       Actual                     Prob\n",
      "         mean    sum   count      mean\n",
      "Bin                                   \n",
      "1    0.000022    6.0  269009  0.049695\n",
      "2    0.000072   17.0  234530  0.150599\n",
      "3    0.000140   46.0  328167  0.254117\n",
      "4    0.000152   77.0  505557  0.352609\n",
      "5    0.000262  163.0  623270  0.450898\n",
      "6    0.000320  192.0  600488  0.549539\n",
      "7    0.000528  296.0  560168  0.649277\n",
      "8    0.000602  325.0  540078  0.747387\n",
      "9    0.000522  111.0  212629  0.835928\n",
      "10   0.000841    9.0   10707  0.923033\n",
      "11   0.000000    0.0      92  1.000000\n",
      "Confusion matrix, without normalization\n",
      "[[1960224 1923229]\n",
      " [    309     933]]\n",
      "              precision    recall  f1-score   support\n",
      "\n",
      "         nwf       1.00      0.50      0.67   3883453\n",
      "          wf       0.00      0.75      0.00      1242\n",
      "\n",
      "   micro avg       0.50      0.50      0.50   3884695\n",
      "   macro avg       0.50      0.63      0.34   3884695\n",
      "weighted avg       1.00      0.50      0.67   3884695\n",
      "\n"
     ]
    },
    {
     "data": {
      "image/png": "[encoded data removed]",
      "text/plain": [
       "<Figure size 432x288 with 2 Axes>"
      ]
     },
     "metadata": {
      "needs_background": "light"
     },
     "output_type": "display_data"
    }
   ],
   "source": [
    "gc.collect()\n",
    "scaler = pickle.load(open('./Models/scaler_10pct_precip50_cwEQ_ext_fz_sat', 'rb'))\n",
    "feature_cols = wea_features + tl_features + sat_features + fuel_features + precip_cut50 + new_control_features + ['sat_faparval_undefined']\n",
    "test_sc = build_test(test_df, scaler, feature_cols)\n",
    "mlp_adam_precip50_cwEQ_ext_fz_sat_probs = score_test(test_sc, './Models/mlp_adam_precip50_cwEQ_ext_fz_sat.h5')"
   ]
  },
  {
   "cell_type": "code",
   "execution_count": 35,
   "metadata": {},
   "outputs": [],
   "source": [
    "with open('./Models/mlp_adam_noprecip_cwEQ_ext_new_probs.csv', 'w') as filename:\n",
    "    filename.write('S2_Cells_ID'+','+'DATE_DT_DT'+','+'Probability'+'\\n')\n",
    "    for i in range(test_ids.shape[0]):\n",
    "        filename.write(test_ids.loc[i,'s2_cell_id']+','+test_ids.loc[i,'measure_date']+','+str(mlp_adam_noprecip_cwEQ_ext_new_probs[i,0])+'\\n')"
   ]
  },
  {
   "cell_type": "code",
   "execution_count": 36,
   "metadata": {},
   "outputs": [],
   "source": [
    "with open('./Models/mlp_adam_precip50_cwEQ_ext_new_probs.csv', 'w') as filename:\n",
    "    filename.write('S2_Cells_ID'+','+'DATE_DT_DT'+','+'Probability'+'\\n')\n",
    "    for i in range(test_ids.shape[0]):\n",
    "        filename.write(test_ids.loc[i,'s2_cell_id']+','+test_ids.loc[i,'measure_date']+','+str(mlp_adam_precip50_cwEQ_ext_new_probs[i,0])+'\\n')"
   ]
  },
  {
   "cell_type": "code",
   "execution_count": 37,
   "metadata": {},
   "outputs": [],
   "source": [
    "with open('./Models/mlp_adam_precip70_cwEQ_ext_new_probs.csv', 'w') as filename:\n",
    "    filename.write('S2_Cells_ID'+','+'DATE_DT_DT'+','+'Probability'+'\\n')\n",
    "    for i in range(test_ids.shape[0]):\n",
    "        filename.write(test_ids.loc[i,'s2_cell_id']+','+test_ids.loc[i,'measure_date']+','+str(mlp_adam_precip70_cwEQ_ext_new_probs[i,0])+'\\n')"
   ]
  },
  {
   "cell_type": "code",
   "execution_count": 14,
   "metadata": {},
   "outputs": [],
   "source": [
    "with open('./Models/mlp_adam_precip50_cwEQ_ext_other_probs.csv', 'w') as filename:\n",
    "    filename.write('S2_Cells_ID'+','+'DATE_DT_DT'+','+'Probability'+'\\n')\n",
    "    for i in range(test_ids.shape[0]):\n",
    "        filename.write(test_ids.loc[i,'s2_cell_id']+','+test_ids.loc[i,'measure_date']+','+str(mlp_adam_precip50_cwEQ_ext_other_probs[i,0])+'\\n')"
   ]
  },
  {
   "cell_type": "code",
   "execution_count": null,
   "metadata": {},
   "outputs": [],
   "source": []
  }
 ],
 "metadata": {
  "kernelspec": {
   "display_name": "Python 3",
   "language": "python",
   "name": "python3"
  },
  "language_info": {
   "codemirror_mode": {
    "name": "ipython",
    "version": 3
   },
   "file_extension": ".py",
   "mimetype": "text/x-python",
   "name": "python",
   "nbconvert_exporter": "python",
   "pygments_lexer": "ipython3",
   "version": "3.5.2"
  }
 },
 "nbformat": 4,
 "nbformat_minor": 2
}
