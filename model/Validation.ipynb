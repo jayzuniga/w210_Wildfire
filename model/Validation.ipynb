{
 "cells": [
  {
   "cell_type": "code",
   "execution_count": 1,
   "metadata": {},
   "outputs": [
    {
     "data": {
      "text/html": [
       "<style>.container { width:100% !important; }</style>"
      ],
      "text/plain": [
       "<IPython.core.display.HTML object>"
      ]
     },
     "metadata": {},
     "output_type": "display_data"
    }
   ],
   "source": [
    "# increase cell width\n",
    "from IPython.core.display import display, HTML\n",
    "display(HTML(\"<style>.container { width:100% !important; }</style>\"))"
   ]
  },
  {
   "cell_type": "code",
   "execution_count": 2,
   "metadata": {},
   "outputs": [],
   "source": [
    "import pandas as pd\n",
    "import numpy as np\n",
    "import gc\n",
    "import os\n",
    "import time\n",
    "import pickle"
   ]
  },
  {
   "cell_type": "code",
   "execution_count": 3,
   "metadata": {},
   "outputs": [],
   "source": [
    "import matplotlib.pyplot as plt\n",
    "%matplotlib inline"
   ]
  },
  {
   "cell_type": "code",
   "execution_count": 4,
   "metadata": {},
   "outputs": [],
   "source": [
    "from sklearn.preprocessing import MinMaxScaler\n",
    "from sklearn.metrics import confusion_matrix\n",
    "from sklearn.metrics import classification_report"
   ]
  },
  {
   "cell_type": "code",
   "execution_count": 5,
   "metadata": {},
   "outputs": [],
   "source": [
    "from tensorflow.python.keras.models import load_model"
   ]
  },
  {
   "cell_type": "code",
   "execution_count": 6,
   "metadata": {},
   "outputs": [
    {
     "data": {
      "text/plain": [
       "(93, 16)"
      ]
     },
     "execution_count": 6,
     "metadata": {},
     "output_type": "execute_result"
    }
   ],
   "source": [
    "cal_fire_s2_stacked_df = pd.read_csv('../Data/Processed/WildFire_S2Cells_stacked.csv')\n",
    "cal_fire_s2_stacked_df[cal_fire_s2_stacked_df.FIRE_CUSTOM_ID=='CAMP_2018_11_08_0'].shape"
   ]
  },
  {
   "cell_type": "code",
   "execution_count": 7,
   "metadata": {},
   "outputs": [
    {
     "data": {
      "text/html": [
       "<div>\n",
       "<style scoped>\n",
       "    .dataframe tbody tr th:only-of-type {\n",
       "        vertical-align: middle;\n",
       "    }\n",
       "\n",
       "    .dataframe tbody tr th {\n",
       "        vertical-align: top;\n",
       "    }\n",
       "\n",
       "    .dataframe thead th {\n",
       "        text-align: right;\n",
       "    }\n",
       "</style>\n",
       "<table border=\"1\" class=\"dataframe\">\n",
       "  <thead>\n",
       "    <tr style=\"text-align: right;\">\n",
       "      <th></th>\n",
       "      <th>FIRE_CUSTOM_ID</th>\n",
       "      <th>S2_Cells_ID</th>\n",
       "      <th>FZ_grp</th>\n",
       "      <th>AGENCY</th>\n",
       "      <th>UNIT_ID</th>\n",
       "      <th>CAUSE</th>\n",
       "      <th>GIS_ACRES</th>\n",
       "      <th>C_METHOD</th>\n",
       "      <th>OBJECTIVE</th>\n",
       "      <th>Shape_Length</th>\n",
       "      <th>Shape_Area</th>\n",
       "      <th>YEAR</th>\n",
       "      <th>ALARM_DATE_DT_DT</th>\n",
       "      <th>CONT_DATE_DT_DT</th>\n",
       "      <th>FIRE_DUR</th>\n",
       "      <th>ALARM_DATE_MONTH</th>\n",
       "    </tr>\n",
       "  </thead>\n",
       "  <tbody>\n",
       "    <tr>\n",
       "      <th>1196</th>\n",
       "      <td>CAMP_2018_11_08_0</td>\n",
       "      <td>808334</td>\n",
       "      <td>low</td>\n",
       "      <td>CDF</td>\n",
       "      <td>BTU</td>\n",
       "      <td>11.0</td>\n",
       "      <td>153335.5625</td>\n",
       "      <td>1.0</td>\n",
       "      <td>1.0</td>\n",
       "      <td>311935.278756</td>\n",
       "      <td>6.205270e+08</td>\n",
       "      <td>2018</td>\n",
       "      <td>2018-11-08</td>\n",
       "      <td>2018-11-26</td>\n",
       "      <td>19.0</td>\n",
       "      <td>11</td>\n",
       "    </tr>\n",
       "    <tr>\n",
       "      <th>1197</th>\n",
       "      <td>CAMP_2018_11_08_0</td>\n",
       "      <td>809ccc</td>\n",
       "      <td>low</td>\n",
       "      <td>CDF</td>\n",
       "      <td>BTU</td>\n",
       "      <td>11.0</td>\n",
       "      <td>153335.5625</td>\n",
       "      <td>1.0</td>\n",
       "      <td>1.0</td>\n",
       "      <td>311935.278756</td>\n",
       "      <td>6.205270e+08</td>\n",
       "      <td>2018</td>\n",
       "      <td>2018-11-08</td>\n",
       "      <td>2018-11-26</td>\n",
       "      <td>19.0</td>\n",
       "      <td>11</td>\n",
       "    </tr>\n",
       "    <tr>\n",
       "      <th>1198</th>\n",
       "      <td>CAMP_2018_11_08_0</td>\n",
       "      <td>8082d4</td>\n",
       "      <td>low</td>\n",
       "      <td>CDF</td>\n",
       "      <td>BTU</td>\n",
       "      <td>11.0</td>\n",
       "      <td>153335.5625</td>\n",
       "      <td>1.0</td>\n",
       "      <td>1.0</td>\n",
       "      <td>311935.278756</td>\n",
       "      <td>6.205270e+08</td>\n",
       "      <td>2018</td>\n",
       "      <td>2018-11-08</td>\n",
       "      <td>2018-11-26</td>\n",
       "      <td>19.0</td>\n",
       "      <td>11</td>\n",
       "    </tr>\n",
       "    <tr>\n",
       "      <th>1199</th>\n",
       "      <td>CAMP_2018_11_08_0</td>\n",
       "      <td>80832c</td>\n",
       "      <td>low</td>\n",
       "      <td>CDF</td>\n",
       "      <td>BTU</td>\n",
       "      <td>11.0</td>\n",
       "      <td>153335.5625</td>\n",
       "      <td>1.0</td>\n",
       "      <td>1.0</td>\n",
       "      <td>311935.278756</td>\n",
       "      <td>6.205270e+08</td>\n",
       "      <td>2018</td>\n",
       "      <td>2018-11-08</td>\n",
       "      <td>2018-11-26</td>\n",
       "      <td>19.0</td>\n",
       "      <td>11</td>\n",
       "    </tr>\n",
       "    <tr>\n",
       "      <th>1200</th>\n",
       "      <td>CAMP_2018_11_08_0</td>\n",
       "      <td>809cc4</td>\n",
       "      <td>low</td>\n",
       "      <td>CDF</td>\n",
       "      <td>BTU</td>\n",
       "      <td>11.0</td>\n",
       "      <td>153335.5625</td>\n",
       "      <td>1.0</td>\n",
       "      <td>1.0</td>\n",
       "      <td>311935.278756</td>\n",
       "      <td>6.205270e+08</td>\n",
       "      <td>2018</td>\n",
       "      <td>2018-11-08</td>\n",
       "      <td>2018-11-26</td>\n",
       "      <td>19.0</td>\n",
       "      <td>11</td>\n",
       "    </tr>\n",
       "  </tbody>\n",
       "</table>\n",
       "</div>"
      ],
      "text/plain": [
       "         FIRE_CUSTOM_ID S2_Cells_ID FZ_grp AGENCY UNIT_ID  CAUSE    GIS_ACRES  \\\n",
       "1196  CAMP_2018_11_08_0      808334    low    CDF     BTU   11.0  153335.5625   \n",
       "1197  CAMP_2018_11_08_0      809ccc    low    CDF     BTU   11.0  153335.5625   \n",
       "1198  CAMP_2018_11_08_0      8082d4    low    CDF     BTU   11.0  153335.5625   \n",
       "1199  CAMP_2018_11_08_0      80832c    low    CDF     BTU   11.0  153335.5625   \n",
       "1200  CAMP_2018_11_08_0      809cc4    low    CDF     BTU   11.0  153335.5625   \n",
       "\n",
       "      C_METHOD  OBJECTIVE   Shape_Length    Shape_Area  YEAR ALARM_DATE_DT_DT  \\\n",
       "1196       1.0        1.0  311935.278756  6.205270e+08  2018       2018-11-08   \n",
       "1197       1.0        1.0  311935.278756  6.205270e+08  2018       2018-11-08   \n",
       "1198       1.0        1.0  311935.278756  6.205270e+08  2018       2018-11-08   \n",
       "1199       1.0        1.0  311935.278756  6.205270e+08  2018       2018-11-08   \n",
       "1200       1.0        1.0  311935.278756  6.205270e+08  2018       2018-11-08   \n",
       "\n",
       "     CONT_DATE_DT_DT  FIRE_DUR  ALARM_DATE_MONTH  \n",
       "1196      2018-11-26      19.0                11  \n",
       "1197      2018-11-26      19.0                11  \n",
       "1198      2018-11-26      19.0                11  \n",
       "1199      2018-11-26      19.0                11  \n",
       "1200      2018-11-26      19.0                11  "
      ]
     },
     "execution_count": 7,
     "metadata": {},
     "output_type": "execute_result"
    }
   ],
   "source": [
    "cal_fire_s2_stacked_df[cal_fire_s2_stacked_df.FIRE_CUSTOM_ID=='CAMP_2018_11_08_0'].head()"
   ]
  },
  {
   "cell_type": "code",
   "execution_count": 8,
   "metadata": {},
   "outputs": [
    {
     "data": {
      "text/html": [
       "<div>\n",
       "<style scoped>\n",
       "    .dataframe tbody tr th:only-of-type {\n",
       "        vertical-align: middle;\n",
       "    }\n",
       "\n",
       "    .dataframe tbody tr th {\n",
       "        vertical-align: top;\n",
       "    }\n",
       "\n",
       "    .dataframe thead th {\n",
       "        text-align: right;\n",
       "    }\n",
       "</style>\n",
       "<table border=\"1\" class=\"dataframe\">\n",
       "  <thead>\n",
       "    <tr style=\"text-align: right;\">\n",
       "      <th></th>\n",
       "      <th>s2_cell_id</th>\n",
       "      <th>measure_date</th>\n",
       "      <th>FZ_grp</th>\n",
       "    </tr>\n",
       "  </thead>\n",
       "  <tbody>\n",
       "    <tr>\n",
       "      <th>1196</th>\n",
       "      <td>808334</td>\n",
       "      <td>2018-11-08</td>\n",
       "      <td>low</td>\n",
       "    </tr>\n",
       "    <tr>\n",
       "      <th>1197</th>\n",
       "      <td>809ccc</td>\n",
       "      <td>2018-11-08</td>\n",
       "      <td>low</td>\n",
       "    </tr>\n",
       "    <tr>\n",
       "      <th>1198</th>\n",
       "      <td>8082d4</td>\n",
       "      <td>2018-11-08</td>\n",
       "      <td>low</td>\n",
       "    </tr>\n",
       "    <tr>\n",
       "      <th>1199</th>\n",
       "      <td>80832c</td>\n",
       "      <td>2018-11-08</td>\n",
       "      <td>low</td>\n",
       "    </tr>\n",
       "    <tr>\n",
       "      <th>1200</th>\n",
       "      <td>809cc4</td>\n",
       "      <td>2018-11-08</td>\n",
       "      <td>low</td>\n",
       "    </tr>\n",
       "  </tbody>\n",
       "</table>\n",
       "</div>"
      ],
      "text/plain": [
       "     s2_cell_id measure_date FZ_grp\n",
       "1196     808334   2018-11-08    low\n",
       "1197     809ccc   2018-11-08    low\n",
       "1198     8082d4   2018-11-08    low\n",
       "1199     80832c   2018-11-08    low\n",
       "1200     809cc4   2018-11-08    low"
      ]
     },
     "execution_count": 8,
     "metadata": {},
     "output_type": "execute_result"
    }
   ],
   "source": [
    "camp_ids = cal_fire_s2_stacked_df[cal_fire_s2_stacked_df.FIRE_CUSTOM_ID=='CAMP_2018_11_08_0'][['S2_Cells_ID', 'ALARM_DATE_DT_DT', 'FZ_grp']]\n",
    "camp_ids.columns = ['s2_cell_id', 'measure_date', 'FZ_grp']\n",
    "camp_ids.head()"
   ]
  },
  {
   "cell_type": "code",
   "execution_count": 9,
   "metadata": {},
   "outputs": [
    {
     "data": {
      "text/plain": [
       "high    65\n",
       "med     20\n",
       "low      8\n",
       "Name: FZ_grp, dtype: int64"
      ]
     },
     "execution_count": 9,
     "metadata": {},
     "output_type": "execute_result"
    }
   ],
   "source": [
    "camp_ids.FZ_grp.value_counts()"
   ]
  },
  {
   "cell_type": "code",
   "execution_count": 10,
   "metadata": {},
   "outputs": [],
   "source": [
    "def split_train_test(data, features):\n",
    "    indexer = data[['s2_cell_id','measure_date']].copy()\n",
    "    train = data[data.measure_date < '2018-01-01'].copy()\n",
    "    test = data[data.measure_date >= '2018-01-01'].copy()\n",
    "    \n",
    "    y_train = train.wf_wildfire.copy().values\n",
    "    y_test = test.wf_wildfire.copy().values    \n",
    "    \n",
    "    train = train[features]\n",
    "    test = test[features]    \n",
    "    \n",
    "    test_ids = data[data.measure_date >= '2018-01-01'][['s2_cell_id', 'measure_date']]\n",
    "    \n",
    "    return train, test, y_train, y_test, test_ids\n",
    "\n",
    "def plot_confusion_matrix(y_true, y_pred, classes,\n",
    "                          normalize=False,\n",
    "                          cmap=plt.cm.Blues):\n",
    "    \"\"\"\n",
    "    Source: https://scikit-learn.org/stable/auto_examples/model_selection/plot_confusion_matrix.html#sphx-glr-auto-examples-model-selection-plot-confusion-matrix-py\n",
    "\n",
    "    Prints and plots the confusion matrix.\n",
    "\n",
    "    Args:\n",
    "        y_true: list of true target labels\n",
    "        y_pred: list of predicted target labels\n",
    "        classes: tuple of class labels in 0, 1 order\n",
    "\n",
    "    Kwargs:\n",
    "        normalize: bool, normalize confusion matrix or not\n",
    "        cmap: color map\n",
    "    \"\"\"\n",
    "\n",
    "    if normalize:\n",
    "        title = 'Normalized confusion matrix'\n",
    "    else:\n",
    "        title = 'Confusion matrix, without normalization'\n",
    "\n",
    "    # Compute confusion matrix\n",
    "    cm = confusion_matrix(y_true, y_pred)\n",
    "    print('Confusion matrix, without normalization')\n",
    "    print(cm)\n",
    "\n",
    "    print(classification_report(y_true, y_pred, target_names=classes))\n",
    "\n",
    "    if normalize:\n",
    "        cm = cm.astype('float') / cm.sum(axis=1)[:, np.newaxis]\n",
    "\n",
    "    fig, ax = plt.subplots()\n",
    "    im = ax.imshow(cm, interpolation='nearest', cmap=cmap)\n",
    "    ax.figure.colorbar(im, ax=ax)\n",
    "    # show all ticks...\n",
    "    ax.set(xticks=np.arange(cm.shape[1]),\n",
    "           yticks=np.arange(cm.shape[0]),\n",
    "           xticklabels=classes,\n",
    "           yticklabels=classes,\n",
    "           title=title,\n",
    "           ylabel='True label',\n",
    "           xlabel='Predicted label')\n",
    "\n",
    "    # rotate the tick labels and set their alignment.\n",
    "    plt.setp(ax.get_xticklabels(),\n",
    "             rotation=45,\n",
    "             ha=\"right\",\n",
    "             rotation_mode=\"anchor\")\n",
    "\n",
    "    # loop over data dimensions and create text annotations.\n",
    "    fmt = '.2f' if normalize else 'd'\n",
    "    thresh = cm.max() / 2.\n",
    "    for i in range(cm.shape[0]):\n",
    "        for j in range(cm.shape[1]):\n",
    "            ax.text(j, i, format(cm[i, j], fmt),\n",
    "                    ha=\"center\", va=\"center\",\n",
    "                    color=\"white\" if cm[i, j] > thresh else \"black\")\n",
    "    fig.tight_layout()\n",
    "    plt.show()\n",
    "    \n",
    "def bin_prob(probs, y_test):\n",
    "    y_binned = np.digitize(probs, np.arange(0,1.1,0.1))\n",
    "    bin_df = pd.DataFrame(list(zip(y_test, probs, y_binned)), columns =['Actual', 'Prob', 'Bin'])\n",
    "    bin_df = bin_df.groupby('Bin').agg({'Actual': ['mean', 'sum', 'count'], 'Prob': 'mean'})\n",
    "    return bin_df"
   ]
  },
  {
   "cell_type": "code",
   "execution_count": 11,
   "metadata": {},
   "outputs": [],
   "source": [
    "scaler = MinMaxScaler()"
   ]
  },
  {
   "cell_type": "code",
   "execution_count": 14,
   "metadata": {},
   "outputs": [],
   "source": [
    "tl_features = [\n",
    "    'tl_object_id',\n",
    "    'tl_kv_sort_sum'\n",
    "]\n",
    "\n",
    "wf_features = [\n",
    "    'wf_count_1yr_ago',\n",
    "    'wf_count_2yr_ago',\n",
    "    'wf_count_3yr_ago',\n",
    "    'wf_count_4yr_ago',\n",
    "    'wf_count_5yr_ago'\n",
    "]\n",
    "\n",
    "sat_features = [\n",
    " 'sat_faparval_min',\n",
    " 'sat_faparval_max',\n",
    " 'sat_faparval_mean',\n",
    "#  'sat_faparval_median',\n",
    " 'sat_faparval_std',\n",
    " 'sat_faparval_size',\n",
    " 'sat_faparval_count',\n",
    " 'sat_faparval',\n",
    " 'sat_faparmask_min',\n",
    " 'sat_faparmask_max',\n",
    " 'sat_faparmask_mean',\n",
    "#  'sat_faparmask_median',\n",
    " 'sat_faparmask_std',\n",
    " 'sat_faparmask_size'\n",
    "]\n",
    "\n",
    "wea_features = [\n",
    " 'wea_air_temp_max',\n",
    " 'wea_air_temp_mean',\n",
    " 'wea_precip_accum_max',\n",
    " 'relative_humidity_max',\n",
    " 'relative_humidity_min',\n",
    " 'relative_humidity_mean',\n",
    " 'wea_wind_speed_max',\n",
    " 'wea_wind_speed_min',\n",
    " 'wea_wind_speed_mean',\n",
    " 'wind_gust_max',\n",
    " 'wea_air_temp_mean_ma7',\n",
    " 'wea_precip_accum_max_ma7',\n",
    " 'relative_humidity_mean_ma7',\n",
    " 'wea_air_temp_mean_l1',\n",
    " 'wea_precip_accum_max_l1',\n",
    " 'relative_humidity_mean_l1'\n",
    "]\n",
    "\n",
    "new_features = [\n",
    " 'fuel_percent_ma7',\n",
    " 'fuel_percent_ma30',\n",
    " 'fuel_percent_l1',\n",
    " 'wea_air_temp_mean_ma30',\n",
    " 'wea_precip_accum_max_ma30',\n",
    " 'relative_humidity_mean_ma30'\n",
    "]"
   ]
  },
  {
   "cell_type": "code",
   "execution_count": 13,
   "metadata": {},
   "outputs": [
    {
     "data": {
      "text/plain": [
       "(1169778, 163)"
      ]
     },
     "execution_count": 13,
     "metadata": {},
     "output_type": "execute_result"
    }
   ],
   "source": [
    "final_df = pd.read_csv('./consolidated_4_10pct_sample.csv')\n",
    "final_df.shape"
   ]
  },
  {
   "cell_type": "code",
   "execution_count": 15,
   "metadata": {},
   "outputs": [
    {
     "name": "stderr",
     "output_type": "stream",
     "text": [
      "/usr/local/lib/python3.5/dist-packages/sklearn/preprocessing/data.py:334: DataConversionWarning: Data with input dtype bool, int64, float64 were all converted to float64 by MinMaxScaler.\n",
      "  return self.partial_fit(X, y)\n"
     ]
    }
   ],
   "source": [
    "gc.collect()\n",
    "feature_cols = wea_features + tl_features + sat_features + ['fuel_percent'] + new_features\n",
    "\n",
    "# train, _, _, _, _ = split_train_test(final_df, feature_cols)\n",
    "# train_sc = scaler.fit_transform(train)\n",
    "\n",
    "# pickle.dump(scaler, open('scaler_10pct_noprecip', 'wb'))\n",
    "# pickle.dump(scaler, open('scaler_10pct_precip', 'wb'))"
   ]
  },
  {
   "cell_type": "code",
   "execution_count": 16,
   "metadata": {},
   "outputs": [
    {
     "data": {
      "text/plain": [
       "28"
      ]
     },
     "execution_count": 16,
     "metadata": {},
     "output_type": "execute_result"
    }
   ],
   "source": [
    "# del final_df, train, train_sc\n",
    "# gc.collect()"
   ]
  },
  {
   "cell_type": "code",
   "execution_count": 17,
   "metadata": {},
   "outputs": [],
   "source": [
    "# scaler = pickle.load(open('scaler_10pct_noprecip', 'rb'))\n",
    "scaler = pickle.load(open('scaler_10pct_precip', 'rb'))"
   ]
  },
  {
   "cell_type": "code",
   "execution_count": 18,
   "metadata": {},
   "outputs": [
    {
     "data": {
      "text/plain": [
       "(3884695, 40)"
      ]
     },
     "execution_count": 18,
     "metadata": {},
     "output_type": "execute_result"
    }
   ],
   "source": [
    "test_df = pd.read_csv('./consolidated_4_2018.csv')\n",
    "test_df.shape"
   ]
  },
  {
   "cell_type": "code",
   "execution_count": 19,
   "metadata": {},
   "outputs": [
    {
     "name": "stdout",
     "output_type": "stream",
     "text": [
      "Cut: 0\n",
      "Cut: 388470\n",
      "Cut: 776940\n",
      "Cut: 1165410\n",
      "Cut: 1553880\n",
      "Cut: 1942350\n",
      "Cut: 2330820\n",
      "Cut: 2719290\n",
      "Cut: 3107760\n"
     ]
    },
    {
     "data": {
      "text/plain": [
       "(3884695, 37)"
      ]
     },
     "execution_count": 19,
     "metadata": {},
     "output_type": "execute_result"
    }
   ],
   "source": [
    "cuts = list(range(0, test_df.shape[0], test_df.shape[0]//10+1))\n",
    "cuts[-1] = test_df.shape[0]+1\n",
    "test_sc = np.empty([0,len(feature_cols)])\n",
    "for i in range(len(cuts[:-1])):\n",
    "    print(\"Cut: {}\".format(cuts[i]))\n",
    "    temp = test_df[cuts[i]:cuts[i+1]][feature_cols]  \n",
    "    temp = scaler.transform(temp)\n",
    "    test_sc = np.append(test_sc, temp, axis=0)\n",
    "test_sc.shape"
   ]
  },
  {
   "cell_type": "code",
   "execution_count": 20,
   "metadata": {},
   "outputs": [],
   "source": [
    "y_test = test_df.wf_wildfire.copy().values    \n",
    "test_ids = test_df[['s2_cell_id', 'measure_date']]"
   ]
  },
  {
   "cell_type": "code",
   "execution_count": 82,
   "metadata": {},
   "outputs": [
    {
     "data": {
      "text/plain": [
       "left_only     3884635\n",
       "both               60\n",
       "right_only          0\n",
       "Name: _merge, dtype: int64"
      ]
     },
     "execution_count": 82,
     "metadata": {},
     "output_type": "execute_result"
    }
   ],
   "source": [
    "camp_test = test_ids.merge(camp_ids, on=['s2_cell_id','measure_date'], how='left', indicator=True)\n",
    "camp_test._merge.value_counts()"
   ]
  },
  {
   "cell_type": "code",
   "execution_count": 83,
   "metadata": {},
   "outputs": [
    {
     "data": {
      "text/plain": [
       "high    43\n",
       "med     17\n",
       "Name: FZ_grp, dtype: int64"
      ]
     },
     "execution_count": 83,
     "metadata": {},
     "output_type": "execute_result"
    }
   ],
   "source": [
    "camp_test.FZ_grp.value_counts()"
   ]
  },
  {
   "cell_type": "code",
   "execution_count": null,
   "metadata": {},
   "outputs": [],
   "source": []
  },
  {
   "cell_type": "code",
   "execution_count": 80,
   "metadata": {},
   "outputs": [
    {
     "name": "stdout",
     "output_type": "stream",
     "text": [
      "WARNING:tensorflow:From /usr/local/lib/python3.5/dist-packages/tensorflow/python/keras/layers/core.py:143: calling dropout (from tensorflow.python.ops.nn_ops) with keep_prob is deprecated and will be removed in a future version.\n",
      "Instructions for updating:\n",
      "Please use `rate` instead of `keep_prob`. Rate should be set to `rate = 1 - keep_prob`.\n",
      "WARNING:tensorflow:From /usr/local/lib/python3.5/dist-packages/tensorflow/python/ops/control_flow_ops.py:423: colocate_with (from tensorflow.python.framework.ops) is deprecated and will be removed in a future version.\n",
      "Instructions for updating:\n",
      "Colocations handled automatically by placer.\n",
      "WARNING:tensorflow:From /usr/local/lib/python3.5/dist-packages/tensorflow/python/ops/math_ops.py:3066: to_int32 (from tensorflow.python.ops.math_ops) is deprecated and will be removed in a future version.\n",
      "Instructions for updating:\n",
      "Use tf.cast instead.\n"
     ]
    },
    {
     "data": {
      "text/html": [
       "<div>\n",
       "<style scoped>\n",
       "    .dataframe tbody tr th:only-of-type {\n",
       "        vertical-align: middle;\n",
       "    }\n",
       "\n",
       "    .dataframe tbody tr th {\n",
       "        vertical-align: top;\n",
       "    }\n",
       "\n",
       "    .dataframe thead tr th {\n",
       "        text-align: left;\n",
       "    }\n",
       "\n",
       "    .dataframe thead tr:last-of-type th {\n",
       "        text-align: right;\n",
       "    }\n",
       "</style>\n",
       "<table border=\"1\" class=\"dataframe\">\n",
       "  <thead>\n",
       "    <tr>\n",
       "      <th></th>\n",
       "      <th colspan=\"3\" halign=\"left\">Actual</th>\n",
       "      <th>Prob</th>\n",
       "    </tr>\n",
       "    <tr>\n",
       "      <th></th>\n",
       "      <th>mean</th>\n",
       "      <th>sum</th>\n",
       "      <th>count</th>\n",
       "      <th>mean</th>\n",
       "    </tr>\n",
       "    <tr>\n",
       "      <th>Bin</th>\n",
       "      <th></th>\n",
       "      <th></th>\n",
       "      <th></th>\n",
       "      <th></th>\n",
       "    </tr>\n",
       "  </thead>\n",
       "  <tbody>\n",
       "    <tr>\n",
       "      <th>1</th>\n",
       "      <td>0.000000</td>\n",
       "      <td>0.0</td>\n",
       "      <td>221488</td>\n",
       "      <td>0.043684</td>\n",
       "    </tr>\n",
       "    <tr>\n",
       "      <th>2</th>\n",
       "      <td>0.000024</td>\n",
       "      <td>8.0</td>\n",
       "      <td>340119</td>\n",
       "      <td>0.155309</td>\n",
       "    </tr>\n",
       "    <tr>\n",
       "      <th>3</th>\n",
       "      <td>0.000027</td>\n",
       "      <td>14.0</td>\n",
       "      <td>525706</td>\n",
       "      <td>0.251326</td>\n",
       "    </tr>\n",
       "    <tr>\n",
       "      <th>4</th>\n",
       "      <td>0.000078</td>\n",
       "      <td>48.0</td>\n",
       "      <td>611688</td>\n",
       "      <td>0.351673</td>\n",
       "    </tr>\n",
       "    <tr>\n",
       "      <th>5</th>\n",
       "      <td>0.000322</td>\n",
       "      <td>296.0</td>\n",
       "      <td>918564</td>\n",
       "      <td>0.455320</td>\n",
       "    </tr>\n",
       "    <tr>\n",
       "      <th>6</th>\n",
       "      <td>0.000640</td>\n",
       "      <td>744.0</td>\n",
       "      <td>1163192</td>\n",
       "      <td>0.540110</td>\n",
       "    </tr>\n",
       "    <tr>\n",
       "      <th>7</th>\n",
       "      <td>0.001340</td>\n",
       "      <td>128.0</td>\n",
       "      <td>95531</td>\n",
       "      <td>0.632828</td>\n",
       "    </tr>\n",
       "    <tr>\n",
       "      <th>8</th>\n",
       "      <td>0.000493</td>\n",
       "      <td>4.0</td>\n",
       "      <td>8117</td>\n",
       "      <td>0.725496</td>\n",
       "    </tr>\n",
       "    <tr>\n",
       "      <th>9</th>\n",
       "      <td>0.000000</td>\n",
       "      <td>0.0</td>\n",
       "      <td>50</td>\n",
       "      <td>0.815680</td>\n",
       "    </tr>\n",
       "    <tr>\n",
       "      <th>10</th>\n",
       "      <td>0.000000</td>\n",
       "      <td>0.0</td>\n",
       "      <td>227</td>\n",
       "      <td>0.993513</td>\n",
       "    </tr>\n",
       "    <tr>\n",
       "      <th>11</th>\n",
       "      <td>0.000000</td>\n",
       "      <td>0.0</td>\n",
       "      <td>13</td>\n",
       "      <td>1.000000</td>\n",
       "    </tr>\n",
       "  </tbody>\n",
       "</table>\n",
       "</div>"
      ],
      "text/plain": [
       "       Actual                      Prob\n",
       "         mean    sum    count      mean\n",
       "Bin                                    \n",
       "1    0.000000    0.0   221488  0.043684\n",
       "2    0.000024    8.0   340119  0.155309\n",
       "3    0.000027   14.0   525706  0.251326\n",
       "4    0.000078   48.0   611688  0.351673\n",
       "5    0.000322  296.0   918564  0.455320\n",
       "6    0.000640  744.0  1163192  0.540110\n",
       "7    0.001340  128.0    95531  0.632828\n",
       "8    0.000493    4.0     8117  0.725496\n",
       "9    0.000000    0.0       50  0.815680\n",
       "10   0.000000    0.0      227  0.993513\n",
       "11   0.000000    0.0       13  1.000000"
      ]
     },
     "execution_count": 80,
     "metadata": {},
     "output_type": "execute_result"
    }
   ],
   "source": [
    "model_mlp_adam_noprecip_cw2000 = load_model('./Models/mlp_adam_noprecip_cw2000.h5')\n",
    "mlp_adam_noprecip_cw2000_probs = model_mlp_adam_noprecip_cw2000.predict(test_sc)\n",
    "bin_prob(mlp_adam_noprecip_cw2000_probs[:,0], y_test)"
   ]
  },
  {
   "cell_type": "code",
   "execution_count": 81,
   "metadata": {},
   "outputs": [
    {
     "name": "stdout",
     "output_type": "stream",
     "text": [
      "Confusion matrix, without normalization\n",
      "[[2617200 1266253]\n",
      " [    366     876]]\n",
      "              precision    recall  f1-score   support\n",
      "\n",
      "         nwf       1.00      0.67      0.81   3883453\n",
      "          wf       0.00      0.71      0.00      1242\n",
      "\n",
      "   micro avg       0.67      0.67      0.67   3884695\n",
      "   macro avg       0.50      0.69      0.40   3884695\n",
      "weighted avg       1.00      0.67      0.80   3884695\n",
      "\n"
     ]
    },
    {
     "data": {
      "image/png": "[encoded data removed]",
      "text/plain": [
       "<Figure size 432x288 with 2 Axes>"
      ]
     },
     "metadata": {
      "needs_background": "light"
     },
     "output_type": "display_data"
    }
   ],
   "source": [
    "mlp_adam_noprecip_cw2000_preds = mlp_adam_noprecip_cw2000_probs[:,0]>0.5\n",
    "plot_confusion_matrix(y_test, mlp_adam_noprecip_cw2000_preds, ['nwf', 'wf'], normalize=True)"
   ]
  },
  {
   "cell_type": "code",
   "execution_count": 109,
   "metadata": {},
   "outputs": [],
   "source": [
    "with open('./Models/mlp_adam_noprecip_cw2000_probs.csv', 'w') as filename:\n",
    "    filename.write('S2_Cells_ID'+','+'DATE_DT_DT'+'Probability'+'\\n')\n",
    "    for i in range(test_ids.shape[0]):\n",
    "        filename.write(test_ids.loc[i,'s2_cell_id']+','+test_ids.loc[i,'measure_date']+','+str(mlp_adam_noprecip_cw2000_probs[i,0])+'\\n')"
   ]
  },
  {
   "cell_type": "code",
   "execution_count": 85,
   "metadata": {},
   "outputs": [
    {
     "data": {
      "text/html": [
       "<div>\n",
       "<style scoped>\n",
       "    .dataframe tbody tr th:only-of-type {\n",
       "        vertical-align: middle;\n",
       "    }\n",
       "\n",
       "    .dataframe tbody tr th {\n",
       "        vertical-align: top;\n",
       "    }\n",
       "\n",
       "    .dataframe thead tr th {\n",
       "        text-align: left;\n",
       "    }\n",
       "\n",
       "    .dataframe thead tr:last-of-type th {\n",
       "        text-align: right;\n",
       "    }\n",
       "</style>\n",
       "<table border=\"1\" class=\"dataframe\">\n",
       "  <thead>\n",
       "    <tr>\n",
       "      <th></th>\n",
       "      <th colspan=\"3\" halign=\"left\">Actual</th>\n",
       "      <th>Prob</th>\n",
       "    </tr>\n",
       "    <tr>\n",
       "      <th></th>\n",
       "      <th>mean</th>\n",
       "      <th>sum</th>\n",
       "      <th>count</th>\n",
       "      <th>mean</th>\n",
       "    </tr>\n",
       "    <tr>\n",
       "      <th>Bin</th>\n",
       "      <th></th>\n",
       "      <th></th>\n",
       "      <th></th>\n",
       "      <th></th>\n",
       "    </tr>\n",
       "  </thead>\n",
       "  <tbody>\n",
       "    <tr>\n",
       "      <th>1</th>\n",
       "      <td>0.000033</td>\n",
       "      <td>11.0</td>\n",
       "      <td>328627</td>\n",
       "      <td>0.049124</td>\n",
       "    </tr>\n",
       "    <tr>\n",
       "      <th>2</th>\n",
       "      <td>0.000129</td>\n",
       "      <td>41.0</td>\n",
       "      <td>317874</td>\n",
       "      <td>0.150651</td>\n",
       "    </tr>\n",
       "    <tr>\n",
       "      <th>3</th>\n",
       "      <td>0.000180</td>\n",
       "      <td>76.0</td>\n",
       "      <td>422740</td>\n",
       "      <td>0.253352</td>\n",
       "    </tr>\n",
       "    <tr>\n",
       "      <th>4</th>\n",
       "      <td>0.000220</td>\n",
       "      <td>126.0</td>\n",
       "      <td>571944</td>\n",
       "      <td>0.351901</td>\n",
       "    </tr>\n",
       "    <tr>\n",
       "      <th>5</th>\n",
       "      <td>0.000308</td>\n",
       "      <td>221.0</td>\n",
       "      <td>717028</td>\n",
       "      <td>0.451193</td>\n",
       "    </tr>\n",
       "    <tr>\n",
       "      <th>6</th>\n",
       "      <td>0.000471</td>\n",
       "      <td>330.0</td>\n",
       "      <td>701012</td>\n",
       "      <td>0.549198</td>\n",
       "    </tr>\n",
       "    <tr>\n",
       "      <th>7</th>\n",
       "      <td>0.000550</td>\n",
       "      <td>305.0</td>\n",
       "      <td>555030</td>\n",
       "      <td>0.645163</td>\n",
       "    </tr>\n",
       "    <tr>\n",
       "      <th>8</th>\n",
       "      <td>0.000496</td>\n",
       "      <td>120.0</td>\n",
       "      <td>241796</td>\n",
       "      <td>0.739809</td>\n",
       "    </tr>\n",
       "    <tr>\n",
       "      <th>9</th>\n",
       "      <td>0.000425</td>\n",
       "      <td>12.0</td>\n",
       "      <td>28222</td>\n",
       "      <td>0.822002</td>\n",
       "    </tr>\n",
       "    <tr>\n",
       "      <th>10</th>\n",
       "      <td>0.000000</td>\n",
       "      <td>0.0</td>\n",
       "      <td>160</td>\n",
       "      <td>0.960350</td>\n",
       "    </tr>\n",
       "    <tr>\n",
       "      <th>11</th>\n",
       "      <td>0.000000</td>\n",
       "      <td>0.0</td>\n",
       "      <td>262</td>\n",
       "      <td>1.000000</td>\n",
       "    </tr>\n",
       "  </tbody>\n",
       "</table>\n",
       "</div>"
      ],
      "text/plain": [
       "       Actual                     Prob\n",
       "         mean    sum   count      mean\n",
       "Bin                                   \n",
       "1    0.000033   11.0  328627  0.049124\n",
       "2    0.000129   41.0  317874  0.150651\n",
       "3    0.000180   76.0  422740  0.253352\n",
       "4    0.000220  126.0  571944  0.351901\n",
       "5    0.000308  221.0  717028  0.451193\n",
       "6    0.000471  330.0  701012  0.549198\n",
       "7    0.000550  305.0  555030  0.645163\n",
       "8    0.000496  120.0  241796  0.739809\n",
       "9    0.000425   12.0   28222  0.822002\n",
       "10   0.000000    0.0     160  0.960350\n",
       "11   0.000000    0.0     262  1.000000"
      ]
     },
     "execution_count": 85,
     "metadata": {},
     "output_type": "execute_result"
    }
   ],
   "source": [
    "model_mlp_adam_noprecip_cwEQ_ext = load_model('./Models/mlp_adam_noprecip_cwEQ_ext.h5')\n",
    "mlp_adam_noprecip_cwEQ_ext_probs = model_mlp_adam_noprecip_cwEQ_ext.predict(test_sc)\n",
    "bin_prob(mlp_adam_noprecip_cwEQ_ext_probs[:,0], y_test)"
   ]
  },
  {
   "cell_type": "code",
   "execution_count": 86,
   "metadata": {},
   "outputs": [
    {
     "name": "stdout",
     "output_type": "stream",
     "text": [
      "Confusion matrix, without normalization\n",
      "[[2357738 1525715]\n",
      " [    475     767]]\n",
      "              precision    recall  f1-score   support\n",
      "\n",
      "         nwf       1.00      0.61      0.76   3883453\n",
      "          wf       0.00      0.62      0.00      1242\n",
      "\n",
      "   micro avg       0.61      0.61      0.61   3884695\n",
      "   macro avg       0.50      0.61      0.38   3884695\n",
      "weighted avg       1.00      0.61      0.76   3884695\n",
      "\n"
     ]
    },
    {
     "data": {
      "image/png": "[encoded data removed]",
      "text/plain": [
       "<Figure size 432x288 with 2 Axes>"
      ]
     },
     "metadata": {
      "needs_background": "light"
     },
     "output_type": "display_data"
    }
   ],
   "source": [
    "mlp_adam_noprecip_cwEQ_ext_preds = mlp_adam_noprecip_cwEQ_ext_probs[:,0]>0.5\n",
    "plot_confusion_matrix(y_test, mlp_adam_noprecip_cwEQ_ext_preds, ['nwf', 'wf'], normalize=True)"
   ]
  },
  {
   "cell_type": "code",
   "execution_count": 22,
   "metadata": {},
   "outputs": [
    {
     "data": {
      "text/html": [
       "<div>\n",
       "<style scoped>\n",
       "    .dataframe tbody tr th:only-of-type {\n",
       "        vertical-align: middle;\n",
       "    }\n",
       "\n",
       "    .dataframe tbody tr th {\n",
       "        vertical-align: top;\n",
       "    }\n",
       "\n",
       "    .dataframe thead th {\n",
       "        text-align: right;\n",
       "    }\n",
       "</style>\n",
       "<table border=\"1\" class=\"dataframe\">\n",
       "  <thead>\n",
       "    <tr style=\"text-align: right;\">\n",
       "      <th></th>\n",
       "      <th>mlp_adam_noprecip_cw2000_probs</th>\n",
       "      <th>mlp_adam_noprecip_cwEQ_ext_probs</th>\n",
       "    </tr>\n",
       "  </thead>\n",
       "  <tbody>\n",
       "    <tr>\n",
       "      <th>0</th>\n",
       "      <td>0.563708</td>\n",
       "      <td>0.556569</td>\n",
       "    </tr>\n",
       "    <tr>\n",
       "      <th>1</th>\n",
       "      <td>0.564941</td>\n",
       "      <td>0.702367</td>\n",
       "    </tr>\n",
       "    <tr>\n",
       "      <th>2</th>\n",
       "      <td>0.644757</td>\n",
       "      <td>0.703734</td>\n",
       "    </tr>\n",
       "    <tr>\n",
       "      <th>3</th>\n",
       "      <td>0.638986</td>\n",
       "      <td>0.773011</td>\n",
       "    </tr>\n",
       "    <tr>\n",
       "      <th>4</th>\n",
       "      <td>0.556674</td>\n",
       "      <td>0.581052</td>\n",
       "    </tr>\n",
       "  </tbody>\n",
       "</table>\n",
       "</div>"
      ],
      "text/plain": [
       "   mlp_adam_noprecip_cw2000_probs  mlp_adam_noprecip_cwEQ_ext_probs\n",
       "0                        0.563708                          0.556569\n",
       "1                        0.564941                          0.702367\n",
       "2                        0.644757                          0.703734\n",
       "3                        0.638986                          0.773011\n",
       "4                        0.556674                          0.581052"
      ]
     },
     "execution_count": 22,
     "metadata": {},
     "output_type": "execute_result"
    }
   ],
   "source": [
    "camp_preds = pd.DataFrame(mlp_adam_noprecip_cw2000_probs[camp_test._merge=='both'][:,0])\n",
    "camp_preds.columns = ['mlp_adam_noprecip_cw2000_probs']\n",
    "temp = pd.DataFrame(mlp_adam_noprecip_cwEQ_ext_probs[camp_test._merge=='both'][:,0])\n",
    "temp.columns = ['mlp_adam_noprecip_cwEQ_ext_probs']\n",
    "camp_preds = camp_preds.join(temp)\n",
    "camp_preds.head()"
   ]
  },
  {
   "cell_type": "code",
   "execution_count": 99,
   "metadata": {},
   "outputs": [
    {
     "data": {
      "text/plain": [
       "0"
      ]
     },
     "execution_count": 99,
     "metadata": {},
     "output_type": "execute_result"
    }
   ],
   "source": [
    "gc.collect()"
   ]
  },
  {
   "cell_type": "code",
   "execution_count": 110,
   "metadata": {},
   "outputs": [],
   "source": [
    "with open('./Models/mlp_adam_noprecip_cwEQ_ext_probs.csv', 'w') as filename:\n",
    "    filename.write('S2_Cells_ID'+','+'DATE_DT_DT'+'Probability'+'\\n')\n",
    "    for i in range(test_ids.shape[0]):\n",
    "        filename.write(test_ids.loc[i,'s2_cell_id']+','+test_ids.loc[i,'measure_date']+','+str(mlp_adam_noprecip_cwEQ_ext_probs[i,0])+'\\n')"
   ]
  },
  {
   "cell_type": "code",
   "execution_count": null,
   "metadata": {},
   "outputs": [],
   "source": []
  },
  {
   "cell_type": "code",
   "execution_count": null,
   "metadata": {},
   "outputs": [],
   "source": []
  },
  {
   "cell_type": "code",
   "execution_count": 21,
   "metadata": {},
   "outputs": [
    {
     "name": "stdout",
     "output_type": "stream",
     "text": [
      "WARNING:tensorflow:From /usr/local/lib/python3.5/dist-packages/tensorflow/python/keras/layers/core.py:143: calling dropout (from tensorflow.python.ops.nn_ops) with keep_prob is deprecated and will be removed in a future version.\n",
      "Instructions for updating:\n",
      "Please use `rate` instead of `keep_prob`. Rate should be set to `rate = 1 - keep_prob`.\n",
      "WARNING:tensorflow:From /usr/local/lib/python3.5/dist-packages/tensorflow/python/ops/control_flow_ops.py:423: colocate_with (from tensorflow.python.framework.ops) is deprecated and will be removed in a future version.\n",
      "Instructions for updating:\n",
      "Colocations handled automatically by placer.\n",
      "WARNING:tensorflow:From /usr/local/lib/python3.5/dist-packages/tensorflow/python/ops/math_ops.py:3066: to_int32 (from tensorflow.python.ops.math_ops) is deprecated and will be removed in a future version.\n",
      "Instructions for updating:\n",
      "Use tf.cast instead.\n"
     ]
    },
    {
     "data": {
      "text/html": [
       "<div>\n",
       "<style scoped>\n",
       "    .dataframe tbody tr th:only-of-type {\n",
       "        vertical-align: middle;\n",
       "    }\n",
       "\n",
       "    .dataframe tbody tr th {\n",
       "        vertical-align: top;\n",
       "    }\n",
       "\n",
       "    .dataframe thead tr th {\n",
       "        text-align: left;\n",
       "    }\n",
       "\n",
       "    .dataframe thead tr:last-of-type th {\n",
       "        text-align: right;\n",
       "    }\n",
       "</style>\n",
       "<table border=\"1\" class=\"dataframe\">\n",
       "  <thead>\n",
       "    <tr>\n",
       "      <th></th>\n",
       "      <th colspan=\"3\" halign=\"left\">Actual</th>\n",
       "      <th>Prob</th>\n",
       "    </tr>\n",
       "    <tr>\n",
       "      <th></th>\n",
       "      <th>mean</th>\n",
       "      <th>sum</th>\n",
       "      <th>count</th>\n",
       "      <th>mean</th>\n",
       "    </tr>\n",
       "    <tr>\n",
       "      <th>Bin</th>\n",
       "      <th></th>\n",
       "      <th></th>\n",
       "      <th></th>\n",
       "      <th></th>\n",
       "    </tr>\n",
       "  </thead>\n",
       "  <tbody>\n",
       "    <tr>\n",
       "      <th>1</th>\n",
       "      <td>0.000019</td>\n",
       "      <td>5.0</td>\n",
       "      <td>268093</td>\n",
       "      <td>0.046255</td>\n",
       "    </tr>\n",
       "    <tr>\n",
       "      <th>2</th>\n",
       "      <td>0.000020</td>\n",
       "      <td>8.0</td>\n",
       "      <td>392586</td>\n",
       "      <td>0.155129</td>\n",
       "    </tr>\n",
       "    <tr>\n",
       "      <th>3</th>\n",
       "      <td>0.000031</td>\n",
       "      <td>16.0</td>\n",
       "      <td>522348</td>\n",
       "      <td>0.251185</td>\n",
       "    </tr>\n",
       "    <tr>\n",
       "      <th>4</th>\n",
       "      <td>0.000113</td>\n",
       "      <td>71.0</td>\n",
       "      <td>629948</td>\n",
       "      <td>0.351982</td>\n",
       "    </tr>\n",
       "    <tr>\n",
       "      <th>5</th>\n",
       "      <td>0.000267</td>\n",
       "      <td>243.0</td>\n",
       "      <td>910109</td>\n",
       "      <td>0.454017</td>\n",
       "    </tr>\n",
       "    <tr>\n",
       "      <th>6</th>\n",
       "      <td>0.000749</td>\n",
       "      <td>797.0</td>\n",
       "      <td>1063718</td>\n",
       "      <td>0.542578</td>\n",
       "    </tr>\n",
       "    <tr>\n",
       "      <th>7</th>\n",
       "      <td>0.001103</td>\n",
       "      <td>94.0</td>\n",
       "      <td>85259</td>\n",
       "      <td>0.629044</td>\n",
       "    </tr>\n",
       "    <tr>\n",
       "      <th>8</th>\n",
       "      <td>0.000946</td>\n",
       "      <td>7.0</td>\n",
       "      <td>7403</td>\n",
       "      <td>0.729186</td>\n",
       "    </tr>\n",
       "    <tr>\n",
       "      <th>9</th>\n",
       "      <td>0.000980</td>\n",
       "      <td>1.0</td>\n",
       "      <td>1020</td>\n",
       "      <td>0.850707</td>\n",
       "    </tr>\n",
       "    <tr>\n",
       "      <th>10</th>\n",
       "      <td>0.000000</td>\n",
       "      <td>0.0</td>\n",
       "      <td>3360</td>\n",
       "      <td>0.971250</td>\n",
       "    </tr>\n",
       "    <tr>\n",
       "      <th>11</th>\n",
       "      <td>0.000000</td>\n",
       "      <td>0.0</td>\n",
       "      <td>851</td>\n",
       "      <td>1.000000</td>\n",
       "    </tr>\n",
       "  </tbody>\n",
       "</table>\n",
       "</div>"
      ],
      "text/plain": [
       "       Actual                      Prob\n",
       "         mean    sum    count      mean\n",
       "Bin                                    \n",
       "1    0.000019    5.0   268093  0.046255\n",
       "2    0.000020    8.0   392586  0.155129\n",
       "3    0.000031   16.0   522348  0.251185\n",
       "4    0.000113   71.0   629948  0.351982\n",
       "5    0.000267  243.0   910109  0.454017\n",
       "6    0.000749  797.0  1063718  0.542578\n",
       "7    0.001103   94.0    85259  0.629044\n",
       "8    0.000946    7.0     7403  0.729186\n",
       "9    0.000980    1.0     1020  0.850707\n",
       "10   0.000000    0.0     3360  0.971250\n",
       "11   0.000000    0.0      851  1.000000"
      ]
     },
     "execution_count": 21,
     "metadata": {},
     "output_type": "execute_result"
    }
   ],
   "source": [
    "model_mlp_adam_precip_cw2000 = load_model('./Models/mlp_adam_precip_cw2000.h5')\n",
    "mlp_adam_precip_cw2000_probs = model_mlp_adam_precip_cw2000.predict(test_sc)\n",
    "bin_prob(mlp_adam_precip_cw2000_probs[:,0], y_test)"
   ]
  },
  {
   "cell_type": "code",
   "execution_count": 22,
   "metadata": {},
   "outputs": [
    {
     "name": "stdout",
     "output_type": "stream",
     "text": [
      "Confusion matrix, without normalization\n",
      "[[2722741 1160712]\n",
      " [    343     899]]\n",
      "              precision    recall  f1-score   support\n",
      "\n",
      "         nwf       1.00      0.70      0.82   3883453\n",
      "          wf       0.00      0.72      0.00      1242\n",
      "\n",
      "   micro avg       0.70      0.70      0.70   3884695\n",
      "   macro avg       0.50      0.71      0.41   3884695\n",
      "weighted avg       1.00      0.70      0.82   3884695\n",
      "\n"
     ]
    },
    {
     "data": {
      "image/png": "[encoded data removed]",
      "text/plain": [
       "<Figure size 432x288 with 2 Axes>"
      ]
     },
     "metadata": {
      "needs_background": "light"
     },
     "output_type": "display_data"
    }
   ],
   "source": [
    "mlp_adam_precip_cw2000_preds = mlp_adam_precip_cw2000_probs[:,0]>0.5\n",
    "plot_confusion_matrix(y_test, mlp_adam_precip_cw2000_preds, ['nwf', 'wf'], normalize=True)"
   ]
  },
  {
   "cell_type": "code",
   "execution_count": 23,
   "metadata": {},
   "outputs": [],
   "source": [
    "with open('./Models/mlp_adam_precip_cw2000_probs.csv', 'w') as filename:\n",
    "    filename.write('S2_Cells_ID'+','+'DATE_DT_DT'+'Probability'+'\\n')\n",
    "    for i in range(test_ids.shape[0]):\n",
    "        filename.write(test_ids.loc[i,'s2_cell_id']+','+test_ids.loc[i,'measure_date']+','+str(mlp_adam_precip_cw2000_probs[i,0])+'\\n')"
   ]
  },
  {
   "cell_type": "code",
   "execution_count": 24,
   "metadata": {},
   "outputs": [
    {
     "data": {
      "text/html": [
       "<div>\n",
       "<style scoped>\n",
       "    .dataframe tbody tr th:only-of-type {\n",
       "        vertical-align: middle;\n",
       "    }\n",
       "\n",
       "    .dataframe tbody tr th {\n",
       "        vertical-align: top;\n",
       "    }\n",
       "\n",
       "    .dataframe thead tr th {\n",
       "        text-align: left;\n",
       "    }\n",
       "\n",
       "    .dataframe thead tr:last-of-type th {\n",
       "        text-align: right;\n",
       "    }\n",
       "</style>\n",
       "<table border=\"1\" class=\"dataframe\">\n",
       "  <thead>\n",
       "    <tr>\n",
       "      <th></th>\n",
       "      <th colspan=\"3\" halign=\"left\">Actual</th>\n",
       "      <th>Prob</th>\n",
       "    </tr>\n",
       "    <tr>\n",
       "      <th></th>\n",
       "      <th>mean</th>\n",
       "      <th>sum</th>\n",
       "      <th>count</th>\n",
       "      <th>mean</th>\n",
       "    </tr>\n",
       "    <tr>\n",
       "      <th>Bin</th>\n",
       "      <th></th>\n",
       "      <th></th>\n",
       "      <th></th>\n",
       "      <th></th>\n",
       "    </tr>\n",
       "  </thead>\n",
       "  <tbody>\n",
       "    <tr>\n",
       "      <th>1</th>\n",
       "      <td>0.000028</td>\n",
       "      <td>9.0</td>\n",
       "      <td>325680</td>\n",
       "      <td>0.050929</td>\n",
       "    </tr>\n",
       "    <tr>\n",
       "      <th>2</th>\n",
       "      <td>0.000089</td>\n",
       "      <td>31.0</td>\n",
       "      <td>348988</td>\n",
       "      <td>0.151056</td>\n",
       "    </tr>\n",
       "    <tr>\n",
       "      <th>3</th>\n",
       "      <td>0.000174</td>\n",
       "      <td>71.0</td>\n",
       "      <td>407070</td>\n",
       "      <td>0.251365</td>\n",
       "    </tr>\n",
       "    <tr>\n",
       "      <th>4</th>\n",
       "      <td>0.000259</td>\n",
       "      <td>121.0</td>\n",
       "      <td>467963</td>\n",
       "      <td>0.351045</td>\n",
       "    </tr>\n",
       "    <tr>\n",
       "      <th>5</th>\n",
       "      <td>0.000339</td>\n",
       "      <td>187.0</td>\n",
       "      <td>551902</td>\n",
       "      <td>0.451630</td>\n",
       "    </tr>\n",
       "    <tr>\n",
       "      <th>6</th>\n",
       "      <td>0.000537</td>\n",
       "      <td>333.0</td>\n",
       "      <td>620249</td>\n",
       "      <td>0.549628</td>\n",
       "    </tr>\n",
       "    <tr>\n",
       "      <th>7</th>\n",
       "      <td>0.000517</td>\n",
       "      <td>285.0</td>\n",
       "      <td>550944</td>\n",
       "      <td>0.648980</td>\n",
       "    </tr>\n",
       "    <tr>\n",
       "      <th>8</th>\n",
       "      <td>0.000391</td>\n",
       "      <td>147.0</td>\n",
       "      <td>375756</td>\n",
       "      <td>0.746389</td>\n",
       "    </tr>\n",
       "    <tr>\n",
       "      <th>9</th>\n",
       "      <td>0.000247</td>\n",
       "      <td>52.0</td>\n",
       "      <td>210173</td>\n",
       "      <td>0.841193</td>\n",
       "    </tr>\n",
       "    <tr>\n",
       "      <th>10</th>\n",
       "      <td>0.000233</td>\n",
       "      <td>6.0</td>\n",
       "      <td>25784</td>\n",
       "      <td>0.922932</td>\n",
       "    </tr>\n",
       "    <tr>\n",
       "      <th>11</th>\n",
       "      <td>0.000000</td>\n",
       "      <td>0.0</td>\n",
       "      <td>186</td>\n",
       "      <td>1.000000</td>\n",
       "    </tr>\n",
       "  </tbody>\n",
       "</table>\n",
       "</div>"
      ],
      "text/plain": [
       "       Actual                     Prob\n",
       "         mean    sum   count      mean\n",
       "Bin                                   \n",
       "1    0.000028    9.0  325680  0.050929\n",
       "2    0.000089   31.0  348988  0.151056\n",
       "3    0.000174   71.0  407070  0.251365\n",
       "4    0.000259  121.0  467963  0.351045\n",
       "5    0.000339  187.0  551902  0.451630\n",
       "6    0.000537  333.0  620249  0.549628\n",
       "7    0.000517  285.0  550944  0.648980\n",
       "8    0.000391  147.0  375756  0.746389\n",
       "9    0.000247   52.0  210173  0.841193\n",
       "10   0.000233    6.0   25784  0.922932\n",
       "11   0.000000    0.0     186  1.000000"
      ]
     },
     "execution_count": 24,
     "metadata": {},
     "output_type": "execute_result"
    }
   ],
   "source": [
    "model_mlp_adam_precip_cwEQ_ext = load_model('./Models/mlp_adam_precip_cwEQ_ext.h5')\n",
    "mlp_adam_precip_cwEQ_ext_probs = model_mlp_adam_precip_cwEQ_ext.predict(test_sc)\n",
    "bin_prob(mlp_adam_precip_cwEQ_ext_probs[:,0], y_test)"
   ]
  },
  {
   "cell_type": "code",
   "execution_count": 25,
   "metadata": {},
   "outputs": [
    {
     "name": "stdout",
     "output_type": "stream",
     "text": [
      "Confusion matrix, without normalization\n",
      "[[2101184 1782269]\n",
      " [    419     823]]\n",
      "              precision    recall  f1-score   support\n",
      "\n",
      "         nwf       1.00      0.54      0.70   3883453\n",
      "          wf       0.00      0.66      0.00      1242\n",
      "\n",
      "   micro avg       0.54      0.54      0.54   3884695\n",
      "   macro avg       0.50      0.60      0.35   3884695\n",
      "weighted avg       1.00      0.54      0.70   3884695\n",
      "\n"
     ]
    },
    {
     "data": {
      "image/png": "[encoded data removed]",
      "text/plain": [
       "<Figure size 432x288 with 2 Axes>"
      ]
     },
     "metadata": {
      "needs_background": "light"
     },
     "output_type": "display_data"
    }
   ],
   "source": [
    "mlp_adam_precip_cwEQ_ext_preds = mlp_adam_precip_cwEQ_ext_probs[:,0]>0.5\n",
    "plot_confusion_matrix(y_test, mlp_adam_precip_cwEQ_ext_preds, ['nwf', 'wf'], normalize=True)"
   ]
  },
  {
   "cell_type": "code",
   "execution_count": 27,
   "metadata": {},
   "outputs": [],
   "source": [
    "with open('./Models/mlp_adam_precip_cwEQ_ext_probs.csv', 'w') as filename:\n",
    "    filename.write('S2_Cells_ID'+','+'DATE_DT_DT'+'Probability'+'\\n')\n",
    "    for i in range(test_ids.shape[0]):\n",
    "        filename.write(test_ids.loc[i,'s2_cell_id']+','+test_ids.loc[i,'measure_date']+','+str(mlp_adam_precip_cwEQ_ext_probs[i,0])+'\\n')"
   ]
  },
  {
   "cell_type": "code",
   "execution_count": null,
   "metadata": {},
   "outputs": [],
   "source": []
  },
  {
   "cell_type": "code",
   "execution_count": 26,
   "metadata": {},
   "outputs": [
    {
     "data": {
      "text/html": [
       "<div>\n",
       "<style scoped>\n",
       "    .dataframe tbody tr th:only-of-type {\n",
       "        vertical-align: middle;\n",
       "    }\n",
       "\n",
       "    .dataframe tbody tr th {\n",
       "        vertical-align: top;\n",
       "    }\n",
       "\n",
       "    .dataframe thead th {\n",
       "        text-align: right;\n",
       "    }\n",
       "</style>\n",
       "<table border=\"1\" class=\"dataframe\">\n",
       "  <thead>\n",
       "    <tr style=\"text-align: right;\">\n",
       "      <th></th>\n",
       "      <th>mlp_adam_precip_cw2000_probs</th>\n",
       "      <th>mlp_adam_precip_cwEQ_ext_probs</th>\n",
       "    </tr>\n",
       "  </thead>\n",
       "  <tbody>\n",
       "    <tr>\n",
       "      <th>count</th>\n",
       "      <td>60.000000</td>\n",
       "      <td>60.000000</td>\n",
       "    </tr>\n",
       "    <tr>\n",
       "      <th>mean</th>\n",
       "      <td>0.571977</td>\n",
       "      <td>0.703935</td>\n",
       "    </tr>\n",
       "    <tr>\n",
       "      <th>std</th>\n",
       "      <td>0.044537</td>\n",
       "      <td>0.124407</td>\n",
       "    </tr>\n",
       "    <tr>\n",
       "      <th>min</th>\n",
       "      <td>0.478660</td>\n",
       "      <td>0.417340</td>\n",
       "    </tr>\n",
       "    <tr>\n",
       "      <th>25%</th>\n",
       "      <td>0.545512</td>\n",
       "      <td>0.614692</td>\n",
       "    </tr>\n",
       "    <tr>\n",
       "      <th>50%</th>\n",
       "      <td>0.569716</td>\n",
       "      <td>0.699046</td>\n",
       "    </tr>\n",
       "    <tr>\n",
       "      <th>75%</th>\n",
       "      <td>0.600176</td>\n",
       "      <td>0.815014</td>\n",
       "    </tr>\n",
       "    <tr>\n",
       "      <th>max</th>\n",
       "      <td>0.661778</td>\n",
       "      <td>0.918858</td>\n",
       "    </tr>\n",
       "  </tbody>\n",
       "</table>\n",
       "</div>"
      ],
      "text/plain": [
       "       mlp_adam_precip_cw2000_probs  mlp_adam_precip_cwEQ_ext_probs\n",
       "count                     60.000000                       60.000000\n",
       "mean                       0.571977                        0.703935\n",
       "std                        0.044537                        0.124407\n",
       "min                        0.478660                        0.417340\n",
       "25%                        0.545512                        0.614692\n",
       "50%                        0.569716                        0.699046\n",
       "75%                        0.600176                        0.815014\n",
       "max                        0.661778                        0.918858"
      ]
     },
     "execution_count": 26,
     "metadata": {},
     "output_type": "execute_result"
    }
   ],
   "source": [
    "camp_test = test_ids.merge(camp_ids, on=['s2_cell_id','measure_date'], how='left', indicator=True)\n",
    "camp_preds = pd.DataFrame(mlp_adam_precip_cw2000_probs[camp_test._merge=='both'][:,0])\n",
    "camp_preds.columns = ['mlp_adam_precip_cw2000_probs']\n",
    "temp = pd.DataFrame(mlp_adam_precip_cwEQ_ext_probs[camp_test._merge=='both'][:,0])\n",
    "temp.columns = ['mlp_adam_precip_cwEQ_ext_probs']\n",
    "camp_preds = camp_preds.join(temp)\n",
    "camp_preds.describe()"
   ]
  },
  {
   "cell_type": "code",
   "execution_count": null,
   "metadata": {},
   "outputs": [],
   "source": []
  },
  {
   "cell_type": "code",
   "execution_count": null,
   "metadata": {},
   "outputs": [],
   "source": []
  },
  {
   "cell_type": "code",
   "execution_count": 30,
   "metadata": {},
   "outputs": [
    {
     "data": {
      "text/html": [
       "<div>\n",
       "<style scoped>\n",
       "    .dataframe tbody tr th:only-of-type {\n",
       "        vertical-align: middle;\n",
       "    }\n",
       "\n",
       "    .dataframe tbody tr th {\n",
       "        vertical-align: top;\n",
       "    }\n",
       "\n",
       "    .dataframe thead th {\n",
       "        text-align: right;\n",
       "    }\n",
       "</style>\n",
       "<table border=\"1\" class=\"dataframe\">\n",
       "  <thead>\n",
       "    <tr style=\"text-align: right;\">\n",
       "      <th></th>\n",
       "      <th>mlp_adam_noprecip_cw2000_probs</th>\n",
       "      <th>mlp_adam_noprecip_cwEQ_ext_probs</th>\n",
       "      <th>mlp_adam_precip_cw2000_probs</th>\n",
       "      <th>mlp_adam_precip_cwEQ_ext_probs</th>\n",
       "    </tr>\n",
       "  </thead>\n",
       "  <tbody>\n",
       "    <tr>\n",
       "      <th>count</th>\n",
       "      <td>60.000000</td>\n",
       "      <td>60.000000</td>\n",
       "      <td>60.000000</td>\n",
       "      <td>60.000000</td>\n",
       "    </tr>\n",
       "    <tr>\n",
       "      <th>mean</th>\n",
       "      <td>0.576593</td>\n",
       "      <td>0.612614</td>\n",
       "      <td>0.571977</td>\n",
       "      <td>0.703935</td>\n",
       "    </tr>\n",
       "    <tr>\n",
       "      <th>std</th>\n",
       "      <td>0.041937</td>\n",
       "      <td>0.108984</td>\n",
       "      <td>0.044537</td>\n",
       "      <td>0.124407</td>\n",
       "    </tr>\n",
       "    <tr>\n",
       "      <th>min</th>\n",
       "      <td>0.491003</td>\n",
       "      <td>0.391369</td>\n",
       "      <td>0.478660</td>\n",
       "      <td>0.417340</td>\n",
       "    </tr>\n",
       "    <tr>\n",
       "      <th>25%</th>\n",
       "      <td>0.552228</td>\n",
       "      <td>0.524461</td>\n",
       "      <td>0.545512</td>\n",
       "      <td>0.614692</td>\n",
       "    </tr>\n",
       "    <tr>\n",
       "      <th>50%</th>\n",
       "      <td>0.570638</td>\n",
       "      <td>0.606153</td>\n",
       "      <td>0.569716</td>\n",
       "      <td>0.699046</td>\n",
       "    </tr>\n",
       "    <tr>\n",
       "      <th>75%</th>\n",
       "      <td>0.615421</td>\n",
       "      <td>0.702708</td>\n",
       "      <td>0.600176</td>\n",
       "      <td>0.815014</td>\n",
       "    </tr>\n",
       "    <tr>\n",
       "      <th>max</th>\n",
       "      <td>0.648034</td>\n",
       "      <td>0.822135</td>\n",
       "      <td>0.661778</td>\n",
       "      <td>0.918858</td>\n",
       "    </tr>\n",
       "  </tbody>\n",
       "</table>\n",
       "</div>"
      ],
      "text/plain": [
       "       mlp_adam_noprecip_cw2000_probs  mlp_adam_noprecip_cwEQ_ext_probs  \\\n",
       "count                       60.000000                         60.000000   \n",
       "mean                         0.576593                          0.612614   \n",
       "std                          0.041937                          0.108984   \n",
       "min                          0.491003                          0.391369   \n",
       "25%                          0.552228                          0.524461   \n",
       "50%                          0.570638                          0.606153   \n",
       "75%                          0.615421                          0.702708   \n",
       "max                          0.648034                          0.822135   \n",
       "\n",
       "       mlp_adam_precip_cw2000_probs  mlp_adam_precip_cwEQ_ext_probs  \n",
       "count                     60.000000                       60.000000  \n",
       "mean                       0.571977                        0.703935  \n",
       "std                        0.044537                        0.124407  \n",
       "min                        0.478660                        0.417340  \n",
       "25%                        0.545512                        0.614692  \n",
       "50%                        0.569716                        0.699046  \n",
       "75%                        0.600176                        0.815014  \n",
       "max                        0.661778                        0.918858  "
      ]
     },
     "execution_count": 30,
     "metadata": {},
     "output_type": "execute_result"
    }
   ],
   "source": [
    "camp_preds.describe()"
   ]
  },
  {
   "cell_type": "code",
   "execution_count": 37,
   "metadata": {},
   "outputs": [
    {
     "data": {
      "text/plain": [
       "(0.39251184, 0.156928, 0.5570347130298614, 0.6419803726673127)"
      ]
     },
     "execution_count": 37,
     "metadata": {},
     "output_type": "execute_result"
    }
   ],
   "source": [
    "mlp_adam_noprecip_cw2000_probs.mean(), mlp_adam_noprecip_cw2000_probs.std() ,np.percentile(pd.Series(mlp_adam_noprecip_cw2000_probs[:,0]), 90), np.percentile(pd.Series(mlp_adam_noprecip_cw2000_probs[:,0]), 99)"
   ]
  },
  {
   "cell_type": "code",
   "execution_count": 38,
   "metadata": {},
   "outputs": [
    {
     "data": {
      "text/plain": [
       "(0.4227691, 0.20021868, 0.6732831776142121, 0.7908311849832536)"
      ]
     },
     "execution_count": 38,
     "metadata": {},
     "output_type": "execute_result"
    }
   ],
   "source": [
    "mlp_adam_noprecip_cwEQ_ext_probs.mean(), mlp_adam_noprecip_cwEQ_ext_probs.std() ,np.percentile(pd.Series(mlp_adam_noprecip_cwEQ_ext_probs[:,0]), 90), np.percentile(pd.Series(mlp_adam_noprecip_cwEQ_ext_probs[:,0]), 99)"
   ]
  },
  {
   "cell_type": "code",
   "execution_count": 39,
   "metadata": {},
   "outputs": [
    {
     "data": {
      "text/plain": [
       "(0.38168582, 0.16261958, 0.5599527716636657, 0.6390063637495048)"
      ]
     },
     "execution_count": 39,
     "metadata": {},
     "output_type": "execute_result"
    }
   ],
   "source": [
    "mlp_adam_precip_cw2000_probs.mean(), mlp_adam_precip_cw2000_probs.std() ,np.percentile(pd.Series(mlp_adam_precip_cw2000_probs[:,0]), 90), np.percentile(pd.Series(mlp_adam_precip_cw2000_probs[:,0]), 99)"
   ]
  },
  {
   "cell_type": "code",
   "execution_count": 40,
   "metadata": {},
   "outputs": [
    {
     "data": {
      "text/plain": [
       "(0.45446873, 0.22992793, 0.7545404314994812, 0.8880939567089081)"
      ]
     },
     "execution_count": 40,
     "metadata": {},
     "output_type": "execute_result"
    }
   ],
   "source": [
    "mlp_adam_precip_cwEQ_ext_probs.mean(), mlp_adam_precip_cwEQ_ext_probs.std() ,np.percentile(pd.Series(mlp_adam_precip_cwEQ_ext_probs[:,0]), 90), np.percentile(pd.Series(mlp_adam_precip_cwEQ_ext_probs[:,0]), 99)"
   ]
  }
 ],
 "metadata": {
  "kernelspec": {
   "display_name": "Python 3",
   "language": "python",
   "name": "python3"
  },
  "language_info": {
   "codemirror_mode": {
    "name": "ipython",
    "version": 3
   },
   "file_extension": ".py",
   "mimetype": "text/x-python",
   "name": "python",
   "nbconvert_exporter": "python",
   "pygments_lexer": "ipython3",
   "version": "3.5.2"
  }
 },
 "nbformat": 4,
 "nbformat_minor": 2
}
