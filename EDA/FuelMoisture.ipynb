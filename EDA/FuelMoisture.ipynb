{
 "cells": [
  {
   "cell_type": "code",
   "execution_count": 17,
   "metadata": {},
   "outputs": [],
   "source": [
    "import s2_py as s2\n",
    "import pandas as pd\n",
    "import numpy as np\n",
    "import matplotlib.pyplot as plt\n",
    "import shapefile as shp\n",
    "import geopandas as gpd\n",
    "import descartes\n",
    "from shapely.geometry import Polygon, mapping, Point\n",
    "from sklearn.metrics.pairwise import euclidean_distances"
   ]
  },
  {
   "cell_type": "code",
   "execution_count": 35,
   "metadata": {},
   "outputs": [
    {
     "data": {
      "text/plain": [
       "<matplotlib.axes._subplots.AxesSubplot at 0x7f65a90269b0>"
      ]
     },
     "execution_count": 35,
     "metadata": {},
     "output_type": "execute_result"
    },
    {
     "data": {
      "image/png": "[encoded data removed]",
      "text/plain": [
       "<Figure size 432x288 with 1 Axes>"
      ]
     },
     "metadata": {
      "needs_background": "light"
     },
     "output_type": "display_data"
    }
   ],
   "source": [
    "moisture_data_file = \"../w210_Wildfire/data/FuelMoistureCA.xlsx\"\n",
    "moisture_sites_file = \"../w210_Wildfire/data/FuelMoistureSites.xlsx\"\n",
    "cal_shape_file = \"../w210_Wildfire/EDA/Data/CA_State/CA_State_TIGER2016.shp\"\n",
    "\n",
    "ca_df = gpd.read_file(cal_shape_file)\n",
    "crs = {'init': 'epsg:4326'}\n",
    "ca_df = ca_df.to_crs(crs)\n",
    "ca_df.plot(color='white', edgecolor='lightgrey')\n"
   ]
  },
  {
   "cell_type": "code",
   "execution_count": 3,
   "metadata": {},
   "outputs": [],
   "source": [
    "def create_S2_coverer(loop, lvl):\n",
    "    \"\"\"Generates a list of S2 Cells of specified level\"\"\"\n",
    "    coverer = s2.S2RegionCoverer()\n",
    "    coverer.set_min_level(lvl)\n",
    "    coverer.set_max_level(lvl)\n",
    "    return coverer.GetCovering(loop)\n",
    "\n",
    "def create_S2_loop(max_poly):\n",
    "    \"\"\"Converts Polygon into S2 Loop\"\"\"\n",
    "    points = []\n",
    "    for coord in tuple(reversed(max_poly)):\n",
    "        long, lat = coord\n",
    "        latlng = s2.S2LatLng.FromDegrees(lat, long)\n",
    "        points.append(latlng.ToPoint())\n",
    "    return s2.S2Loop(points)\n",
    "\n",
    "def extract_max_polygon(fire_poly):\n",
    "    \"\"\"Return the largest polygon for each wildfire multipolygon\"\"\"\n",
    "    fire_map = mapping(fire_poly)\n",
    "    if 'coordinates' in fire_map:\n",
    "        coords = fire_map['coordinates']\n",
    "    elif 'features' in fire_map:\n",
    "        coords = fire_map['features'][0]['geometry']['coordinates']\n",
    "    \n",
    "    max_poly = coords[0][0]\n",
    "    for i in range(len(coords)):\n",
    "        if len(coords[i][0]) > len(max_poly):\n",
    "            max_poly = coords[i][0]\n",
    "    return max_poly\n",
    "\n",
    "\n",
    "def S2Cells_To_GPD(covering):\n",
    "    geoms = []\n",
    "    for cellid in covering:\n",
    "        new_cell = s2.S2Cell(cellid)\n",
    "        vertices = []\n",
    "        for i in range(4):\n",
    "            vertex = new_cell.GetVertex(i)\n",
    "            latlng = s2.S2LatLng(vertex)\n",
    "            vertices.append((latlng.lng().degrees(),\n",
    "                             latlng.lat().degrees()))\n",
    "        geo = Polygon(vertices)\n",
    "        geoms.append(geo)\n",
    "    return gpd.GeoDataFrame(crs={'init': 'epsg:4326'}, geometry=geoms)\n"
   ]
  },
  {
   "cell_type": "code",
   "execution_count": 4,
   "metadata": {},
   "outputs": [],
   "source": [
    "# Now we can extract only the largest polygon to build S2 Cells.\n",
    "ca_df['Largest_polygon'] = ca_df.geometry.apply(extract_max_polygon)\n",
    "ca_df.head()\n",
    "# Now we can create an object called S2 loop based on that polygon's coordinates\n",
    "ca_df['S2_Loop'] = ca_df.Largest_polygon.apply(create_S2_loop)\n",
    "\n",
    "ca_df['S2_Cells'] = ca_df.S2_Loop.apply(create_S2_coverer, args=[11])\n",
    "\n",
    "ca_s2_df = S2Cells_To_GPD(ca_df['S2_Cells'][0])\n",
    "ca_s2_df.head()\n",
    "\n",
    "#Get the centroid of each s2 cell\n",
    "ca_s2_df['centroid'] = ca_s2_df.geometry.apply(lambda x : Point(x.centroid))"
   ]
  },
  {
   "cell_type": "markdown",
   "metadata": {},
   "source": [
    "### Bring in the Fuel Moisture Data"
   ]
  },
  {
   "cell_type": "code",
   "execution_count": 36,
   "metadata": {},
   "outputs": [
    {
     "name": "stdout",
     "output_type": "stream",
     "text": [
      "(48161, 7)\n"
     ]
    }
   ],
   "source": [
    "moisture_data_file = \"../w210_Wildfire/data/FuelMoistureCA.xlsx\"\n",
    "moisture_sites_file = \"../w210_Wildfire/data/FuelMoistureSites.xlsx\"\n",
    "\n",
    "moisture_data_df = pd.read_excel(moisture_data_file)\n",
    "moisture_sites_df = pd.read_excel(moisture_sites_file)\n",
    "\n",
    "print(moisture_data_df.shape)\n",
    "moisture_data_df.set_index('Site',inplace=True,drop=True)\n",
    "\n",
    "moisture_data = moisture_sites_df.join(moisture_data_df,'site',how='right')\n",
    "# Create Shapely Point objects from the lat lng\n",
    "moisture_sites_df['geometry'] = moisture_sites_df.apply(lambda x : Point(x['lng'],x['lat']),axis=1)\n",
    "# Convert to GeoPandas Df\n",
    "gdf = gpd.GeoDataFrame(moisture_sites_df, crs=crs)"
   ]
  },
  {
   "cell_type": "code",
   "execution_count": 37,
   "metadata": {},
   "outputs": [],
   "source": [
    "def closest_station(stations,s2_cells):\n",
    "    X = stations[['lng','lat']].values\n",
    "    Y = np.array(s2_cells.centroid.apply(lambda x : np.array([x.x,x.y])))\n",
    "    \n",
    "    return stations.iloc[euclidean_distances(np.stack(X),np.stack(Y)).argmin(axis=0)].site\n",
    "    \n",
    "dists = closest_station(moisture_sites_df,ca_s2_df)"
   ]
  },
  {
   "cell_type": "code",
   "execution_count": 38,
   "metadata": {},
   "outputs": [
    {
     "name": "stdout",
     "output_type": "stream",
     "text": [
      "65    Lava Beds Average\n",
      "65    Lava Beds Average\n",
      "65    Lava Beds Average\n",
      "65    Lava Beds Average\n",
      "15        Blue Mountain\n",
      "Name: site, dtype: object\n",
      "                 site  gacc state                         grup      lat  \\\n",
      "65  Lava Beds Average  NOCC    CA  Lava Beds National Monument  41.7075   \n",
      "\n",
      "           lng                          geometry  \n",
      "65 -121.484722  POINT (-121.48472222222 41.7075)  \n",
      "                                            geometry  \\\n",
      "0  POLYGON ((-121.5151832932889 42.02787309660572...   \n",
      "1  POLYGON ((-121.4807815669189 41.99995397496993...   \n",
      "2  POLYGON ((-121.4333590341894 42.01438074658554...   \n",
      "3  POLYGON ((-121.3859165013814 42.02878753417956...   \n",
      "4  POLYGON ((-121.1276476762897 42.03003809931563...   \n",
      "\n",
      "                                       centroid  \n",
      "0  POINT (-121.5216916318696 42.00668572592214)  \n",
      "1  POINT (-121.4873005326221 41.97878451432724)  \n",
      "2  POINT (-121.4399025659317 41.99320638972365)  \n",
      "3  POINT (-121.3924846137877 42.00760830877103)  \n",
      "4  POINT (-121.1343348730988 42.00887570247252)  \n"
     ]
    }
   ],
   "source": [
    "print(dists.head())\n",
    "print(moisture_sites_df[moisture_sites_df['site'] == 'Lava Beds Average'])\n",
    "print(ca_s2_df.head())"
   ]
  },
  {
   "cell_type": "code",
   "execution_count": 49,
   "metadata": {},
   "outputs": [
    {
     "data": {
      "text/plain": [
       "[<matplotlib.lines.Line2D at 0x7f65a94da588>]"
      ]
     },
     "execution_count": 49,
     "metadata": {},
     "output_type": "execute_result"
    },
    {
     "data": {
      "image/png": "[encoded data removed]",
      "text/plain": [
       "<Figure size 432x288 with 1 Axes>"
      ]
     },
     "metadata": {
      "needs_background": "light"
     },
     "output_type": "display_data"
    }
   ],
   "source": [
    "gdf[gdf.site == 'Lava Beds Average'].plot()\n",
    "plt.plot(ca_s2_df.centroid.head().values[0].x,ca_s2_df.centroid.head().values[0].y)"
   ]
  }
 ],
 "metadata": {
  "kernelspec": {
   "display_name": "Python 3",
   "language": "python",
   "name": "python3"
  },
  "language_info": {
   "codemirror_mode": {
    "name": "ipython",
    "version": 3
   },
   "file_extension": ".py",
   "mimetype": "text/x-python",
   "name": "python",
   "nbconvert_exporter": "python",
   "pygments_lexer": "ipython3",
   "version": "3.7.0"
  }
 },
 "nbformat": 4,
 "nbformat_minor": 2
}
