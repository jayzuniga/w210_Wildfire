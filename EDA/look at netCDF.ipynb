{
 "cells": [
  {
   "cell_type": "code",
   "execution_count": 9,
   "metadata": {},
   "outputs": [
    {
     "data": {
      "text/plain": [
       "'\\nNAME\\n    NetCDF with Python\\nPURPOSE\\n    To demonstrate how to read and write data with NetCDF files using\\n    a NetCDF file from the NCEP/NCAR Reanalysis.\\n    Plotting using Matplotlib and Basemap is also shown.\\nPROGRAMMER(S)\\n    Chris Slocum\\nREVISION HISTORY\\n    20140320 -- Initial version created and posted online\\n    20140722 -- Added basic error handling to ncdump\\n                Thanks to K.-Michael Aye for highlighting the issue\\nREFERENCES\\n    netcdf4-python -- http://code.google.com/p/netcdf4-python/\\n    NCEP/NCAR Reanalysis -- Kalnay et al. 1996\\n        http://dx.doi.org/10.1175/1520-0477(1996)077<0437:TNYRP>2.0.CO;2\\n'"
      ]
     },
     "execution_count": 9,
     "metadata": {},
     "output_type": "execute_result"
    }
   ],
   "source": [
    "'''\n",
    "NAME\n",
    "    NetCDF with Python\n",
    "PURPOSE\n",
    "    To demonstrate how to read and write data with NetCDF files using\n",
    "    a NetCDF file from the NCEP/NCAR Reanalysis.\n",
    "    Plotting using Matplotlib and Basemap is also shown.\n",
    "PROGRAMMER(S)\n",
    "    Chris Slocum\n",
    "REVISION HISTORY\n",
    "    20140320 -- Initial version created and posted online\n",
    "    20140722 -- Added basic error handling to ncdump\n",
    "                Thanks to K.-Michael Aye for highlighting the issue\n",
    "REFERENCES\n",
    "    netcdf4-python -- http://code.google.com/p/netcdf4-python/\n",
    "    NCEP/NCAR Reanalysis -- Kalnay et al. 1996\n",
    "        http://dx.doi.org/10.1175/1520-0477(1996)077<0437:TNYRP>2.0.CO;2\n",
    "'''"
   ]
  },
  {
   "cell_type": "code",
   "execution_count": 10,
   "metadata": {},
   "outputs": [],
   "source": [
    "import datetime as dt  # Python standard library datetime  module\n",
    "import numpy as np\n",
    "import netCDF4  # http://code.google.com/p/netcdf4-python/\n",
    "import matplotlib.pyplot as plt\n",
    "from mpl_toolkits.basemap import Basemap, addcyclic, shiftgrid"
   ]
  },
  {
   "cell_type": "code",
   "execution_count": 11,
   "metadata": {},
   "outputs": [
    {
     "name": "stdout",
     "output_type": "stream",
     "text": [
      "C:\\Users\\sgeo\\AppData\\Local\\Continuum\\anaconda3\\envs\\py36\\python.exe\n"
     ]
    }
   ],
   "source": [
    "import sys\n",
    "print(sys.executable)"
   ]
  },
  {
   "cell_type": "code",
   "execution_count": 12,
   "metadata": {
    "collapsed": true
   },
   "outputs": [],
   "source": [
    "def ncdump(nc_fid, verb=True):\n",
    "    '''\n",
    "    ncdump outputs dimensions, variables and their attribute information.\n",
    "    The information is similar to that of NCAR's ncdump utility.\n",
    "    ncdump requires a valid instance of Dataset.\n",
    "\n",
    "    Parameters\n",
    "    ----------\n",
    "    nc_fid : netCDF4.Dataset\n",
    "        A netCDF4 dateset object\n",
    "    verb : Boolean\n",
    "        whether or not nc_attrs, nc_dims, and nc_vars are printed\n",
    "\n",
    "    Returns\n",
    "    -------\n",
    "    nc_attrs : list\n",
    "        A Python list of the NetCDF file global attributes\n",
    "    nc_dims : list\n",
    "        A Python list of the NetCDF file dimensions\n",
    "    nc_vars : list\n",
    "        A Python list of the NetCDF file variables\n",
    "    '''\n",
    "    def print_ncattr(key):\n",
    "        \"\"\"\n",
    "        Prints the NetCDF file attributes for a given key\n",
    "\n",
    "        Parameters\n",
    "        ----------\n",
    "        key : unicode\n",
    "            a valid netCDF4.Dataset.variables key\n",
    "        \"\"\"\n",
    "        try:\n",
    "            print( \"\\t\\ttype:\", repr(nc_fid.variables[key].dtype))\n",
    "            for ncattr in nc_fid.variables[key].ncattrs():\n",
    "                print( '\\t\\t%s:' % ncattr,\\\n",
    "                      repr(nc_fid.variables[key].getncattr(ncattr)))\n",
    "        except KeyError:\n",
    "            print( \"\\t\\tWARNING: %s does not contain variable attributes\" % key)\n",
    "\n",
    "    # NetCDF global attributes\n",
    "    nc_attrs = nc_fid.ncattrs()\n",
    "    if verb:\n",
    "        print( \"NetCDF Global Attributes:\")\n",
    "        for nc_attr in nc_attrs:\n",
    "            print( '\\t%s:' % nc_attr, repr(nc_fid.getncattr(nc_attr)))\n",
    "    nc_dims = [dim for dim in nc_fid.dimensions]  # list of nc dimensions\n",
    "    # Dimension shape information.\n",
    "    if verb:\n",
    "        print( \"NetCDF dimension information:\")\n",
    "        for dim in nc_dims:\n",
    "            print( \"\\tName:\", dim) \n",
    "            print( \"\\t\\tsize:\", len(nc_fid.dimensions[dim]))\n",
    "            print_ncattr(dim)\n",
    "    # Variable information.\n",
    "    nc_vars = [var for var in nc_fid.variables]  # list of nc variables\n",
    "    if verb:\n",
    "        print( \"NetCDF variable information:\")\n",
    "        for var in nc_vars:\n",
    "            if var not in nc_dims:\n",
    "                print( '\\tName:', var)\n",
    "                print( \"\\t\\tdimensions:\", nc_fid.variables[var].dimensions)\n",
    "                print( \"\\t\\tsize:\", nc_fid.variables[var].size)\n",
    "                print_ncattr(var)\n",
    "    return nc_attrs, nc_dims, nc_vars"
   ]
  },
  {
   "cell_type": "code",
   "execution_count": 13,
   "metadata": {
    "collapsed": true
   },
   "outputs": [],
   "source": [
    "nc_f = './Downloads/c_gls_FAPAR300-RT0_201905310000_GLOBE_PROBAV_V1.0.1.nc'  # Your filename\n"
   ]
  },
  {
   "cell_type": "code",
   "execution_count": 14,
   "metadata": {
    "scrolled": false
   },
   "outputs": [
    {
     "name": "stdout",
     "output_type": "stream",
     "text": [
      "NetCDF Global Attributes:\n",
      "\tConventions: 'CF-1.6'\n",
      "\tlong_name: 'Fraction of Absorbed Photosynthetically Active Radiation'\n",
      "\tprocessing_mode: 'Near real time'\n",
      "\treferences: 'http://land.copernicus.eu/global/products/fapar'\n",
      "\tplatform: 'Proba-V'\n",
      "\tcopyright: 'Copernicus Service information 2019'\n",
      "\tsource: 'Derived from EO satellite imagery'\n",
      "\tarchive_facility: 'VITO'\n",
      "\tsensor: 'VEGETATION'\n",
      "\tprocessing_level: 'L3'\n",
      "\tproduct_version: 'V1.0.1'\n",
      "\ttime_coverage_start: '2018-11-02T00:00:00Z'\n",
      "\tinstitution: 'VITO NV'\n",
      "\tparent_identifier: 'urn:cgls:global:fapar300_v1_333m'\n",
      "\ttime_coverage_end: '2019-05-31T23:59:59Z'\n",
      "\ttitle: '10-daily Fraction of Absorbed Photosynthetically Active Radiation 333M: GLOBE 2019-05-31T00:00:00Z'\n",
      "\torbit_type: 'LEO'\n",
      "\tidentifier: 'urn:cgls:global:fapar300_v1_333m:FAPAR300-RT0_201905310000_GLOBE_PROBAV_V1.0.1'\n",
      "\thistory: 'Processing line GEO3.0: 2019-06-03'\n",
      "NetCDF dimension information:\n",
      "\tName: lon\n",
      "\t\tsize: 120960\n",
      "\t\ttype: dtype('float64')\n",
      "\t\tstandard_name: 'longitude'\n",
      "\t\tlong_name: 'longitude'\n",
      "\t\tDIMENSION_LABELS: 'lon'\n",
      "\t\tunits: 'degrees_east'\n",
      "\t\t_CoordinateAxisType: 'Lon'\n",
      "\t\taxis: 'X'\n",
      "\tName: lat\n",
      "\t\tsize: 47040\n",
      "\t\ttype: dtype('float64')\n",
      "\t\tstandard_name: 'latitude'\n",
      "\t\tlong_name: 'latitude'\n",
      "\t\tDIMENSION_LABELS: 'lat'\n",
      "\t\tunits: 'degrees_north'\n",
      "\t\t_CoordinateAxisType: 'Lat'\n",
      "\t\taxis: 'Y'\n",
      "NetCDF variable information:\n",
      "\tName: crs\n",
      "\t\tdimensions: ()\n",
      "\t\tsize: 1.0\n",
      "\t\ttype: dtype('S1')\n",
      "\t\tlong_name: 'coordinate reference system'\n",
      "\t\tsemi_major_axis: 6378137.0\n",
      "\t\tspatial_ref: 'GEOGCS[\"WGS 84\",DATUM[\"WGS_1984\",SPHEROID[\"WGS 84\",6378137,298.257223563,AUTHORITY[\"EPSG\",\"7030\"]],TOWGS84[0,0,0,0,0,0,0],AUTHORITY[\"EPSG\",\"6326\"]],PRIMEM[\"Greenwich\",0,AUTHORITY[\"EPSG\",\"8901\"]],UNIT[\"degree\",0.0174532925199433,AUTHORITY[\"EPSG\",\"9108\"]],AUTHORITY[\"EPSG\",\"4326\"]]'\n",
      "\t\tgrid_mapping_name: 'latitude_longitude'\n",
      "\t\t_CoordinateTransformType: 'Projection'\n",
      "\t\t_CoordinateAxisTypes: 'GeoX GeoY'\n",
      "\t\tinverse_flattening: 298.257223563\n",
      "\t\tGeoTransform: '-180.0000000000 0.0029761905 0.0 80.0000000000 0.0 -0.0029761905'\n",
      "\t\tlongitude_of_prime_meridian: 0.0\n",
      "\tName: FAPAR\n",
      "\t\tdimensions: ('lat', 'lon')\n",
      "\t\tsize: 1394991104\n",
      "\t\ttype: dtype('uint8')\n",
      "\t\t_FillValue: 255\n",
      "\t\tgrid_mapping: 'crs'\n",
      "\t\tscale_factor: 0.004\n",
      "\t\tmissing_value: 255\n",
      "\t\tflag_meanings: 'Missing'\n",
      "\t\tadd_offset: 0.0\n",
      "\t\tlong_name: 'Fraction of Absorbed Photosynthetically Active Radiation 333m'\n",
      "\t\tstandard_name: 'fraction_of_surface_downwelling_photosynthetic_radiative_flux_absorbed_by_vegetation'\n",
      "\t\tflag_values: 255\n",
      "\t\tunits: ''\n",
      "\t\tvalid_range: array([  0, 235], dtype=uint8)\n",
      "\tName: LENGTH_AFTER\n",
      "\t\tdimensions: ('lat', 'lon')\n",
      "\t\tsize: 1394991104\n",
      "\t\ttype: dtype('uint8')\n",
      "\t\t_FillValue: 0\n",
      "\t\tgrid_mapping: 'crs'\n",
      "\t\tflag_meanings: 'Missing'\n",
      "\t\tvalid_range: array([ 0, 60], dtype=uint8)\n",
      "\t\tlong_name: 'Length of semi-period after product date'\n",
      "\t\tflag_values: 0\n",
      "\t\tunits: 'days'\n",
      "\t\tmissing_value: 0\n",
      "\tName: LENGTH_BEFORE\n",
      "\t\tdimensions: ('lat', 'lon')\n",
      "\t\tsize: 1394991104\n",
      "\t\ttype: dtype('uint8')\n",
      "\t\t_FillValue: 0\n",
      "\t\tgrid_mapping: 'crs'\n",
      "\t\tflag_meanings: 'Missing'\n",
      "\t\tvalid_range: array([ 15, 210], dtype=uint8)\n",
      "\t\tlong_name: 'Length of semi-period before product date'\n",
      "\t\tflag_values: 0\n",
      "\t\tunits: 'days'\n",
      "\t\tmissing_value: 0\n",
      "\tName: NOBS\n",
      "\t\tdimensions: ('lat', 'lon')\n",
      "\t\tsize: 1394991104\n",
      "\t\ttype: dtype('uint8')\n",
      "\t\t_FillValue: 0\n",
      "\t\tgrid_mapping: 'crs'\n",
      "\t\tflag_meanings: 'No_value'\n",
      "\t\tvalid_range: array([ 0, 40], dtype=uint8)\n",
      "\t\tstandard_name: 'fraction_of_surface_downwelling_photosynthetic_radiative_flux_absorbed_by_vegetation number_of_observations'\n",
      "\t\tflag_values: 0\n",
      "\t\tunits: ''\n",
      "\t\tmissing_value: 0\n",
      "\tName: QFLAG\n",
      "\t\tdimensions: ('lat', 'lon')\n",
      "\t\tsize: 1394991104\n",
      "\t\ttype: dtype('uint8')\n",
      "\t\t_FillValue: 255\n",
      "\t\tgrid_mapping: 'crs'\n",
      "\t\tflag_meanings: 'Land EBF Interpolated_missing_dekad From_previous_dekadal_products Polynomial_fit Linear_fit Interpolated_nearest_dates Nearest_fit Instantaneous_value'\n",
      "\t\tflag_masks: array([  1,   2,   4,  16,  96,  96,  96,  96, 128], dtype=uint8)\n",
      "\t\tvalid_range: array([  0, 255], dtype=uint8)\n",
      "\t\tlong_name: 'Quality flag on FAPAR 333m'\n",
      "\t\tstandard_name: 'fraction_of_surface_downwelling_photosynthetic_radiative_flux_absorbed_by_vegetation status_flag'\n",
      "\t\tflag_values: array([  1,   2,   4,  16,   0,  32,  64,  96, 128], dtype=uint8)\n",
      "\t\tunits: ''\n",
      "\t\tmissing_value: 255\n",
      "\tName: RMSE\n",
      "\t\tdimensions: ('lat', 'lon')\n",
      "\t\tsize: 1394991104\n",
      "\t\ttype: dtype('uint8')\n",
      "\t\t_FillValue: 255\n",
      "\t\tgrid_mapping: 'crs'\n",
      "\t\tscale_factor: 0.004\n",
      "\t\tmissing_value: 255\n",
      "\t\tflag_meanings: 'Missing'\n",
      "\t\tadd_offset: 0.0\n",
      "\t\tlong_name: 'RMSE on FAPAR 333m'\n",
      "\t\tstandard_name: 'fraction_of_surface_downwelling_photosynthetic_radiative_flux_absorbed_by_vegetation standard_error'\n",
      "\t\tflag_values: 255\n",
      "\t\tunits: ''\n",
      "\t\tvalid_range: array([  0, 235], dtype=uint8)\n"
     ]
    }
   ],
   "source": [
    "nc_fid = netCDF4.Dataset(nc_f, 'r')  # Dataset is the class behavior to open the file\n",
    "                             # and create an instance of the ncCDF4 class\n",
    "nc_attrs, nc_dims, nc_vars = ncdump(nc_fid)\n",
    "# Extract data from NetCDF file\n",
    "lats = nc_fid.variables['lat'][:]  # extract/copy the data\n",
    "lons = nc_fid.variables['lon'][:]"
   ]
  },
  {
   "cell_type": "code",
   "execution_count": 15,
   "metadata": {},
   "outputs": [
    {
     "data": {
      "text/plain": [
       "netCDF4._netCDF4.Variable"
      ]
     },
     "execution_count": 15,
     "metadata": {},
     "output_type": "execute_result"
    }
   ],
   "source": [
    "fapar = nc_fid.variables['FAPAR']  # shape is ???, \n",
    "type(fapar)"
   ]
  },
  {
   "cell_type": "code",
   "execution_count": 16,
   "metadata": {},
   "outputs": [
    {
     "data": {
      "text/plain": [
       "odict_keys(['lon', 'lat', 'crs', 'FAPAR', 'LENGTH_AFTER', 'LENGTH_BEFORE', 'NOBS', 'QFLAG', 'RMSE'])"
      ]
     },
     "execution_count": 16,
     "metadata": {},
     "output_type": "execute_result"
    }
   ],
   "source": [
    "nc_fid.variables.keys()"
   ]
  },
  {
   "cell_type": "code",
   "execution_count": 17,
   "metadata": {},
   "outputs": [
    {
     "data": {
      "text/plain": [
       "47040"
      ]
     },
     "execution_count": 17,
     "metadata": {},
     "output_type": "execute_result"
    }
   ],
   "source": [
    "len(fapar)"
   ]
  },
  {
   "cell_type": "code",
   "execution_count": 18,
   "metadata": {},
   "outputs": [
    {
     "data": {
      "text/plain": [
       "masked_array(data=[--, --, --, ..., --, --, --],\n",
       "             mask=[ True,  True,  True, ...,  True,  True,  True],\n",
       "       fill_value=255,\n",
       "            dtype=float32)"
      ]
     },
     "execution_count": 18,
     "metadata": {},
     "output_type": "execute_result"
    }
   ],
   "source": [
    "fapar[1]"
   ]
  },
  {
   "cell_type": "code",
   "execution_count": 19,
   "metadata": {},
   "outputs": [
    {
     "data": {
      "text/plain": [
       "2"
      ]
     },
     "execution_count": 19,
     "metadata": {},
     "output_type": "execute_result"
    }
   ],
   "source": [
    "np.ndim(fapar)"
   ]
  },
  {
   "cell_type": "code",
   "execution_count": 20,
   "metadata": {},
   "outputs": [
    {
     "data": {
      "text/plain": [
       "numpy.ma.core.MaskedArray"
      ]
     },
     "execution_count": 20,
     "metadata": {},
     "output_type": "execute_result"
    }
   ],
   "source": [
    "type(lats)"
   ]
  },
  {
   "cell_type": "code",
   "execution_count": 21,
   "metadata": {},
   "outputs": [
    {
     "data": {
      "text/plain": [
       "47040"
      ]
     },
     "execution_count": 21,
     "metadata": {},
     "output_type": "execute_result"
    }
   ],
   "source": [
    "lats.size"
   ]
  },
  {
   "cell_type": "code",
   "execution_count": 23,
   "metadata": {},
   "outputs": [
    {
     "data": {
      "text/plain": [
       "1"
      ]
     },
     "execution_count": 23,
     "metadata": {},
     "output_type": "execute_result"
    }
   ],
   "source": [
    "np.ndim(lats)"
   ]
  },
  {
   "cell_type": "code",
   "execution_count": 24,
   "metadata": {},
   "outputs": [
    {
     "data": {
      "text/plain": [
       "120960"
      ]
     },
     "execution_count": 24,
     "metadata": {},
     "output_type": "execute_result"
    }
   ],
   "source": [
    "lons.size"
   ]
  },
  {
   "cell_type": "code",
   "execution_count": 25,
   "metadata": {},
   "outputs": [
    {
     "data": {
      "text/plain": [
       "1"
      ]
     },
     "execution_count": 25,
     "metadata": {},
     "output_type": "execute_result"
    }
   ],
   "source": [
    "np.ndim(lons)"
   ]
  },
  {
   "cell_type": "code",
   "execution_count": 26,
   "metadata": {},
   "outputs": [
    {
     "data": {
      "text/plain": [
       "masked_array(data=[79.99702381, 79.99404762, 79.99107143, 79.98809524,\n",
       "                   79.98511905, 79.98214286, 79.97916667, 79.97619048,\n",
       "                   79.97321429],\n",
       "             mask=False,\n",
       "       fill_value=1e+20)"
      ]
     },
     "execution_count": 26,
     "metadata": {},
     "output_type": "execute_result"
    }
   ],
   "source": [
    "lats[1:10]"
   ]
  },
  {
   "cell_type": "code",
   "execution_count": 27,
   "metadata": {},
   "outputs": [
    {
     "data": {
      "text/plain": [
       "masked_array(data=[-179.99702381, -179.99404762, -179.99107143,\n",
       "                   -179.98809524, -179.98511905, -179.98214286,\n",
       "                   -179.97916667, -179.97619048, -179.97321429],\n",
       "             mask=False,\n",
       "       fill_value=1e+20)"
      ]
     },
     "execution_count": 27,
     "metadata": {},
     "output_type": "execute_result"
    }
   ],
   "source": [
    "lons[1:10]"
   ]
  },
  {
   "cell_type": "code",
   "execution_count": 28,
   "metadata": {},
   "outputs": [
    {
     "data": {
      "text/plain": [
       "-59.997023809491964"
      ]
     },
     "execution_count": 28,
     "metadata": {},
     "output_type": "execute_result"
    }
   ],
   "source": [
    "# South of everything except Antarctica\n",
    "np.min(lats)"
   ]
  },
  {
   "cell_type": "code",
   "execution_count": 29,
   "metadata": {},
   "outputs": [
    {
     "data": {
      "text/plain": [
       "80.0"
      ]
     },
     "execution_count": 29,
     "metadata": {},
     "output_type": "execute_result"
    }
   ],
   "source": [
    "# North of almost everything\n",
    "np.max(lats)"
   ]
  },
  {
   "cell_type": "code",
   "execution_count": 30,
   "metadata": {},
   "outputs": [
    {
     "data": {
      "text/plain": [
       "-180.0"
      ]
     },
     "execution_count": 30,
     "metadata": {},
     "output_type": "execute_result"
    }
   ],
   "source": [
    "# International dateline from east to west\n",
    "np.min(lons)"
   ]
  },
  {
   "cell_type": "code",
   "execution_count": 31,
   "metadata": {},
   "outputs": [
    {
     "data": {
      "text/plain": [
       "179.9970238111609"
      ]
     },
     "execution_count": 31,
     "metadata": {},
     "output_type": "execute_result"
    }
   ],
   "source": [
    "# International dateline from west to east\n",
    "np.max(lons)"
   ]
  },
  {
   "cell_type": "code",
   "execution_count": 32,
   "metadata": {},
   "outputs": [
    {
     "data": {
      "text/plain": [
       "0.0029761904761897995"
      ]
     },
     "execution_count": 32,
     "metadata": {},
     "output_type": "execute_result"
    }
   ],
   "source": [
    "# Resolution? 0.0174532925199433 ?\n",
    "lats[1] - lats[2]"
   ]
  },
  {
   "cell_type": "code",
   "execution_count": 33,
   "metadata": {},
   "outputs": [
    {
     "data": {
      "text/plain": [
       "-0.0029761904762040103"
      ]
     },
     "execution_count": 33,
     "metadata": {},
     "output_type": "execute_result"
    }
   ],
   "source": [
    "lons[1] - lons[2]"
   ]
  },
  {
   "cell_type": "code",
   "execution_count": null,
   "metadata": {
    "collapsed": true
   },
   "outputs": [],
   "source": []
  },
  {
   "cell_type": "markdown",
   "metadata": {},
   "source": [
    "\n",
    "### California is between West 125 (-125 lon) and 114 (-114 lon), and 32 N and 42 N (32 and 42 lat)\n",
    "Get to a course grid of CA:"
   ]
  },
  {
   "cell_type": "code",
   "execution_count": 41,
   "metadata": {},
   "outputs": [
    {
     "data": {
      "text/plain": [
       "-124.94047619022581"
      ]
     },
     "execution_count": 41,
     "metadata": {},
     "output_type": "execute_result"
    }
   ],
   "source": [
    "lons[18500]"
   ]
  },
  {
   "cell_type": "code",
   "execution_count": 45,
   "metadata": {},
   "outputs": [
    {
     "data": {
      "text/plain": [
       "-113.77976190446077"
      ]
     },
     "execution_count": 45,
     "metadata": {},
     "output_type": "execute_result"
    }
   ],
   "source": [
    "lons[22250]"
   ]
  },
  {
   "cell_type": "code",
   "execution_count": 53,
   "metadata": {},
   "outputs": [
    {
     "data": {
      "text/plain": [
       "42.05357142858006"
      ]
     },
     "execution_count": 53,
     "metadata": {},
     "output_type": "execute_result"
    }
   ],
   "source": [
    "lats[12750]"
   ]
  },
  {
   "cell_type": "code",
   "execution_count": 60,
   "metadata": {},
   "outputs": [
    {
     "data": {
      "text/plain": [
       "31.63690476191576"
      ]
     },
     "execution_count": 60,
     "metadata": {},
     "output_type": "execute_result"
    }
   ],
   "source": [
    "lats[16250]"
   ]
  },
  {
   "cell_type": "code",
   "execution_count": 67,
   "metadata": {
    "collapsed": true
   },
   "outputs": [],
   "source": [
    "fapar_ca = fapar[12750:16250]"
   ]
  },
  {
   "cell_type": "code",
   "execution_count": 68,
   "metadata": {},
   "outputs": [
    {
     "data": {
      "text/plain": [
       "numpy.ma.core.MaskedArray"
      ]
     },
     "execution_count": 68,
     "metadata": {},
     "output_type": "execute_result"
    }
   ],
   "source": [
    "type(fapar_ca)"
   ]
  },
  {
   "cell_type": "code",
   "execution_count": 69,
   "metadata": {},
   "outputs": [
    {
     "data": {
      "text/plain": [
       "0"
      ]
     },
     "execution_count": 69,
     "metadata": {},
     "output_type": "execute_result"
    }
   ],
   "source": [
    "fapar_ca.size"
   ]
  },
  {
   "cell_type": "code",
   "execution_count": 70,
   "metadata": {},
   "outputs": [
    {
     "data": {
      "text/plain": [
       "masked_array(\n",
       "  data=[[--, --, --, ..., --, --, --],\n",
       "        [--, --, --, ..., --, --, --],\n",
       "        [--, --, --, ..., --, --, --],\n",
       "        ...,\n",
       "        [--, --, --, ..., --, --, --],\n",
       "        [--, --, --, ..., --, --, --],\n",
       "        [--, --, --, ..., --, --, --]],\n",
       "  mask=[[ True,  True,  True, ...,  True,  True,  True],\n",
       "        [ True,  True,  True, ...,  True,  True,  True],\n",
       "        [ True,  True,  True, ...,  True,  True,  True],\n",
       "        ...,\n",
       "        [ True,  True,  True, ...,  True,  True,  True],\n",
       "        [ True,  True,  True, ...,  True,  True,  True],\n",
       "        [ True,  True,  True, ...,  True,  True,  True]],\n",
       "  fill_value=255,\n",
       "  dtype=float32)"
      ]
     },
     "execution_count": 70,
     "metadata": {},
     "output_type": "execute_result"
    }
   ],
   "source": [
    "fapar[12750:16250]"
   ]
  },
  {
   "cell_type": "code",
   "execution_count": 71,
   "metadata": {},
   "outputs": [
    {
     "data": {
      "text/plain": [
       "31.639880952391948"
      ]
     },
     "execution_count": 71,
     "metadata": {},
     "output_type": "execute_result"
    }
   ],
   "source": [
    "lats_ca = lats[12750:16250]\n",
    "np.min(lats_ca)"
   ]
  },
  {
   "cell_type": "code",
   "execution_count": 72,
   "metadata": {},
   "outputs": [
    {
     "data": {
      "text/plain": [
       "42.05357142858006"
      ]
     },
     "execution_count": 72,
     "metadata": {},
     "output_type": "execute_result"
    }
   ],
   "source": [
    "np.max(lats_ca)"
   ]
  },
  {
   "cell_type": "code",
   "execution_count": 74,
   "metadata": {},
   "outputs": [
    {
     "data": {
      "text/plain": [
       "-124.94047619022581"
      ]
     },
     "execution_count": 74,
     "metadata": {},
     "output_type": "execute_result"
    }
   ],
   "source": [
    "lons_ca = lons[18500:22250]\n",
    "np.min(lons_ca)"
   ]
  },
  {
   "cell_type": "code",
   "execution_count": 75,
   "metadata": {},
   "outputs": [
    {
     "data": {
      "text/plain": [
       "-113.78273809493697"
      ]
     },
     "execution_count": 75,
     "metadata": {},
     "output_type": "execute_result"
    }
   ],
   "source": [
    "np.max(lons_ca)"
   ]
  },
  {
   "cell_type": "code",
   "execution_count": 77,
   "metadata": {},
   "outputs": [
    {
     "data": {
      "text/plain": [
       "numpy.ma.core.MaskedArray"
      ]
     },
     "execution_count": 77,
     "metadata": {},
     "output_type": "execute_result"
    }
   ],
   "source": [
    "fapar_intermed = fapar[12750:16250]\n",
    "type(fapar_intermed)"
   ]
  },
  {
   "cell_type": "code",
   "execution_count": 78,
   "metadata": {},
   "outputs": [
    {
     "data": {
      "text/plain": [
       "423360000"
      ]
     },
     "execution_count": 78,
     "metadata": {},
     "output_type": "execute_result"
    }
   ],
   "source": [
    "fapar_intermed.size"
   ]
  },
  {
   "cell_type": "code",
   "execution_count": 79,
   "metadata": {},
   "outputs": [
    {
     "data": {
      "text/plain": [
       "2"
      ]
     },
     "execution_count": 79,
     "metadata": {},
     "output_type": "execute_result"
    }
   ],
   "source": [
    "fapar_intermed.ndim"
   ]
  },
  {
   "cell_type": "code",
   "execution_count": 82,
   "metadata": {},
   "outputs": [
    {
     "data": {
      "text/plain": [
       "(3500, 120960)"
      ]
     },
     "execution_count": 82,
     "metadata": {},
     "output_type": "execute_result"
    }
   ],
   "source": [
    "fapar_intermed.shape"
   ]
  },
  {
   "cell_type": "code",
   "execution_count": 83,
   "metadata": {},
   "outputs": [
    {
     "data": {
      "text/plain": [
       "numpy.ma.core.MaskedArray"
      ]
     },
     "execution_count": 83,
     "metadata": {},
     "output_type": "execute_result"
    }
   ],
   "source": [
    "fapar_ca = fapar_intermed[:,18500:22250]\n",
    "type(fapar_ca)"
   ]
  },
  {
   "cell_type": "code",
   "execution_count": 84,
   "metadata": {},
   "outputs": [
    {
     "data": {
      "text/plain": [
       "13125000"
      ]
     },
     "execution_count": 84,
     "metadata": {},
     "output_type": "execute_result"
    }
   ],
   "source": [
    "fapar_ca.size"
   ]
  },
  {
   "cell_type": "code",
   "execution_count": 85,
   "metadata": {},
   "outputs": [
    {
     "data": {
      "text/plain": [
       "(3500, 3750)"
      ]
     },
     "execution_count": 85,
     "metadata": {},
     "output_type": "execute_result"
    }
   ],
   "source": [
    "fapar_ca.shape"
   ]
  },
  {
   "cell_type": "code",
   "execution_count": 86,
   "metadata": {},
   "outputs": [
    {
     "data": {
      "text/plain": [
       "<matplotlib.image.AxesImage at 0x12a9d1e8198>"
      ]
     },
     "execution_count": 86,
     "metadata": {},
     "output_type": "execute_result"
    },
    {
     "data": {
      "image/png": "[encoded data removed]",
      "text/plain": [
       "<Figure size 432x288 with 1 Axes>"
      ]
     },
     "metadata": {
      "needs_background": "light"
     },
     "output_type": "display_data"
    }
   ],
   "source": [
    "plt.imshow(fapar_ca)"
   ]
  }
 ],
 "metadata": {
  "kernelspec": {
   "display_name": "Python [conda env:py36]",
   "language": "python",
   "name": "conda-env-py36-py"
  },
  "language_info": {
   "codemirror_mode": {
    "name": "ipython",
    "version": 3
   },
   "file_extension": ".py",
   "mimetype": "text/x-python",
   "name": "python",
   "nbconvert_exporter": "python",
   "pygments_lexer": "ipython3",
   "version": "3.6.6"
  }
 },
 "nbformat": 4,
 "nbformat_minor": 2
}
