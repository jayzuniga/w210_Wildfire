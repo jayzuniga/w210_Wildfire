{
 "cells": [
  {
   "cell_type": "code",
   "execution_count": 1,
   "metadata": {},
   "outputs": [
    {
     "data": {
      "text/html": [
       "<style>.container { width:100% !important; }</style>"
      ],
      "text/plain": [
       "<IPython.core.display.HTML object>"
      ]
     },
     "metadata": {},
     "output_type": "display_data"
    }
   ],
   "source": [
    "# increase cell width\n",
    "from IPython.core.display import display, HTML\n",
    "display(HTML(\"<style>.container { width:100% !important; }</style>\"))"
   ]
  },
  {
   "cell_type": "code",
   "execution_count": 2,
   "metadata": {},
   "outputs": [],
   "source": [
    "import gc\n",
    "import time\n",
    "import re\n",
    "import s2_py as s2\n",
    "import pandas as pd\n",
    "import numpy as np\n",
    "import matplotlib.pyplot as plt\n",
    "import shapefile as shp\n",
    "import geopandas as gpd\n",
    "from shapely.geometry import Polygon, mapping, box\n",
    "from datetime import date, timedelta"
   ]
  },
  {
   "cell_type": "code",
   "execution_count": 5,
   "metadata": {},
   "outputs": [
    {
     "name": "stdout",
     "output_type": "stream",
     "text": [
      "\u001b[0m\u001b[01;34mCA_State\u001b[0m/  \u001b[01;34mProcessed\u001b[0m/  \u001b[01;34mTransmission_Line\u001b[0m/  WildFire_2019.json\r\n"
     ]
    }
   ],
   "source": [
    "ls Data"
   ]
  },
  {
   "cell_type": "code",
   "execution_count": 33,
   "metadata": {},
   "outputs": [],
   "source": [
    "# import json\n",
    "# with open('./Data/WildFire_2019.json', 'r') as data_file:\n",
    "#     json_data = data_file.read().strip()\n",
    "\n",
    "# wf2019 = json.loads(json_data)"
   ]
  },
  {
   "cell_type": "code",
   "execution_count": 62,
   "metadata": {},
   "outputs": [
    {
     "data": {
      "text/plain": [
       "(86, 15)"
      ]
     },
     "execution_count": 62,
     "metadata": {},
     "output_type": "execute_result"
    }
   ],
   "source": [
    "# source: https://www.fire.ca.gov/incidents/2019/\n",
    "wf2019_df = pd.read_json('./Data/WildFire_2019.json', orient='records')\n",
    "wf2019_df.shape"
   ]
  },
  {
   "cell_type": "code",
   "execution_count": 63,
   "metadata": {},
   "outputs": [
    {
     "data": {
      "text/html": [
       "<div>\n",
       "<style scoped>\n",
       "    .dataframe tbody tr th:only-of-type {\n",
       "        vertical-align: middle;\n",
       "    }\n",
       "\n",
       "    .dataframe tbody tr th {\n",
       "        vertical-align: top;\n",
       "    }\n",
       "\n",
       "    .dataframe thead th {\n",
       "        text-align: right;\n",
       "    }\n",
       "</style>\n",
       "<table border=\"1\" class=\"dataframe\">\n",
       "  <thead>\n",
       "    <tr style=\"text-align: right;\">\n",
       "      <th></th>\n",
       "      <th>AcresBurnedDisplay</th>\n",
       "      <th>AdminUnit</th>\n",
       "      <th>CountiesList</th>\n",
       "      <th>IncidentId</th>\n",
       "      <th>IncidentTypeDisplay</th>\n",
       "      <th>IsActive</th>\n",
       "      <th>Latitude</th>\n",
       "      <th>Location</th>\n",
       "      <th>Longitude</th>\n",
       "      <th>Name</th>\n",
       "      <th>PercentContainedDisplay</th>\n",
       "      <th>StartedDate</th>\n",
       "      <th>UniqueId</th>\n",
       "      <th>UpdatedDate</th>\n",
       "      <th>Url</th>\n",
       "    </tr>\n",
       "  </thead>\n",
       "  <tbody>\n",
       "    <tr>\n",
       "      <th>0</th>\n",
       "      <td>30</td>\n",
       "      <td>CAL FIRE Humbolt-Del Norte Unit</td>\n",
       "      <td>Humboldt</td>\n",
       "      <td>2005</td>\n",
       "      <td></td>\n",
       "      <td>N</td>\n",
       "      <td>40.618056</td>\n",
       "      <td>Pilot Ridge Rd &amp; USFS Route 1, southwest of Wi...</td>\n",
       "      <td>-123.675556</td>\n",
       "      <td>Pilot Fire</td>\n",
       "      <td>100%</td>\n",
       "      <td>2019-01-01</td>\n",
       "      <td>6004d3e5-66f8-487a-80a4-689d3852378c</td>\n",
       "      <td>2019-01-15 10:38:00</td>\n",
       "      <td>https://www.fire.ca.gov/incidents/2019/1/1/pil...</td>\n",
       "    </tr>\n",
       "    <tr>\n",
       "      <th>1</th>\n",
       "      <td>80</td>\n",
       "      <td>CAL FIRE Nevada-Yuba-Placer Unit</td>\n",
       "      <td>Yuba</td>\n",
       "      <td>2014</td>\n",
       "      <td></td>\n",
       "      <td>N</td>\n",
       "      <td>39.246780</td>\n",
       "      <td>off Scott Forbes Rd, 5 miles east of Browns Va...</td>\n",
       "      <td>-121.323990</td>\n",
       "      <td>Scott Fire</td>\n",
       "      <td>100%</td>\n",
       "      <td>2019-06-25</td>\n",
       "      <td>31cbc968-6d9d-412b-8bc3-6846ca398fe2</td>\n",
       "      <td>2019-06-27 08:24:51</td>\n",
       "      <td>https://www.fire.ca.gov/incidents/2019/6/25/sc...</td>\n",
       "    </tr>\n",
       "    <tr>\n",
       "      <th>2</th>\n",
       "      <td>30</td>\n",
       "      <td>Palm Springs City Fire</td>\n",
       "      <td>Riverside</td>\n",
       "      <td>2016</td>\n",
       "      <td></td>\n",
       "      <td>N</td>\n",
       "      <td>0.000000</td>\n",
       "      <td>Hwy 111 and Tramway Rd, Palm Springs</td>\n",
       "      <td>0.000000</td>\n",
       "      <td>Girasol Fire</td>\n",
       "      <td>100%</td>\n",
       "      <td>2019-04-09</td>\n",
       "      <td>3b5c5d57-f61d-4c7d-a966-9d522c77e8fc</td>\n",
       "      <td>2019-04-10 10:23:00</td>\n",
       "      <td>https://www.fire.ca.gov/incidents/2019/4/9/gir...</td>\n",
       "    </tr>\n",
       "    <tr>\n",
       "      <th>3</th>\n",
       "      <td>161</td>\n",
       "      <td>Fresno-Kings County</td>\n",
       "      <td>Kings</td>\n",
       "      <td>2017</td>\n",
       "      <td></td>\n",
       "      <td>N</td>\n",
       "      <td>35.817780</td>\n",
       "      <td>Hwy 41 and York Ave, 13 miles south of Avenal ...</td>\n",
       "      <td>-120.097150</td>\n",
       "      <td>York Fire</td>\n",
       "      <td>100%</td>\n",
       "      <td>2019-04-28</td>\n",
       "      <td>85bdd89a-4ce5-4539-a274-23fa2b030e7d</td>\n",
       "      <td>2019-06-24 11:45:00</td>\n",
       "      <td>https://www.fire.ca.gov/incidents/2019/4/28/yo...</td>\n",
       "    </tr>\n",
       "    <tr>\n",
       "      <th>4</th>\n",
       "      <td>10</td>\n",
       "      <td>CAL FIRE / Butte County Fire</td>\n",
       "      <td>Butte</td>\n",
       "      <td>2018</td>\n",
       "      <td></td>\n",
       "      <td>N</td>\n",
       "      <td>39.839580</td>\n",
       "      <td>Off Hamilton Nord Cana Hwy &amp; Cana Hwy, northea...</td>\n",
       "      <td>-121.957000</td>\n",
       "      <td>Cana Fire</td>\n",
       "      <td>100%</td>\n",
       "      <td>2019-04-30</td>\n",
       "      <td>34abbc65-5bbe-474b-85c8-16d07bb5b503</td>\n",
       "      <td>2019-05-08 08:47:00</td>\n",
       "      <td>https://www.fire.ca.gov/incidents/2019/4/30/ca...</td>\n",
       "    </tr>\n",
       "  </tbody>\n",
       "</table>\n",
       "</div>"
      ],
      "text/plain": [
       "  AcresBurnedDisplay                         AdminUnit CountiesList  \\\n",
       "0                 30   CAL FIRE Humbolt-Del Norte Unit     Humboldt   \n",
       "1                 80  CAL FIRE Nevada-Yuba-Placer Unit         Yuba   \n",
       "2                 30            Palm Springs City Fire    Riverside   \n",
       "3                161               Fresno-Kings County        Kings   \n",
       "4                 10      CAL FIRE / Butte County Fire        Butte   \n",
       "\n",
       "   IncidentId IncidentTypeDisplay IsActive   Latitude  \\\n",
       "0        2005                            N  40.618056   \n",
       "1        2014                            N  39.246780   \n",
       "2        2016                            N   0.000000   \n",
       "3        2017                            N  35.817780   \n",
       "4        2018                            N  39.839580   \n",
       "\n",
       "                                            Location   Longitude  \\\n",
       "0  Pilot Ridge Rd & USFS Route 1, southwest of Wi... -123.675556   \n",
       "1  off Scott Forbes Rd, 5 miles east of Browns Va... -121.323990   \n",
       "2               Hwy 111 and Tramway Rd, Palm Springs    0.000000   \n",
       "3  Hwy 41 and York Ave, 13 miles south of Avenal ... -120.097150   \n",
       "4  Off Hamilton Nord Cana Hwy & Cana Hwy, northea... -121.957000   \n",
       "\n",
       "           Name PercentContainedDisplay StartedDate  \\\n",
       "0    Pilot Fire                    100%  2019-01-01   \n",
       "1    Scott Fire                    100%  2019-06-25   \n",
       "2  Girasol Fire                    100%  2019-04-09   \n",
       "3     York Fire                    100%  2019-04-28   \n",
       "4     Cana Fire                    100%  2019-04-30   \n",
       "\n",
       "                               UniqueId          UpdatedDate  \\\n",
       "0  6004d3e5-66f8-487a-80a4-689d3852378c  2019-01-15 10:38:00   \n",
       "1  31cbc968-6d9d-412b-8bc3-6846ca398fe2  2019-06-27 08:24:51   \n",
       "2  3b5c5d57-f61d-4c7d-a966-9d522c77e8fc  2019-04-10 10:23:00   \n",
       "3  85bdd89a-4ce5-4539-a274-23fa2b030e7d  2019-06-24 11:45:00   \n",
       "4  34abbc65-5bbe-474b-85c8-16d07bb5b503  2019-05-08 08:47:00   \n",
       "\n",
       "                                                 Url  \n",
       "0  https://www.fire.ca.gov/incidents/2019/1/1/pil...  \n",
       "1  https://www.fire.ca.gov/incidents/2019/6/25/sc...  \n",
       "2  https://www.fire.ca.gov/incidents/2019/4/9/gir...  \n",
       "3  https://www.fire.ca.gov/incidents/2019/4/28/yo...  \n",
       "4  https://www.fire.ca.gov/incidents/2019/4/30/ca...  "
      ]
     },
     "execution_count": 63,
     "metadata": {},
     "output_type": "execute_result"
    }
   ],
   "source": [
    "wf2019_df.head()"
   ]
  },
  {
   "cell_type": "code",
   "execution_count": 64,
   "metadata": {},
   "outputs": [
    {
     "data": {
      "text/plain": [
       "AcresBurnedDisplay          object\n",
       "AdminUnit                   object\n",
       "CountiesList                object\n",
       "IncidentId                   int64\n",
       "IncidentTypeDisplay         object\n",
       "IsActive                    object\n",
       "Latitude                   float64\n",
       "Location                    object\n",
       "Longitude                  float64\n",
       "Name                        object\n",
       "PercentContainedDisplay     object\n",
       "StartedDate                 object\n",
       "UniqueId                    object\n",
       "UpdatedDate                 object\n",
       "Url                         object\n",
       "dtype: object"
      ]
     },
     "execution_count": 64,
     "metadata": {},
     "output_type": "execute_result"
    }
   ],
   "source": [
    "wf2019_df.dtypes"
   ]
  },
  {
   "cell_type": "code",
   "execution_count": null,
   "metadata": {},
   "outputs": [],
   "source": [
    "wf2019_df['AcresBurnedDisplay'] = pd.to_numeric(wf2019_df.AcresBurnedDisplay)"
   ]
  },
  {
   "cell_type": "code",
   "execution_count": 45,
   "metadata": {},
   "outputs": [],
   "source": [
    "def latlong_to_s2(x, lvl):\n",
    "    latlng = s2.S2LatLng.FromDegrees(x[0], x[1])\n",
    "    cell = s2.S2CellId(latlng)\n",
    "    return cell.parent(lvl).ToToken()"
   ]
  },
  {
   "cell_type": "code",
   "execution_count": 55,
   "metadata": {},
   "outputs": [
    {
     "data": {
      "text/plain": [
       "(258, 16)"
      ]
     },
     "execution_count": 55,
     "metadata": {},
     "output_type": "execute_result"
    }
   ],
   "source": [
    "temp1 = wf2019_df.copy()\n",
    "temp2 = wf2019_df.copy()\n",
    "wf2019_df['S2_Cell_ID'] = wf2019_df[['Latitude','Longitude']].apply(latlong_to_s2, axis=1, args=[9])\n",
    "temp1['S2_Cell_ID'] = temp1[['Latitude','Longitude']].apply(latlong_to_s2, axis=1, args=[10])\n",
    "temp2['S2_Cell_ID'] = temp2[['Latitude','Longitude']].apply(latlong_to_s2, axis=1, args=[11])\n",
    "wf2019_stacked_df = wf2019_df.append(temp1).append(temp2)\n",
    "wf2019_stacked_df.shape"
   ]
  },
  {
   "cell_type": "code",
   "execution_count": 57,
   "metadata": {},
   "outputs": [
    {
     "data": {
      "text/html": [
       "<div>\n",
       "<style scoped>\n",
       "    .dataframe tbody tr th:only-of-type {\n",
       "        vertical-align: middle;\n",
       "    }\n",
       "\n",
       "    .dataframe tbody tr th {\n",
       "        vertical-align: top;\n",
       "    }\n",
       "\n",
       "    .dataframe thead th {\n",
       "        text-align: right;\n",
       "    }\n",
       "</style>\n",
       "<table border=\"1\" class=\"dataframe\">\n",
       "  <thead>\n",
       "    <tr style=\"text-align: right;\">\n",
       "      <th></th>\n",
       "      <th>AcresBurnedDisplay</th>\n",
       "      <th>AdminUnit</th>\n",
       "      <th>CountiesList</th>\n",
       "      <th>IncidentId</th>\n",
       "      <th>IncidentTypeDisplay</th>\n",
       "      <th>IsActive</th>\n",
       "      <th>Latitude</th>\n",
       "      <th>Location</th>\n",
       "      <th>Longitude</th>\n",
       "      <th>Name</th>\n",
       "      <th>PercentContainedDisplay</th>\n",
       "      <th>StartedDate</th>\n",
       "      <th>UniqueId</th>\n",
       "      <th>UpdatedDate</th>\n",
       "      <th>Url</th>\n",
       "      <th>S2_Cell_ID</th>\n",
       "    </tr>\n",
       "  </thead>\n",
       "  <tbody>\n",
       "    <tr>\n",
       "      <th>0</th>\n",
       "      <td>30</td>\n",
       "      <td>CAL FIRE Humbolt-Del Norte Unit</td>\n",
       "      <td>Humboldt</td>\n",
       "      <td>2005</td>\n",
       "      <td></td>\n",
       "      <td>N</td>\n",
       "      <td>40.618056</td>\n",
       "      <td>Pilot Ridge Rd &amp; USFS Route 1, southwest of Wi...</td>\n",
       "      <td>-123.675556</td>\n",
       "      <td>Pilot Fire</td>\n",
       "      <td>100%</td>\n",
       "      <td>2019-01-01</td>\n",
       "      <td>6004d3e5-66f8-487a-80a4-689d3852378c</td>\n",
       "      <td>2019-01-15 10:38:00</td>\n",
       "      <td>https://www.fire.ca.gov/incidents/2019/1/1/pil...</td>\n",
       "      <td>54d394</td>\n",
       "    </tr>\n",
       "    <tr>\n",
       "      <th>1</th>\n",
       "      <td>80</td>\n",
       "      <td>CAL FIRE Nevada-Yuba-Placer Unit</td>\n",
       "      <td>Yuba</td>\n",
       "      <td>2014</td>\n",
       "      <td></td>\n",
       "      <td>N</td>\n",
       "      <td>39.246780</td>\n",
       "      <td>off Scott Forbes Rd, 5 miles east of Browns Va...</td>\n",
       "      <td>-121.323990</td>\n",
       "      <td>Scott Fire</td>\n",
       "      <td>100%</td>\n",
       "      <td>2019-06-25</td>\n",
       "      <td>31cbc968-6d9d-412b-8bc3-6846ca398fe2</td>\n",
       "      <td>2019-06-27 08:24:51</td>\n",
       "      <td>https://www.fire.ca.gov/incidents/2019/6/25/sc...</td>\n",
       "      <td>809b5c</td>\n",
       "    </tr>\n",
       "    <tr>\n",
       "      <th>2</th>\n",
       "      <td>30</td>\n",
       "      <td>Palm Springs City Fire</td>\n",
       "      <td>Riverside</td>\n",
       "      <td>2016</td>\n",
       "      <td></td>\n",
       "      <td>N</td>\n",
       "      <td>0.000000</td>\n",
       "      <td>Hwy 111 and Tramway Rd, Palm Springs</td>\n",
       "      <td>0.000000</td>\n",
       "      <td>Girasol Fire</td>\n",
       "      <td>100%</td>\n",
       "      <td>2019-04-09</td>\n",
       "      <td>3b5c5d57-f61d-4c7d-a966-9d522c77e8fc</td>\n",
       "      <td>2019-04-10 10:23:00</td>\n",
       "      <td>https://www.fire.ca.gov/incidents/2019/4/9/gir...</td>\n",
       "      <td>100004</td>\n",
       "    </tr>\n",
       "    <tr>\n",
       "      <th>3</th>\n",
       "      <td>161</td>\n",
       "      <td>Fresno-Kings County</td>\n",
       "      <td>Kings</td>\n",
       "      <td>2017</td>\n",
       "      <td></td>\n",
       "      <td>N</td>\n",
       "      <td>35.817780</td>\n",
       "      <td>Hwy 41 and York Ave, 13 miles south of Avenal ...</td>\n",
       "      <td>-120.097150</td>\n",
       "      <td>York Fire</td>\n",
       "      <td>100%</td>\n",
       "      <td>2019-04-28</td>\n",
       "      <td>85bdd89a-4ce5-4539-a274-23fa2b030e7d</td>\n",
       "      <td>2019-06-24 11:45:00</td>\n",
       "      <td>https://www.fire.ca.gov/incidents/2019/4/28/yo...</td>\n",
       "      <td>80eb54</td>\n",
       "    </tr>\n",
       "    <tr>\n",
       "      <th>4</th>\n",
       "      <td>10</td>\n",
       "      <td>CAL FIRE / Butte County Fire</td>\n",
       "      <td>Butte</td>\n",
       "      <td>2018</td>\n",
       "      <td></td>\n",
       "      <td>N</td>\n",
       "      <td>39.839580</td>\n",
       "      <td>Off Hamilton Nord Cana Hwy &amp; Cana Hwy, northea...</td>\n",
       "      <td>-121.957000</td>\n",
       "      <td>Cana Fire</td>\n",
       "      <td>100%</td>\n",
       "      <td>2019-04-30</td>\n",
       "      <td>34abbc65-5bbe-474b-85c8-16d07bb5b503</td>\n",
       "      <td>2019-05-08 08:47:00</td>\n",
       "      <td>https://www.fire.ca.gov/incidents/2019/4/30/ca...</td>\n",
       "      <td>8082dc</td>\n",
       "    </tr>\n",
       "  </tbody>\n",
       "</table>\n",
       "</div>"
      ],
      "text/plain": [
       "  AcresBurnedDisplay                         AdminUnit CountiesList  \\\n",
       "0                 30   CAL FIRE Humbolt-Del Norte Unit     Humboldt   \n",
       "1                 80  CAL FIRE Nevada-Yuba-Placer Unit         Yuba   \n",
       "2                 30            Palm Springs City Fire    Riverside   \n",
       "3                161               Fresno-Kings County        Kings   \n",
       "4                 10      CAL FIRE / Butte County Fire        Butte   \n",
       "\n",
       "   IncidentId IncidentTypeDisplay IsActive   Latitude  \\\n",
       "0        2005                            N  40.618056   \n",
       "1        2014                            N  39.246780   \n",
       "2        2016                            N   0.000000   \n",
       "3        2017                            N  35.817780   \n",
       "4        2018                            N  39.839580   \n",
       "\n",
       "                                            Location   Longitude  \\\n",
       "0  Pilot Ridge Rd & USFS Route 1, southwest of Wi... -123.675556   \n",
       "1  off Scott Forbes Rd, 5 miles east of Browns Va... -121.323990   \n",
       "2               Hwy 111 and Tramway Rd, Palm Springs    0.000000   \n",
       "3  Hwy 41 and York Ave, 13 miles south of Avenal ... -120.097150   \n",
       "4  Off Hamilton Nord Cana Hwy & Cana Hwy, northea... -121.957000   \n",
       "\n",
       "           Name PercentContainedDisplay StartedDate  \\\n",
       "0    Pilot Fire                    100%  2019-01-01   \n",
       "1    Scott Fire                    100%  2019-06-25   \n",
       "2  Girasol Fire                    100%  2019-04-09   \n",
       "3     York Fire                    100%  2019-04-28   \n",
       "4     Cana Fire                    100%  2019-04-30   \n",
       "\n",
       "                               UniqueId          UpdatedDate  \\\n",
       "0  6004d3e5-66f8-487a-80a4-689d3852378c  2019-01-15 10:38:00   \n",
       "1  31cbc968-6d9d-412b-8bc3-6846ca398fe2  2019-06-27 08:24:51   \n",
       "2  3b5c5d57-f61d-4c7d-a966-9d522c77e8fc  2019-04-10 10:23:00   \n",
       "3  85bdd89a-4ce5-4539-a274-23fa2b030e7d  2019-06-24 11:45:00   \n",
       "4  34abbc65-5bbe-474b-85c8-16d07bb5b503  2019-05-08 08:47:00   \n",
       "\n",
       "                                                 Url S2_Cell_ID  \n",
       "0  https://www.fire.ca.gov/incidents/2019/1/1/pil...     54d394  \n",
       "1  https://www.fire.ca.gov/incidents/2019/6/25/sc...     809b5c  \n",
       "2  https://www.fire.ca.gov/incidents/2019/4/9/gir...     100004  \n",
       "3  https://www.fire.ca.gov/incidents/2019/4/28/yo...     80eb54  \n",
       "4  https://www.fire.ca.gov/incidents/2019/4/30/ca...     8082dc  "
      ]
     },
     "execution_count": 57,
     "metadata": {},
     "output_type": "execute_result"
    }
   ],
   "source": [
    "wf2019_stacked_df.head()"
   ]
  },
  {
   "cell_type": "code",
   "execution_count": 58,
   "metadata": {},
   "outputs": [
    {
     "data": {
      "text/plain": [
       "count     86\n",
       "unique    65\n",
       "top       30\n",
       "freq       5\n",
       "Name: AcresBurnedDisplay, dtype: object"
      ]
     },
     "execution_count": 58,
     "metadata": {},
     "output_type": "execute_result"
    }
   ],
   "source": [
    "wf2019_df.AcresBurnedDisplay.describe()"
   ]
  },
  {
   "cell_type": "code",
   "execution_count": null,
   "metadata": {},
   "outputs": [],
   "source": []
  }
 ],
 "metadata": {
  "kernelspec": {
   "display_name": "Python 3",
   "language": "python",
   "name": "python3"
  },
  "language_info": {
   "codemirror_mode": {
    "name": "ipython",
    "version": 3
   },
   "file_extension": ".py",
   "mimetype": "text/x-python",
   "name": "python",
   "nbconvert_exporter": "python",
   "pygments_lexer": "ipython3",
   "version": "3.6.7"
  }
 },
 "nbformat": 4,
 "nbformat_minor": 2
}
